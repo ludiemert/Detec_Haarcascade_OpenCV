{
  "nbformat": 4,
  "nbformat_minor": 0,
  "metadata": {
    "colab": {
      "provenance": [],
      "gpuType": "T4"
    },
    "kernelspec": {
      "name": "python3",
      "display_name": "Python 3"
    },
    "language_info": {
      "name": "python"
    },
    "accelerator": "GPU"
  },
  "cells": [
    {
      "cell_type": "code",
      "execution_count": 1,
      "metadata": {
        "id": "d3gjFiYBzgJD"
      },
      "outputs": [],
      "source": [
        "# Reconhecimento facial eh mandar a foto e o algoritmo reconhecer quem eh a pessoa\n",
        "\n",
        "# Carregamento da base de dados OU CARREGAR GOOGLE DRIVE\n",
        "# Yale faces database: http://vision.ucsd.edu/content/yale-face-database\n",
        "\n",
        "# http://cvc.cs.yale.edu/cvc/projects/yalefacesB/yalefacesB.html\n",
        "# https://drive.google.com/drive/folders/1UBHOwVEyR5OXyWVHO-r2lviJy2Oz_Sqk\n",
        "# https://www.kaggle.com/datasets/olgabelitskaya/yale-face-database"
      ]
    },
    {
      "cell_type": "code",
      "source": [
        "# Montar google Drive\n",
        "from google.colab import drive\n",
        "drive.mount('/content/drive')"
      ],
      "metadata": {
        "colab": {
          "base_uri": "https://localhost:8080/"
        },
        "id": "7WVyGfFw38UE",
        "outputId": "2cd9b4d8-bed0-4f16-e4bd-fb87b2b1e1e9"
      },
      "execution_count": 5,
      "outputs": [
        {
          "output_type": "stream",
          "name": "stdout",
          "text": [
            "Drive already mounted at /content/drive; to attempt to forcibly remount, call drive.mount(\"/content/drive\", force_remount=True).\n"
          ]
        }
      ]
    },
    {
      "cell_type": "code",
      "source": [
        " # Importar bibliotecas\n",
        " import os # pacote para interagir com o sistema operacional\n",
        " from PIL import Image # pacote de processamento de img no PY, para ler a base de dados\n",
        " import cv2\n",
        " import numpy as np # lib para ler vetores e matrizes do PY e alguns calculos matematicos\n",
        " from google.colab.patches import cv2_imshow # para visualizar as imgs\n",
        "\n",
        "# OU montar o drive apartir daqui...\n",
        "# from google.colab import drive\n",
        "# drive.mount('/content/drive')\n"
      ],
      "metadata": {
        "id": "QzpjEtDN4Zry"
      },
      "execution_count": 6,
      "outputs": []
    },
    {
      "cell_type": "code",
      "source": [
        "# descompactar arquivo\n",
        "import zipfile\n",
        "# Atualize o caminho para apontar para o arquivo zip, não para o diretório\n",
        "path = '/content/drive/MyDrive/Visao Computacional Guia Completo/Datasets/yalefaces.zip' # Assumindo que o nome do arquivo zip é yalefaces.zip\n",
        "zip_object = zipfile.ZipFile(file=path, mode= 'r') # r que vai fazer a leitura do arquivo\n",
        "zip_object.extractall('./') # extrair na raiz do google colab\n",
        "zip_object.close() # liberar memoria\n",
        "# file  /content/yalefaces/train/subject01.glasses.gif eh o subject de cada img person, all img person, BASE DE DADOS de treinamento\n",
        "# varias imgs da mesma pessoa com varias formatos no rosto, mais facil para o algoritmo se adaptar as faces"
      ],
      "metadata": {
        "id": "9nKH4gMQ_gbB"
      },
      "execution_count": 7,
      "outputs": []
    },
    {
      "cell_type": "code",
      "source": [
        "# Pre processamento das imagens\n",
        "\n",
        "import os # para ter recursos do sistema operacional\n",
        "print(os.listdir('/content/yalefaces/train')) # liste tudo que tiver nesse diretorio, passar por todas as imgs do treinamento\n",
        "# ele lista todas as imgs da pasta\n"
      ],
      "metadata": {
        "colab": {
          "base_uri": "https://localhost:8080/"
        },
        "id": "81yALr2tGfv_",
        "outputId": "a385e0db-d1ee-4ae3-f613-1045ee8f8604"
      },
      "execution_count": 8,
      "outputs": [
        {
          "output_type": "stream",
          "name": "stdout",
          "text": [
            "['subject10.sleepy.gif', 'subject03.normal.gif', 'subject05.normal.gif', 'subject15.leftlight.gif', 'subject12.glasses.gif', 'subject08.sad.gif', 'subject03.sleepy.gif', 'subject07.surprised.gif', 'subject06.normal.gif', 'subject15.wink.gif', 'subject04.happy.gif', 'subject02.sleepy.gif', 'subject15.normal.gif', 'subject01.rightlight.gif', 'subject13.leftlight.gif', 'subject04.glasses.gif', 'subject08.sleepy.gif', 'subject08.surprised.gif', 'subject10.leftlight.gif', 'subject13.glasses.gif', 'subject09.sleepy.gif', 'subject02.wink.gif', 'subject10.noglasses.gif', 'subject02.glasses.gif', 'subject01.wink.gif', 'subject07.sad.gif', 'subject02.noglasses.gif', 'subject12.centerlight.gif', 'subject05.rightlight.gif', 'subject06.sad.gif', 'subject13.noglasses.gif', 'subject15.sleepy.gif', 'subject05.noglasses.gif', 'subject11.surprised.gif', 'subject11.centerlight.gif', 'subject09.glasses.gif', 'subject10.surprised.gif', 'subject14.happy.gif', 'subject03.surprised.gif', 'subject14.glasses.gif', 'subject07.normal.gif', 'subject03.rightlight.gif', 'subject09.wink.gif', 'subject03.centerlight.gif', 'subject04.noglasses.gif', 'subject13.surprised.gif', 'subject15.centerlight.gif', 'subject06.sleepy.gif', 'subject09.centerlight.gif', 'subject02.rightlight.gif', 'subject01.sleepy.gif', 'subject13.rightlight.gif', 'subject10.glasses.gif', 'subject07.centerlight.gif', 'subject04.centerlight.gif', 'subject08.leftlight.gif', 'subject11.sleepy.gif', 'subject03.sad.gif', 'subject01.sad.gif', 'subject04.sleepy.gif', 'subject14.centerlight.gif', 'subject13.normal.gif', 'subject06.rightlight.gif', 'subject11.leftlight.gif', 'subject10.normal.gif', 'subject06.surprised.gif', 'subject03.wink.gif', 'subject10.happy.gif', 'subject06.glasses.gif', 'subject13.centerlight.gif', 'subject05.sad.gif', 'subject14.rightlight.gif', 'subject08.noglasses.gif', 'subject02.happy.gif', 'subject05.centerlight.gif', 'subject06.wink.gif', 'subject13.happy.gif', 'subject04.rightlight.gif', 'subject09.noglasses.gif', 'subject11.normal.gif', 'subject06.noglasses.gif', 'subject05.wink.gif', 'subject14.sleepy.gif', 'subject05.happy.gif', 'subject14.wink.gif', 'subject13.wink.gif', 'subject01.noglasses.gif', 'subject15.surprised.gif', 'subject12.leftlight.gif', 'subject07.glasses.gif', 'subject01.normal.gif', 'subject09.leftlight.gif', 'subject02.sad.gif', 'subject14.noglasses.gif', 'subject08.glasses.gif', 'subject14.leftlight.gif', 'subject04.wink.gif', 'subject11.rightlight.gif', 'subject04.sad.gif', 'subject12.wink.gif', 'subject02.normal.gif', 'subject12.surprised.gif', 'subject11.wink.gif', 'subject02.surprised.gif', 'subject12.sad.gif', 'subject11.noglasses.gif', 'subject08.wink.gif', 'subject09.normal.gif', 'subject07.rightlight.gif', 'subject01.leftlight.gif', 'subject07.wink.gif', 'subject09.happy.gif', 'subject05.leftlight.gif', 'subject09.surprised.gif', 'subject11.sad.gif', 'subject05.glasses.gif', 'subject15.glasses.gif', 'subject12.sleepy.gif', 'subject01.glasses.gif', 'subject08.happy.gif', 'subject10.rightlight.gif', 'subject12.happy.gif', 'subject10.wink.gif', 'subject03.noglasses.gif', 'subject07.sleepy.gif', 'subject07.noglasses.gif', 'subject14.surprised.gif', 'subject06.centerlight.gif', 'subject03.happy.gif', 'subject12.noglasses.gif', 'subject01.surprised.gif', 'subject15.noglasses.gif', 'subject08.centerlight.gif', 'subject04.normal.gif', 'subject15.happy.gif']\n"
          ]
        }
      ]
    },
    {
      "cell_type": "code",
      "source": [
        "# percorrer todas as imgs e extrair os pixels\n",
        "def get_image_data(): # get data img\n",
        "  paths = [os.path.join('/content/yalefaces/train', f) for f in os.listdir('/content/yalefaces/train')] # lista de caminhos,  # variavel de lista []\n",
        "  # print(paths) # cria a funcao\n",
        "  # join tras uma string com o caminho completo\n",
        "  # for percorre cada uma das imgs\n",
        "\n",
        "  # criar listas para perorrer (nome id numero na img, ids => numero da pessoa, faces eh o numero dos pixels)\n",
        "  # vamos associar ids e pixels\n",
        "  faces = [] # lista vazia\n",
        "  ids = [] # lista vazia\n",
        "  for path in paths: # for para percorrer cada img\n",
        "    # print(path) # mostra o caminho completo da img\n",
        "    imagem = Image.open(path).convert('L') # abre a img, converte para escala de cinza, fazer a leitura\n",
        "    # print(type(imagem)) # mostra o tipo da imagem\n",
        "    imagem_np = np.array(imagem, 'uint8') # converte a imagem,     # converter do PIL para numpy, uint8_matriz com numeros inteiros\n",
        "    # print(type(imagem_np)) # cada img representada por uma img numpy\n",
        "\n",
        "    # buscar o id da img\n",
        "    # quebrar a string em 3 partes apos o (.) ponto\n",
        "    # print(os.path.split(path) [1]) # deixa somente o caminho da img\n",
        "\n",
        "    # combinar os dois codigos\n",
        "    # id = os.path.split(path)[1].split('.')[0]\n",
        "    # id = path.split('.')[0] # agora temos parte 0,1,2 da string, e o id esta na posicao 0 [0], com o comando isso some e fica somente o caminho 0\n",
        "\n",
        "    # agora somente os ids\n",
        "    id = int(os.path.split(path)[1].split('.')[0].replace('subject','')) # int para fcar inteiro\n",
        "    # print(id)\n",
        "\n",
        "    # ver array\n",
        "    ids.append(id)\n",
        "    faces.append(imagem_np)\n",
        "\n",
        "  return np.array(ids), faces # retornar os arrays\n",
        "\n"
      ],
      "metadata": {
        "id": "JAKYArx3Hqav"
      },
      "execution_count": 9,
      "outputs": []
    },
    {
      "cell_type": "code",
      "source": [
        "# chama a funcao, join junta nome da img com o nome do dir  caminho completo\n",
        "# resposta => ['/content/yalefaces/train/subject07.surprised.gif', '/content/yalefaces/train/subject07.rightlight.gif', '/content/yalefaces/train/subject06.sad.gif',....................\n",
        "ids, faces = get_image_data() # coloca todas as variaves para ver os pixels"
      ],
      "metadata": {
        "id": "nEnss6vqIie_"
      },
      "execution_count": 10,
      "outputs": []
    },
    {
      "cell_type": "code",
      "source": [
        "ids"
      ],
      "metadata": {
        "colab": {
          "base_uri": "https://localhost:8080/"
        },
        "id": "v_vy_THZVzz1",
        "outputId": "82931f01-b33b-49c7-a500-872231f66466"
      },
      "execution_count": 11,
      "outputs": [
        {
          "output_type": "execute_result",
          "data": {
            "text/plain": [
              "array([10,  3,  5, 15, 12,  8,  3,  7,  6, 15,  4,  2, 15,  1, 13,  4,  8,\n",
              "        8, 10, 13,  9,  2, 10,  2,  1,  7,  2, 12,  5,  6, 13, 15,  5, 11,\n",
              "       11,  9, 10, 14,  3, 14,  7,  3,  9,  3,  4, 13, 15,  6,  9,  2,  1,\n",
              "       13, 10,  7,  4,  8, 11,  3,  1,  4, 14, 13,  6, 11, 10,  6,  3, 10,\n",
              "        6, 13,  5, 14,  8,  2,  5,  6, 13,  4,  9, 11,  6,  5, 14,  5, 14,\n",
              "       13,  1, 15, 12,  7,  1,  9,  2, 14,  8, 14,  4, 11,  4, 12,  2, 12,\n",
              "       11,  2, 12, 11,  8,  9,  7,  1,  7,  9,  5,  9, 11,  5, 15, 12,  1,\n",
              "        8, 10, 12, 10,  3,  7,  7, 14,  6,  3, 12,  1, 15,  8,  4, 15])"
            ]
          },
          "metadata": {},
          "execution_count": 11
        }
      ]
    },
    {
      "cell_type": "code",
      "source": [
        "len(ids) # ver qtas imgs 135"
      ],
      "metadata": {
        "colab": {
          "base_uri": "https://localhost:8080/"
        },
        "id": "naSa_CERWKi7",
        "outputId": "cef0df44-cef3-4281-9c00-dc521bbcfeac"
      },
      "execution_count": 12,
      "outputs": [
        {
          "output_type": "execute_result",
          "data": {
            "text/plain": [
              "135"
            ]
          },
          "metadata": {},
          "execution_count": 12
        }
      ]
    },
    {
      "cell_type": "code",
      "source": [
        "len(faces) # ver tb as matrizes com os pixels"
      ],
      "metadata": {
        "colab": {
          "base_uri": "https://localhost:8080/"
        },
        "id": "GeHRyEn_WSOA",
        "outputId": "3573ff1f-5ef9-4563-ed53-ebc42696d4d4"
      },
      "execution_count": 13,
      "outputs": [
        {
          "output_type": "execute_result",
          "data": {
            "text/plain": [
              "135"
            ]
          },
          "metadata": {},
          "execution_count": 13
        }
      ]
    },
    {
      "cell_type": "code",
      "source": [
        "faces # um array para cada uma das faces, de 0 a 255 que representa os pixels"
      ],
      "metadata": {
        "colab": {
          "base_uri": "https://localhost:8080/"
        },
        "id": "4Urrp15VWatS",
        "outputId": "a3b23fe3-c674-4b62-8bef-5e8ec56b0b16"
      },
      "execution_count": 14,
      "outputs": [
        {
          "output_type": "execute_result",
          "data": {
            "text/plain": [
              "[array([[130, 130, 130, ..., 255, 255, 255],\n",
              "        [255, 255, 255, ..., 255, 255, 255],\n",
              "        [255, 255, 255, ..., 255, 255, 255],\n",
              "        ...,\n",
              "        [255, 255, 255, ..., 245, 255, 255],\n",
              "        [255, 255, 255, ..., 239, 242, 255],\n",
              "        [ 68,  68,  68, ...,  68,  68,  68]], dtype=uint8),\n",
              " array([[130, 130, 130, ..., 255, 255, 255],\n",
              "        [255, 255, 255, ..., 255, 255, 255],\n",
              "        [255, 255, 255, ..., 255, 255, 255],\n",
              "        ...,\n",
              "        [255, 255, 255, ..., 255, 255, 255],\n",
              "        [255, 255, 255, ..., 255, 255, 255],\n",
              "        [ 68,  68,  68, ...,  68,  68,  68]], dtype=uint8),\n",
              " array([[119, 129, 130, ..., 255, 255, 255],\n",
              "        [253, 255, 255, ..., 255, 255, 255],\n",
              "        [255, 255, 255, ..., 255, 255, 255],\n",
              "        ...,\n",
              "        [255, 255, 255, ...,  93,  89,  94],\n",
              "        [255, 255, 255, ..., 102,  98, 103],\n",
              "        [ 68,  68,  68, ...,  68,  68,  68]], dtype=uint8),\n",
              " array([[108, 116, 117, ..., 156, 147, 167],\n",
              "        [237, 248, 244, ..., 163, 152, 171],\n",
              "        [236, 243, 228, ..., 158, 157, 175],\n",
              "        ...,\n",
              "        [231, 223, 222, ..., 130, 123, 123],\n",
              "        [241, 227, 230, ..., 124, 114, 122],\n",
              "        [ 68,  68,  68, ...,  68,  68,  68]], dtype=uint8),\n",
              " array([[115, 122, 126, ..., 255, 236, 245],\n",
              "        [255, 255, 255, ..., 255, 251, 255],\n",
              "        [255, 255, 255, ..., 255, 255, 255],\n",
              "        ...,\n",
              "        [255, 255, 255, ..., 163, 151, 157],\n",
              "        [255, 255, 255, ..., 168, 151, 151],\n",
              "        [ 68,  68,  68, ...,  68,  68,  68]], dtype=uint8),\n",
              " array([[130, 130, 130, ..., 255, 255, 255],\n",
              "        [255, 255, 255, ..., 255, 255, 255],\n",
              "        [255, 255, 255, ..., 255, 255, 255],\n",
              "        ...,\n",
              "        [255, 255, 255, ..., 249, 224, 217],\n",
              "        [255, 255, 255, ..., 253, 221, 206],\n",
              "        [ 68,  68,  68, ...,  68,  68,  68]], dtype=uint8),\n",
              " array([[130, 130, 130, ..., 255, 255, 255],\n",
              "        [255, 255, 255, ..., 255, 255, 255],\n",
              "        [255, 255, 255, ..., 255, 255, 255],\n",
              "        ...,\n",
              "        [255, 255, 255, ..., 255, 255, 255],\n",
              "        [255, 255, 255, ..., 255, 255, 255],\n",
              "        [ 68,  68,  68, ...,  68,  68,  68]], dtype=uint8),\n",
              " array([[130, 130, 130, ..., 255, 255, 255],\n",
              "        [255, 255, 255, ..., 255, 255, 255],\n",
              "        [255, 255, 255, ..., 255, 255, 255],\n",
              "        ...,\n",
              "        [255, 255, 255, ..., 255, 255, 255],\n",
              "        [255, 255, 255, ..., 255, 255, 255],\n",
              "        [ 68,  68,  68, ...,  68,  68,  68]], dtype=uint8),\n",
              " array([[110,  96,  91, ..., 224, 224, 236],\n",
              "        [239, 218, 211, ..., 244, 236, 239],\n",
              "        [255, 255, 255, ..., 255, 255, 255],\n",
              "        ...,\n",
              "        [199, 192, 195, ..., 227, 210, 221],\n",
              "        [204, 199, 202, ..., 228, 203, 202],\n",
              "        [ 68,  68,  68, ...,  68,  68,  68]], dtype=uint8),\n",
              " array([[130, 130, 130, ..., 255, 255, 255],\n",
              "        [255, 255, 255, ..., 255, 255, 255],\n",
              "        [255, 255, 255, ..., 255, 255, 255],\n",
              "        ...,\n",
              "        [255, 255, 255, ..., 255, 255, 255],\n",
              "        [255, 255, 255, ..., 255, 255, 255],\n",
              "        [ 68,  68,  68, ...,  68,  68,  68]], dtype=uint8),\n",
              " array([[130, 130, 130, ..., 255, 255, 255],\n",
              "        [255, 255, 255, ..., 255, 255, 255],\n",
              "        [255, 255, 255, ..., 255, 255, 255],\n",
              "        ...,\n",
              "        [255, 255, 255, ..., 252, 255, 255],\n",
              "        [255, 255, 255, ..., 225, 236, 244],\n",
              "        [ 68,  68,  68, ...,  68,  68,  68]], dtype=uint8),\n",
              " array([[108, 110, 123, ..., 255, 253, 239],\n",
              "        [234, 238, 255, ..., 255, 253, 245],\n",
              "        [251, 253, 255, ..., 255, 252, 242],\n",
              "        ...,\n",
              "        [255, 255, 255, ..., 178, 175, 176],\n",
              "        [255, 255, 255, ..., 176, 174, 171],\n",
              "        [ 68,  68,  68, ...,  68,  68,  68]], dtype=uint8),\n",
              " array([[130, 130, 130, ..., 255, 255, 255],\n",
              "        [255, 255, 255, ..., 255, 255, 255],\n",
              "        [255, 255, 255, ..., 255, 255, 255],\n",
              "        ...,\n",
              "        [255, 255, 255, ..., 255, 255, 255],\n",
              "        [255, 255, 255, ..., 255, 255, 255],\n",
              "        [ 68,  68,  68, ...,  68,  68,  68]], dtype=uint8),\n",
              " array([[ 37,  38,  36, ..., 222, 196, 185],\n",
              "        [ 91,  94,  91, ..., 215, 194, 178],\n",
              "        [ 86,  87,  87, ..., 214, 203, 204],\n",
              "        ...,\n",
              "        [ 57,  62,  59, ..., 186, 163, 164],\n",
              "        [ 59,  64,  59, ..., 187, 152, 151],\n",
              "        [ 68,  68,  68, ...,  68,  68,  68]], dtype=uint8),\n",
              " array([[130, 130, 130, ..., 253, 239, 255],\n",
              "        [255, 255, 255, ..., 255, 239, 255],\n",
              "        [255, 255, 255, ..., 255, 255, 255],\n",
              "        ...,\n",
              "        [255, 255, 255, ..., 115, 111, 116],\n",
              "        [255, 255, 255, ..., 119, 116, 119],\n",
              "        [ 68,  68,  68, ...,  68,  68,  68]], dtype=uint8),\n",
              " array([[130, 130, 130, ..., 255, 255, 255],\n",
              "        [255, 255, 255, ..., 255, 255, 255],\n",
              "        [255, 255, 255, ..., 255, 255, 255],\n",
              "        ...,\n",
              "        [255, 255, 255, ..., 249, 255, 255],\n",
              "        [255, 255, 255, ..., 222, 231, 243],\n",
              "        [ 68,  68,  68, ...,  68,  68,  68]], dtype=uint8),\n",
              " array([[130, 130, 130, ..., 255, 255, 255],\n",
              "        [255, 255, 255, ..., 255, 255, 255],\n",
              "        [255, 255, 255, ..., 255, 255, 255],\n",
              "        ...,\n",
              "        [255, 255, 255, ..., 255, 248, 238],\n",
              "        [255, 255, 255, ..., 255, 242, 227],\n",
              "        [ 68,  68,  68, ...,  68,  68,  68]], dtype=uint8),\n",
              " array([[130, 130, 130, ..., 255, 255, 255],\n",
              "        [255, 255, 255, ..., 255, 255, 255],\n",
              "        [255, 255, 255, ..., 255, 255, 255],\n",
              "        ...,\n",
              "        [255, 255, 255, ..., 222, 211, 224],\n",
              "        [255, 255, 255, ..., 203, 207, 221],\n",
              "        [ 68,  68,  68, ...,  68,  68,  68]], dtype=uint8),\n",
              " array([[130, 130, 130, ..., 255, 255, 250],\n",
              "        [255, 255, 255, ..., 255, 255, 249],\n",
              "        [255, 255, 255, ..., 255, 243, 235],\n",
              "        ...,\n",
              "        [255, 255, 255, ...,  60,  60,  61],\n",
              "        [255, 255, 255, ...,  59,  57,  60],\n",
              "        [ 68,  68,  68, ...,  68,  68,  68]], dtype=uint8),\n",
              " array([[130, 130, 130, ..., 255, 255, 255],\n",
              "        [255, 255, 255, ..., 255, 255, 255],\n",
              "        [255, 255, 255, ..., 255, 255, 255],\n",
              "        ...,\n",
              "        [255, 255, 255, ..., 201, 195, 199],\n",
              "        [255, 255, 255, ..., 218, 211, 217],\n",
              "        [ 68,  68,  68, ...,  68,  68,  68]], dtype=uint8),\n",
              " array([[130, 130, 130, ..., 255, 255, 255],\n",
              "        [255, 255, 255, ..., 255, 255, 255],\n",
              "        [255, 255, 255, ..., 255, 255, 255],\n",
              "        ...,\n",
              "        [255, 255, 255, ..., 255, 244, 242],\n",
              "        [255, 255, 255, ..., 255, 241, 243],\n",
              "        [ 68,  68,  68, ...,  68,  68,  68]], dtype=uint8),\n",
              " array([[110, 114, 125, ..., 255, 255, 242],\n",
              "        [238, 241, 255, ..., 255, 255, 249],\n",
              "        [253, 255, 255, ..., 255, 252, 244],\n",
              "        ...,\n",
              "        [255, 255, 255, ..., 186, 182, 182],\n",
              "        [255, 255, 255, ..., 182, 178, 175],\n",
              "        [ 68,  68,  68, ...,  68,  68,  68]], dtype=uint8),\n",
              " array([[130, 130, 130, ..., 255, 255, 255],\n",
              "        [255, 255, 255, ..., 255, 255, 255],\n",
              "        [255, 255, 255, ..., 255, 255, 255],\n",
              "        ...,\n",
              "        [255, 255, 255, ..., 235, 253, 255],\n",
              "        [255, 255, 255, ..., 229, 231, 249],\n",
              "        [ 68,  68,  68, ...,  68,  68,  68]], dtype=uint8),\n",
              " array([[109, 111, 123, ..., 255, 255, 241],\n",
              "        [231, 237, 255, ..., 255, 255, 245],\n",
              "        [252, 255, 255, ..., 255, 252, 244],\n",
              "        ...,\n",
              "        [255, 255, 255, ..., 188, 183, 185],\n",
              "        [255, 255, 255, ..., 185, 181, 178],\n",
              "        [ 68,  68,  68, ...,  68,  68,  68]], dtype=uint8),\n",
              " array([[130, 130, 130, ..., 255, 255, 255],\n",
              "        [255, 255, 255, ..., 255, 255, 255],\n",
              "        [255, 255, 255, ..., 255, 255, 255],\n",
              "        ...,\n",
              "        [255, 255, 255, ..., 244, 255, 255],\n",
              "        [255, 255, 255, ..., 255, 253, 255],\n",
              "        [ 68,  68,  68, ...,  68,  68,  68]], dtype=uint8),\n",
              " array([[130, 130, 130, ..., 255, 255, 255],\n",
              "        [255, 255, 255, ..., 255, 255, 255],\n",
              "        [255, 255, 255, ..., 255, 255, 255],\n",
              "        ...,\n",
              "        [255, 255, 255, ..., 255, 255, 255],\n",
              "        [255, 255, 255, ..., 255, 255, 255],\n",
              "        [ 68,  68,  68, ...,  68,  68,  68]], dtype=uint8),\n",
              " array([[109, 111, 124, ..., 255, 253, 239],\n",
              "        [234, 237, 255, ..., 255, 255, 245],\n",
              "        [251, 255, 255, ..., 255, 251, 241],\n",
              "        ...,\n",
              "        [255, 255, 255, ..., 179, 173, 174],\n",
              "        [255, 255, 255, ..., 176, 173, 171],\n",
              "        [ 68,  68,  68, ...,  68,  68,  68]], dtype=uint8),\n",
              " array([[130, 130, 130, ..., 255, 255, 255],\n",
              "        [255, 255, 255, ..., 255, 255, 255],\n",
              "        [255, 255, 255, ..., 255, 255, 255],\n",
              "        ...,\n",
              "        [255, 255, 255, ..., 255, 255, 255],\n",
              "        [255, 255, 255, ..., 255, 255, 255],\n",
              "        [ 68,  68,  68, ...,  68,  68,  68]], dtype=uint8),\n",
              " array([[ 55,  68,  75, ..., 196, 181, 210],\n",
              "        [130, 156, 170, ..., 183, 188, 210],\n",
              "        [130, 131, 146, ..., 203, 195, 200],\n",
              "        ...,\n",
              "        [ 33,  33,  33, ..., 112, 109, 111],\n",
              "        [ 34,  34,  34, ..., 118, 115, 118],\n",
              "        [ 68,  68,  68, ...,  68,  68,  68]], dtype=uint8),\n",
              " array([[112,  97,  93, ..., 227, 225, 235],\n",
              "        [241, 218, 211, ..., 246, 237, 242],\n",
              "        [255, 255, 255, ..., 255, 255, 255],\n",
              "        ...,\n",
              "        [196, 188, 192, ..., 232, 213, 223],\n",
              "        [200, 193, 199, ..., 216, 197, 207],\n",
              "        [ 68,  68,  68, ...,  68,  68,  68]], dtype=uint8),\n",
              " array([[130, 130, 130, ..., 255, 255, 255],\n",
              "        [255, 255, 255, ..., 255, 255, 255],\n",
              "        [255, 255, 255, ..., 255, 255, 255],\n",
              "        ...,\n",
              "        [255, 255, 255, ..., 203, 195, 199],\n",
              "        [255, 255, 255, ..., 218, 210, 218],\n",
              "        [ 68,  68,  68, ...,  68,  68,  68]], dtype=uint8),\n",
              " array([[130, 130, 130, ..., 255, 255, 255],\n",
              "        [255, 255, 255, ..., 255, 255, 255],\n",
              "        [255, 255, 255, ..., 255, 255, 255],\n",
              "        ...,\n",
              "        [255, 255, 255, ..., 251, 252, 255],\n",
              "        [255, 255, 255, ..., 248, 255, 255],\n",
              "        [ 68,  68,  68, ...,  68,  68,  68]], dtype=uint8),\n",
              " array([[118, 129, 130, ..., 255, 255, 255],\n",
              "        [253, 255, 255, ..., 255, 255, 255],\n",
              "        [255, 255, 255, ..., 255, 255, 255],\n",
              "        ...,\n",
              "        [255, 255, 255, ...,  91,  88,  91],\n",
              "        [255, 255, 255, ..., 101,  97, 102],\n",
              "        [ 68,  68,  68, ...,  68,  68,  68]], dtype=uint8),\n",
              " array([[130, 130, 130, ..., 255, 255, 255],\n",
              "        [255, 255, 255, ..., 255, 255, 255],\n",
              "        [255, 255, 255, ..., 255, 255, 255],\n",
              "        ...,\n",
              "        [255, 255, 255, ...,  58,  55,  57],\n",
              "        [250, 249, 246, ...,  71,  51,  47],\n",
              "        [ 68,  68,  68, ...,  68,  68,  68]], dtype=uint8),\n",
              " array([[130, 130, 130, ..., 255, 255, 255],\n",
              "        [255, 255, 255, ..., 255, 255, 255],\n",
              "        [255, 255, 255, ..., 255, 255, 255],\n",
              "        ...,\n",
              "        [179, 180, 181, ..., 114, 100,  96],\n",
              "        [165, 165, 166, ..., 102,  89,  78],\n",
              "        [ 68,  68,  68, ...,  68,  68,  68]], dtype=uint8),\n",
              " array([[130, 130, 130, ..., 255, 255, 255],\n",
              "        [255, 255, 255, ..., 255, 255, 255],\n",
              "        [255, 255, 255, ..., 255, 255, 255],\n",
              "        ...,\n",
              "        [255, 255, 255, ..., 229, 196, 199],\n",
              "        [255, 255, 255, ..., 227, 194, 197],\n",
              "        [ 68,  68,  68, ...,  68,  68,  68]], dtype=uint8),\n",
              " array([[130, 130, 130, ..., 255, 255, 255],\n",
              "        [255, 255, 255, ..., 255, 255, 255],\n",
              "        [255, 255, 255, ..., 255, 255, 255],\n",
              "        ...,\n",
              "        [255, 255, 255, ..., 231, 252, 251],\n",
              "        [255, 255, 255, ..., 223, 224, 245],\n",
              "        [ 68,  68,  68, ...,  68,  68,  68]], dtype=uint8),\n",
              " array([[130, 130, 130, ..., 255, 255, 255],\n",
              "        [255, 255, 255, ..., 255, 255, 255],\n",
              "        [255, 255, 255, ..., 255, 255, 255],\n",
              "        ...,\n",
              "        [255, 255, 255, ..., 255, 255, 255],\n",
              "        [255, 255, 255, ..., 255, 255, 255],\n",
              "        [ 68,  68,  68, ...,  68,  68,  68]], dtype=uint8),\n",
              " array([[130, 130, 130, ..., 255, 255, 255],\n",
              "        [255, 255, 255, ..., 255, 255, 255],\n",
              "        [255, 255, 255, ..., 255, 255, 255],\n",
              "        ...,\n",
              "        [255, 255, 255, ..., 255, 255, 255],\n",
              "        [255, 255, 255, ..., 255, 255, 255],\n",
              "        [ 68,  68,  68, ...,  68,  68,  68]], dtype=uint8),\n",
              " array([[130, 130, 130, ..., 255, 255, 255],\n",
              "        [255, 255, 255, ..., 255, 255, 255],\n",
              "        [255, 255, 255, ..., 255, 242, 243],\n",
              "        ...,\n",
              "        [255, 255, 255, ..., 255, 255, 255],\n",
              "        [255, 255, 255, ..., 255, 255, 255],\n",
              "        [ 68,  68,  68, ...,  68,  68,  68]], dtype=uint8),\n",
              " array([[130, 130, 130, ..., 255, 255, 255],\n",
              "        [255, 255, 255, ..., 255, 255, 255],\n",
              "        [255, 255, 255, ..., 255, 255, 255],\n",
              "        ...,\n",
              "        [255, 255, 255, ..., 255, 255, 255],\n",
              "        [255, 255, 255, ..., 255, 255, 255],\n",
              "        [ 68,  68,  68, ...,  68,  68,  68]], dtype=uint8),\n",
              " array([[ 78,  72,  79, ..., 255, 255, 248],\n",
              "        [171, 160, 176, ..., 255, 255, 249],\n",
              "        [165, 170, 180, ..., 250, 251, 255],\n",
              "        ...,\n",
              "        [ 79,  73,  67, ..., 196, 196, 206],\n",
              "        [ 76,  68,  65, ..., 192, 192, 201],\n",
              "        [ 68,  68,  68, ...,  68,  68,  68]], dtype=uint8),\n",
              " array([[130, 130, 130, ..., 255, 255, 255],\n",
              "        [255, 255, 255, ..., 255, 255, 255],\n",
              "        [255, 255, 255, ..., 255, 255, 255],\n",
              "        ...,\n",
              "        [255, 255, 255, ..., 255, 253, 250],\n",
              "        [255, 255, 255, ..., 255, 248, 248],\n",
              "        [ 68,  68,  68, ...,  68,  68,  68]], dtype=uint8),\n",
              " array([[130, 130, 130, ..., 255, 255, 255],\n",
              "        [255, 255, 255, ..., 255, 255, 255],\n",
              "        [255, 255, 255, ..., 255, 255, 255],\n",
              "        ...,\n",
              "        [255, 255, 255, ..., 255, 255, 255],\n",
              "        [255, 255, 255, ..., 255, 255, 255],\n",
              "        [ 68,  68,  68, ...,  68,  68,  68]], dtype=uint8),\n",
              " array([[130, 130, 130, ..., 255, 255, 255],\n",
              "        [255, 255, 255, ..., 255, 255, 255],\n",
              "        [255, 255, 255, ..., 255, 255, 255],\n",
              "        ...,\n",
              "        [255, 255, 255, ..., 235, 246, 250],\n",
              "        [255, 255, 255, ..., 209, 216, 228],\n",
              "        [ 68,  68,  68, ...,  68,  68,  68]], dtype=uint8),\n",
              " array([[130, 130, 130, ..., 255, 255, 255],\n",
              "        [255, 255, 255, ..., 255, 255, 255],\n",
              "        [255, 255, 255, ..., 255, 255, 255],\n",
              "        ...,\n",
              "        [255, 255, 255, ..., 201, 193, 196],\n",
              "        [255, 255, 255, ..., 217, 209, 218],\n",
              "        [ 68,  68,  68, ...,  68,  68,  68]], dtype=uint8),\n",
              " array([[124, 116, 102, ..., 255, 242, 246],\n",
              "        [255, 251, 230, ..., 255, 246, 248],\n",
              "        [246, 227, 231, ..., 255, 255, 255],\n",
              "        ...,\n",
              "        [243, 245, 255, ..., 231, 220, 216],\n",
              "        [255, 255, 255, ..., 213, 206, 218],\n",
              "        [ 68,  68,  68, ...,  68,  68,  68]], dtype=uint8),\n",
              " array([[110,  96,  91, ..., 227, 225, 236],\n",
              "        [239, 217, 213, ..., 244, 237, 239],\n",
              "        [255, 255, 255, ..., 255, 255, 255],\n",
              "        ...,\n",
              "        [189, 181, 185, ..., 232, 215, 224],\n",
              "        [192, 186, 190, ..., 217, 199, 207],\n",
              "        [ 68,  68,  68, ...,  68,  68,  68]], dtype=uint8),\n",
              " array([[130, 130, 130, ..., 255, 255, 255],\n",
              "        [255, 255, 255, ..., 255, 255, 255],\n",
              "        [255, 255, 255, ..., 255, 255, 255],\n",
              "        ...,\n",
              "        [255, 255, 255, ..., 255, 255, 255],\n",
              "        [255, 255, 255, ..., 255, 255, 255],\n",
              "        [ 68,  68,  68, ...,  68,  68,  68]], dtype=uint8),\n",
              " array([[ 75,  72,  72, ..., 255, 255, 255],\n",
              "        [170, 161, 164, ..., 255, 255, 255],\n",
              "        [163, 158, 159, ..., 255, 255, 255],\n",
              "        ...,\n",
              "        [145, 151, 153, ..., 255, 255, 253],\n",
              "        [146, 153, 159, ..., 255, 255, 255],\n",
              "        [ 68,  68,  68, ...,  68,  68,  68]], dtype=uint8),\n",
              " array([[130, 130, 130, ..., 255, 255, 255],\n",
              "        [255, 255, 255, ..., 255, 255, 255],\n",
              "        [255, 255, 255, ..., 255, 255, 255],\n",
              "        ...,\n",
              "        [255, 255, 255, ..., 251, 255, 255],\n",
              "        [255, 255, 255, ..., 255, 255, 255],\n",
              "        [ 68,  68,  68, ...,  68,  68,  68]], dtype=uint8),\n",
              " array([[ 97, 107, 119, ..., 255, 255, 255],\n",
              "        [221, 239, 255, ..., 255, 255, 255],\n",
              "        [221, 255, 255, ..., 255, 255, 255],\n",
              "        ...,\n",
              "        [110, 112, 111, ..., 158, 154, 159],\n",
              "        [111, 110, 111, ..., 163, 158, 165],\n",
              "        [ 68,  68,  68, ...,  68,  68,  68]], dtype=uint8),\n",
              " array([[130, 130, 130, ..., 255, 255, 255],\n",
              "        [255, 255, 255, ..., 255, 255, 255],\n",
              "        [255, 255, 255, ..., 255, 255, 255],\n",
              "        ...,\n",
              "        [255, 255, 255, ..., 230, 251, 248],\n",
              "        [255, 255, 255, ..., 221, 225, 243],\n",
              "        [ 68,  68,  68, ...,  68,  68,  68]], dtype=uint8),\n",
              " array([[130, 130, 130, ..., 255, 255, 255],\n",
              "        [255, 255, 255, ..., 255, 255, 255],\n",
              "        [255, 255, 255, ..., 255, 255, 255],\n",
              "        ...,\n",
              "        [255, 255, 255, ..., 255, 255, 255],\n",
              "        [255, 255, 255, ..., 255, 255, 255],\n",
              "        [ 68,  68,  68, ...,  68,  68,  68]], dtype=uint8),\n",
              " array([[130, 130, 130, ..., 255, 255, 255],\n",
              "        [255, 255, 255, ..., 255, 255, 255],\n",
              "        [255, 255, 255, ..., 255, 255, 255],\n",
              "        ...,\n",
              "        [255, 255, 255, ..., 255, 255, 255],\n",
              "        [255, 255, 255, ..., 255, 253, 255],\n",
              "        [ 68,  68,  68, ...,  68,  68,  68]], dtype=uint8),\n",
              " array([[130, 130, 130, ..., 252, 245, 255],\n",
              "        [255, 255, 255, ..., 255, 246, 255],\n",
              "        [255, 255, 255, ..., 231, 249, 255],\n",
              "        ...,\n",
              "        [255, 255, 255, ...,  37,  36,  38],\n",
              "        [255, 255, 255, ...,  37,  34,  37],\n",
              "        [ 68,  68,  68, ...,  68,  68,  68]], dtype=uint8),\n",
              " array([[130, 130, 130, ..., 255, 255, 255],\n",
              "        [255, 255, 255, ..., 255, 255, 255],\n",
              "        [255, 255, 255, ..., 255, 255, 255],\n",
              "        ...,\n",
              "        [255, 255, 255, ...,  68,  67,  65],\n",
              "        [249, 248, 245, ...,  64,  54,  51],\n",
              "        [ 68,  68,  68, ...,  68,  68,  68]], dtype=uint8),\n",
              " array([[130, 130, 130, ..., 255, 255, 255],\n",
              "        [255, 255, 255, ..., 255, 255, 255],\n",
              "        [255, 255, 255, ..., 255, 255, 255],\n",
              "        ...,\n",
              "        [255, 255, 255, ..., 255, 255, 255],\n",
              "        [255, 255, 255, ..., 255, 255, 255],\n",
              "        [ 68,  68,  68, ...,  68,  68,  68]], dtype=uint8),\n",
              " array([[130, 130, 130, ..., 255, 255, 255],\n",
              "        [255, 255, 255, ..., 255, 255, 255],\n",
              "        [255, 255, 255, ..., 255, 255, 255],\n",
              "        ...,\n",
              "        [255, 255, 255, ..., 255, 255, 255],\n",
              "        [255, 255, 255, ..., 255, 255, 255],\n",
              "        [ 68,  68,  68, ...,  68,  68,  68]], dtype=uint8),\n",
              " array([[130, 130, 130, ..., 255, 255, 255],\n",
              "        [255, 255, 255, ..., 255, 255, 255],\n",
              "        [255, 255, 255, ..., 255, 255, 255],\n",
              "        ...,\n",
              "        [255, 255, 255, ..., 239, 249, 253],\n",
              "        [255, 255, 255, ..., 214, 221, 235],\n",
              "        [ 68,  68,  68, ...,  68,  68,  68]], dtype=uint8),\n",
              " array([[130, 130, 130, ..., 255, 255, 255],\n",
              "        [255, 255, 255, ..., 255, 255, 255],\n",
              "        [255, 255, 255, ..., 255, 255, 255],\n",
              "        ...,\n",
              "        [255, 255, 255, ..., 255, 255, 255],\n",
              "        [255, 255, 255, ..., 255, 255, 255],\n",
              "        [ 68,  68,  68, ...,  68,  68,  68]], dtype=uint8),\n",
              " array([[130, 130, 130, ..., 255, 255, 255],\n",
              "        [255, 255, 255, ..., 255, 255, 255],\n",
              "        [255, 255, 255, ..., 255, 255, 255],\n",
              "        ...,\n",
              "        [255, 255, 255, ..., 190, 182, 187],\n",
              "        [255, 255, 255, ..., 207, 200, 207],\n",
              "        [ 68,  68,  68, ...,  68,  68,  68]], dtype=uint8),\n",
              " array([[122, 112, 109, ..., 255, 255, 255],\n",
              "        [255, 246, 241, ..., 255, 255, 255],\n",
              "        [252, 244, 252, ..., 255, 255, 255],\n",
              "        ...,\n",
              "        [ 78,  79,  76, ..., 255, 255, 255],\n",
              "        [ 79,  79,  76, ..., 255, 255, 255],\n",
              "        [ 68,  68,  68, ...,  68,  68,  68]], dtype=uint8),\n",
              " array([[130, 129, 121, ..., 190, 182, 185],\n",
              "        [255, 255, 255, ..., 183, 183, 192],\n",
              "        [255, 255, 255, ..., 175, 185, 209],\n",
              "        ...,\n",
              "        [161, 164, 161, ...,  47,  48,  50],\n",
              "        [163, 164, 161, ...,  50,  44,  43],\n",
              "        [ 68,  68,  68, ...,  68,  68,  68]], dtype=uint8),\n",
              " array([[130, 130, 130, ..., 255, 255, 255],\n",
              "        [255, 255, 255, ..., 255, 255, 255],\n",
              "        [255, 255, 255, ..., 255, 255, 255],\n",
              "        ...,\n",
              "        [255, 255, 255, ..., 244, 255, 255],\n",
              "        [255, 255, 255, ..., 238, 242, 255],\n",
              "        [ 68,  68,  68, ...,  68,  68,  68]], dtype=uint8),\n",
              " array([[111,  95,  90, ..., 225, 224, 234],\n",
              "        [237, 214, 208, ..., 244, 236, 239],\n",
              "        [255, 255, 255, ..., 255, 255, 255],\n",
              "        ...,\n",
              "        [187, 180, 183, ..., 234, 216, 224],\n",
              "        [190, 183, 188, ..., 220, 201, 209],\n",
              "        [ 68,  68,  68, ...,  68,  68,  68]], dtype=uint8),\n",
              " array([[130, 130, 130, ..., 255, 255, 255],\n",
              "        [255, 255, 255, ..., 255, 255, 255],\n",
              "        [255, 255, 255, ..., 255, 255, 255],\n",
              "        ...,\n",
              "        [255, 255, 255, ..., 255, 255, 255],\n",
              "        [255, 255, 255, ..., 255, 255, 255],\n",
              "        [ 68,  68,  68, ...,  68,  68,  68]], dtype=uint8),\n",
              " array([[130, 130, 130, ..., 255, 255, 255],\n",
              "        [255, 255, 255, ..., 255, 255, 255],\n",
              "        [255, 255, 255, ..., 255, 255, 255],\n",
              "        ...,\n",
              "        [255, 255, 255, ..., 243, 255, 255],\n",
              "        [255, 255, 255, ..., 238, 241, 255],\n",
              "        [ 68,  68,  68, ...,  68,  68,  68]], dtype=uint8),\n",
              " array([[109,  95,  90, ..., 220, 230, 235],\n",
              "        [237, 215, 210, ..., 244, 236, 239],\n",
              "        [255, 255, 255, ..., 255, 255, 255],\n",
              "        ...,\n",
              "        [187, 179, 183, ..., 235, 216, 225],\n",
              "        [190, 183, 189, ..., 220, 200, 209],\n",
              "        [ 68,  68,  68, ...,  68,  68,  68]], dtype=uint8),\n",
              " array([[130, 130, 130, ..., 255, 255, 255],\n",
              "        [255, 255, 255, ..., 255, 255, 255],\n",
              "        [255, 255, 255, ..., 255, 255, 255],\n",
              "        ...,\n",
              "        [255, 255, 255, ..., 237, 231, 237],\n",
              "        [255, 255, 255, ..., 241, 236, 244],\n",
              "        [ 68,  68,  68, ...,  68,  68,  68]], dtype=uint8),\n",
              " array([[119, 129, 130, ..., 255, 255, 255],\n",
              "        [251, 255, 255, ..., 255, 255, 255],\n",
              "        [255, 255, 255, ..., 255, 255, 255],\n",
              "        ...,\n",
              "        [255, 255, 255, ...,  93,  89,  93],\n",
              "        [255, 255, 255, ..., 102,  98, 102],\n",
              "        [ 68,  68,  68, ...,  68,  68,  68]], dtype=uint8),\n",
              " array([[105, 103, 103, ..., 255, 255, 255],\n",
              "        [228, 221, 223, ..., 255, 255, 255],\n",
              "        [218, 203, 222, ..., 255, 255, 255],\n",
              "        ...,\n",
              "        [ 80,  81,  83, ..., 255, 255, 255],\n",
              "        [ 80,  82,  83, ..., 255, 255, 255],\n",
              "        [ 68,  68,  68, ...,  68,  68,  68]], dtype=uint8),\n",
              " array([[130, 130, 130, ..., 255, 255, 255],\n",
              "        [255, 255, 255, ..., 255, 255, 255],\n",
              "        [255, 255, 255, ..., 255, 255, 255],\n",
              "        ...,\n",
              "        [255, 255, 255, ..., 249, 225, 217],\n",
              "        [255, 255, 255, ..., 255, 222, 206],\n",
              "        [ 68,  68,  68, ...,  68,  68,  68]], dtype=uint8),\n",
              " array([[109, 111, 124, ..., 255, 255, 243],\n",
              "        [235, 239, 255, ..., 255, 253, 244],\n",
              "        [253, 255, 255, ..., 253, 251, 243],\n",
              "        ...,\n",
              "        [255, 255, 255, ..., 187, 183, 183],\n",
              "        [255, 255, 255, ..., 183, 180, 179],\n",
              "        [ 68,  68,  68, ...,  68,  68,  68]], dtype=uint8),\n",
              " array([[130, 130, 130, ..., 255, 255, 255],\n",
              "        [255, 255, 255, ..., 255, 255, 255],\n",
              "        [255, 255, 255, ..., 255, 255, 255],\n",
              "        ...,\n",
              "        [251, 252, 253, ..., 182, 174, 176],\n",
              "        [229, 231, 232, ..., 227, 220, 214],\n",
              "        [ 68,  68,  68, ...,  68,  68,  68]], dtype=uint8),\n",
              " array([[109,  95,  89, ..., 224, 224, 232],\n",
              "        [237, 213, 207, ..., 242, 235, 236],\n",
              "        [255, 255, 255, ..., 255, 255, 255],\n",
              "        ...,\n",
              "        [188, 179, 183, ..., 229, 213, 223],\n",
              "        [192, 182, 188, ..., 214, 194, 204],\n",
              "        [ 68,  68,  68, ...,  68,  68,  68]], dtype=uint8),\n",
              " array([[130, 130, 130, ..., 255, 255, 255],\n",
              "        [255, 255, 255, ..., 255, 255, 255],\n",
              "        [255, 255, 255, ..., 255, 255, 255],\n",
              "        ...,\n",
              "        [255, 255, 255, ..., 200, 192, 195],\n",
              "        [255, 255, 255, ..., 217, 208, 217],\n",
              "        [ 68,  68,  68, ...,  68,  68,  68]], dtype=uint8),\n",
              " array([[ 85,  76,  72, ..., 232, 220, 218],\n",
              "        [186, 174, 164, ..., 232, 216, 217],\n",
              "        [151, 152, 154, ..., 223, 208, 224],\n",
              "        ...,\n",
              "        [ 68,  68,  66, ..., 174, 200, 236],\n",
              "        [ 72,  69,  66, ..., 172, 192, 230],\n",
              "        [ 68,  68,  68, ...,  68,  68,  68]], dtype=uint8),\n",
              " array([[130, 130, 130, ..., 255, 255, 255],\n",
              "        [255, 255, 255, ..., 255, 255, 255],\n",
              "        [255, 255, 255, ..., 255, 255, 255],\n",
              "        ...,\n",
              "        [255, 255, 255, ..., 255, 239, 238],\n",
              "        [255, 255, 255, ..., 255, 234, 238],\n",
              "        [ 68,  68,  68, ...,  68,  68,  68]], dtype=uint8),\n",
              " array([[130, 130, 130, ..., 255, 255, 255],\n",
              "        [255, 255, 255, ..., 255, 255, 255],\n",
              "        [255, 255, 255, ..., 255, 255, 255],\n",
              "        ...,\n",
              "        [255, 255, 255, ..., 174, 152, 132],\n",
              "        [245, 244, 243, ..., 171, 164, 145],\n",
              "        [ 68,  68,  68, ...,  68,  68,  68]], dtype=uint8),\n",
              " array([[110,  96,  91, ..., 224, 224, 236],\n",
              "        [239, 218, 211, ..., 244, 236, 239],\n",
              "        [255, 255, 255, ..., 255, 255, 255],\n",
              "        ...,\n",
              "        [199, 192, 195, ..., 227, 210, 221],\n",
              "        [204, 199, 202, ..., 228, 203, 202],\n",
              "        [ 68,  68,  68, ...,  68,  68,  68]], dtype=uint8),\n",
              " array([[117, 129, 130, ..., 255, 255, 255],\n",
              "        [249, 255, 255, ..., 255, 255, 255],\n",
              "        [255, 255, 255, ..., 255, 255, 255],\n",
              "        ...,\n",
              "        [255, 255, 255, ...,  93,  89,  90],\n",
              "        [255, 255, 255, ..., 100,  96, 101],\n",
              "        [ 68,  68,  68, ...,  68,  68,  68]], dtype=uint8),\n",
              " array([[130, 130, 130, ..., 255, 255, 255],\n",
              "        [255, 255, 255, ..., 255, 255, 255],\n",
              "        [255, 255, 255, ..., 255, 241, 242],\n",
              "        ...,\n",
              "        [255, 255, 255, ..., 255, 255, 255],\n",
              "        [255, 255, 255, ..., 255, 255, 255],\n",
              "        [ 68,  68,  68, ...,  68,  68,  68]], dtype=uint8),\n",
              " array([[117, 129, 130, ..., 255, 255, 255],\n",
              "        [252, 255, 255, ..., 255, 255, 255],\n",
              "        [255, 255, 255, ..., 255, 255, 255],\n",
              "        ...,\n",
              "        [255, 255, 255, ...,  93,  89,  93],\n",
              "        [255, 255, 255, ..., 102,  97, 101],\n",
              "        [ 68,  68,  68, ...,  68,  68,  68]], dtype=uint8),\n",
              " array([[130, 130, 130, ..., 255, 255, 255],\n",
              "        [255, 255, 255, ..., 255, 255, 255],\n",
              "        [255, 255, 255, ..., 255, 241, 241],\n",
              "        ...,\n",
              "        [255, 255, 255, ..., 255, 255, 255],\n",
              "        [255, 255, 255, ..., 255, 255, 255],\n",
              "        [ 68,  68,  68, ...,  68,  68,  68]], dtype=uint8),\n",
              " array([[130, 130, 130, ..., 255, 255, 255],\n",
              "        [255, 255, 255, ..., 255, 255, 255],\n",
              "        [255, 255, 255, ..., 255, 255, 255],\n",
              "        ...,\n",
              "        [255, 255, 255, ..., 195, 187, 190],\n",
              "        [255, 255, 255, ..., 211, 204, 210],\n",
              "        [ 68,  68,  68, ...,  68,  68,  68]], dtype=uint8),\n",
              " array([[130, 130, 130, ..., 255, 255, 255],\n",
              "        [255, 255, 255, ..., 255, 255, 255],\n",
              "        [255, 255, 255, ..., 255, 255, 255],\n",
              "        ...,\n",
              "        [255, 255, 255, ..., 255, 255, 255],\n",
              "        [255, 255, 255, ..., 255, 255, 255],\n",
              "        [ 68,  68,  68, ...,  68,  68,  68]], dtype=uint8),\n",
              " array([[130, 130, 130, ..., 255, 255, 255],\n",
              "        [255, 255, 255, ..., 255, 255, 255],\n",
              "        [255, 255, 255, ..., 255, 255, 255],\n",
              "        ...,\n",
              "        [255, 255, 255, ..., 235, 238, 255],\n",
              "        [255, 255, 255, ..., 234, 243, 255],\n",
              "        [ 68,  68,  68, ...,  68,  68,  68]], dtype=uint8),\n",
              " array([[130, 130, 130, ..., 255, 251, 255],\n",
              "        [255, 255, 255, ..., 255, 242, 255],\n",
              "        [255, 255, 255, ..., 255, 253, 255],\n",
              "        ...,\n",
              "        [255, 255, 255, ...,  51,  47,  48],\n",
              "        [255, 255, 255, ...,  51,  47,  48],\n",
              "        [ 68,  68,  68, ...,  68,  68,  68]], dtype=uint8),\n",
              " array([[130, 130, 130, ..., 255, 255, 255],\n",
              "        [255, 255, 255, ..., 255, 255, 255],\n",
              "        [255, 255, 255, ..., 255, 255, 255],\n",
              "        ...,\n",
              "        [255, 255, 255, ..., 255, 255, 255],\n",
              "        [255, 255, 255, ..., 255, 255, 255],\n",
              "        [ 68,  68,  68, ...,  68,  68,  68]], dtype=uint8),\n",
              " array([[130, 130, 130, ..., 255, 255, 255],\n",
              "        [255, 255, 255, ..., 255, 255, 255],\n",
              "        [255, 255, 255, ..., 255, 255, 255],\n",
              "        ...,\n",
              "        [255, 255, 255, ..., 255, 255, 255],\n",
              "        [255, 255, 255, ..., 255, 255, 255],\n",
              "        [ 68,  68,  68, ...,  68,  68,  68]], dtype=uint8),\n",
              " array([[130, 130, 130, ..., 255, 255, 255],\n",
              "        [255, 255, 255, ..., 255, 255, 255],\n",
              "        [255, 255, 255, ..., 255, 255, 255],\n",
              "        ...,\n",
              "        [255, 255, 255, ...,  41,  41,  46],\n",
              "        [255, 255, 255, ...,  41,  40,  44],\n",
              "        [ 68,  68,  68, ...,  68,  68,  68]], dtype=uint8),\n",
              " array([[109, 111, 124, ..., 255, 255, 241],\n",
              "        [235, 238, 255, ..., 255, 255, 245],\n",
              "        [252, 255, 255, ..., 255, 252, 244],\n",
              "        ...,\n",
              "        [255, 255, 255, ..., 186, 180, 180],\n",
              "        [255, 255, 255, ..., 181, 179, 175],\n",
              "        [ 68,  68,  68, ...,  68,  68,  68]], dtype=uint8),\n",
              " array([[130, 130, 130, ..., 255, 255, 255],\n",
              "        [255, 255, 255, ..., 255, 255, 255],\n",
              "        [255, 255, 255, ..., 255, 243, 245],\n",
              "        ...,\n",
              "        [255, 255, 255, ..., 255, 255, 255],\n",
              "        [255, 255, 255, ..., 255, 255, 255],\n",
              "        [ 68,  68,  68, ...,  68,  68,  68]], dtype=uint8),\n",
              " array([[130, 130, 130, ..., 255, 255, 255],\n",
              "        [255, 255, 255, ..., 255, 255, 255],\n",
              "        [255, 255, 255, ..., 255, 255, 255],\n",
              "        ...,\n",
              "        [255, 255, 255, ..., 255, 245, 237],\n",
              "        [255, 255, 255, ..., 255, 238, 235],\n",
              "        [ 68,  68,  68, ...,  68,  68,  68]], dtype=uint8),\n",
              " array([[130, 130, 130, ..., 228, 225, 255],\n",
              "        [255, 255, 255, ..., 227, 229, 255],\n",
              "        [255, 255, 255, ..., 245, 235, 255],\n",
              "        ...,\n",
              "        [255, 255, 255, ..., 248, 229, 230],\n",
              "        [255, 255, 255, ..., 244, 228, 236],\n",
              "        [ 68,  68,  68, ...,  68,  68,  68]], dtype=uint8),\n",
              " array([[130, 130, 130, ..., 255, 255, 255],\n",
              "        [255, 255, 255, ..., 255, 255, 255],\n",
              "        [255, 255, 255, ..., 255, 255, 255],\n",
              "        ...,\n",
              "        [255, 255, 255, ..., 238, 250, 251],\n",
              "        [255, 255, 255, ..., 211, 222, 230],\n",
              "        [ 68,  68,  68, ...,  68,  68,  68]], dtype=uint8),\n",
              " array([[105, 103, 109, ..., 255, 255, 255],\n",
              "        [230, 228, 237, ..., 255, 255, 255],\n",
              "        [224, 227, 238, ..., 255, 255, 255],\n",
              "        ...,\n",
              "        [ 68,  69,  69, ..., 126, 114, 103],\n",
              "        [ 65,  66,  66, ..., 126, 114, 103],\n",
              "        [ 68,  68,  68, ...,  68,  68,  68]], dtype=uint8),\n",
              " array([[130, 130, 130, ..., 255, 255, 255],\n",
              "        [255, 255, 255, ..., 255, 255, 255],\n",
              "        [255, 255, 255, ..., 255, 255, 255],\n",
              "        ...,\n",
              "        [255, 255, 255, ..., 251, 255, 255],\n",
              "        [255, 255, 255, ..., 225, 236, 244],\n",
              "        [ 68,  68,  68, ...,  68,  68,  68]], dtype=uint8),\n",
              " array([[112, 118, 123, ..., 251, 232, 242],\n",
              "        [252, 255, 255, ..., 253, 244, 255],\n",
              "        [255, 255, 255, ..., 255, 255, 255],\n",
              "        ...,\n",
              "        [242, 255, 255, ..., 167, 156, 160],\n",
              "        [245, 255, 255, ..., 186, 168, 159],\n",
              "        [ 68,  68,  68, ...,  68,  68,  68]], dtype=uint8),\n",
              " array([[109, 111, 124, ..., 255, 253, 239],\n",
              "        [234, 237, 255, ..., 255, 255, 245],\n",
              "        [251, 255, 255, ..., 255, 251, 241],\n",
              "        ...,\n",
              "        [255, 255, 255, ..., 179, 173, 174],\n",
              "        [255, 255, 255, ..., 176, 173, 171],\n",
              "        [ 68,  68,  68, ...,  68,  68,  68]], dtype=uint8),\n",
              " array([[110, 117, 121, ..., 251, 231, 241],\n",
              "        [250, 255, 255, ..., 249, 243, 252],\n",
              "        [255, 255, 255, ..., 255, 255, 255],\n",
              "        ...,\n",
              "        [243, 255, 255, ..., 167, 156, 160],\n",
              "        [246, 255, 255, ..., 171, 153, 154],\n",
              "        [ 68,  68,  68, ...,  68,  68,  68]], dtype=uint8),\n",
              " array([[130, 130, 130, ..., 255, 255, 255],\n",
              "        [255, 255, 255, ..., 255, 255, 255],\n",
              "        [255, 255, 255, ..., 255, 255, 255],\n",
              "        ...,\n",
              "        [255, 255, 255, ...,  65,  64,  65],\n",
              "        [248, 246, 245, ...,  55,  48,  48],\n",
              "        [ 68,  68,  68, ...,  68,  68,  68]], dtype=uint8),\n",
              " array([[109, 112, 124, ..., 255, 255, 241],\n",
              "        [236, 239, 255, ..., 255, 255, 244],\n",
              "        [252, 255, 255, ..., 255, 251, 243],\n",
              "        ...,\n",
              "        [255, 255, 255, ..., 183, 181, 182],\n",
              "        [255, 255, 255, ..., 182, 178, 175],\n",
              "        [ 68,  68,  68, ...,  68,  68,  68]], dtype=uint8),\n",
              " array([[114, 119, 124, ..., 255, 238, 244],\n",
              "        [251, 255, 255, ..., 255, 246, 255],\n",
              "        [255, 255, 255, ..., 255, 255, 255],\n",
              "        ...,\n",
              "        [241, 255, 255, ..., 178, 165, 171],\n",
              "        [245, 255, 255, ..., 183, 164, 165],\n",
              "        [ 68,  68,  68, ...,  68,  68,  68]], dtype=uint8),\n",
              " array([[130, 130, 130, ..., 255, 255, 255],\n",
              "        [255, 255, 255, ..., 255, 255, 255],\n",
              "        [255, 255, 255, ..., 255, 255, 255],\n",
              "        ...,\n",
              "        [255, 255, 255, ..., 129, 100,  79],\n",
              "        [248, 246, 245, ..., 128, 101,  73],\n",
              "        [ 68,  68,  68, ...,  68,  68,  68]], dtype=uint8),\n",
              " array([[130, 130, 130, ..., 255, 255, 255],\n",
              "        [255, 255, 255, ..., 255, 255, 255],\n",
              "        [255, 255, 255, ..., 255, 255, 255],\n",
              "        ...,\n",
              "        [255, 255, 255, ..., 246, 221, 213],\n",
              "        [255, 255, 255, ..., 248, 215, 201],\n",
              "        [ 68,  68,  68, ...,  68,  68,  68]], dtype=uint8),\n",
              " array([[130, 130, 130, ..., 255, 255, 255],\n",
              "        [255, 255, 255, ..., 255, 255, 255],\n",
              "        [255, 255, 255, ..., 255, 255, 255],\n",
              "        ...,\n",
              "        [255, 255, 255, ..., 255, 239, 238],\n",
              "        [255, 255, 255, ..., 255, 234, 238],\n",
              "        [ 68,  68,  68, ...,  68,  68,  68]], dtype=uint8),\n",
              " array([[114, 109, 111, ..., 255, 255, 255],\n",
              "        [249, 241, 244, ..., 255, 255, 255],\n",
              "        [255, 255, 246, ..., 255, 255, 255],\n",
              "        ...,\n",
              "        [204, 204, 204, ..., 250, 255, 255],\n",
              "        [202, 200, 199, ..., 252, 255, 255],\n",
              "        [ 68,  68,  68, ...,  68,  68,  68]], dtype=uint8),\n",
              " array([[130, 130, 130, ..., 216, 224, 244],\n",
              "        [255, 255, 255, ..., 215, 220, 245],\n",
              "        [255, 255, 255, ..., 231, 211, 231],\n",
              "        ...,\n",
              "        [255, 255, 255, ..., 192, 197, 203],\n",
              "        [255, 255, 255, ..., 189, 207, 215],\n",
              "        [ 68,  68,  68, ...,  68,  68,  68]], dtype=uint8),\n",
              " array([[130, 130, 130, ..., 255, 255, 255],\n",
              "        [255, 255, 255, ..., 255, 255, 255],\n",
              "        [255, 255, 255, ..., 255, 255, 255],\n",
              "        ...,\n",
              "        [255, 255, 255, ..., 255, 255, 255],\n",
              "        [255, 255, 255, ..., 255, 255, 255],\n",
              "        [ 68,  68,  68, ...,  68,  68,  68]], dtype=uint8),\n",
              " array([[130, 130, 130, ..., 255, 255, 255],\n",
              "        [255, 255, 255, ..., 255, 255, 255],\n",
              "        [255, 255, 255, ..., 255, 255, 255],\n",
              "        ...,\n",
              "        [255, 255, 255, ..., 255, 242, 239],\n",
              "        [255, 255, 255, ..., 255, 237, 239],\n",
              "        [ 68,  68,  68, ...,  68,  68,  68]], dtype=uint8),\n",
              " array([[130, 130, 130, ..., 255, 255, 255],\n",
              "        [255, 255, 255, ..., 255, 255, 255],\n",
              "        [255, 255, 255, ..., 255, 255, 255],\n",
              "        ...,\n",
              "        [255, 255, 255, ...,  25,  24,  25],\n",
              "        [253, 255, 255, ...,  26,  25,  26],\n",
              "        [ 68,  68,  68, ...,  68,  68,  68]], dtype=uint8),\n",
              " array([[130, 130, 130, ..., 255, 255, 255],\n",
              "        [255, 255, 255, ..., 255, 255, 255],\n",
              "        [255, 255, 255, ..., 255, 255, 255],\n",
              "        ...,\n",
              "        [255, 255, 255, ..., 255, 246, 243],\n",
              "        [255, 255, 255, ..., 255, 239, 241],\n",
              "        [ 68,  68,  68, ...,  68,  68,  68]], dtype=uint8),\n",
              " array([[130, 130, 130, ..., 255, 255, 255],\n",
              "        [255, 255, 255, ..., 255, 255, 255],\n",
              "        [255, 255, 255, ..., 255, 255, 255],\n",
              "        ...,\n",
              "        [255, 255, 255, ..., 146, 132, 147],\n",
              "        [248, 245, 244, ..., 142, 129, 140],\n",
              "        [ 68,  68,  68, ...,  68,  68,  68]], dtype=uint8),\n",
              " array([[119, 129, 130, ..., 255, 255, 255],\n",
              "        [253, 255, 255, ..., 255, 255, 255],\n",
              "        [255, 255, 255, ..., 255, 255, 255],\n",
              "        ...,\n",
              "        [255, 255, 255, ...,  91,  88,  91],\n",
              "        [255, 255, 255, ..., 101,  98, 102],\n",
              "        [ 68,  68,  68, ...,  68,  68,  68]], dtype=uint8),\n",
              " array([[130, 130, 130, ..., 255, 255, 255],\n",
              "        [255, 255, 255, ..., 255, 255, 255],\n",
              "        [255, 255, 255, ..., 255, 255, 255],\n",
              "        ...,\n",
              "        [255, 255, 255, ..., 248, 250, 255],\n",
              "        [255, 255, 255, ..., 245, 252, 255],\n",
              "        [ 68,  68,  68, ...,  68,  68,  68]], dtype=uint8),\n",
              " array([[111, 116, 121, ..., 244, 227, 236],\n",
              "        [248, 255, 255, ..., 250, 242, 255],\n",
              "        [255, 255, 255, ..., 255, 255, 255],\n",
              "        ...,\n",
              "        [231, 251, 255, ..., 173, 160, 166],\n",
              "        [238, 253, 250, ..., 179, 160, 161],\n",
              "        [ 68,  68,  68, ...,  68,  68,  68]], dtype=uint8),\n",
              " array([[130, 130, 130, ..., 255, 255, 255],\n",
              "        [255, 255, 255, ..., 255, 255, 255],\n",
              "        [255, 255, 255, ..., 255, 255, 255],\n",
              "        ...,\n",
              "        [255, 255, 255, ..., 252, 255, 255],\n",
              "        [255, 255, 255, ..., 255, 255, 255],\n",
              "        [ 68,  68,  68, ...,  68,  68,  68]], dtype=uint8),\n",
              " array([[130, 130, 130, ..., 255, 255, 255],\n",
              "        [255, 255, 255, ..., 255, 255, 255],\n",
              "        [255, 255, 255, ..., 255, 255, 255],\n",
              "        ...,\n",
              "        [255, 255, 255, ..., 255, 237, 229],\n",
              "        [255, 255, 255, ..., 255, 230, 215],\n",
              "        [ 68,  68,  68, ...,  68,  68,  68]], dtype=uint8),\n",
              " array([[122, 118, 118, ..., 255, 255, 255],\n",
              "        [255, 255, 255, ..., 255, 255, 255],\n",
              "        [255, 255, 251, ..., 255, 255, 255],\n",
              "        ...,\n",
              "        [100, 108, 114, ..., 255, 255, 255],\n",
              "        [104, 112, 114, ..., 255, 255, 255],\n",
              "        [ 68,  68,  68, ...,  68,  68,  68]], dtype=uint8),\n",
              " array([[114, 121, 124, ..., 255, 238, 245],\n",
              "        [255, 255, 255, ..., 255, 250, 255],\n",
              "        [255, 255, 255, ..., 255, 255, 255],\n",
              "        ...,\n",
              "        [250, 255, 255, ..., 176, 163, 171],\n",
              "        [250, 255, 255, ..., 185, 164, 165],\n",
              "        [ 68,  68,  68, ...,  68,  68,  68]], dtype=uint8),\n",
              " array([[130, 130, 130, ..., 255, 255, 255],\n",
              "        [255, 255, 255, ..., 255, 255, 255],\n",
              "        [255, 255, 255, ..., 255, 255, 255],\n",
              "        ...,\n",
              "        [255, 255, 255, ..., 243, 255, 255],\n",
              "        [255, 255, 255, ..., 237, 241, 255],\n",
              "        [ 68,  68,  68, ...,  68,  68,  68]], dtype=uint8),\n",
              " array([[130, 130, 130, ..., 255, 255, 255],\n",
              "        [255, 255, 255, ..., 255, 255, 255],\n",
              "        [255, 255, 255, ..., 255, 255, 255],\n",
              "        ...,\n",
              "        [255, 255, 255, ..., 255, 255, 255],\n",
              "        [255, 255, 255, ..., 255, 255, 255],\n",
              "        [ 68,  68,  68, ...,  68,  68,  68]], dtype=uint8),\n",
              " array([[130, 130, 130, ..., 255, 255, 255],\n",
              "        [255, 255, 255, ..., 255, 255, 255],\n",
              "        [255, 255, 255, ..., 255, 255, 255],\n",
              "        ...,\n",
              "        [255, 255, 255, ..., 255, 255, 255],\n",
              "        [255, 255, 255, ..., 255, 255, 255],\n",
              "        [ 68,  68,  68, ...,  68,  68,  68]], dtype=uint8),\n",
              " array([[130, 130, 130, ..., 255, 255, 255],\n",
              "        [255, 255, 255, ..., 255, 255, 255],\n",
              "        [255, 255, 255, ..., 255, 255, 255],\n",
              "        ...,\n",
              "        [255, 255, 255, ..., 255, 255, 255],\n",
              "        [255, 255, 255, ..., 255, 255, 255],\n",
              "        [ 68,  68,  68, ...,  68,  68,  68]], dtype=uint8),\n",
              " array([[130, 130, 130, ..., 255, 255, 255],\n",
              "        [255, 255, 255, ..., 255, 255, 255],\n",
              "        [255, 255, 255, ..., 255, 243, 244],\n",
              "        ...,\n",
              "        [255, 255, 255, ..., 255, 255, 255],\n",
              "        [255, 255, 255, ..., 255, 255, 255],\n",
              "        [ 68,  68,  68, ...,  68,  68,  68]], dtype=uint8),\n",
              " array([[130, 130, 130, ..., 255, 255, 255],\n",
              "        [255, 255, 255, ..., 255, 255, 255],\n",
              "        [255, 255, 255, ..., 255, 255, 255],\n",
              "        ...,\n",
              "        [255, 255, 255, ..., 255, 255, 255],\n",
              "        [255, 255, 255, ..., 255, 255, 255],\n",
              "        [ 68,  68,  68, ...,  68,  68,  68]], dtype=uint8),\n",
              " array([[130, 130, 130, ..., 255, 255, 255],\n",
              "        [255, 255, 255, ..., 255, 255, 255],\n",
              "        [255, 255, 255, ..., 255, 255, 255],\n",
              "        ...,\n",
              "        [255, 255, 255, ..., 255, 255, 255],\n",
              "        [255, 255, 255, ..., 255, 255, 255],\n",
              "        [ 68,  68,  68, ...,  68,  68,  68]], dtype=uint8),\n",
              " array([[130, 128, 108, ..., 253, 244, 255],\n",
              "        [255, 255, 220, ..., 249, 243, 255],\n",
              "        [246, 223, 232, ..., 252, 241, 255],\n",
              "        ...,\n",
              "        [249, 246, 255, ..., 160, 161, 163],\n",
              "        [255, 252, 255, ..., 154, 159, 163],\n",
              "        [ 68,  68,  68, ...,  68,  68,  68]], dtype=uint8),\n",
              " array([[130, 130, 130, ..., 255, 255, 255],\n",
              "        [255, 255, 255, ..., 255, 255, 255],\n",
              "        [255, 255, 255, ..., 255, 255, 255],\n",
              "        ...,\n",
              "        [255, 255, 255, ..., 253, 255, 255],\n",
              "        [255, 255, 255, ..., 255, 255, 255],\n",
              "        [ 68,  68,  68, ...,  68,  68,  68]], dtype=uint8),\n",
              " array([[130, 130, 130, ..., 255, 255, 255],\n",
              "        [255, 255, 255, ..., 255, 255, 255],\n",
              "        [255, 255, 255, ..., 255, 255, 255],\n",
              "        ...,\n",
              "        [255, 255, 255, ..., 248, 250, 255],\n",
              "        [255, 255, 255, ..., 246, 253, 255],\n",
              "        [ 68,  68,  68, ...,  68,  68,  68]], dtype=uint8),\n",
              " array([[130, 130, 130, ..., 255, 255, 255],\n",
              "        [255, 255, 255, ..., 255, 255, 255],\n",
              "        [255, 255, 255, ..., 255, 255, 255],\n",
              "        ...,\n",
              "        [255, 255, 255, ..., 255, 255, 255],\n",
              "        [255, 255, 255, ..., 255, 255, 255],\n",
              "        [ 68,  68,  68, ...,  68,  68,  68]], dtype=uint8),\n",
              " array([[130, 130, 130, ..., 255, 255, 255],\n",
              "        [255, 255, 255, ..., 255, 255, 255],\n",
              "        [255, 255, 255, ..., 255, 255, 255],\n",
              "        ...,\n",
              "        [255, 255, 255, ..., 251, 255, 255],\n",
              "        [255, 255, 255, ..., 225, 236, 244],\n",
              "        [ 68,  68,  68, ...,  68,  68,  68]], dtype=uint8),\n",
              " array([[130, 130, 130, ..., 255, 255, 255],\n",
              "        [255, 255, 255, ..., 255, 255, 255],\n",
              "        [255, 255, 255, ..., 255, 255, 255],\n",
              "        ...,\n",
              "        [255, 255, 255, ..., 218, 214, 237],\n",
              "        [255, 255, 255, ..., 214, 215, 253],\n",
              "        [ 68,  68,  68, ...,  68,  68,  68]], dtype=uint8)]"
            ]
          },
          "metadata": {},
          "execution_count": 14
        }
      ]
    },
    {
      "cell_type": "code",
      "source": [
        "faces[0], faces[0].shape # ver os pixels somente da primeira img"
      ],
      "metadata": {
        "colab": {
          "base_uri": "https://localhost:8080/"
        },
        "id": "gpdLzah7W46U",
        "outputId": "d477ab61-704f-4777-bfaa-155ff23e6202"
      },
      "execution_count": 15,
      "outputs": [
        {
          "output_type": "execute_result",
          "data": {
            "text/plain": [
              "(array([[130, 130, 130, ..., 255, 255, 255],\n",
              "        [255, 255, 255, ..., 255, 255, 255],\n",
              "        [255, 255, 255, ..., 255, 255, 255],\n",
              "        ...,\n",
              "        [255, 255, 255, ..., 245, 255, 255],\n",
              "        [255, 255, 255, ..., 239, 242, 255],\n",
              "        [ 68,  68,  68, ...,  68,  68,  68]], dtype=uint8),\n",
              " (243, 320))"
            ]
          },
          "metadata": {},
          "execution_count": 15
        }
      ]
    },
    {
      "cell_type": "code",
      "source": [
        "faces[0]"
      ],
      "metadata": {
        "colab": {
          "base_uri": "https://localhost:8080/",
          "height": 283
        },
        "id": "m8CWcF_hXVKa",
        "outputId": "b7abcf71-b6c7-44c1-f74a-4b4b069ceda9"
      },
      "execution_count": 17,
      "outputs": [
        {
          "output_type": "execute_result",
          "data": {
            "text/plain": [
              "array([[130, 130, 130, ..., 255, 255, 255],\n",
              "       [255, 255, 255, ..., 255, 255, 255],\n",
              "       [255, 255, 255, ..., 255, 255, 255],\n",
              "       ...,\n",
              "       [255, 255, 255, ..., 245, 255, 255],\n",
              "       [255, 255, 255, ..., 239, 242, 255],\n",
              "       [ 68,  68,  68, ...,  68,  68,  68]], dtype=uint8)"
            ],
            "text/html": [
              "<style>\n",
              "      .ndarray_repr .ndarray_raw_data {\n",
              "        display: none;\n",
              "      }\n",
              "      .ndarray_repr.show_array .ndarray_raw_data {\n",
              "        display: block;\n",
              "      }\n",
              "      .ndarray_repr.show_array .ndarray_image_preview {\n",
              "        display: none;\n",
              "      }\n",
              "      </style>\n",
              "      <div id=\"id-726efb1c-847a-4baf-bda1-1bf91283f710\" class=\"ndarray_repr\"><pre>ndarray (243, 320) <button style=\"padding: 0 2px;\">show data</button></pre><img src=\"data:image/png;base64,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\" class=\"ndarray_image_preview\" /><pre class=\"ndarray_raw_data\">array([[130, 130, 130, ..., 255, 255, 255],\n",
              "       [255, 255, 255, ..., 255, 255, 255],\n",
              "       [255, 255, 255, ..., 255, 255, 255],\n",
              "       ...,\n",
              "       [255, 255, 255, ..., 245, 255, 255],\n",
              "       [255, 255, 255, ..., 239, 242, 255],\n",
              "       [ 68,  68,  68, ...,  68,  68,  68]], dtype=uint8)</pre></div><script>\n",
              "      (() => {\n",
              "      const titles = ['show data', 'hide data'];\n",
              "      let index = 0\n",
              "      document.querySelector('#id-726efb1c-847a-4baf-bda1-1bf91283f710 button').onclick = (e) => {\n",
              "        document.querySelector('#id-726efb1c-847a-4baf-bda1-1bf91283f710').classList.toggle('show_array');\n",
              "        index = (++index) % 2;\n",
              "        document.querySelector('#id-726efb1c-847a-4baf-bda1-1bf91283f710 button').textContent = titles[index];\n",
              "        e.preventDefault();\n",
              "        e.stopPropagation();\n",
              "      }\n",
              "      })();\n",
              "    </script>"
            ]
          },
          "metadata": {},
          "execution_count": 17
        }
      ]
    },
    {
      "cell_type": "code",
      "source": [
        "# ver qtdade de pixels, porque a img eh tom de cinza se fosse RGP seria x3\n",
        "243 * 320"
      ],
      "metadata": {
        "colab": {
          "base_uri": "https://localhost:8080/"
        },
        "id": "FlMmMBLuXpzg",
        "outputId": "e7574216-46d5-4eb0-c9d2-be7ac31f76ff"
      },
      "execution_count": 18,
      "outputs": [
        {
          "output_type": "execute_result",
          "data": {
            "text/plain": [
              "77760"
            ]
          },
          "metadata": {},
          "execution_count": 18
        }
      ]
    },
    {
      "cell_type": "code",
      "source": [
        "ids[0]"
      ],
      "metadata": {
        "colab": {
          "base_uri": "https://localhost:8080/"
        },
        "id": "UfvQtHbG5xcP",
        "outputId": "2c79cf0c-b4da-4cb1-fd14-529ba51b6da6"
      },
      "execution_count": 19,
      "outputs": [
        {
          "output_type": "execute_result",
          "data": {
            "text/plain": [
              "np.int64(10)"
            ]
          },
          "metadata": {},
          "execution_count": 19
        }
      ]
    },
    {
      "cell_type": "code",
      "source": [
        "#  se a img fosse RGB colorida, respo de valores em cada uma das imgs\n",
        "243 * 320, 243 * 320 * 3"
      ],
      "metadata": {
        "colab": {
          "base_uri": "https://localhost:8080/"
        },
        "id": "q8TNrCxvX9IE",
        "outputId": "e9873d2e-f593-40c5-b1ef-d3cff9e06173"
      },
      "execution_count": 20,
      "outputs": [
        {
          "output_type": "execute_result",
          "data": {
            "text/plain": [
              "(77760, 233280)"
            ]
          },
          "metadata": {},
          "execution_count": 20
        }
      ]
    },
    {
      "cell_type": "markdown",
      "source": [],
      "metadata": {
        "id": "ICZBp0KT4iIB"
      }
    },
    {
      "cell_type": "markdown",
      "source": [
        "# Treinamento do classificador LBPH"
      ],
      "metadata": {
        "id": "Ya-NAR_a4j19"
      }
    },
    {
      "cell_type": "code",
      "source": [
        "# o open_cv ja tem implementado esse algoritmo\n",
        "\n",
        "# usando as imgs de treinamento para o algoritmo aprender os istogramas, depois usar as imgs de teste para medir o desenpenho\n",
        "lbph_classifer = cv2.face.LBPHFaceRecognizer_create()   # variavel\n",
        "lbph_classifer.train(faces, ids) # treina o classificador . Faces os pixel e ids a pessoa ex 10 umero\n",
        "lbph_classifer.write('lbph_classifier.yml') # gerar o codigo para o treinamento"
      ],
      "metadata": {
        "id": "YE1TqjnD4oeh"
      },
      "execution_count": 21,
      "outputs": []
    },
    {
      "cell_type": "markdown",
      "source": [
        "# Reconhecimento de faces"
      ],
      "metadata": {
        "id": "2fcXjzji7bPx"
      }
    },
    {
      "cell_type": "code",
      "source": [
        "lbph_face_classifer = cv2.face.LBPHFaceRecognizer_create()   # variavel# cria o obj dessa classe para carregar o arquivo (agora que o file yml esta no proj)\n",
        "lbph_face_classifer.read('/content/lbph_classifier.yml') # carregar o arquivo, executa o codigo\n"
      ],
      "metadata": {
        "id": "qmNzQwZW7qFV"
      },
      "execution_count": 22,
      "outputs": []
    },
    {
      "cell_type": "markdown",
      "source": [],
      "metadata": {
        "id": "5aywwSy37jNX"
      }
    },
    {
      "cell_type": "code",
      "source": [
        "imagem_teste = '/content/yalefaces/test/subject10.sad.gif' # variavel que armazena o caminho"
      ],
      "metadata": {
        "id": "7ac_EWNT88sT"
      },
      "execution_count": 23,
      "outputs": []
    },
    {
      "cell_type": "code",
      "source": [
        "imagem = Image.open(imagem_teste).convert('L') # abre a img, converte para escala de cinza, fazer a leitura\n",
        "imagem_np = np.array(imagem, 'uint8') # converte a imagem\n",
        "imagem_np"
      ],
      "metadata": {
        "colab": {
          "base_uri": "https://localhost:8080/",
          "height": 283
        },
        "id": "Dy5U5jRU9F3g",
        "outputId": "84b31d85-ac1f-4a6a-eba0-4c3ff63c2d88"
      },
      "execution_count": 24,
      "outputs": [
        {
          "output_type": "execute_result",
          "data": {
            "text/plain": [
              "array([[130, 130, 130, ..., 255, 255, 255],\n",
              "       [255, 255, 255, ..., 255, 255, 255],\n",
              "       [255, 255, 255, ..., 255, 255, 255],\n",
              "       ...,\n",
              "       [255, 255, 255, ..., 241, 255, 255],\n",
              "       [255, 255, 255, ..., 234, 237, 252],\n",
              "       [ 68,  68,  68, ...,  68,  68,  68]], dtype=uint8)"
            ],
            "text/html": [
              "<style>\n",
              "      .ndarray_repr .ndarray_raw_data {\n",
              "        display: none;\n",
              "      }\n",
              "      .ndarray_repr.show_array .ndarray_raw_data {\n",
              "        display: block;\n",
              "      }\n",
              "      .ndarray_repr.show_array .ndarray_image_preview {\n",
              "        display: none;\n",
              "      }\n",
              "      </style>\n",
              "      <div id=\"id-3d9c751b-e387-4ff9-9ec1-8f5cd295729f\" class=\"ndarray_repr\"><pre>ndarray (243, 320) <button style=\"padding: 0 2px;\">show data</button></pre><img src=\"data:image/png;base64,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\" class=\"ndarray_image_preview\" /><pre class=\"ndarray_raw_data\">array([[130, 130, 130, ..., 255, 255, 255],\n",
              "       [255, 255, 255, ..., 255, 255, 255],\n",
              "       [255, 255, 255, ..., 255, 255, 255],\n",
              "       ...,\n",
              "       [255, 255, 255, ..., 241, 255, 255],\n",
              "       [255, 255, 255, ..., 234, 237, 252],\n",
              "       [ 68,  68,  68, ...,  68,  68,  68]], dtype=uint8)</pre></div><script>\n",
              "      (() => {\n",
              "      const titles = ['show data', 'hide data'];\n",
              "      let index = 0\n",
              "      document.querySelector('#id-3d9c751b-e387-4ff9-9ec1-8f5cd295729f button').onclick = (e) => {\n",
              "        document.querySelector('#id-3d9c751b-e387-4ff9-9ec1-8f5cd295729f').classList.toggle('show_array');\n",
              "        index = (++index) % 2;\n",
              "        document.querySelector('#id-3d9c751b-e387-4ff9-9ec1-8f5cd295729f button').textContent = titles[index];\n",
              "        e.preventDefault();\n",
              "        e.stopPropagation();\n",
              "      }\n",
              "      })();\n",
              "    </script>"
            ]
          },
          "metadata": {},
          "execution_count": 24
        }
      ]
    },
    {
      "cell_type": "code",
      "source": [
        "imagem_np.shape # img possui (243, 320) pixels"
      ],
      "metadata": {
        "colab": {
          "base_uri": "https://localhost:8080/"
        },
        "id": "-UuraT4P9a1a",
        "outputId": "b4fc9f1c-369a-4bad-9d28-b848d5f40b96"
      },
      "execution_count": 25,
      "outputs": [
        {
          "output_type": "execute_result",
          "data": {
            "text/plain": [
              "(243, 320)"
            ]
          },
          "metadata": {},
          "execution_count": 25
        }
      ]
    },
    {
      "cell_type": "code",
      "source": [
        "# previsao\n",
        "previsao = lbph_face_classifer.predict(imagem_np)\n",
        "previsao # 1 valor eh a classe a img foi classificada como num 10, e o 2 a confianca da deteccao 6.38"
      ],
      "metadata": {
        "colab": {
          "base_uri": "https://localhost:8080/"
        },
        "id": "nspMismO9mdz",
        "outputId": "589eb27c-87e8-4a2e-d669-d60c29d6e660"
      },
      "execution_count": 26,
      "outputs": [
        {
          "output_type": "execute_result",
          "data": {
            "text/plain": [
              "(10, 6.384336446373091)"
            ]
          },
          "metadata": {},
          "execution_count": 26
        }
      ]
    },
    {
      "cell_type": "code",
      "source": [
        "# para estrair somente a classe\n",
        "previsao[0]"
      ],
      "metadata": {
        "colab": {
          "base_uri": "https://localhost:8080/"
        },
        "id": "kSlJ0-ws98ul",
        "outputId": "a0abdfa7-2288-4fb8-e2f0-cba9a3828915"
      },
      "execution_count": 27,
      "outputs": [
        {
          "output_type": "execute_result",
          "data": {
            "text/plain": [
              "10"
            ]
          },
          "metadata": {},
          "execution_count": 27
        }
      ]
    },
    {
      "cell_type": "code",
      "source": [
        "# fazer um comparativo com a img 10, extrair o resuldado para comparar os resultados\n",
        "saida_esperada = int(os.path.split(imagem_teste)[1].split('.')[0].replace('subject',''))\n",
        "saida_esperada # codigo interessante qdo trab todas as imgs da base de dados"
      ],
      "metadata": {
        "colab": {
          "base_uri": "https://localhost:8080/"
        },
        "id": "ZNBzAdkI-TTp",
        "outputId": "93b7ce25-7c54-487d-9007-e1a801218081"
      },
      "execution_count": 28,
      "outputs": [
        {
          "output_type": "execute_result",
          "data": {
            "text/plain": [
              "10"
            ]
          },
          "metadata": {},
          "execution_count": 28
        }
      ]
    },
    {
      "cell_type": "code",
      "source": [
        "# escrever o resultado na imagem,  #  (10, 20) eh o posicionamento, tamanho da font e a cor 0.5, (255, 255, 0)\n",
        "cv2.putText(imagem_np, 'Pred: ' + str(previsao[0]), (10, 30), cv2.FONT_HERSHEY_SIMPLEX, 0.5, (0, 255, 0))\n",
        "cv2.putText(imagem_np, 'Exp: ' + str(saida_esperada), (10, 50), cv2.FONT_HERSHEY_SIMPLEX, 0.5, (0, 255, 0))\n",
        "cv2_imshow(imagem_np)"
      ],
      "metadata": {
        "colab": {
          "base_uri": "https://localhost:8080/",
          "height": 260
        },
        "id": "i8sMEXmQTiFO",
        "outputId": "950dda97-c004-4932-954f-a9a8ac5277c9"
      },
      "execution_count": 29,
      "outputs": [
        {
          "output_type": "display_data",
          "data": {
            "text/plain": [
              "<PIL.Image.Image image mode=L size=320x243>"
            ],
            "image/png": "[encoded data removed]",
            "image/jpeg": "[encoded data removed]"
          },
          "metadata": {}
        }
      ]
    },
    {
      "cell_type": "code",
      "source": [
        "# estrutura de repeticao para percorrer cada img da base de dados e fazer a classificacao\n",
        "# vamos comparar a classe com a previsao\n",
        "# no final avaliar o percentual de acerto\n",
        "\n",
        "# variavel paths formato de lista\n",
        "paths = [os.path.join('/content/yalefaces/test', f) for f in os.listdir('/content/yalefaces/test')]\n",
        "\n",
        "# novas variaveis\n",
        "previsoes = [] # lista vazia # todas as previsoes\n",
        "saidas_esperadas = [] # lista vazia # saidas esperadas, busca o nome do arquivo\n",
        "for path in paths: # percorrer cada img de test\n",
        "  # print(path)\n",
        "  imagem = Image.open(path).convert('L') # leitura da img, abre a img, converte para escala de cinza, fazer a leitura\n",
        "  imagem_np = np.array(imagem, 'uint8') # converte a imagem, muda a img para inteiro\n",
        "  previsao, _ = lbph_face_classifer.predict(imagem_np) # previsao da img, _ nao retorna o segundo parametro, formato imagem_np\n",
        "  #print(previsao) # acompanhar  o resultado parcial, percorre todas as imgs e tem as previsoes que o algoritmo fez para cada img\n",
        "  # previsoes.append(previsao) # adiciona a previsao\n",
        "\n",
        "  # busca a saida esperada\n",
        "  saida_esperada = int(os.path.split(path)[1].split('.')[0].replace('subject',''))\n",
        "  # saidas_esperadas.append(saida_esperada)\n",
        "  # previsoes.append(previsao)\n",
        "  # print(saida_esperada)\n",
        "\n",
        "  # adicionar os resultados na lista\n",
        "  previsoes.append(previsao)\n",
        "  saidas_esperadas.append(saida_esperada)"
      ],
      "metadata": {
        "id": "4eCHqLrqS2jR"
      },
      "execution_count": 30,
      "outputs": []
    },
    {
      "cell_type": "code",
      "source": [
        "# visualizar o tipo\n",
        "type(previsoes), type(saidas_esperadas) # ambas sao lista"
      ],
      "metadata": {
        "colab": {
          "base_uri": "https://localhost:8080/"
        },
        "id": "yf30M443ZntE",
        "outputId": "8fed762f-c36f-4e9d-f44f-ad1c95d17bd2"
      },
      "execution_count": 31,
      "outputs": [
        {
          "output_type": "execute_result",
          "data": {
            "text/plain": [
              "(list, list)"
            ]
          },
          "metadata": {},
          "execution_count": 31
        }
      ]
    },
    {
      "cell_type": "code",
      "source": [
        "# converter para o formato num_py, recriar as variaveis\n",
        "previsoes = np.array(previsoes)\n",
        "saidas_esperadas = np.array(saidas_esperadas)\n"
      ],
      "metadata": {
        "id": "jWSKnPHpbAmw"
      },
      "execution_count": 32,
      "outputs": []
    },
    {
      "cell_type": "code",
      "source": [
        "# verificar elas no formato num_py\n",
        "type(previsoes), type(saidas_esperadas)"
      ],
      "metadata": {
        "colab": {
          "base_uri": "https://localhost:8080/"
        },
        "id": "7SLzJD5PbPr-",
        "outputId": "7221f4f8-9de3-42c1-bf0a-42c536ff39f4"
      },
      "execution_count": 33,
      "outputs": [
        {
          "output_type": "execute_result",
          "data": {
            "text/plain": [
              "(numpy.ndarray, numpy.ndarray)"
            ]
          },
          "metadata": {},
          "execution_count": 33
        }
      ]
    },
    {
      "cell_type": "code",
      "source": [
        "# visualizar o conteudo de cada uma delas\n",
        "# nessa variavel ver a lista de previsoes\n",
        "previsoes"
      ],
      "metadata": {
        "colab": {
          "base_uri": "https://localhost:8080/"
        },
        "id": "mzGe5yUXbVfR",
        "outputId": "37d7a516-5598-4a00-c5e6-6d3965f5cb4b"
      },
      "execution_count": 34,
      "outputs": [
        {
          "output_type": "execute_result",
          "data": {
            "text/plain": [
              "array([14,  7, 12,  1,  9,  8,  9, 10, 13, 11,  7, 14, 13, 12,  9,  3, 15,\n",
              "        7, 14,  9,  5,  1,  5,  6,  4,  4,  4, 11,  4,  5])"
            ]
          },
          "metadata": {},
          "execution_count": 34
        }
      ]
    },
    {
      "cell_type": "code",
      "source": [
        "# nessa variavel temos a saidas esperadas\n",
        "saidas_esperadas"
      ],
      "metadata": {
        "colab": {
          "base_uri": "https://localhost:8080/"
        },
        "id": "pJJ_R-OHbf8d",
        "outputId": "b7dce219-e0ad-4971-d20d-73c5d83e19ea"
      },
      "execution_count": 35,
      "outputs": [
        {
          "output_type": "execute_result",
          "data": {
            "text/plain": [
              "array([14,  7, 12,  1,  3,  8,  4, 10, 13, 11, 15,  6, 13, 12,  7,  3, 15,\n",
              "        9, 14,  9,  2,  1,  5,  6, 10,  2,  8, 11,  4,  5])"
            ]
          },
          "metadata": {},
          "execution_count": 35
        }
      ]
    },
    {
      "cell_type": "code",
      "source": [
        "# fazer o comparativo de todas essas classes\n",
        "# uso da lib sklearn => uma lib do PY de aprendizado\n",
        "# usamos essa lib para fazer o calculo\n",
        "from sklearn.metrics import accuracy_score\n",
        "accuracy_score(saidas_esperadas, previsoes) # comparar as saidas esperadas com as previsoes\n"
      ],
      "metadata": {
        "colab": {
          "base_uri": "https://localhost:8080/"
        },
        "id": "97Ku9z_rb0-x",
        "outputId": "80f4f699-854f-41f2-bb1f-08da4dc73243"
      },
      "execution_count": 36,
      "outputs": [
        {
          "output_type": "execute_result",
          "data": {
            "text/plain": [
              "0.6666666666666666"
            ]
          },
          "metadata": {},
          "execution_count": 36
        }
      ]
    },
    {
      "cell_type": "code",
      "source": [
        "# ver qtas imgs tem, temos 30 imgs, e das 30 imgs acertamos 66% delas\n",
        "len(previsoes)"
      ],
      "metadata": {
        "colab": {
          "base_uri": "https://localhost:8080/"
        },
        "id": "V-lgoLm0ctp7",
        "outputId": "7ac9c046-ae3f-41f0-e40a-dcdb2ea57040"
      },
      "execution_count": 37,
      "outputs": [
        {
          "output_type": "execute_result",
          "data": {
            "text/plain": [
              "30"
            ]
          },
          "metadata": {},
          "execution_count": 37
        }
      ]
    },
    {
      "cell_type": "code",
      "source": [
        "# calculo para ver qtas imgs acertamos , de 30 imgs foram 18 acertos\n",
        "(30 * 60) / 100"
      ],
      "metadata": {
        "colab": {
          "base_uri": "https://localhost:8080/"
        },
        "id": "X_JBq5GLc7Oo",
        "outputId": "642733b0-4e0e-47f5-b54d-fd0bea482690"
      },
      "execution_count": 38,
      "outputs": [
        {
          "output_type": "execute_result",
          "data": {
            "text/plain": [
              "18.0"
            ]
          },
          "metadata": {},
          "execution_count": 38
        }
      ]
    },
    {
      "cell_type": "code",
      "source": [
        "# gerar uma matriz de confusao para ver resultados\n",
        "from sklearn.metrics import confusion_matrix\n",
        "cm = confusion_matrix(saidas_esperadas, previsoes)\n",
        "cm\n",
        "# vai indicar os acertos, considerando cada uma das classes"
      ],
      "metadata": {
        "colab": {
          "base_uri": "https://localhost:8080/"
        },
        "id": "nU6wbpIEg3h3",
        "outputId": "4d1dd7c6-d930-4896-afef-a2cbf393e5d0"
      },
      "execution_count": 39,
      "outputs": [
        {
          "output_type": "execute_result",
          "data": {
            "text/plain": [
              "array([[2, 0, 0, 0, 0, 0, 0, 0, 0, 0, 0, 0, 0, 0, 0],\n",
              "       [0, 0, 0, 1, 1, 0, 0, 0, 0, 0, 0, 0, 0, 0, 0],\n",
              "       [0, 0, 1, 0, 0, 0, 0, 0, 1, 0, 0, 0, 0, 0, 0],\n",
              "       [0, 0, 0, 1, 0, 0, 0, 0, 1, 0, 0, 0, 0, 0, 0],\n",
              "       [0, 0, 0, 0, 2, 0, 0, 0, 0, 0, 0, 0, 0, 0, 0],\n",
              "       [0, 0, 0, 0, 0, 1, 0, 0, 0, 0, 0, 0, 0, 1, 0],\n",
              "       [0, 0, 0, 0, 0, 0, 1, 0, 1, 0, 0, 0, 0, 0, 0],\n",
              "       [0, 0, 0, 1, 0, 0, 0, 1, 0, 0, 0, 0, 0, 0, 0],\n",
              "       [0, 0, 0, 0, 0, 0, 1, 0, 1, 0, 0, 0, 0, 0, 0],\n",
              "       [0, 0, 0, 1, 0, 0, 0, 0, 0, 1, 0, 0, 0, 0, 0],\n",
              "       [0, 0, 0, 0, 0, 0, 0, 0, 0, 0, 2, 0, 0, 0, 0],\n",
              "       [0, 0, 0, 0, 0, 0, 0, 0, 0, 0, 0, 2, 0, 0, 0],\n",
              "       [0, 0, 0, 0, 0, 0, 0, 0, 0, 0, 0, 0, 2, 0, 0],\n",
              "       [0, 0, 0, 0, 0, 0, 0, 0, 0, 0, 0, 0, 0, 2, 0],\n",
              "       [0, 0, 0, 0, 0, 0, 1, 0, 0, 0, 0, 0, 0, 0, 1]])"
            ]
          },
          "metadata": {},
          "execution_count": 39
        }
      ]
    },
    {
      "cell_type": "code",
      "source": [
        "# visualizacao de graficos\n",
        "import seaborn as sns\n",
        "sns.heatmap(cm, annot=True); # mapa de calor, annot=Tru mostra os valores\n",
        "# se colocar ; no final ele tirar as escritas por fora do grafico"
      ],
      "metadata": {
        "colab": {
          "base_uri": "https://localhost:8080/",
          "height": 435
        },
        "id": "mKi0nYI5hhxY",
        "outputId": "ffbfea2c-ca37-42c6-f9e1-f96c0a746a15"
      },
      "execution_count": 40,
      "outputs": [
        {
          "output_type": "display_data",
          "data": {
            "text/plain": [
              "<Figure size 640x480 with 2 Axes>"
            ],
            "image/png": "[encoded data removed]"
          },
          "metadata": {}
        }
      ]
    },
    {
      "cell_type": "code",
      "source": [
        "# somando a diagonal da matriza da o valor 18, numero de imgs que foram classificadas corretamente"
      ],
      "metadata": {
        "id": "Alk5dinEiU6X"
      },
      "execution_count": 41,
      "outputs": []
    },
    {
      "cell_type": "code",
      "source": [
        "8 * 8 # valor do histograma , #   grid_x: 8 #   grid_y: 8"
      ],
      "metadata": {
        "colab": {
          "base_uri": "https://localhost:8080/"
        },
        "id": "kczkh13F1SUP",
        "outputId": "baf7fb9e-2f54-418e-dea8-3d2927953642"
      },
      "execution_count": 42,
      "outputs": [
        {
          "output_type": "execute_result",
          "data": {
            "text/plain": [
              "64"
            ]
          },
          "metadata": {},
          "execution_count": 42
        }
      ]
    },
    {
      "cell_type": "code",
      "source": [
        "8 * 8, 9 * 9 # valor de histograma, 81 histogramas sao gerados"
      ],
      "metadata": {
        "colab": {
          "base_uri": "https://localhost:8080/"
        },
        "id": "ks-IdVnu6SZx",
        "outputId": "19c95dec-e7aa-494a-a7d8-b8da318e4a11"
      },
      "execution_count": 43,
      "outputs": [
        {
          "output_type": "execute_result",
          "data": {
            "text/plain": [
              "(64, 81)"
            ]
          },
          "metadata": {},
          "execution_count": 43
        }
      ]
    },
    {
      "cell_type": "code",
      "source": [
        "8 * 8, 10 * 10 # valor de histograma, 100 histogramas sao gerados"
      ],
      "metadata": {
        "colab": {
          "base_uri": "https://localhost:8080/"
        },
        "id": "Qz7WD2CD7td7",
        "outputId": "020191a8-0db1-4eac-a3c6-98dfd6318994"
      },
      "execution_count": 44,
      "outputs": [
        {
          "output_type": "execute_result",
          "data": {
            "text/plain": [
              "(64, 100)"
            ]
          },
          "metadata": {},
          "execution_count": 44
        }
      ]
    },
    {
      "cell_type": "markdown",
      "source": [
        "# LBPH - Local Binary Patterns Histograms"
      ],
      "metadata": {
        "id": "TCwBAGuWxL29"
      }
    },
    {
      "cell_type": "code",
      "source": [
        "# VAI GERAR UM NOVO ARQUIVO DE TREINAMENTO\n",
        "# parametros que o codigo vai usar do arquivo\n",
        "# lbph_classifier\n",
        "#  threshold: 1.7976931348623157e+308\n",
        "#   radius: 1 # raio de acesso aos pixels\n",
        "#   neighbors: 8\n",
        "#   grid_x: 8\n",
        "#   grid_y: 8\n",
        "\n",
        "# Testes para melhorar os resultados\n",
        "lbph_classifer = cv2.face.LBPHFaceRecognizer_create(radius=4, neighbors=14, grid_x=9, grid_y=9)\n",
        "# lbph_classifer = cv2.face.LBPHFaceRecognizer_create(radius=2, neighbors=5, grid_x=5, grid_y=5) # com esses valores o valor da analise nao mudou, piorou 60%\n",
        "# lbph_classifer = cv2.face.LBPHFaceRecognizer_create(radius=3, neighbors=12, grid_x=8, grid_y=8) # VALOR TAMBEM DE TREINAMENTO para reconhecimento bx 66%\n",
        "# lbph_classifer = cv2.face.LBPHFaceRecognizer_create(radius=4, neighbors=14, grid_x=9, grid_y=9) # VALOR TAMBEM DE TREINAMENTO para reconhecimento bx 70% recohecendo 21 imgs de 30\n",
        "# lbph_classifer = cv2.face.LBPHFaceRecognizer_create(threshold=1.7976931348623157e+308, radius=1, neighbors=8, grid_x=8, grid_y=8)\n",
        "lbph_classifer.train(faces, ids)\n",
        "lbph_classifer.write('lbph_classifier.yml') #  qto mais aumenta os valores de treinamento mais o arquivo aumenta o tamanho esta mais de 1G com esses valores de treinamento\n",
        "# e levou mais de 5 minut para gerar"
      ],
      "metadata": {
        "id": "X59xylgTzkoC"
      },
      "execution_count": 45,
      "outputs": []
    },
    {
      "cell_type": "code",
      "source": [
        "# gerar novamente a codigficacao pois com novo arquivo\n",
        "lbph_face_classifer = cv2.face.LBPHFaceRecognizer_create(radius=5, neighbors=16, grid_x=9, grid_y=9)\n",
        "lbph_face_classifer.read('/content/lbph_classifier.yml')\n"
      ],
      "metadata": {
        "id": "jtX0A7Pi20bU"
      },
      "execution_count": 46,
      "outputs": []
    },
    {
      "cell_type": "code",
      "source": [
        "imagem_teste = '/content/yalefaces/test/subject10.sad.gif' # variavel que armazena o caminho"
      ],
      "metadata": {
        "id": "kEmir0_63DDz"
      },
      "execution_count": 47,
      "outputs": []
    },
    {
      "cell_type": "code",
      "source": [
        "imgaem = Image.open(imagem_teste).convert('L') # abre a img, converte para escala de cinza, fazer a leitura\n",
        "imagem_np = np.array(imagem, 'uint8') # converte a imagem\n",
        "imagem_np"
      ],
      "metadata": {
        "colab": {
          "base_uri": "https://localhost:8080/",
          "height": 283
        },
        "id": "5ZRKPXoy3IUn",
        "outputId": "a2c1eacf-d11f-471a-e04d-f1484916002a"
      },
      "execution_count": 48,
      "outputs": [
        {
          "output_type": "execute_result",
          "data": {
            "text/plain": [
              "array([[119, 129, 130, ..., 255, 255, 255],\n",
              "       [252, 255, 255, ..., 255, 255, 255],\n",
              "       [255, 255, 255, ..., 255, 255, 255],\n",
              "       ...,\n",
              "       [255, 255, 255, ...,  91,  89,  93],\n",
              "       [255, 255, 255, ..., 102,  97, 102],\n",
              "       [ 68,  68,  68, ...,  68,  68,  68]], dtype=uint8)"
            ],
            "text/html": [
              "<style>\n",
              "      .ndarray_repr .ndarray_raw_data {\n",
              "        display: none;\n",
              "      }\n",
              "      .ndarray_repr.show_array .ndarray_raw_data {\n",
              "        display: block;\n",
              "      }\n",
              "      .ndarray_repr.show_array .ndarray_image_preview {\n",
              "        display: none;\n",
              "      }\n",
              "      </style>\n",
              "      <div id=\"id-925f6d55-0e07-4e80-9be1-2550b6c0082b\" class=\"ndarray_repr\"><pre>ndarray (243, 320) <button style=\"padding: 0 2px;\">show data</button></pre><img src=\"data:image/png;base64,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\" class=\"ndarray_image_preview\" /><pre class=\"ndarray_raw_data\">array([[119, 129, 130, ..., 255, 255, 255],\n",
              "       [252, 255, 255, ..., 255, 255, 255],\n",
              "       [255, 255, 255, ..., 255, 255, 255],\n",
              "       ...,\n",
              "       [255, 255, 255, ...,  91,  89,  93],\n",
              "       [255, 255, 255, ..., 102,  97, 102],\n",
              "       [ 68,  68,  68, ...,  68,  68,  68]], dtype=uint8)</pre></div><script>\n",
              "      (() => {\n",
              "      const titles = ['show data', 'hide data'];\n",
              "      let index = 0\n",
              "      document.querySelector('#id-925f6d55-0e07-4e80-9be1-2550b6c0082b button').onclick = (e) => {\n",
              "        document.querySelector('#id-925f6d55-0e07-4e80-9be1-2550b6c0082b').classList.toggle('show_array');\n",
              "        index = (++index) % 2;\n",
              "        document.querySelector('#id-925f6d55-0e07-4e80-9be1-2550b6c0082b button').textContent = titles[index];\n",
              "        e.preventDefault();\n",
              "        e.stopPropagation();\n",
              "      }\n",
              "      })();\n",
              "    </script>"
            ]
          },
          "metadata": {},
          "execution_count": 48
        }
      ]
    },
    {
      "cell_type": "code",
      "source": [
        "imagem_np.shape"
      ],
      "metadata": {
        "colab": {
          "base_uri": "https://localhost:8080/"
        },
        "id": "LEz6IT3O3WjU",
        "outputId": "9bc032c4-92f0-4dda-8b74-1770c4728cb6"
      },
      "execution_count": 49,
      "outputs": [
        {
          "output_type": "execute_result",
          "data": {
            "text/plain": [
              "(243, 320)"
            ]
          },
          "metadata": {},
          "execution_count": 49
        }
      ]
    },
    {
      "cell_type": "code",
      "source": [
        "previsao = lbph_face_classifer.predict(imagem_np)\n",
        "previsao"
      ],
      "metadata": {
        "colab": {
          "base_uri": "https://localhost:8080/"
        },
        "id": "x8Xoyxux3cOY",
        "outputId": "5d2f1724-306e-4f03-9217-aebf205a28fb"
      },
      "execution_count": 50,
      "outputs": [
        {
          "output_type": "execute_result",
          "data": {
            "text/plain": [
              "(5, 43.49027176386865)"
            ]
          },
          "metadata": {},
          "execution_count": 50
        }
      ]
    },
    {
      "cell_type": "code",
      "source": [
        "previsao[0]"
      ],
      "metadata": {
        "colab": {
          "base_uri": "https://localhost:8080/"
        },
        "id": "I6Lq9ZxI3mBl",
        "outputId": "cec0b573-6eb5-4a6e-b87e-65e7e0572e56"
      },
      "execution_count": 51,
      "outputs": [
        {
          "output_type": "execute_result",
          "data": {
            "text/plain": [
              "5"
            ]
          },
          "metadata": {},
          "execution_count": 51
        }
      ]
    },
    {
      "cell_type": "code",
      "source": [
        "cv2.putText(imagem_np, 'Pred: ' + str(previsao[0]), (10, 30), cv2.FONT_HERSHEY_SIMPLEX, 0.5, (0, 255, 0))\n",
        "cv2.putText(imagem_np, 'Exp: ' + str(saida_esperada), (10, 50), cv2.FONT_HERSHEY_SIMPLEX, 0.5, (0, 255, 0))\n",
        "cv2_imshow(imagem_np)"
      ],
      "metadata": {
        "colab": {
          "base_uri": "https://localhost:8080/",
          "height": 260
        },
        "id": "3DxxW0qo3oX4",
        "outputId": "fe85a09a-c4ee-4d08-fba3-d05e9904c0c1"
      },
      "execution_count": 52,
      "outputs": [
        {
          "output_type": "display_data",
          "data": {
            "text/plain": [
              "<PIL.Image.Image image mode=L size=320x243>"
            ],
            "image/png": "[encoded data removed]",
            "image/jpeg": "[encoded data removed]"
          },
          "metadata": {}
        }
      ]
    },
    {
      "cell_type": "code",
      "source": [
        "# percorrer as imgs de teste\n",
        "paths = [os.path.join('/content/yalefaces/test', f) for f in os.listdir('/content/yalefaces/test')]\n",
        "saidas_esperadas = []\n",
        "previsoes = []\n",
        "for path in paths:\n",
        "  # print(path)\n",
        "  imagem = Image.open(path).convert('L')\n",
        "  imagem_np = np.array(imagem, 'uint8')\n",
        "  previsao, _ = lbph_face_classifer.predict(imagem_np)\n",
        "  # print(previsao)\n",
        "  saida_esperada = int(os.path.split(path)[1].split('.')[0].replace('subject',''))\n",
        "  # print(saida_esperada)\n",
        "  previsoes.append(previsao)\n",
        "  saidas_esperadas.append(saida_esperada)\n",
        "\n"
      ],
      "metadata": {
        "id": "oQq_nxRk34Z8"
      },
      "execution_count": 53,
      "outputs": []
    },
    {
      "cell_type": "code",
      "source": [
        "type(previsoes), type(saidas_esperadas)"
      ],
      "metadata": {
        "colab": {
          "base_uri": "https://localhost:8080/"
        },
        "id": "XTOCBkmj4Wc6",
        "outputId": "15b7ad4b-4754-47d8-d666-2db0860c8c27"
      },
      "execution_count": 54,
      "outputs": [
        {
          "output_type": "execute_result",
          "data": {
            "text/plain": [
              "(list, list)"
            ]
          },
          "metadata": {},
          "execution_count": 54
        }
      ]
    },
    {
      "cell_type": "code",
      "source": [
        "previsoes = np.array(previsoes)\n",
        "saidas_esperadas = np.array(saidas_esperadas)"
      ],
      "metadata": {
        "id": "Q8PNTRMz4bRN"
      },
      "execution_count": 55,
      "outputs": []
    },
    {
      "cell_type": "code",
      "source": [
        "# converter o typo do arquivo\n",
        "type(previsoes), type(saidas_esperadas)"
      ],
      "metadata": {
        "colab": {
          "base_uri": "https://localhost:8080/"
        },
        "id": "nIPYjyF64eyZ",
        "outputId": "b2ee0fe2-694a-4bd2-cff8-93590b07bc83"
      },
      "execution_count": 56,
      "outputs": [
        {
          "output_type": "execute_result",
          "data": {
            "text/plain": [
              "(numpy.ndarray, numpy.ndarray)"
            ]
          },
          "metadata": {},
          "execution_count": 56
        }
      ]
    },
    {
      "cell_type": "code",
      "source": [
        "previsoes"
      ],
      "metadata": {
        "colab": {
          "base_uri": "https://localhost:8080/"
        },
        "id": "TDiyHhdi4oKW",
        "outputId": "be8d95e7-adf6-4416-8f2a-d3907ad45e06"
      },
      "execution_count": 57,
      "outputs": [
        {
          "output_type": "execute_result",
          "data": {
            "text/plain": [
              "array([14,  7, 12,  1,  3,  8,  4, 10, 13, 11,  7, 14, 13, 12,  9,  3, 15,\n",
              "        7, 14,  9, 12,  4,  5,  6,  4,  4,  4, 11,  4,  5])"
            ]
          },
          "metadata": {},
          "execution_count": 57
        }
      ]
    },
    {
      "cell_type": "code",
      "source": [
        "saidas_esperadas"
      ],
      "metadata": {
        "colab": {
          "base_uri": "https://localhost:8080/"
        },
        "id": "QcKxA-HV40Yj",
        "outputId": "f4ed5fea-bc25-4315-ab34-5269bda581e9"
      },
      "execution_count": 58,
      "outputs": [
        {
          "output_type": "execute_result",
          "data": {
            "text/plain": [
              "array([14,  7, 12,  1,  3,  8,  4, 10, 13, 11, 15,  6, 13, 12,  7,  3, 15,\n",
              "        9, 14,  9,  2,  1,  5,  6, 10,  2,  8, 11,  4,  5])"
            ]
          },
          "metadata": {},
          "execution_count": 58
        }
      ]
    },
    {
      "cell_type": "code",
      "source": [
        "from sklearn.metrics import accuracy_score\n",
        "accuracy_score(saidas_esperadas, previsoes)"
      ],
      "metadata": {
        "colab": {
          "base_uri": "https://localhost:8080/"
        },
        "id": "9IlKYpoR4q9P",
        "outputId": "539bf657-ee44-4ef4-93b9-8b527d595b41"
      },
      "execution_count": 59,
      "outputs": [
        {
          "output_type": "execute_result",
          "data": {
            "text/plain": [
              "0.7"
            ]
          },
          "metadata": {},
          "execution_count": 59
        }
      ]
    },
    {
      "cell_type": "code",
      "source": [
        "len(previsoes)"
      ],
      "metadata": {
        "colab": {
          "base_uri": "https://localhost:8080/"
        },
        "id": "RxD5vdv847US",
        "outputId": "38be76a9-3a1a-4e57-f4a1-d2eaa03e9ce5"
      },
      "execution_count": 60,
      "outputs": [
        {
          "output_type": "execute_result",
          "data": {
            "text/plain": [
              "30"
            ]
          },
          "metadata": {},
          "execution_count": 60
        }
      ]
    },
    {
      "cell_type": "code",
      "source": [],
      "metadata": {
        "id": "DooDFYVxvWrW"
      },
      "execution_count": 60,
      "outputs": []
    },
    {
      "cell_type": "markdown",
      "source": [
        "# Dlib"
      ],
      "metadata": {
        "id": "B2OCyXnVvNWA"
      }
    },
    {
      "cell_type": "code",
      "source": [
        "!pip uninstall dlib\n",
        "!sudo pip install -v --install-option=\"--no\" --install-option=\"DLIB_USE_CUDA\" dlib\n",
        "\n",
        "\n",
        "import dlib\n",
        "\n",
        "# Para mim fucinou:\n",
        "# Cuda 12.2y\n",
        "# Python 3.11\n",
        "# Visual Studio 2019\n",
        "# Dlib 19.24.99 (Foi preciso compilar manualmente)\n",
        "\n",
        "\n"
      ],
      "metadata": {
        "colab": {
          "base_uri": "https://localhost:8080/"
        },
        "id": "MFy04-BSvR9t",
        "outputId": "e42cacc0-d9d9-4ecc-fef4-c1d8253d6562"
      },
      "execution_count": 7,
      "outputs": [
        {
          "output_type": "stream",
          "name": "stdout",
          "text": [
            "Found existing installation: dlib 19.24.6\n",
            "Uninstalling dlib-19.24.6:\n",
            "  Would remove:\n",
            "    /usr/local/lib/python3.11/dist-packages/_dlib_pybind11.cpython-311-x86_64-linux-gnu.so\n",
            "    /usr/local/lib/python3.11/dist-packages/dlib-19.24.6.dist-info/*\n",
            "    /usr/local/lib/python3.11/dist-packages/dlib/*\n",
            "Proceed (Y/n)? \u001b[31mERROR: Operation cancelled by user\u001b[0m\u001b[31m\n",
            "\u001b[0m\n",
            "Usage:   \n",
            "  pip3 install [options] <requirement specifier> [package-index-options] ...\n",
            "  pip3 install [options] -r <requirements file> [package-index-options] ...\n",
            "  pip3 install [options] [-e] <vcs project url> ...\n",
            "  pip3 install [options] [-e] <local project path> ...\n",
            "  pip3 install [options] <archive url/path> ...\n",
            "\n",
            "no such option: --install-option\n"
          ]
        }
      ]
    },
    {
      "cell_type": "code",
      "source": [
        "# Deteccao de pontos faciais\n",
        "detector_face = dlib.get_frontal_face_detector()\n",
        "detector_pontos = dlib.shape_predictor('/content/drive/MyDrive/Visao Computacional Guia Completo/Weights/shape_predictor_68_face_landmarks.dat') # passa um arquivo treinado\n"
      ],
      "metadata": {
        "id": "wiP017hNvY4z"
      },
      "execution_count": 5,
      "outputs": []
    },
    {
      "cell_type": "code",
      "source": [
        "# detector de pontos\n",
        "imagem = cv2.imread('/content/drive/MyDrive/Visao Computacional Guia Completo/Images/people2.jpg') # ler\n",
        "deteccoes = detector_face(imagem, 1) # 1 eh a escala\n",
        "for face in deteccoes:\n",
        "  pontos = detector_pontos(imagem, face) # pontos da face, para cada face tera um ponto\n",
        "\n",
        "  # for para os pontos de cada img\n",
        "  for ponto in pontos.parts():\n",
        "    cv2.circle(imagem, (ponto.x, ponto.y), 2, (0,255,0), -1) # desenhar os pontos\n",
        "\n",
        "  #print(pontos.parts())\n",
        "  #print(len(pontos.parts())) # 68 pontos, de acordo com o arquivo que ja treinamos # detecta 68 pontos diferentes em cada face\n",
        "  # print(face)\n",
        "  l, t, r, b = face.left(), face.top(), face.right(), face.bottom() # pontos da face l, t, r, b\n",
        "  cv2.rectangle(imagem, (l, t), (r, b), (0,255,255), 2)  # desenhar o retangulo, l e t pontos iniciais e r e b sao os pontos finais, cor e tamanho da borda\n",
        "cv2_imshow(imagem)"
      ],
      "metadata": {
        "colab": {
          "base_uri": "https://localhost:8080/",
          "height": 258
        },
        "id": "taed1Uv5wJ98",
        "outputId": "faced030-7090-465f-ff9c-35afa9fc6022"
      },
      "execution_count": 6,
      "outputs": [
        {
          "output_type": "error",
          "ename": "NameError",
          "evalue": "name 'cv2' is not defined",
          "traceback": [
            "\u001b[0;31m---------------------------------------------------------------------------\u001b[0m",
            "\u001b[0;31mNameError\u001b[0m                                 Traceback (most recent call last)",
            "\u001b[0;32m<ipython-input-6-3ef1381d302a>\u001b[0m in \u001b[0;36m<cell line: 0>\u001b[0;34m()\u001b[0m\n\u001b[1;32m      1\u001b[0m \u001b[0;31m# detector de pontos\u001b[0m\u001b[0;34m\u001b[0m\u001b[0;34m\u001b[0m\u001b[0m\n\u001b[0;32m----> 2\u001b[0;31m \u001b[0mimagem\u001b[0m \u001b[0;34m=\u001b[0m \u001b[0mcv2\u001b[0m\u001b[0;34m.\u001b[0m\u001b[0mimread\u001b[0m\u001b[0;34m(\u001b[0m\u001b[0;34m'/content/drive/MyDrive/Visao Computacional Guia Completo/Images/people2.jpg'\u001b[0m\u001b[0;34m)\u001b[0m \u001b[0;31m# ler\u001b[0m\u001b[0;34m\u001b[0m\u001b[0;34m\u001b[0m\u001b[0m\n\u001b[0m\u001b[1;32m      3\u001b[0m \u001b[0mdeteccoes\u001b[0m \u001b[0;34m=\u001b[0m \u001b[0mdetector_face\u001b[0m\u001b[0;34m(\u001b[0m\u001b[0mimagem\u001b[0m\u001b[0;34m,\u001b[0m \u001b[0;36m1\u001b[0m\u001b[0;34m)\u001b[0m \u001b[0;31m# 1 eh a escala\u001b[0m\u001b[0;34m\u001b[0m\u001b[0;34m\u001b[0m\u001b[0m\n\u001b[1;32m      4\u001b[0m \u001b[0;32mfor\u001b[0m \u001b[0mface\u001b[0m \u001b[0;32min\u001b[0m \u001b[0mdeteccoes\u001b[0m\u001b[0;34m:\u001b[0m\u001b[0;34m\u001b[0m\u001b[0;34m\u001b[0m\u001b[0m\n\u001b[1;32m      5\u001b[0m   \u001b[0mpontos\u001b[0m \u001b[0;34m=\u001b[0m \u001b[0mdetector_pontos\u001b[0m\u001b[0;34m(\u001b[0m\u001b[0mimagem\u001b[0m\u001b[0;34m,\u001b[0m \u001b[0mface\u001b[0m\u001b[0;34m)\u001b[0m \u001b[0;31m# pontos da face, para cada face tera um ponto\u001b[0m\u001b[0;34m\u001b[0m\u001b[0;34m\u001b[0m\u001b[0m\n",
            "\u001b[0;31mNameError\u001b[0m: name 'cv2' is not defined"
          ]
        }
      ]
    },
    {
      "cell_type": "code",
      "source": [
        "# enviar para o dlib somente as faces para ele fazer a deteccao dos pontos faciais"
      ],
      "metadata": {
        "id": "wvZZsjxByqN3"
      },
      "execution_count": 88,
      "outputs": []
    },
    {
      "cell_type": "markdown",
      "source": [
        "# Detecccao de descritores faciais"
      ],
      "metadata": {
        "id": "ReOBrPk81Uof"
      }
    },
    {
      "cell_type": "code",
      "source": [
        "# com os pontos faciais acima, vamos conseguir fazer a deteccao de descritores faciais\n",
        "# uma representacao de cada uma das faces\n",
        "# transformar as faces em matriz e vetores com varios numeros, o comp faz a interpretacao de num e nao da img\n",
        "# representar cada uma das faces, essa eh a ideia da aula"
      ],
      "metadata": {
        "id": "B5ZHGZwO1YWW"
      },
      "execution_count": 89,
      "outputs": []
    },
    {
      "cell_type": "code",
      "source": [
        "# Resnet: https://arxiv.org/abs/1512.03385 estrutura de rede neural convencional, Deep Residual Learning for Image Recognition => usado para reconhecimento de img\n",
        "# carrega o arquivo para gerar o modelo\n",
        "\n",
        "detector_face = dlib.get_frontal_face_detector()\n",
        "detector_pontos = dlib.shape_predictor('/content/drive/MyDrive/Visao Computacional Guia Completo/Weights/shape_predictor_68_face_landmarks.dat') # passa o detector treinado\n",
        "#faz deteccao de 68pontos faciais\n",
        "\n",
        "descritor_facial_extrator = dlib.face_recognition_model_v1('/content/drive/MyDrive/Visao Computacional Guia Completo/Weights/dlib_face_recognition_resnet_model_v1.dat') # passa o descritor treinado\n",
        "\n",
        "# TROCAR A CPU EM FILE => NOTBOOK SETEINGS\n",
        "# EXECUTAR\n"
      ],
      "metadata": {
        "id": "IjbAfz6w2M2T"
      },
      "execution_count": 94,
      "outputs": []
    },
    {
      "cell_type": "code",
      "source": [
        "index = {}\n",
        "idx = 0 # inicia com valor 0\n",
        "descritores_faciais = None\n",
        "\n",
        "paths = [os.path.join('/content/yalefaces/train', f) for f in os.listdir('/content/yalefaces/train')] # acessar a base de dados de treinamento, usar esses dados para treinar, e acessar cada um dos arquivos\n",
        "#for para percorrer cada img\n",
        "for path in paths:\n",
        "  #print(path) # percorre todas imgs de treinamento\n",
        "\n",
        "  #coverter formato RGB e np e detectar as faces\n",
        "  imagem = Image.open(path).convert('RGB') # converte para RGB,\n",
        "  imagem_np = np.array(imagem, 'uint8') # converte para np\n",
        "  deteccoes = detector_face(imagem_np, 1) #\n",
        "  for face in deteccoes:\n",
        "    #print(face)\n",
        "    l, t, r, b = face.left(), face.top(), face.right(), face.bottom() # pontos da face l, t, r, b\n",
        "    cv2.rectangle(imagem_np, (l, t), (r, b), (0,255,255), 2)  # desenhar o retangulo, l e t pontos iniciais e r e b sao os pontos finais, cor e tamanho do retangulo\n",
        "\n",
        "    # detecta a face, passa imagem e face\n",
        "    # deteccao dos pontos faciais\n",
        "    pontos = detector_pontos(imagem_np, face) # pontos da face, para cada face tera um ponto\n",
        "    # for para os pontos de cada img\n",
        "    for ponto in pontos.parts(): # POSSUI 68 PONTOS FACIAIS\n",
        "      cv2.circle(imagem_np, (ponto.x, ponto.y), 2, (0,255,0), -1) # desenhar os pontos\n",
        "\n",
        "    # CADA IMG TERA UM DESCRITOR FACIAL QUE EH UM CONJUNTO DE NUMEROS\n",
        "    descritor_facial = descritor_facial_extrator.compute_face_descriptor(imagem_np, pontos)\n",
        "    # ERRO NO CODIGO VERSAO CUDA\n",
        "\n",
        "    # gera um vetor para cada img da base de dados\n",
        "    print(type(descritor_facial)) # mostra o tipo do descritor,\n",
        "    # print(len(descritor_facial)) # mostra o tamanho do descritor,\n",
        "\n",
        "      # nova variavel de descritor facial\n",
        "      # para extrair o descritor passa img e os pontos sendo que os pontos estao dentro da face\n",
        "      # gera um vetor para cada img da base de dados\n",
        "\n",
        "    # Tratamento nesses valores: aparece dados no formato de lista\n",
        "    descritor_facial = [f for f in descritor_facial]\n",
        "    # print(descritor_facial)\n",
        "    # print(type(descritor_facial)) # mostra o tipo do descritor,\n",
        "    # print(len(descritor_facial)) # mostra o tamanho do descritor\n",
        "\n",
        "    # formato nun_py, trocar\n",
        "    descritor_facial = np.asarray(descritor_facil, dtype=np.float64)\n",
        "    #print(type(descritor_facial)) # mostra o tipo do descritor,\n",
        "    #print(len(descritor_facial)) # mostra o tamanho do descritor\n",
        "\n",
        "    # armazenar todos os vetores de todas as imagens\n",
        "    if descritores_faciais is None: # se descritores_faciais for None\n",
        "      descritores_faciais = descritor_facial\n",
        "    else:\n",
        "      descritores_faciais = np.concatenate((descritores_faciais, descritor_facial), axis=0) # concatenar os descritores\n",
        "    # cada descritor eh uma linha\n",
        "    # 0 eh os dados um abaixo do outro em formato de linha\n",
        "\n",
        "    # print(type(descritor_facial)) # mostra o tipo do descritor,\n",
        "    # print(len(descritor_facial)) # mostra o tamanho do descritor\n",
        "    # print(descritor_facial) # mostra o valor do descritor\n",
        "\n",
        "    # incrementar os valores das variaveis\n",
        "    index[idx] = path\n",
        "    idx += 1\n",
        "    #print(index)\n",
        "\n",
        "\n",
        "   #cv2_imshow(imagem_np) # visualizar o resultado\n",
        "\n",
        "\n",
        "# POSSO PASSO EXTRAIR OS PONTOS FACIAIS"
      ],
      "metadata": {
        "id": "baoMtCG28lKR"
      },
      "execution_count": null,
      "outputs": []
    },
    {
      "cell_type": "code",
      "source": [],
      "metadata": {
        "id": "UPKykS-ODy5i"
      },
      "execution_count": null,
      "outputs": []
    },
    {
      "cell_type": "code",
      "source": [
        "descritores_faciais.shape # 132, 128 cada img possui 128 caracteristica"
      ],
      "metadata": {
        "id": "7jdn6J_SH4Fg"
      },
      "execution_count": null,
      "outputs": []
    },
    {
      "cell_type": "code",
      "source": [
        "descritores_faciais # aparece o array"
      ],
      "metadata": {
        "id": "VFczQPE4IIDw"
      },
      "execution_count": null,
      "outputs": []
    },
    {
      "cell_type": "code",
      "source": [
        "index # chama a variavel, formato dicionario"
      ],
      "metadata": {
        "id": "UjoIyA26ImOx"
      },
      "execution_count": null,
      "outputs": []
    },
    {
      "cell_type": "code",
      "source": [
        "len(index) #ver os valores 132 variaveis"
      ],
      "metadata": {
        "id": "K7Kovw0bI5lw"
      },
      "execution_count": null,
      "outputs": []
    }
  ]
}