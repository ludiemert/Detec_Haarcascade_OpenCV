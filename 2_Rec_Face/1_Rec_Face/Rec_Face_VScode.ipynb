{
 "cells": [
  {
   "cell_type": "code",
   "execution_count": null,
   "id": "94eed029",
   "metadata": {},
   "outputs": [
    {
     "name": "stdout",
     "output_type": "stream",
     "text": [
      "Collecting opencv-contrib-python==4.8.0.76\n",
      "  Downloading opencv_contrib_python-4.8.0.76-cp37-abi3-win_amd64.whl.metadata (20 kB)\n",
      "Requirement already satisfied: numpy>=1.17.0 in c:\\users\\user\\appdata\\local\\programs\\python\\python38\\lib\\site-packages (from opencv-contrib-python==4.8.0.76) (1.24.4)\n",
      "Downloading opencv_contrib_python-4.8.0.76-cp37-abi3-win_amd64.whl (44.8 MB)\n",
      "   ---------------------------------------- 0.0/44.8 MB ? eta -:--:--\n",
      "   ---------------------------------------- 0.3/44.8 MB ? eta -:--:--\n",
      "   - -------------------------------------- 1.3/44.8 MB 4.2 MB/s eta 0:00:11\n",
      "   - -------------------------------------- 2.1/44.8 MB 3.9 MB/s eta 0:00:11\n",
      "   -- ------------------------------------- 3.1/44.8 MB 4.2 MB/s eta 0:00:10\n",
      "   --- ------------------------------------ 4.2/44.8 MB 4.3 MB/s eta 0:00:10\n",
      "   ---- ----------------------------------- 5.2/44.8 MB 4.4 MB/s eta 0:00:09\n",
      "   ----- ---------------------------------- 6.0/44.8 MB 4.4 MB/s eta 0:00:09\n",
      "   ------- -------------------------------- 8.4/44.8 MB 4.4 MB/s eta 0:00:09\n",
      "   -------- ------------------------------- 9.7/44.8 MB 4.5 MB/s eta 0:00:08\n",
      "   --------- ------------------------------ 10.5/44.8 MB 4.5 MB/s eta 0:00:08\n",
      "   ---------- ----------------------------- 11.5/44.8 MB 4.5 MB/s eta 0:00:08\n",
      "   ----------- ---------------------------- 12.6/44.8 MB 4.5 MB/s eta 0:00:08\n",
      "   ----------- ---------------------------- 12.8/44.8 MB 4.5 MB/s eta 0:00:08\n",
      "   ------------ --------------------------- 14.4/44.8 MB 4.5 MB/s eta 0:00:07\n",
      "   ------------- -------------------------- 15.5/44.8 MB 4.5 MB/s eta 0:00:07\n",
      "   -------------- ------------------------- 16.5/44.8 MB 4.6 MB/s eta 0:00:07\n",
      "   --------------- ------------------------ 17.3/44.8 MB 4.5 MB/s eta 0:00:07\n",
      "   ---------------- ----------------------- 18.1/44.8 MB 4.5 MB/s eta 0:00:06\n",
      "   ----------------- ---------------------- 19.1/44.8 MB 4.5 MB/s eta 0:00:06\n",
      "   ------------------ --------------------- 20.4/44.8 MB 4.5 MB/s eta 0:00:06\n",
      "   ------------------- -------------------- 21.5/44.8 MB 4.6 MB/s eta 0:00:06\n",
      "   ------------------- -------------------- 22.3/44.8 MB 4.5 MB/s eta 0:00:05\n",
      "   --------------------- ------------------ 23.6/44.8 MB 4.6 MB/s eta 0:00:05\n",
      "   ---------------------- ----------------- 24.6/44.8 MB 4.6 MB/s eta 0:00:05\n",
      "   ----------------------- ---------------- 26.0/44.8 MB 4.7 MB/s eta 0:00:05\n",
      "   ------------------------ --------------- 27.0/44.8 MB 4.7 MB/s eta 0:00:04\n",
      "   ------------------------ --------------- 27.8/44.8 MB 4.7 MB/s eta 0:00:04\n",
      "   -------------------------- ------------- 29.4/44.8 MB 4.7 MB/s eta 0:00:04\n",
      "   --------------------------- ------------ 30.7/44.8 MB 4.8 MB/s eta 0:00:03\n",
      "   ---------------------------- ----------- 31.7/44.8 MB 4.8 MB/s eta 0:00:03\n",
      "   ----------------------------- ---------- 33.0/44.8 MB 4.8 MB/s eta 0:00:03\n",
      "   ------------------------------ --------- 34.1/44.8 MB 4.8 MB/s eta 0:00:03\n",
      "   ------------------------------- -------- 35.1/44.8 MB 4.9 MB/s eta 0:00:02\n",
      "   -------------------------------- ------- 36.4/44.8 MB 4.9 MB/s eta 0:00:02\n",
      "   -------------------------------- ------- 36.7/44.8 MB 4.9 MB/s eta 0:00:02\n",
      "   -------------------------------- ------- 36.7/44.8 MB 4.9 MB/s eta 0:00:02\n",
      "   -------------------------------- ------- 36.7/44.8 MB 4.9 MB/s eta 0:00:02\n",
      "   -------------------------------- ------- 36.7/44.8 MB 4.9 MB/s eta 0:00:02\n",
      "   --------------------------------- ------ 37.5/44.8 MB 4.4 MB/s eta 0:00:02\n",
      "   ---------------------------------- ----- 38.5/44.8 MB 4.4 MB/s eta 0:00:02\n",
      "   ----------------------------------- ---- 39.8/44.8 MB 4.4 MB/s eta 0:00:02\n",
      "   ------------------------------------ --- 40.9/44.8 MB 4.5 MB/s eta 0:00:01\n",
      "   ------------------------------------- -- 41.9/44.8 MB 4.5 MB/s eta 0:00:01\n",
      "   -------------------------------------- - 42.7/44.8 MB 4.5 MB/s eta 0:00:01\n",
      "   ---------------------------------------  43.8/44.8 MB 4.5 MB/s eta 0:00:01\n",
      "   ---------------------------------------  44.6/44.8 MB 4.5 MB/s eta 0:00:01\n",
      "   ---------------------------------------  44.6/44.8 MB 4.5 MB/s eta 0:00:01\n",
      "   ---------------------------------------- 44.8/44.8 MB 4.3 MB/s eta 0:00:00\n",
      "Installing collected packages: opencv-contrib-python\n",
      "Successfully installed opencv-contrib-python-4.8.0.76\n",
      "Note: you may need to restart the kernel to use updated packages.\n"
     ]
    },
    {
     "name": "stderr",
     "output_type": "stream",
     "text": [
      "\n",
      "[notice] A new release of pip is available: 24.3.1 -> 25.0.1\n",
      "[notice] To update, run: python.exe -m pip install --upgrade pip\n"
     ]
    },
    {
     "name": "stdout",
     "output_type": "stream",
     "text": [
      "Collecting dlib\n",
      "  Downloading dlib-20.0.0.tar.gz (3.3 MB)\n",
      "     ---------------------------------------- 0.0/3.3 MB ? eta -:--:--\n",
      "     ------ --------------------------------- 0.5/3.3 MB 3.4 MB/s eta 0:00:01\n",
      "     ------------------- -------------------- 1.6/3.3 MB 4.9 MB/s eta 0:00:01\n",
      "     ---------------------------------- ----- 2.9/3.3 MB 5.1 MB/s eta 0:00:01\n",
      "     ---------------------------------------- 3.3/3.3 MB 4.9 MB/s eta 0:00:00\n",
      "  Installing build dependencies: started\n",
      "  Installing build dependencies: finished with status 'done'\n",
      "  Getting requirements to build wheel: started\n",
      "  Getting requirements to build wheel: finished with status 'done'\n",
      "  Preparing metadata (pyproject.toml): started\n",
      "  Preparing metadata (pyproject.toml): finished with status 'done'\n",
      "Building wheels for collected packages: dlib\n",
      "  Building wheel for dlib (pyproject.toml): started\n",
      "  Building wheel for dlib (pyproject.toml): still running...\n",
      "  Building wheel for dlib (pyproject.toml): still running...\n",
      "  Building wheel for dlib (pyproject.toml): still running...\n",
      "  Building wheel for dlib (pyproject.toml): still running...\n",
      "  Building wheel for dlib (pyproject.toml): still running...\n",
      "  Building wheel for dlib (pyproject.toml): still running...\n",
      "  Building wheel for dlib (pyproject.toml): still running...\n",
      "  Building wheel for dlib (pyproject.toml): still running...\n",
      "  Building wheel for dlib (pyproject.toml): finished with status 'done'\n",
      "  Created wheel for dlib: filename=dlib-20.0.0-cp38-cp38-win_amd64.whl size=2914327 sha256=05881a66ed5fccb052d42a5f7702530d98ad3ed2289ec316198b03b79971bd18\n",
      "  Stored in directory: c:\\users\\user\\appdata\\local\\pip\\cache\\wheels\\81\\22\\d1\\c303b7964cfddb3fab9ba7aff4c7436c8c6798e9b6edb5e05f\n",
      "Successfully built dlib\n",
      "Installing collected packages: dlib\n",
      "Successfully installed dlib-20.0.0\n",
      "Note: you may need to restart the kernel to use updated packages.\n"
     ]
    },
    {
     "name": "stderr",
     "output_type": "stream",
     "text": [
      "\n",
      "[notice] A new release of pip is available: 24.3.1 -> 25.0.1\n",
      "[notice] To update, run: python.exe -m pip install --upgrade pip\n"
     ]
    },
    {
     "name": "stdout",
     "output_type": "stream",
     "text": [
      "Requirement already satisfied: numpy in c:\\users\\user\\appdata\\local\\programs\\python\\python38\\lib\\site-packages (1.24.4)\n",
      "Note: you may need to restart the kernel to use updated packages.\n"
     ]
    },
    {
     "name": "stderr",
     "output_type": "stream",
     "text": [
      "\n",
      "[notice] A new release of pip is available: 24.3.1 -> 25.0.1\n",
      "[notice] To update, run: python.exe -m pip install --upgrade pip\n"
     ]
    },
    {
     "name": "stdout",
     "output_type": "stream",
     "text": [
      "Collecting Pillow\n",
      "  Downloading pillow-10.4.0-cp38-cp38-win_amd64.whl.metadata (9.3 kB)\n",
      "Downloading pillow-10.4.0-cp38-cp38-win_amd64.whl (2.6 MB)\n",
      "   ---------------------------------------- 0.0/2.6 MB ? eta -:--:--\n",
      "   ---- ----------------------------------- 0.3/2.6 MB ? eta -:--:--\n",
      "   ---------------- ----------------------- 1.0/2.6 MB 2.8 MB/s eta 0:00:01\n",
      "   ------------------------ --------------- 1.6/2.6 MB 2.9 MB/s eta 0:00:01\n",
      "   ------------------------------------ --- 2.4/2.6 MB 2.9 MB/s eta 0:00:01\n",
      "   ---------------------------------------- 2.6/2.6 MB 2.8 MB/s eta 0:00:00\n",
      "Installing collected packages: Pillow\n",
      "Successfully installed Pillow-10.4.0\n",
      "Note: you may need to restart the kernel to use updated packages.\n"
     ]
    },
    {
     "name": "stderr",
     "output_type": "stream",
     "text": [
      "\n",
      "[notice] A new release of pip is available: 24.3.1 -> 25.0.1\n",
      "[notice] To update, run: python.exe -m pip install --upgrade pip\n"
     ]
    },
    {
     "name": "stdout",
     "output_type": "stream",
     "text": [
      "Collecting seabornNote: you may need to restart the kernel to use updated packages.\n"
     ]
    },
    {
     "name": "stderr",
     "output_type": "stream",
     "text": [
      "\n",
      "[notice] A new release of pip is available: 24.3.1 -> 25.0.1\n",
      "[notice] To update, run: python.exe -m pip install --upgrade pip\n",
      "UsageError: Line magic function `%%pip` not found.\n"
     ]
    },
    {
     "name": "stdout",
     "output_type": "stream",
     "text": [
      "\n",
      "  Downloading seaborn-0.13.2-py3-none-any.whl.metadata (5.4 kB)\n",
      "Requirement already satisfied: numpy!=1.24.0,>=1.20 in c:\\users\\user\\appdata\\local\\programs\\python\\python38\\lib\\site-packages (from seaborn) (1.24.4)\n",
      "Collecting pandas>=1.2 (from seaborn)\n",
      "  Downloading pandas-2.0.3-cp38-cp38-win_amd64.whl.metadata (18 kB)\n",
      "Collecting matplotlib!=3.6.1,>=3.4 (from seaborn)\n",
      "  Downloading matplotlib-3.7.5-cp38-cp38-win_amd64.whl.metadata (5.8 kB)\n",
      "Collecting contourpy>=1.0.1 (from matplotlib!=3.6.1,>=3.4->seaborn)\n",
      "  Downloading contourpy-1.1.1-cp38-cp38-win_amd64.whl.metadata (5.9 kB)\n",
      "Collecting cycler>=0.10 (from matplotlib!=3.6.1,>=3.4->seaborn)\n",
      "  Downloading cycler-0.12.1-py3-none-any.whl.metadata (3.8 kB)\n",
      "Collecting fonttools>=4.22.0 (from matplotlib!=3.6.1,>=3.4->seaborn)\n",
      "  Downloading fonttools-4.57.0-cp38-cp38-win_amd64.whl.metadata (104 kB)\n",
      "Collecting kiwisolver>=1.0.1 (from matplotlib!=3.6.1,>=3.4->seaborn)\n",
      "  Downloading kiwisolver-1.4.7-cp38-cp38-win_amd64.whl.metadata (6.4 kB)\n",
      "Requirement already satisfied: packaging>=20.0 in c:\\users\\user\\appdata\\local\\programs\\python\\python38\\lib\\site-packages (from matplotlib!=3.6.1,>=3.4->seaborn) (24.2)\n",
      "Requirement already satisfied: pillow>=6.2.0 in c:\\users\\user\\appdata\\local\\programs\\python\\python38\\lib\\site-packages (from matplotlib!=3.6.1,>=3.4->seaborn) (10.4.0)\n",
      "Collecting pyparsing>=2.3.1 (from matplotlib!=3.6.1,>=3.4->seaborn)\n",
      "  Downloading pyparsing-3.1.4-py3-none-any.whl.metadata (5.1 kB)\n",
      "Requirement already satisfied: python-dateutil>=2.7 in c:\\users\\user\\appdata\\roaming\\python\\python38\\site-packages (from matplotlib!=3.6.1,>=3.4->seaborn) (2.9.0.post0)\n",
      "Collecting importlib-resources>=3.2.0 (from matplotlib!=3.6.1,>=3.4->seaborn)\n",
      "  Downloading importlib_resources-6.4.5-py3-none-any.whl.metadata (4.0 kB)\n",
      "Collecting pytz>=2020.1 (from pandas>=1.2->seaborn)\n",
      "  Downloading pytz-2025.2-py2.py3-none-any.whl.metadata (22 kB)\n",
      "Collecting tzdata>=2022.1 (from pandas>=1.2->seaborn)\n",
      "  Downloading tzdata-2025.2-py2.py3-none-any.whl.metadata (1.4 kB)\n",
      "Requirement already satisfied: zipp>=3.1.0 in c:\\users\\user\\appdata\\local\\programs\\python\\python38\\lib\\site-packages (from importlib-resources>=3.2.0->matplotlib!=3.6.1,>=3.4->seaborn) (3.20.2)\n",
      "Requirement already satisfied: six>=1.5 in c:\\users\\user\\appdata\\local\\programs\\python\\python38\\lib\\site-packages (from python-dateutil>=2.7->matplotlib!=3.6.1,>=3.4->seaborn) (1.16.0)\n",
      "Downloading seaborn-0.13.2-py3-none-any.whl (294 kB)\n",
      "Downloading matplotlib-3.7.5-cp38-cp38-win_amd64.whl (7.5 MB)\n",
      "   ---------------------------------------- 0.0/7.5 MB ? eta -:--:--\n",
      "   - -------------------------------------- 0.3/7.5 MB ? eta -:--:--\n",
      "   ---- ----------------------------------- 0.8/7.5 MB 2.6 MB/s eta 0:00:03\n",
      "   ------ --------------------------------- 1.3/7.5 MB 2.0 MB/s eta 0:00:04\n",
      "   --------- ------------------------------ 1.8/7.5 MB 2.2 MB/s eta 0:00:03\n",
      "   ------------ --------------------------- 2.4/7.5 MB 2.4 MB/s eta 0:00:03\n",
      "   ---------------- ----------------------- 3.1/7.5 MB 2.5 MB/s eta 0:00:02\n",
      "   ------------------- -------------------- 3.7/7.5 MB 2.5 MB/s eta 0:00:02\n",
      "   ---------------------- ----------------- 4.2/7.5 MB 2.6 MB/s eta 0:00:02\n",
      "   ------------------------- -------------- 4.7/7.5 MB 2.5 MB/s eta 0:00:02\n",
      "   --------------------------- ------------ 5.2/7.5 MB 2.5 MB/s eta 0:00:01\n",
      "   -------------------------------- ------- 6.0/7.5 MB 2.6 MB/s eta 0:00:01\n",
      "   --------------------------------- ------ 6.3/7.5 MB 2.5 MB/s eta 0:00:01\n",
      "   ------------------------------------- -- 7.1/7.5 MB 2.6 MB/s eta 0:00:01\n",
      "   ---------------------------------------- 7.5/7.5 MB 2.5 MB/s eta 0:00:00\n",
      "Downloading pandas-2.0.3-cp38-cp38-win_amd64.whl (10.8 MB)\n",
      "   ---------------------------------------- 0.0/10.8 MB ? eta -:--:--\n",
      "   - -------------------------------------- 0.5/10.8 MB 3.4 MB/s eta 0:00:04\n",
      "   ---- ----------------------------------- 1.3/10.8 MB 3.0 MB/s eta 0:00:04\n",
      "   ------ --------------------------------- 1.8/10.8 MB 3.0 MB/s eta 0:00:03\n",
      "   -------- ------------------------------- 2.4/10.8 MB 3.0 MB/s eta 0:00:03\n",
      "   ---------- ----------------------------- 2.9/10.8 MB 2.9 MB/s eta 0:00:03\n",
      "   ------------ --------------------------- 3.4/10.8 MB 2.8 MB/s eta 0:00:03\n",
      "   --------------- ------------------------ 4.2/10.8 MB 2.9 MB/s eta 0:00:03\n",
      "   ----------------- ---------------------- 4.7/10.8 MB 2.9 MB/s eta 0:00:03\n",
      "   -------------------- ------------------- 5.5/10.8 MB 2.9 MB/s eta 0:00:02\n",
      "   ----------------------- ---------------- 6.3/10.8 MB 3.0 MB/s eta 0:00:02\n",
      "   ------------------------- -------------- 6.8/10.8 MB 3.0 MB/s eta 0:00:02\n",
      "   ---------------------------- ----------- 7.6/10.8 MB 3.0 MB/s eta 0:00:02\n",
      "   ------------------------------- -------- 8.4/10.8 MB 3.1 MB/s eta 0:00:01\n",
      "   ---------------------------------- ----- 9.2/10.8 MB 3.1 MB/s eta 0:00:01\n",
      "   ------------------------------------ --- 10.0/10.8 MB 3.1 MB/s eta 0:00:01\n",
      "   -------------------------------------- - 10.5/10.8 MB 3.1 MB/s eta 0:00:01\n",
      "   ---------------------------------------- 10.8/10.8 MB 3.0 MB/s eta 0:00:00\n",
      "Downloading contourpy-1.1.1-cp38-cp38-win_amd64.whl (477 kB)\n",
      "Downloading cycler-0.12.1-py3-none-any.whl (8.3 kB)\n",
      "Downloading fonttools-4.57.0-cp38-cp38-win_amd64.whl (1.5 MB)\n",
      "   ---------------------------------------- 0.0/1.5 MB ? eta -:--:--\n",
      "   ------------- -------------------------- 0.5/1.5 MB 2.1 MB/s eta 0:00:01\n",
      "   --------------------------- ------------ 1.0/1.5 MB 2.6 MB/s eta 0:00:01\n",
      "   ---------------------------------------- 1.5/1.5 MB 2.5 MB/s eta 0:00:00\n",
      "Downloading importlib_resources-6.4.5-py3-none-any.whl (36 kB)\n",
      "Downloading kiwisolver-1.4.7-cp38-cp38-win_amd64.whl (55 kB)\n",
      "Downloading pyparsing-3.1.4-py3-none-any.whl (104 kB)\n",
      "Downloading pytz-2025.2-py2.py3-none-any.whl (509 kB)\n",
      "Downloading tzdata-2025.2-py2.py3-none-any.whl (347 kB)\n",
      "Installing collected packages: pytz, tzdata, pyparsing, kiwisolver, importlib-resources, fonttools, cycler, contourpy, pandas, matplotlib, seaborn\n",
      "Successfully installed contourpy-1.1.1 cycler-0.12.1 fonttools-4.57.0 importlib-resources-6.4.5 kiwisolver-1.4.7 matplotlib-3.7.5 pandas-2.0.3 pyparsing-3.1.4 pytz-2025.2 seaborn-0.13.2 tzdata-2025.2\n"
     ]
    }
   ],
   "source": [
    "# Instal Lib\n",
    "#%pip install opencv-contrib-python==4.8.0.76\n",
    "#%pip install dlib\n",
    "%pip install numpy\n",
    "%pip install Pillow\n",
    "%pip install seaborn\n",
    "%%pip install scikit-learn\n"
   ]
  }
 ],
 "metadata": {
  "kernelspec": {
   "display_name": "Python 3",
   "language": "python",
   "name": "python3"
  },
  "language_info": {
   "codemirror_mode": {
    "name": "ipython",
    "version": 3
   },
   "file_extension": ".py",
   "mimetype": "text/x-python",
   "name": "python",
   "nbconvert_exporter": "python",
   "pygments_lexer": "ipython3",
   "version": "3.8.0"
  }
 },
 "nbformat": 4,
 "nbformat_minor": 5
}
