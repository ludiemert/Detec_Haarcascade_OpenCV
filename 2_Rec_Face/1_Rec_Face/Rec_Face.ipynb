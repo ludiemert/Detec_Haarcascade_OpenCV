{
  "nbformat": 4,
  "nbformat_minor": 0,
  "metadata": {
    "colab": {
      "provenance": []
    },
    "kernelspec": {
      "name": "python3",
      "display_name": "Python 3"
    },
    "language_info": {
      "name": "python"
    }
  },
  "cells": [
    {
      "cell_type": "code",
      "execution_count": 38,
      "metadata": {
        "id": "d3gjFiYBzgJD"
      },
      "outputs": [],
      "source": [
        "# Reconhecimento facial eh mandar a foto e o algoritmo reconhecer quem eh a pessoa\n",
        "\n",
        "# Carregamento da base de dados OU CARREGAR GOOGLE DRIVE\n",
        "# Yale faces database: http://vision.ucsd.edu/content/yale-face-database\n",
        "\n",
        "# http://cvc.cs.yale.edu/cvc/projects/yalefacesB/yalefacesB.html\n",
        "# https://drive.google.com/drive/folders/1UBHOwVEyR5OXyWVHO-r2lviJy2Oz_Sqk\n",
        "# https://www.kaggle.com/datasets/olgabelitskaya/yale-face-database"
      ]
    },
    {
      "cell_type": "code",
      "source": [
        "# Montar google Drive\n",
        "from google.colab import drive\n",
        "drive.mount('/content/drive')"
      ],
      "metadata": {
        "colab": {
          "base_uri": "https://localhost:8080/"
        },
        "id": "7WVyGfFw38UE",
        "outputId": "f1270a37-93b3-48f8-a7b6-581b83cb3748"
      },
      "execution_count": 39,
      "outputs": [
        {
          "output_type": "stream",
          "name": "stdout",
          "text": [
            "Drive already mounted at /content/drive; to attempt to forcibly remount, call drive.mount(\"/content/drive\", force_remount=True).\n"
          ]
        }
      ]
    },
    {
      "cell_type": "code",
      "source": [
        " # Importar bibliotecas\n",
        " import os # pacote para interagir com o sistema operacional\n",
        " from PIL import Image # pacote de processamento de img no PY, para ler a base de dados\n",
        " import cv2\n",
        " import numpy as np # lib para ler vetores e matrizes do PY e alguns calculos matematicos\n",
        " from google.colab.patches import cv2_imshow # para visualizar as imgs\n",
        "\n",
        "# OU montar o drive apartir daqui...\n",
        "# from google.colab import drive\n",
        "# drive.mount('/content/drive')\n"
      ],
      "metadata": {
        "id": "QzpjEtDN4Zry"
      },
      "execution_count": 40,
      "outputs": []
    },
    {
      "cell_type": "code",
      "source": [
        "# descompactar arquivo\n",
        "import zipfile\n",
        "# Atualize o caminho para apontar para o arquivo zip, não para o diretório\n",
        "path = '/content/drive/MyDrive/Visao Computacional Guia Completo/Datasets/yalefaces.zip' # Assumindo que o nome do arquivo zip é yalefaces.zip\n",
        "zip_object = zipfile.ZipFile(file=path, mode= 'r') # r que vai fazer a leitura do arquivo\n",
        "zip_object.extractall('./') # extrair na raiz do google colab\n",
        "zip_object.close() # liberar memoria\n",
        "# file  /content/yalefaces/train/subject01.glasses.gif eh o subject de cada img person, all img person, BASE DE DADOS de treinamento\n",
        "# varias imgs da mesma pessoa com varias formatos no rosto, mais facil para o algoritmo se adaptar as faces"
      ],
      "metadata": {
        "id": "9nKH4gMQ_gbB"
      },
      "execution_count": 41,
      "outputs": []
    },
    {
      "cell_type": "code",
      "source": [
        "# Pre processamento das imagens\n",
        "\n",
        "import os # para ter recursos do sistema operacional\n",
        "print(os.listdir('/content/yalefaces/train')) # liste tudo que tiver nesse diretorio, passar por todas as imgs do treinamento\n",
        "# ele lista todas as imgs da pasta\n"
      ],
      "metadata": {
        "colab": {
          "base_uri": "https://localhost:8080/"
        },
        "id": "81yALr2tGfv_",
        "outputId": "31b2f230-25d3-4420-aba1-c7bfbd3d15eb"
      },
      "execution_count": 42,
      "outputs": [
        {
          "output_type": "stream",
          "name": "stdout",
          "text": [
            "['subject03.surprised.gif', 'subject10.happy.gif', 'subject14.rightlight.gif', 'subject03.centerlight.gif', 'subject10.rightlight.gif', 'subject04.happy.gif', 'subject06.sad.gif', 'subject04.wink.gif', 'subject01.surprised.gif', 'subject13.centerlight.gif', 'subject11.rightlight.gif', 'subject08.sad.gif', 'subject09.sleepy.gif', 'subject09.glasses.gif', 'subject06.wink.gif', 'subject15.centerlight.gif', 'subject02.happy.gif', 'subject07.noglasses.gif', 'subject05.noglasses.gif', 'subject05.glasses.gif', 'subject07.rightlight.gif', 'subject09.leftlight.gif', 'subject13.glasses.gif', 'subject09.centerlight.gif', 'subject12.leftlight.gif', 'subject07.glasses.gif', 'subject13.happy.gif', 'subject05.sad.gif', 'subject01.rightlight.gif', 'subject14.leftlight.gif', 'subject06.normal.gif', 'subject10.wink.gif', 'subject11.noglasses.gif', 'subject15.noglasses.gif', 'subject09.happy.gif', 'subject14.centerlight.gif', 'subject12.surprised.gif', 'subject01.noglasses.gif', 'subject04.noglasses.gif', 'subject11.surprised.gif', 'subject02.sad.gif', 'subject08.leftlight.gif', 'subject12.wink.gif', 'subject15.leftlight.gif', 'subject15.wink.gif', 'subject01.leftlight.gif', 'subject01.sad.gif', 'subject02.glasses.gif', 'subject04.sleepy.gif', 'subject03.wink.gif', 'subject05.wink.gif', 'subject05.happy.gif', 'subject03.sleepy.gif', 'subject07.wink.gif', 'subject15.glasses.gif', 'subject03.noglasses.gif', 'subject06.noglasses.gif', 'subject14.noglasses.gif', 'subject14.sleepy.gif', 'subject03.sad.gif', 'subject12.happy.gif', 'subject09.wink.gif', 'subject14.wink.gif', 'subject15.happy.gif', 'subject11.wink.gif', 'subject08.glasses.gif', 'subject02.rightlight.gif', 'subject05.rightlight.gif', 'subject08.centerlight.gif', 'subject15.surprised.gif', 'subject12.sad.gif', 'subject04.glasses.gif', 'subject13.noglasses.gif', 'subject02.normal.gif', 'subject10.surprised.gif', 'subject06.rightlight.gif', 'subject05.normal.gif', 'subject11.sad.gif', 'subject15.normal.gif', 'subject03.happy.gif', 'subject01.wink.gif', 'subject14.glasses.gif', 'subject12.noglasses.gif', 'subject13.normal.gif', 'subject10.sleepy.gif', 'subject12.glasses.gif', 'subject15.sleepy.gif', 'subject08.wink.gif', 'subject01.sleepy.gif', 'subject11.normal.gif', 'subject07.surprised.gif', 'subject04.centerlight.gif', 'subject01.glasses.gif', 'subject11.centerlight.gif', 'subject04.sad.gif', 'subject06.sleepy.gif', 'subject11.leftlight.gif', 'subject09.noglasses.gif', 'subject14.surprised.gif', 'subject04.rightlight.gif', 'subject02.sleepy.gif', 'subject13.surprised.gif', 'subject09.normal.gif', 'subject09.surprised.gif', 'subject06.surprised.gif', 'subject07.centerlight.gif', 'subject03.normal.gif', 'subject12.centerlight.gif', 'subject02.surprised.gif', 'subject10.noglasses.gif', 'subject02.noglasses.gif', 'subject07.sleepy.gif', 'subject06.glasses.gif', 'subject14.happy.gif', 'subject01.normal.gif', 'subject04.normal.gif', 'subject05.leftlight.gif', 'subject02.wink.gif', 'subject07.sad.gif', 'subject12.sleepy.gif', 'subject05.centerlight.gif', 'subject08.happy.gif', 'subject07.normal.gif', 'subject13.wink.gif', 'subject13.rightlight.gif', 'subject13.leftlight.gif', 'subject10.normal.gif', 'subject10.leftlight.gif', 'subject03.rightlight.gif', 'subject11.sleepy.gif', 'subject06.centerlight.gif', 'subject08.surprised.gif', 'subject08.noglasses.gif', 'subject10.glasses.gif', 'subject08.sleepy.gif']\n"
          ]
        }
      ]
    },
    {
      "cell_type": "code",
      "source": [
        "# percorrer todas as imgs e extrair os pixels\n",
        "def get_image_data(): # get data img\n",
        "  paths = [os.path.join('/content/yalefaces/train', f) for f in os.listdir('/content/yalefaces/train')] # lista de caminhos,  # variavel de lista []\n",
        "  # print(paths) # cria a funcao\n",
        "  # join tras uma string com o caminho completo\n",
        "  # for percorre cada uma das imgs\n",
        "\n",
        "  # criar listas para perorrer (nome id numero na img, ids => numero da pessoa, faces eh o numero dos pixels)\n",
        "  # vamos associar ids e pixels\n",
        "  faces = [] # lista vazia\n",
        "  ids = [] # lista vazia\n",
        "  for path in paths: # for para percorrer cada img\n",
        "    # print(path) # mostra o caminho completo da img\n",
        "    imagem = Image.open(path).convert('L') # abre a img, converte para escala de cinza, fazer a leitura\n",
        "    # print(type(imagem)) # mostra o tipo da imagem\n",
        "    imagem_np = np.array(imagem, 'uint8') # converte a imagem,     # converter do PIL para numpy, uint8_matriz com numeros inteiros\n",
        "    # print(type(imagem_np)) # cada img representada por uma img numpy\n",
        "\n",
        "    # buscar o id da img\n",
        "    # quebrar a string em 3 partes apos o (.) ponto\n",
        "    # print(os.path.split(path) [1]) # deixa somente o caminho da img\n",
        "\n",
        "    # combinar os dois codigos\n",
        "    # id = os.path.split(path)[1].split('.')[0]\n",
        "    # id = path.split('.')[0] # agora temos parte 0,1,2 da string, e o id esta na posicao 0 [0], com o comando isso some e fica somente o caminho 0\n",
        "\n",
        "    # agora somente os ids\n",
        "    id = int(os.path.split(path)[1].split('.')[0].replace('subject','')) # int para fcar inteiro\n",
        "    # print(id)\n",
        "\n",
        "    # ver array\n",
        "    ids.append(id)\n",
        "    faces.append(imagem_np)\n",
        "\n",
        "  return np.array(ids), faces # retornar os arrays\n",
        "\n"
      ],
      "metadata": {
        "id": "JAKYArx3Hqav"
      },
      "execution_count": 43,
      "outputs": []
    },
    {
      "cell_type": "code",
      "source": [
        "# chama a funcao, join junta nome da img com o nome do dir  caminho completo\n",
        "# resposta => ['/content/yalefaces/train/subject07.surprised.gif', '/content/yalefaces/train/subject07.rightlight.gif', '/content/yalefaces/train/subject06.sad.gif',....................\n",
        "ids, faces = get_image_data() # coloca todas as variaves para ver os pixels"
      ],
      "metadata": {
        "id": "nEnss6vqIie_"
      },
      "execution_count": 44,
      "outputs": []
    },
    {
      "cell_type": "code",
      "source": [
        "ids"
      ],
      "metadata": {
        "colab": {
          "base_uri": "https://localhost:8080/"
        },
        "id": "v_vy_THZVzz1",
        "outputId": "365a340e-78b6-4666-aca0-28461413ede4"
      },
      "execution_count": 45,
      "outputs": [
        {
          "output_type": "execute_result",
          "data": {
            "text/plain": [
              "array([ 3, 10, 14,  3, 10,  4,  6,  4,  1, 13, 11,  8,  9,  9,  6, 15,  2,\n",
              "        7,  5,  5,  7,  9, 13,  9, 12,  7, 13,  5,  1, 14,  6, 10, 11, 15,\n",
              "        9, 14, 12,  1,  4, 11,  2,  8, 12, 15, 15,  1,  1,  2,  4,  3,  5,\n",
              "        5,  3,  7, 15,  3,  6, 14, 14,  3, 12,  9, 14, 15, 11,  8,  2,  5,\n",
              "        8, 15, 12,  4, 13,  2, 10,  6,  5, 11, 15,  3,  1, 14, 12, 13, 10,\n",
              "       12, 15,  8,  1, 11,  7,  4,  1, 11,  4,  6, 11,  9, 14,  4,  2, 13,\n",
              "        9,  9,  6,  7,  3, 12,  2, 10,  2,  7,  6, 14,  1,  4,  5,  2,  7,\n",
              "       12,  5,  8,  7, 13, 13, 13, 10, 10,  3, 11,  6,  8,  8, 10,  8])"
            ]
          },
          "metadata": {},
          "execution_count": 45
        }
      ]
    },
    {
      "cell_type": "code",
      "source": [
        "len(ids) # ver qtas imgs 135"
      ],
      "metadata": {
        "colab": {
          "base_uri": "https://localhost:8080/"
        },
        "id": "naSa_CERWKi7",
        "outputId": "8ce347c1-d990-4b81-abd8-ec3bee07b857"
      },
      "execution_count": 46,
      "outputs": [
        {
          "output_type": "execute_result",
          "data": {
            "text/plain": [
              "135"
            ]
          },
          "metadata": {},
          "execution_count": 46
        }
      ]
    },
    {
      "cell_type": "code",
      "source": [
        "len(faces) # ver tb as matrizes com os pixels"
      ],
      "metadata": {
        "colab": {
          "base_uri": "https://localhost:8080/"
        },
        "id": "GeHRyEn_WSOA",
        "outputId": "7638e4d0-554c-4151-f45e-933482e7e576"
      },
      "execution_count": 47,
      "outputs": [
        {
          "output_type": "execute_result",
          "data": {
            "text/plain": [
              "135"
            ]
          },
          "metadata": {},
          "execution_count": 47
        }
      ]
    },
    {
      "cell_type": "code",
      "source": [
        "faces # um array para cada uma das faces, de 0 a 255 que representa os pixels"
      ],
      "metadata": {
        "colab": {
          "base_uri": "https://localhost:8080/"
        },
        "id": "4Urrp15VWatS",
        "outputId": "5bb202fc-d79e-4b86-8de1-79e5d7fae056"
      },
      "execution_count": 48,
      "outputs": [
        {
          "output_type": "execute_result",
          "data": {
            "text/plain": [
              "[array([[130, 130, 130, ..., 255, 255, 255],\n",
              "        [255, 255, 255, ..., 255, 255, 255],\n",
              "        [255, 255, 255, ..., 255, 255, 255],\n",
              "        ...,\n",
              "        [255, 255, 255, ..., 255, 255, 255],\n",
              "        [255, 255, 255, ..., 255, 255, 255],\n",
              "        [ 68,  68,  68, ...,  68,  68,  68]], dtype=uint8),\n",
              " array([[130, 130, 130, ..., 255, 255, 255],\n",
              "        [255, 255, 255, ..., 255, 255, 255],\n",
              "        [255, 255, 255, ..., 255, 255, 255],\n",
              "        ...,\n",
              "        [255, 255, 255, ..., 243, 255, 255],\n",
              "        [255, 255, 255, ..., 238, 241, 255],\n",
              "        [ 68,  68,  68, ...,  68,  68,  68]], dtype=uint8),\n",
              " array([[105, 103, 103, ..., 255, 255, 255],\n",
              "        [228, 221, 223, ..., 255, 255, 255],\n",
              "        [218, 203, 222, ..., 255, 255, 255],\n",
              "        ...,\n",
              "        [ 80,  81,  83, ..., 255, 255, 255],\n",
              "        [ 80,  82,  83, ..., 255, 255, 255],\n",
              "        [ 68,  68,  68, ...,  68,  68,  68]], dtype=uint8),\n",
              " array([[130, 130, 130, ..., 255, 255, 255],\n",
              "        [255, 255, 255, ..., 255, 255, 255],\n",
              "        [255, 255, 255, ..., 255, 255, 255],\n",
              "        ...,\n",
              "        [255, 255, 255, ..., 255, 255, 255],\n",
              "        [255, 255, 255, ..., 255, 255, 255],\n",
              "        [ 68,  68,  68, ...,  68,  68,  68]], dtype=uint8),\n",
              " array([[122, 118, 118, ..., 255, 255, 255],\n",
              "        [255, 255, 255, ..., 255, 255, 255],\n",
              "        [255, 255, 251, ..., 255, 255, 255],\n",
              "        ...,\n",
              "        [100, 108, 114, ..., 255, 255, 255],\n",
              "        [104, 112, 114, ..., 255, 255, 255],\n",
              "        [ 68,  68,  68, ...,  68,  68,  68]], dtype=uint8),\n",
              " array([[130, 130, 130, ..., 255, 255, 255],\n",
              "        [255, 255, 255, ..., 255, 255, 255],\n",
              "        [255, 255, 255, ..., 255, 255, 255],\n",
              "        ...,\n",
              "        [255, 255, 255, ..., 252, 255, 255],\n",
              "        [255, 255, 255, ..., 225, 236, 244],\n",
              "        [ 68,  68,  68, ...,  68,  68,  68]], dtype=uint8),\n",
              " array([[112,  97,  93, ..., 227, 225, 235],\n",
              "        [241, 218, 211, ..., 246, 237, 242],\n",
              "        [255, 255, 255, ..., 255, 255, 255],\n",
              "        ...,\n",
              "        [196, 188, 192, ..., 232, 213, 223],\n",
              "        [200, 193, 199, ..., 216, 197, 207],\n",
              "        [ 68,  68,  68, ...,  68,  68,  68]], dtype=uint8),\n",
              " array([[130, 130, 130, ..., 255, 255, 255],\n",
              "        [255, 255, 255, ..., 255, 255, 255],\n",
              "        [255, 255, 255, ..., 255, 255, 255],\n",
              "        ...,\n",
              "        [255, 255, 255, ..., 238, 250, 251],\n",
              "        [255, 255, 255, ..., 211, 222, 230],\n",
              "        [ 68,  68,  68, ...,  68,  68,  68]], dtype=uint8),\n",
              " array([[130, 130, 130, ..., 255, 255, 255],\n",
              "        [255, 255, 255, ..., 255, 255, 255],\n",
              "        [255, 255, 255, ..., 255, 255, 255],\n",
              "        ...,\n",
              "        [255, 255, 255, ..., 253, 255, 255],\n",
              "        [255, 255, 255, ..., 255, 255, 255],\n",
              "        [ 68,  68,  68, ...,  68,  68,  68]], dtype=uint8),\n",
              " array([[130, 130, 130, ..., 255, 255, 255],\n",
              "        [255, 255, 255, ..., 255, 255, 255],\n",
              "        [255, 255, 255, ..., 255, 255, 255],\n",
              "        ...,\n",
              "        [255, 255, 255, ..., 237, 231, 237],\n",
              "        [255, 255, 255, ..., 241, 236, 244],\n",
              "        [ 68,  68,  68, ...,  68,  68,  68]], dtype=uint8),\n",
              " array([[105, 103, 109, ..., 255, 255, 255],\n",
              "        [230, 228, 237, ..., 255, 255, 255],\n",
              "        [224, 227, 238, ..., 255, 255, 255],\n",
              "        ...,\n",
              "        [ 68,  69,  69, ..., 126, 114, 103],\n",
              "        [ 65,  66,  66, ..., 126, 114, 103],\n",
              "        [ 68,  68,  68, ...,  68,  68,  68]], dtype=uint8),\n",
              " array([[130, 130, 130, ..., 255, 255, 255],\n",
              "        [255, 255, 255, ..., 255, 255, 255],\n",
              "        [255, 255, 255, ..., 255, 255, 255],\n",
              "        ...,\n",
              "        [255, 255, 255, ..., 249, 224, 217],\n",
              "        [255, 255, 255, ..., 253, 221, 206],\n",
              "        [ 68,  68,  68, ...,  68,  68,  68]], dtype=uint8),\n",
              " array([[130, 130, 130, ..., 255, 255, 255],\n",
              "        [255, 255, 255, ..., 255, 255, 255],\n",
              "        [255, 255, 255, ..., 255, 255, 255],\n",
              "        ...,\n",
              "        [255, 255, 255, ..., 255, 244, 242],\n",
              "        [255, 255, 255, ..., 255, 241, 243],\n",
              "        [ 68,  68,  68, ...,  68,  68,  68]], dtype=uint8),\n",
              " array([[130, 130, 130, ..., 255, 255, 255],\n",
              "        [255, 255, 255, ..., 255, 255, 255],\n",
              "        [255, 255, 255, ..., 255, 255, 255],\n",
              "        ...,\n",
              "        [255, 255, 255, ..., 229, 196, 199],\n",
              "        [255, 255, 255, ..., 227, 194, 197],\n",
              "        [ 68,  68,  68, ...,  68,  68,  68]], dtype=uint8),\n",
              " array([[109,  95,  89, ..., 224, 224, 232],\n",
              "        [237, 213, 207, ..., 242, 235, 236],\n",
              "        [255, 255, 255, ..., 255, 255, 255],\n",
              "        ...,\n",
              "        [188, 179, 183, ..., 229, 213, 223],\n",
              "        [192, 182, 188, ..., 214, 194, 204],\n",
              "        [ 68,  68,  68, ...,  68,  68,  68]], dtype=uint8),\n",
              " array([[124, 116, 102, ..., 255, 242, 246],\n",
              "        [255, 251, 230, ..., 255, 246, 248],\n",
              "        [246, 227, 231, ..., 255, 255, 255],\n",
              "        ...,\n",
              "        [243, 245, 255, ..., 231, 220, 216],\n",
              "        [255, 255, 255, ..., 213, 206, 218],\n",
              "        [ 68,  68,  68, ...,  68,  68,  68]], dtype=uint8),\n",
              " array([[109, 111, 124, ..., 255, 255, 243],\n",
              "        [235, 239, 255, ..., 255, 253, 244],\n",
              "        [253, 255, 255, ..., 253, 251, 243],\n",
              "        ...,\n",
              "        [255, 255, 255, ..., 187, 183, 183],\n",
              "        [255, 255, 255, ..., 183, 180, 179],\n",
              "        [ 68,  68,  68, ...,  68,  68,  68]], dtype=uint8),\n",
              " array([[130, 130, 130, ..., 255, 255, 255],\n",
              "        [255, 255, 255, ..., 255, 255, 255],\n",
              "        [255, 255, 255, ..., 255, 255, 255],\n",
              "        ...,\n",
              "        [255, 255, 255, ..., 255, 255, 255],\n",
              "        [255, 255, 255, ..., 255, 255, 255],\n",
              "        [ 68,  68,  68, ...,  68,  68,  68]], dtype=uint8),\n",
              " array([[118, 129, 130, ..., 255, 255, 255],\n",
              "        [253, 255, 255, ..., 255, 255, 255],\n",
              "        [255, 255, 255, ..., 255, 255, 255],\n",
              "        ...,\n",
              "        [255, 255, 255, ...,  91,  88,  91],\n",
              "        [255, 255, 255, ..., 101,  97, 102],\n",
              "        [ 68,  68,  68, ...,  68,  68,  68]], dtype=uint8),\n",
              " array([[119, 129, 130, ..., 255, 255, 255],\n",
              "        [253, 255, 255, ..., 255, 255, 255],\n",
              "        [255, 255, 255, ..., 255, 255, 255],\n",
              "        ...,\n",
              "        [255, 255, 255, ...,  91,  88,  91],\n",
              "        [255, 255, 255, ..., 101,  98, 102],\n",
              "        [ 68,  68,  68, ...,  68,  68,  68]], dtype=uint8),\n",
              " array([[114, 109, 111, ..., 255, 255, 255],\n",
              "        [249, 241, 244, ..., 255, 255, 255],\n",
              "        [255, 255, 246, ..., 255, 255, 255],\n",
              "        ...,\n",
              "        [204, 204, 204, ..., 250, 255, 255],\n",
              "        [202, 200, 199, ..., 252, 255, 255],\n",
              "        [ 68,  68,  68, ...,  68,  68,  68]], dtype=uint8),\n",
              " array([[130, 130, 130, ..., 255, 255, 255],\n",
              "        [255, 255, 255, ..., 255, 255, 255],\n",
              "        [255, 255, 255, ..., 255, 255, 255],\n",
              "        ...,\n",
              "        [255, 255, 255, ...,  41,  41,  46],\n",
              "        [255, 255, 255, ...,  41,  40,  44],\n",
              "        [ 68,  68,  68, ...,  68,  68,  68]], dtype=uint8),\n",
              " array([[130, 130, 130, ..., 255, 255, 255],\n",
              "        [255, 255, 255, ..., 255, 255, 255],\n",
              "        [255, 255, 255, ..., 255, 255, 255],\n",
              "        ...,\n",
              "        [255, 255, 255, ..., 201, 195, 199],\n",
              "        [255, 255, 255, ..., 218, 211, 217],\n",
              "        [ 68,  68,  68, ...,  68,  68,  68]], dtype=uint8),\n",
              " array([[130, 130, 130, ..., 255, 255, 255],\n",
              "        [255, 255, 255, ..., 255, 255, 255],\n",
              "        [255, 255, 255, ..., 255, 255, 255],\n",
              "        ...,\n",
              "        [255, 255, 255, ..., 255, 255, 255],\n",
              "        [255, 255, 255, ..., 255, 255, 255],\n",
              "        [ 68,  68,  68, ...,  68,  68,  68]], dtype=uint8),\n",
              " array([[130, 130, 130, ..., 255, 251, 255],\n",
              "        [255, 255, 255, ..., 255, 242, 255],\n",
              "        [255, 255, 255, ..., 255, 253, 255],\n",
              "        ...,\n",
              "        [255, 255, 255, ...,  51,  47,  48],\n",
              "        [255, 255, 255, ...,  51,  47,  48],\n",
              "        [ 68,  68,  68, ...,  68,  68,  68]], dtype=uint8),\n",
              " array([[130, 130, 130, ..., 255, 255, 255],\n",
              "        [255, 255, 255, ..., 255, 255, 255],\n",
              "        [255, 255, 255, ..., 255, 255, 255],\n",
              "        ...,\n",
              "        [255, 255, 255, ..., 255, 255, 255],\n",
              "        [255, 255, 255, ..., 255, 255, 255],\n",
              "        [ 68,  68,  68, ...,  68,  68,  68]], dtype=uint8),\n",
              " array([[130, 130, 130, ..., 255, 255, 255],\n",
              "        [255, 255, 255, ..., 255, 255, 255],\n",
              "        [255, 255, 255, ..., 255, 255, 255],\n",
              "        ...,\n",
              "        [255, 255, 255, ..., 200, 192, 195],\n",
              "        [255, 255, 255, ..., 217, 208, 217],\n",
              "        [ 68,  68,  68, ...,  68,  68,  68]], dtype=uint8),\n",
              " array([[119, 129, 130, ..., 255, 255, 255],\n",
              "        [251, 255, 255, ..., 255, 255, 255],\n",
              "        [255, 255, 255, ..., 255, 255, 255],\n",
              "        ...,\n",
              "        [255, 255, 255, ...,  93,  89,  93],\n",
              "        [255, 255, 255, ..., 102,  98, 102],\n",
              "        [ 68,  68,  68, ...,  68,  68,  68]], dtype=uint8),\n",
              " array([[ 37,  38,  36, ..., 222, 196, 185],\n",
              "        [ 91,  94,  91, ..., 215, 194, 178],\n",
              "        [ 86,  87,  87, ..., 214, 203, 204],\n",
              "        ...,\n",
              "        [ 57,  62,  59, ..., 186, 163, 164],\n",
              "        [ 59,  64,  59, ..., 187, 152, 151],\n",
              "        [ 68,  68,  68, ...,  68,  68,  68]], dtype=uint8),\n",
              " array([[130, 130, 130, ..., 228, 225, 255],\n",
              "        [255, 255, 255, ..., 227, 229, 255],\n",
              "        [255, 255, 255, ..., 245, 235, 255],\n",
              "        ...,\n",
              "        [255, 255, 255, ..., 248, 229, 230],\n",
              "        [255, 255, 255, ..., 244, 228, 236],\n",
              "        [ 68,  68,  68, ...,  68,  68,  68]], dtype=uint8),\n",
              " array([[110,  96,  91, ..., 224, 224, 236],\n",
              "        [239, 218, 211, ..., 244, 236, 239],\n",
              "        [255, 255, 255, ..., 255, 255, 255],\n",
              "        ...,\n",
              "        [199, 192, 195, ..., 227, 210, 221],\n",
              "        [204, 199, 202, ..., 228, 203, 202],\n",
              "        [ 68,  68,  68, ...,  68,  68,  68]], dtype=uint8),\n",
              " array([[130, 130, 130, ..., 255, 255, 255],\n",
              "        [255, 255, 255, ..., 255, 255, 255],\n",
              "        [255, 255, 255, ..., 255, 255, 255],\n",
              "        ...,\n",
              "        [255, 255, 255, ..., 243, 255, 255],\n",
              "        [255, 255, 255, ..., 237, 241, 255],\n",
              "        [ 68,  68,  68, ...,  68,  68,  68]], dtype=uint8),\n",
              " array([[130, 130, 130, ..., 255, 255, 255],\n",
              "        [255, 255, 255, ..., 255, 255, 255],\n",
              "        [255, 255, 255, ..., 255, 255, 255],\n",
              "        ...,\n",
              "        [255, 255, 255, ..., 129, 100,  79],\n",
              "        [248, 246, 245, ..., 128, 101,  73],\n",
              "        [ 68,  68,  68, ...,  68,  68,  68]], dtype=uint8),\n",
              " array([[130, 130, 130, ..., 255, 255, 255],\n",
              "        [255, 255, 255, ..., 255, 255, 255],\n",
              "        [255, 255, 255, ..., 255, 255, 255],\n",
              "        ...,\n",
              "        [255, 255, 255, ..., 248, 250, 255],\n",
              "        [255, 255, 255, ..., 246, 253, 255],\n",
              "        [ 68,  68,  68, ...,  68,  68,  68]], dtype=uint8),\n",
              " array([[130, 130, 130, ..., 255, 255, 255],\n",
              "        [255, 255, 255, ..., 255, 255, 255],\n",
              "        [255, 255, 255, ..., 255, 255, 255],\n",
              "        ...,\n",
              "        [255, 255, 255, ..., 255, 242, 239],\n",
              "        [255, 255, 255, ..., 255, 237, 239],\n",
              "        [ 68,  68,  68, ...,  68,  68,  68]], dtype=uint8),\n",
              " array([[130, 130, 130, ..., 255, 255, 255],\n",
              "        [255, 255, 255, ..., 255, 255, 255],\n",
              "        [255, 255, 255, ..., 255, 255, 255],\n",
              "        ...,\n",
              "        [255, 255, 255, ..., 255, 255, 255],\n",
              "        [255, 255, 255, ..., 255, 255, 255],\n",
              "        [ 68,  68,  68, ...,  68,  68,  68]], dtype=uint8),\n",
              " array([[110, 117, 121, ..., 251, 231, 241],\n",
              "        [250, 255, 255, ..., 249, 243, 252],\n",
              "        [255, 255, 255, ..., 255, 255, 255],\n",
              "        ...,\n",
              "        [243, 255, 255, ..., 167, 156, 160],\n",
              "        [246, 255, 255, ..., 171, 153, 154],\n",
              "        [ 68,  68,  68, ...,  68,  68,  68]], dtype=uint8),\n",
              " array([[130, 130, 130, ..., 255, 255, 255],\n",
              "        [255, 255, 255, ..., 255, 255, 255],\n",
              "        [255, 255, 255, ..., 255, 255, 255],\n",
              "        ...,\n",
              "        [255, 255, 255, ..., 255, 255, 255],\n",
              "        [255, 255, 255, ..., 255, 255, 255],\n",
              "        [ 68,  68,  68, ...,  68,  68,  68]], dtype=uint8),\n",
              " array([[130, 130, 130, ..., 255, 255, 255],\n",
              "        [255, 255, 255, ..., 255, 255, 255],\n",
              "        [255, 255, 255, ..., 255, 255, 255],\n",
              "        ...,\n",
              "        [255, 255, 255, ..., 235, 246, 250],\n",
              "        [255, 255, 255, ..., 209, 216, 228],\n",
              "        [ 68,  68,  68, ...,  68,  68,  68]], dtype=uint8),\n",
              " array([[130, 130, 130, ..., 255, 255, 255],\n",
              "        [255, 255, 255, ..., 255, 255, 255],\n",
              "        [255, 255, 255, ..., 255, 255, 255],\n",
              "        ...,\n",
              "        [255, 255, 255, ...,  58,  55,  57],\n",
              "        [250, 249, 246, ...,  71,  51,  47],\n",
              "        [ 68,  68,  68, ...,  68,  68,  68]], dtype=uint8),\n",
              " array([[109, 111, 124, ..., 255, 255, 241],\n",
              "        [235, 238, 255, ..., 255, 255, 245],\n",
              "        [252, 255, 255, ..., 255, 252, 244],\n",
              "        ...,\n",
              "        [255, 255, 255, ..., 186, 180, 180],\n",
              "        [255, 255, 255, ..., 181, 179, 175],\n",
              "        [ 68,  68,  68, ...,  68,  68,  68]], dtype=uint8),\n",
              " array([[130, 130, 130, ..., 252, 245, 255],\n",
              "        [255, 255, 255, ..., 255, 246, 255],\n",
              "        [255, 255, 255, ..., 231, 249, 255],\n",
              "        ...,\n",
              "        [255, 255, 255, ...,  37,  36,  38],\n",
              "        [255, 255, 255, ...,  37,  34,  37],\n",
              "        [ 68,  68,  68, ...,  68,  68,  68]], dtype=uint8),\n",
              " array([[112, 118, 123, ..., 251, 232, 242],\n",
              "        [252, 255, 255, ..., 253, 244, 255],\n",
              "        [255, 255, 255, ..., 255, 255, 255],\n",
              "        ...,\n",
              "        [242, 255, 255, ..., 167, 156, 160],\n",
              "        [245, 255, 255, ..., 186, 168, 159],\n",
              "        [ 68,  68,  68, ...,  68,  68,  68]], dtype=uint8),\n",
              " array([[108, 116, 117, ..., 156, 147, 167],\n",
              "        [237, 248, 244, ..., 163, 152, 171],\n",
              "        [236, 243, 228, ..., 158, 157, 175],\n",
              "        ...,\n",
              "        [231, 223, 222, ..., 130, 123, 123],\n",
              "        [241, 227, 230, ..., 124, 114, 122],\n",
              "        [ 68,  68,  68, ...,  68,  68,  68]], dtype=uint8),\n",
              " array([[130, 130, 130, ..., 255, 255, 255],\n",
              "        [255, 255, 255, ..., 255, 255, 255],\n",
              "        [255, 255, 255, ..., 255, 255, 255],\n",
              "        ...,\n",
              "        [255, 255, 255, ..., 255, 255, 255],\n",
              "        [255, 255, 255, ..., 255, 255, 255],\n",
              "        [ 68,  68,  68, ...,  68,  68,  68]], dtype=uint8),\n",
              " array([[130, 130, 130, ..., 216, 224, 244],\n",
              "        [255, 255, 255, ..., 215, 220, 245],\n",
              "        [255, 255, 255, ..., 231, 211, 231],\n",
              "        ...,\n",
              "        [255, 255, 255, ..., 192, 197, 203],\n",
              "        [255, 255, 255, ..., 189, 207, 215],\n",
              "        [ 68,  68,  68, ...,  68,  68,  68]], dtype=uint8),\n",
              " array([[130, 130, 130, ..., 255, 255, 255],\n",
              "        [255, 255, 255, ..., 255, 255, 255],\n",
              "        [255, 255, 255, ..., 255, 255, 255],\n",
              "        ...,\n",
              "        [255, 255, 255, ..., 255, 255, 255],\n",
              "        [255, 255, 255, ..., 255, 255, 255],\n",
              "        [ 68,  68,  68, ...,  68,  68,  68]], dtype=uint8),\n",
              " array([[109, 111, 123, ..., 255, 255, 241],\n",
              "        [231, 237, 255, ..., 255, 255, 245],\n",
              "        [252, 255, 255, ..., 255, 252, 244],\n",
              "        ...,\n",
              "        [255, 255, 255, ..., 188, 183, 185],\n",
              "        [255, 255, 255, ..., 185, 181, 178],\n",
              "        [ 68,  68,  68, ...,  68,  68,  68]], dtype=uint8),\n",
              " array([[130, 130, 130, ..., 255, 255, 255],\n",
              "        [255, 255, 255, ..., 255, 255, 255],\n",
              "        [255, 255, 255, ..., 255, 255, 255],\n",
              "        ...,\n",
              "        [255, 255, 255, ..., 239, 249, 253],\n",
              "        [255, 255, 255, ..., 214, 221, 235],\n",
              "        [ 68,  68,  68, ...,  68,  68,  68]], dtype=uint8),\n",
              " array([[130, 130, 130, ..., 255, 255, 255],\n",
              "        [255, 255, 255, ..., 255, 255, 255],\n",
              "        [255, 255, 255, ..., 255, 255, 255],\n",
              "        ...,\n",
              "        [255, 255, 255, ..., 255, 255, 255],\n",
              "        [255, 255, 255, ..., 255, 255, 255],\n",
              "        [ 68,  68,  68, ...,  68,  68,  68]], dtype=uint8),\n",
              " array([[117, 129, 130, ..., 255, 255, 255],\n",
              "        [249, 255, 255, ..., 255, 255, 255],\n",
              "        [255, 255, 255, ..., 255, 255, 255],\n",
              "        ...,\n",
              "        [255, 255, 255, ...,  93,  89,  90],\n",
              "        [255, 255, 255, ..., 100,  96, 101],\n",
              "        [ 68,  68,  68, ...,  68,  68,  68]], dtype=uint8),\n",
              " array([[117, 129, 130, ..., 255, 255, 255],\n",
              "        [252, 255, 255, ..., 255, 255, 255],\n",
              "        [255, 255, 255, ..., 255, 255, 255],\n",
              "        ...,\n",
              "        [255, 255, 255, ...,  93,  89,  93],\n",
              "        [255, 255, 255, ..., 102,  97, 101],\n",
              "        [ 68,  68,  68, ...,  68,  68,  68]], dtype=uint8),\n",
              " array([[130, 130, 130, ..., 255, 255, 255],\n",
              "        [255, 255, 255, ..., 255, 255, 255],\n",
              "        [255, 255, 255, ..., 255, 255, 255],\n",
              "        ...,\n",
              "        [255, 255, 255, ..., 255, 255, 255],\n",
              "        [255, 255, 255, ..., 255, 255, 255],\n",
              "        [ 68,  68,  68, ...,  68,  68,  68]], dtype=uint8),\n",
              " array([[130, 130, 130, ..., 255, 255, 255],\n",
              "        [255, 255, 255, ..., 255, 255, 255],\n",
              "        [255, 255, 255, ..., 255, 255, 255],\n",
              "        ...,\n",
              "        [255, 255, 255, ..., 255, 255, 255],\n",
              "        [255, 255, 255, ..., 255, 255, 255],\n",
              "        [ 68,  68,  68, ...,  68,  68,  68]], dtype=uint8),\n",
              " array([[130, 130, 130, ..., 255, 255, 255],\n",
              "        [255, 255, 255, ..., 255, 255, 255],\n",
              "        [255, 255, 255, ..., 255, 255, 255],\n",
              "        ...,\n",
              "        [255, 255, 255, ..., 248, 250, 255],\n",
              "        [255, 255, 255, ..., 245, 252, 255],\n",
              "        [ 68,  68,  68, ...,  68,  68,  68]], dtype=uint8),\n",
              " array([[130, 130, 130, ..., 255, 255, 255],\n",
              "        [255, 255, 255, ..., 255, 255, 255],\n",
              "        [255, 255, 255, ..., 255, 255, 255],\n",
              "        ...,\n",
              "        [255, 255, 255, ..., 255, 255, 255],\n",
              "        [255, 255, 255, ..., 255, 255, 255],\n",
              "        [ 68,  68,  68, ...,  68,  68,  68]], dtype=uint8),\n",
              " array([[110,  96,  91, ..., 224, 224, 236],\n",
              "        [239, 218, 211, ..., 244, 236, 239],\n",
              "        [255, 255, 255, ..., 255, 255, 255],\n",
              "        ...,\n",
              "        [199, 192, 195, ..., 227, 210, 221],\n",
              "        [204, 199, 202, ..., 228, 203, 202],\n",
              "        [ 68,  68,  68, ...,  68,  68,  68]], dtype=uint8),\n",
              " array([[130, 130, 130, ..., 255, 255, 255],\n",
              "        [255, 255, 255, ..., 255, 255, 255],\n",
              "        [255, 255, 255, ..., 255, 243, 245],\n",
              "        ...,\n",
              "        [255, 255, 255, ..., 255, 255, 255],\n",
              "        [255, 255, 255, ..., 255, 255, 255],\n",
              "        [ 68,  68,  68, ...,  68,  68,  68]], dtype=uint8),\n",
              " array([[130, 130, 130, ..., 255, 255, 255],\n",
              "        [255, 255, 255, ..., 255, 255, 255],\n",
              "        [255, 255, 255, ..., 255, 241, 242],\n",
              "        ...,\n",
              "        [255, 255, 255, ..., 255, 255, 255],\n",
              "        [255, 255, 255, ..., 255, 255, 255],\n",
              "        [ 68,  68,  68, ...,  68,  68,  68]], dtype=uint8),\n",
              " array([[130, 130, 130, ..., 255, 255, 255],\n",
              "        [255, 255, 255, ..., 255, 255, 255],\n",
              "        [255, 255, 255, ..., 255, 255, 255],\n",
              "        ...,\n",
              "        [255, 255, 255, ..., 255, 255, 255],\n",
              "        [255, 255, 255, ..., 255, 255, 255],\n",
              "        [ 68,  68,  68, ...,  68,  68,  68]], dtype=uint8),\n",
              " array([[114, 121, 124, ..., 255, 238, 245],\n",
              "        [255, 255, 255, ..., 255, 250, 255],\n",
              "        [255, 255, 255, ..., 255, 255, 255],\n",
              "        ...,\n",
              "        [250, 255, 255, ..., 176, 163, 171],\n",
              "        [250, 255, 255, ..., 185, 164, 165],\n",
              "        [ 68,  68,  68, ...,  68,  68,  68]], dtype=uint8),\n",
              " array([[130, 130, 130, ..., 255, 255, 255],\n",
              "        [255, 255, 255, ..., 255, 255, 255],\n",
              "        [255, 255, 255, ..., 255, 255, 255],\n",
              "        ...,\n",
              "        [255, 255, 255, ..., 255, 253, 250],\n",
              "        [255, 255, 255, ..., 255, 248, 248],\n",
              "        [ 68,  68,  68, ...,  68,  68,  68]], dtype=uint8),\n",
              " array([[130, 130, 130, ..., 255, 255, 255],\n",
              "        [255, 255, 255, ..., 255, 255, 255],\n",
              "        [255, 255, 255, ..., 255, 241, 241],\n",
              "        ...,\n",
              "        [255, 255, 255, ..., 255, 255, 255],\n",
              "        [255, 255, 255, ..., 255, 255, 255],\n",
              "        [ 68,  68,  68, ...,  68,  68,  68]], dtype=uint8),\n",
              " array([[130, 130, 130, ..., 255, 255, 255],\n",
              "        [255, 255, 255, ..., 255, 255, 255],\n",
              "        [255, 255, 255, ..., 255, 255, 255],\n",
              "        ...,\n",
              "        [255, 255, 255, ..., 218, 214, 237],\n",
              "        [255, 255, 255, ..., 214, 215, 253],\n",
              "        [ 68,  68,  68, ...,  68,  68,  68]], dtype=uint8),\n",
              " array([[130, 130, 130, ..., 255, 255, 255],\n",
              "        [255, 255, 255, ..., 255, 255, 255],\n",
              "        [255, 255, 255, ..., 255, 255, 255],\n",
              "        ...,\n",
              "        [255, 255, 255, ...,  65,  64,  65],\n",
              "        [248, 246, 245, ...,  55,  48,  48],\n",
              "        [ 68,  68,  68, ...,  68,  68,  68]], dtype=uint8),\n",
              " array([[130, 130, 130, ..., 255, 255, 255],\n",
              "        [255, 255, 255, ..., 255, 255, 255],\n",
              "        [255, 255, 255, ..., 255, 255, 255],\n",
              "        ...,\n",
              "        [255, 255, 255, ..., 255, 245, 237],\n",
              "        [255, 255, 255, ..., 255, 238, 235],\n",
              "        [ 68,  68,  68, ...,  68,  68,  68]], dtype=uint8),\n",
              " array([[ 75,  72,  72, ..., 255, 255, 255],\n",
              "        [170, 161, 164, ..., 255, 255, 255],\n",
              "        [163, 158, 159, ..., 255, 255, 255],\n",
              "        ...,\n",
              "        [145, 151, 153, ..., 255, 255, 253],\n",
              "        [146, 153, 159, ..., 255, 255, 255],\n",
              "        [ 68,  68,  68, ...,  68,  68,  68]], dtype=uint8),\n",
              " array([[ 55,  68,  75, ..., 196, 181, 210],\n",
              "        [130, 156, 170, ..., 183, 188, 210],\n",
              "        [130, 131, 146, ..., 203, 195, 200],\n",
              "        ...,\n",
              "        [ 33,  33,  33, ..., 112, 109, 111],\n",
              "        [ 34,  34,  34, ..., 118, 115, 118],\n",
              "        [ 68,  68,  68, ...,  68,  68,  68]], dtype=uint8),\n",
              " array([[130, 130, 130, ..., 255, 255, 255],\n",
              "        [255, 255, 255, ..., 255, 255, 255],\n",
              "        [255, 255, 255, ..., 255, 255, 255],\n",
              "        ...,\n",
              "        [255, 255, 255, ..., 255, 255, 255],\n",
              "        [255, 255, 255, ..., 255, 255, 255],\n",
              "        [ 68,  68,  68, ...,  68,  68,  68]], dtype=uint8),\n",
              " array([[130, 130, 130, ..., 255, 255, 255],\n",
              "        [255, 255, 255, ..., 255, 255, 255],\n",
              "        [255, 255, 255, ..., 255, 255, 255],\n",
              "        ...,\n",
              "        [255, 255, 255, ..., 235, 238, 255],\n",
              "        [255, 255, 255, ..., 234, 243, 255],\n",
              "        [ 68,  68,  68, ...,  68,  68,  68]], dtype=uint8),\n",
              " array([[114, 119, 124, ..., 255, 238, 244],\n",
              "        [251, 255, 255, ..., 255, 246, 255],\n",
              "        [255, 255, 255, ..., 255, 255, 255],\n",
              "        ...,\n",
              "        [241, 255, 255, ..., 178, 165, 171],\n",
              "        [245, 255, 255, ..., 183, 164, 165],\n",
              "        [ 68,  68,  68, ...,  68,  68,  68]], dtype=uint8),\n",
              " array([[130, 130, 130, ..., 255, 255, 255],\n",
              "        [255, 255, 255, ..., 255, 255, 255],\n",
              "        [255, 255, 255, ..., 255, 255, 255],\n",
              "        ...,\n",
              "        [255, 255, 255, ..., 249, 255, 255],\n",
              "        [255, 255, 255, ..., 222, 231, 243],\n",
              "        [ 68,  68,  68, ...,  68,  68,  68]], dtype=uint8),\n",
              " array([[130, 130, 130, ..., 255, 255, 255],\n",
              "        [255, 255, 255, ..., 255, 255, 255],\n",
              "        [255, 255, 255, ..., 255, 255, 255],\n",
              "        ...,\n",
              "        [255, 255, 255, ..., 203, 195, 199],\n",
              "        [255, 255, 255, ..., 218, 210, 218],\n",
              "        [ 68,  68,  68, ...,  68,  68,  68]], dtype=uint8),\n",
              " array([[109, 111, 124, ..., 255, 253, 239],\n",
              "        [234, 237, 255, ..., 255, 255, 245],\n",
              "        [251, 255, 255, ..., 255, 251, 241],\n",
              "        ...,\n",
              "        [255, 255, 255, ..., 179, 173, 174],\n",
              "        [255, 255, 255, ..., 176, 173, 171],\n",
              "        [ 68,  68,  68, ...,  68,  68,  68]], dtype=uint8),\n",
              " array([[130, 130, 130, ..., 255, 255, 255],\n",
              "        [255, 255, 255, ..., 255, 255, 255],\n",
              "        [255, 255, 255, ..., 255, 255, 255],\n",
              "        ...,\n",
              "        [255, 255, 255, ..., 231, 252, 251],\n",
              "        [255, 255, 255, ..., 223, 224, 245],\n",
              "        [ 68,  68,  68, ...,  68,  68,  68]], dtype=uint8),\n",
              " array([[122, 112, 109, ..., 255, 255, 255],\n",
              "        [255, 246, 241, ..., 255, 255, 255],\n",
              "        [252, 244, 252, ..., 255, 255, 255],\n",
              "        ...,\n",
              "        [ 78,  79,  76, ..., 255, 255, 255],\n",
              "        [ 79,  79,  76, ..., 255, 255, 255],\n",
              "        [ 68,  68,  68, ...,  68,  68,  68]], dtype=uint8),\n",
              " array([[119, 129, 130, ..., 255, 255, 255],\n",
              "        [253, 255, 255, ..., 255, 255, 255],\n",
              "        [255, 255, 255, ..., 255, 255, 255],\n",
              "        ...,\n",
              "        [255, 255, 255, ...,  93,  89,  94],\n",
              "        [255, 255, 255, ..., 102,  98, 103],\n",
              "        [ 68,  68,  68, ...,  68,  68,  68]], dtype=uint8),\n",
              " array([[130, 130, 130, ..., 255, 255, 255],\n",
              "        [255, 255, 255, ..., 255, 255, 255],\n",
              "        [255, 255, 255, ..., 255, 255, 255],\n",
              "        ...,\n",
              "        [255, 255, 255, ..., 146, 132, 147],\n",
              "        [248, 245, 244, ..., 142, 129, 140],\n",
              "        [ 68,  68,  68, ...,  68,  68,  68]], dtype=uint8),\n",
              " array([[130, 130, 130, ..., 255, 255, 255],\n",
              "        [255, 255, 255, ..., 255, 255, 255],\n",
              "        [255, 255, 255, ..., 255, 255, 255],\n",
              "        ...,\n",
              "        [255, 255, 255, ..., 255, 255, 255],\n",
              "        [255, 255, 255, ..., 255, 255, 255],\n",
              "        [ 68,  68,  68, ...,  68,  68,  68]], dtype=uint8),\n",
              " array([[130, 130, 130, ..., 255, 255, 255],\n",
              "        [255, 255, 255, ..., 255, 255, 255],\n",
              "        [255, 255, 255, ..., 255, 255, 255],\n",
              "        ...,\n",
              "        [255, 255, 255, ..., 255, 255, 255],\n",
              "        [255, 255, 255, ..., 255, 255, 255],\n",
              "        [ 68,  68,  68, ...,  68,  68,  68]], dtype=uint8),\n",
              " array([[130, 130, 130, ..., 255, 255, 255],\n",
              "        [255, 255, 255, ..., 255, 255, 255],\n",
              "        [255, 255, 255, ..., 255, 255, 255],\n",
              "        ...,\n",
              "        [255, 255, 255, ..., 244, 255, 255],\n",
              "        [255, 255, 255, ..., 255, 253, 255],\n",
              "        [ 68,  68,  68, ...,  68,  68,  68]], dtype=uint8),\n",
              " array([[130, 130, 130, ..., 255, 255, 255],\n",
              "        [255, 255, 255, ..., 255, 255, 255],\n",
              "        [255, 255, 255, ..., 255, 242, 243],\n",
              "        ...,\n",
              "        [255, 255, 255, ..., 255, 255, 255],\n",
              "        [255, 255, 255, ..., 255, 255, 255],\n",
              "        [ 68,  68,  68, ...,  68,  68,  68]], dtype=uint8),\n",
              " array([[130, 128, 108, ..., 253, 244, 255],\n",
              "        [255, 255, 220, ..., 249, 243, 255],\n",
              "        [246, 223, 232, ..., 252, 241, 255],\n",
              "        ...,\n",
              "        [249, 246, 255, ..., 160, 161, 163],\n",
              "        [255, 252, 255, ..., 154, 159, 163],\n",
              "        [ 68,  68,  68, ...,  68,  68,  68]], dtype=uint8),\n",
              " array([[130, 130, 130, ..., 255, 255, 255],\n",
              "        [255, 255, 255, ..., 255, 255, 255],\n",
              "        [255, 255, 255, ..., 255, 255, 255],\n",
              "        ...,\n",
              "        [255, 255, 255, ..., 190, 182, 187],\n",
              "        [255, 255, 255, ..., 207, 200, 207],\n",
              "        [ 68,  68,  68, ...,  68,  68,  68]], dtype=uint8),\n",
              " array([[130, 130, 130, ..., 255, 255, 255],\n",
              "        [255, 255, 255, ..., 255, 255, 255],\n",
              "        [255, 255, 255, ..., 255, 255, 255],\n",
              "        ...,\n",
              "        [255, 255, 255, ..., 245, 255, 255],\n",
              "        [255, 255, 255, ..., 239, 242, 255],\n",
              "        [ 68,  68,  68, ...,  68,  68,  68]], dtype=uint8),\n",
              " array([[115, 122, 126, ..., 255, 236, 245],\n",
              "        [255, 255, 255, ..., 255, 251, 255],\n",
              "        [255, 255, 255, ..., 255, 255, 255],\n",
              "        ...,\n",
              "        [255, 255, 255, ..., 163, 151, 157],\n",
              "        [255, 255, 255, ..., 168, 151, 151],\n",
              "        [ 68,  68,  68, ...,  68,  68,  68]], dtype=uint8),\n",
              " array([[130, 130, 130, ..., 255, 255, 255],\n",
              "        [255, 255, 255, ..., 255, 255, 255],\n",
              "        [255, 255, 255, ..., 255, 255, 255],\n",
              "        ...,\n",
              "        [255, 255, 255, ..., 251, 252, 255],\n",
              "        [255, 255, 255, ..., 248, 255, 255],\n",
              "        [ 68,  68,  68, ...,  68,  68,  68]], dtype=uint8),\n",
              " array([[130, 130, 130, ..., 255, 255, 255],\n",
              "        [255, 255, 255, ..., 255, 255, 255],\n",
              "        [255, 255, 255, ..., 255, 255, 255],\n",
              "        ...,\n",
              "        [255, 255, 255, ..., 246, 221, 213],\n",
              "        [255, 255, 255, ..., 248, 215, 201],\n",
              "        [ 68,  68,  68, ...,  68,  68,  68]], dtype=uint8),\n",
              " array([[130, 130, 130, ..., 255, 255, 255],\n",
              "        [255, 255, 255, ..., 255, 255, 255],\n",
              "        [255, 255, 255, ..., 255, 255, 255],\n",
              "        ...,\n",
              "        [255, 255, 255, ..., 251, 255, 255],\n",
              "        [255, 255, 255, ..., 255, 255, 255],\n",
              "        [ 68,  68,  68, ...,  68,  68,  68]], dtype=uint8),\n",
              " array([[130, 130, 130, ..., 255, 255, 255],\n",
              "        [255, 255, 255, ..., 255, 255, 255],\n",
              "        [255, 255, 255, ..., 255, 255, 255],\n",
              "        ...,\n",
              "        [255, 255, 255, ..., 174, 152, 132],\n",
              "        [245, 244, 243, ..., 171, 164, 145],\n",
              "        [ 68,  68,  68, ...,  68,  68,  68]], dtype=uint8),\n",
              " array([[130, 130, 130, ..., 255, 255, 255],\n",
              "        [255, 255, 255, ..., 255, 255, 255],\n",
              "        [255, 255, 255, ..., 255, 255, 255],\n",
              "        ...,\n",
              "        [255, 255, 255, ..., 255, 255, 255],\n",
              "        [255, 255, 255, ..., 255, 255, 255],\n",
              "        [ 68,  68,  68, ...,  68,  68,  68]], dtype=uint8),\n",
              " array([[130, 130, 130, ..., 255, 255, 255],\n",
              "        [255, 255, 255, ..., 255, 255, 255],\n",
              "        [255, 255, 255, ..., 255, 255, 255],\n",
              "        ...,\n",
              "        [255, 255, 255, ..., 255, 255, 255],\n",
              "        [255, 255, 255, ..., 255, 253, 255],\n",
              "        [ 68,  68,  68, ...,  68,  68,  68]], dtype=uint8),\n",
              " array([[130, 130, 130, ..., 255, 255, 255],\n",
              "        [255, 255, 255, ..., 255, 255, 255],\n",
              "        [255, 255, 255, ..., 255, 255, 255],\n",
              "        ...,\n",
              "        [255, 255, 255, ..., 252, 255, 255],\n",
              "        [255, 255, 255, ..., 255, 255, 255],\n",
              "        [ 68,  68,  68, ...,  68,  68,  68]], dtype=uint8),\n",
              " array([[130, 130, 130, ..., 255, 255, 255],\n",
              "        [255, 255, 255, ..., 255, 255, 255],\n",
              "        [255, 255, 255, ..., 255, 255, 255],\n",
              "        ...,\n",
              "        [179, 180, 181, ..., 114, 100,  96],\n",
              "        [165, 165, 166, ..., 102,  89,  78],\n",
              "        [ 68,  68,  68, ...,  68,  68,  68]], dtype=uint8),\n",
              " array([[130, 130, 130, ..., 255, 255, 255],\n",
              "        [255, 255, 255, ..., 255, 255, 255],\n",
              "        [255, 255, 255, ..., 255, 255, 255],\n",
              "        ...,\n",
              "        [255, 255, 255, ..., 251, 255, 255],\n",
              "        [255, 255, 255, ..., 225, 236, 244],\n",
              "        [ 68,  68,  68, ...,  68,  68,  68]], dtype=uint8),\n",
              " array([[110,  96,  91, ..., 227, 225, 236],\n",
              "        [239, 217, 213, ..., 244, 237, 239],\n",
              "        [255, 255, 255, ..., 255, 255, 255],\n",
              "        ...,\n",
              "        [189, 181, 185, ..., 232, 215, 224],\n",
              "        [192, 186, 190, ..., 217, 199, 207],\n",
              "        [ 68,  68,  68, ...,  68,  68,  68]], dtype=uint8),\n",
              " array([[130, 129, 121, ..., 190, 182, 185],\n",
              "        [255, 255, 255, ..., 183, 183, 192],\n",
              "        [255, 255, 255, ..., 175, 185, 209],\n",
              "        ...,\n",
              "        [161, 164, 161, ...,  47,  48,  50],\n",
              "        [163, 164, 161, ...,  50,  44,  43],\n",
              "        [ 68,  68,  68, ...,  68,  68,  68]], dtype=uint8),\n",
              " array([[130, 130, 130, ..., 255, 255, 255],\n",
              "        [255, 255, 255, ..., 255, 255, 255],\n",
              "        [255, 255, 255, ..., 255, 255, 255],\n",
              "        ...,\n",
              "        [255, 255, 255, ..., 255, 239, 238],\n",
              "        [255, 255, 255, ..., 255, 234, 238],\n",
              "        [ 68,  68,  68, ...,  68,  68,  68]], dtype=uint8),\n",
              " array([[130, 130, 130, ..., 255, 255, 255],\n",
              "        [255, 255, 255, ..., 255, 255, 255],\n",
              "        [255, 255, 255, ..., 255, 243, 244],\n",
              "        ...,\n",
              "        [255, 255, 255, ..., 255, 255, 255],\n",
              "        [255, 255, 255, ..., 255, 255, 255],\n",
              "        [ 68,  68,  68, ...,  68,  68,  68]], dtype=uint8),\n",
              " array([[ 85,  76,  72, ..., 232, 220, 218],\n",
              "        [186, 174, 164, ..., 232, 216, 217],\n",
              "        [151, 152, 154, ..., 223, 208, 224],\n",
              "        ...,\n",
              "        [ 68,  68,  66, ..., 174, 200, 236],\n",
              "        [ 72,  69,  66, ..., 172, 192, 230],\n",
              "        [ 68,  68,  68, ...,  68,  68,  68]], dtype=uint8),\n",
              " array([[108, 110, 123, ..., 255, 253, 239],\n",
              "        [234, 238, 255, ..., 255, 253, 245],\n",
              "        [251, 253, 255, ..., 255, 252, 242],\n",
              "        ...,\n",
              "        [255, 255, 255, ..., 178, 175, 176],\n",
              "        [255, 255, 255, ..., 176, 174, 171],\n",
              "        [ 68,  68,  68, ...,  68,  68,  68]], dtype=uint8),\n",
              " array([[130, 130, 130, ..., 255, 255, 255],\n",
              "        [255, 255, 255, ..., 255, 255, 255],\n",
              "        [255, 255, 255, ..., 255, 255, 255],\n",
              "        ...,\n",
              "        [255, 255, 255, ..., 201, 193, 196],\n",
              "        [255, 255, 255, ..., 217, 209, 218],\n",
              "        [ 68,  68,  68, ...,  68,  68,  68]], dtype=uint8),\n",
              " array([[130, 130, 130, ..., 255, 255, 255],\n",
              "        [255, 255, 255, ..., 255, 255, 255],\n",
              "        [255, 255, 255, ..., 255, 255, 255],\n",
              "        ...,\n",
              "        [255, 255, 255, ..., 255, 239, 238],\n",
              "        [255, 255, 255, ..., 255, 234, 238],\n",
              "        [ 68,  68,  68, ...,  68,  68,  68]], dtype=uint8),\n",
              " array([[130, 130, 130, ..., 255, 255, 255],\n",
              "        [255, 255, 255, ..., 255, 255, 255],\n",
              "        [255, 255, 255, ..., 255, 255, 255],\n",
              "        ...,\n",
              "        [255, 255, 255, ..., 255, 246, 243],\n",
              "        [255, 255, 255, ..., 255, 239, 241],\n",
              "        [ 68,  68,  68, ...,  68,  68,  68]], dtype=uint8),\n",
              " array([[111,  95,  90, ..., 225, 224, 234],\n",
              "        [237, 214, 208, ..., 244, 236, 239],\n",
              "        [255, 255, 255, ..., 255, 255, 255],\n",
              "        ...,\n",
              "        [187, 180, 183, ..., 234, 216, 224],\n",
              "        [190, 183, 188, ..., 220, 201, 209],\n",
              "        [ 68,  68,  68, ...,  68,  68,  68]], dtype=uint8),\n",
              " array([[130, 130, 130, ..., 255, 255, 255],\n",
              "        [255, 255, 255, ..., 255, 255, 255],\n",
              "        [255, 255, 255, ..., 255, 255, 255],\n",
              "        ...,\n",
              "        [255, 255, 255, ..., 255, 255, 255],\n",
              "        [255, 255, 255, ..., 255, 255, 255],\n",
              "        [ 68,  68,  68, ...,  68,  68,  68]], dtype=uint8),\n",
              " array([[130, 130, 130, ..., 255, 255, 255],\n",
              "        [255, 255, 255, ..., 255, 255, 255],\n",
              "        [255, 255, 255, ..., 255, 255, 255],\n",
              "        ...,\n",
              "        [255, 255, 255, ..., 255, 255, 255],\n",
              "        [255, 255, 255, ..., 255, 255, 255],\n",
              "        [ 68,  68,  68, ...,  68,  68,  68]], dtype=uint8),\n",
              " array([[130, 130, 130, ..., 255, 255, 255],\n",
              "        [255, 255, 255, ..., 255, 255, 255],\n",
              "        [255, 255, 255, ..., 255, 255, 255],\n",
              "        ...,\n",
              "        [255, 255, 255, ..., 255, 255, 255],\n",
              "        [255, 255, 255, ..., 255, 255, 255],\n",
              "        [ 68,  68,  68, ...,  68,  68,  68]], dtype=uint8),\n",
              " array([[109, 112, 124, ..., 255, 255, 241],\n",
              "        [236, 239, 255, ..., 255, 255, 244],\n",
              "        [252, 255, 255, ..., 255, 251, 243],\n",
              "        ...,\n",
              "        [255, 255, 255, ..., 183, 181, 182],\n",
              "        [255, 255, 255, ..., 182, 178, 175],\n",
              "        [ 68,  68,  68, ...,  68,  68,  68]], dtype=uint8),\n",
              " array([[130, 130, 130, ..., 255, 255, 255],\n",
              "        [255, 255, 255, ..., 255, 255, 255],\n",
              "        [255, 255, 255, ..., 255, 255, 255],\n",
              "        ...,\n",
              "        [255, 255, 255, ..., 235, 253, 255],\n",
              "        [255, 255, 255, ..., 229, 231, 249],\n",
              "        [ 68,  68,  68, ...,  68,  68,  68]], dtype=uint8),\n",
              " array([[109, 111, 124, ..., 255, 253, 239],\n",
              "        [234, 237, 255, ..., 255, 255, 245],\n",
              "        [251, 255, 255, ..., 255, 251, 241],\n",
              "        ...,\n",
              "        [255, 255, 255, ..., 179, 173, 174],\n",
              "        [255, 255, 255, ..., 176, 173, 171],\n",
              "        [ 68,  68,  68, ...,  68,  68,  68]], dtype=uint8),\n",
              " array([[130, 130, 130, ..., 255, 255, 255],\n",
              "        [255, 255, 255, ..., 255, 255, 255],\n",
              "        [255, 255, 255, ..., 255, 255, 255],\n",
              "        ...,\n",
              "        [255, 255, 255, ..., 255, 255, 255],\n",
              "        [255, 255, 255, ..., 255, 255, 255],\n",
              "        [ 68,  68,  68, ...,  68,  68,  68]], dtype=uint8),\n",
              " array([[109,  95,  90, ..., 220, 230, 235],\n",
              "        [237, 215, 210, ..., 244, 236, 239],\n",
              "        [255, 255, 255, ..., 255, 255, 255],\n",
              "        ...,\n",
              "        [187, 179, 183, ..., 235, 216, 225],\n",
              "        [190, 183, 189, ..., 220, 200, 209],\n",
              "        [ 68,  68,  68, ...,  68,  68,  68]], dtype=uint8),\n",
              " array([[130, 130, 130, ..., 255, 255, 255],\n",
              "        [255, 255, 255, ..., 255, 255, 255],\n",
              "        [255, 255, 255, ..., 255, 255, 255],\n",
              "        ...,\n",
              "        [255, 255, 255, ..., 255, 255, 255],\n",
              "        [255, 255, 255, ..., 255, 255, 255],\n",
              "        [ 68,  68,  68, ...,  68,  68,  68]], dtype=uint8),\n",
              " array([[130, 130, 130, ..., 255, 255, 255],\n",
              "        [255, 255, 255, ..., 255, 255, 255],\n",
              "        [255, 255, 255, ..., 255, 255, 255],\n",
              "        ...,\n",
              "        [255, 255, 255, ..., 255, 255, 255],\n",
              "        [255, 255, 255, ..., 255, 255, 255],\n",
              "        [ 68,  68,  68, ...,  68,  68,  68]], dtype=uint8),\n",
              " array([[130, 130, 130, ..., 255, 255, 255],\n",
              "        [255, 255, 255, ..., 255, 255, 255],\n",
              "        [255, 255, 255, ..., 255, 255, 255],\n",
              "        ...,\n",
              "        [255, 255, 255, ..., 251, 255, 255],\n",
              "        [255, 255, 255, ..., 225, 236, 244],\n",
              "        [ 68,  68,  68, ...,  68,  68,  68]], dtype=uint8),\n",
              " array([[130, 130, 130, ..., 255, 255, 255],\n",
              "        [255, 255, 255, ..., 255, 255, 255],\n",
              "        [255, 255, 255, ..., 255, 255, 255],\n",
              "        ...,\n",
              "        [255, 255, 255, ...,  25,  24,  25],\n",
              "        [253, 255, 255, ...,  26,  25,  26],\n",
              "        [ 68,  68,  68, ...,  68,  68,  68]], dtype=uint8),\n",
              " array([[110, 114, 125, ..., 255, 255, 242],\n",
              "        [238, 241, 255, ..., 255, 255, 249],\n",
              "        [253, 255, 255, ..., 255, 252, 244],\n",
              "        ...,\n",
              "        [255, 255, 255, ..., 186, 182, 182],\n",
              "        [255, 255, 255, ..., 182, 178, 175],\n",
              "        [ 68,  68,  68, ...,  68,  68,  68]], dtype=uint8),\n",
              " array([[130, 130, 130, ..., 255, 255, 255],\n",
              "        [255, 255, 255, ..., 255, 255, 255],\n",
              "        [255, 255, 255, ..., 255, 255, 255],\n",
              "        ...,\n",
              "        [255, 255, 255, ..., 255, 255, 255],\n",
              "        [255, 255, 255, ..., 255, 255, 255],\n",
              "        [ 68,  68,  68, ...,  68,  68,  68]], dtype=uint8),\n",
              " array([[111, 116, 121, ..., 244, 227, 236],\n",
              "        [248, 255, 255, ..., 250, 242, 255],\n",
              "        [255, 255, 255, ..., 255, 255, 255],\n",
              "        ...,\n",
              "        [231, 251, 255, ..., 173, 160, 166],\n",
              "        [238, 253, 250, ..., 179, 160, 161],\n",
              "        [ 68,  68,  68, ...,  68,  68,  68]], dtype=uint8),\n",
              " array([[130, 130, 130, ..., 255, 255, 255],\n",
              "        [255, 255, 255, ..., 255, 255, 255],\n",
              "        [255, 255, 255, ..., 255, 255, 255],\n",
              "        ...,\n",
              "        [251, 252, 253, ..., 182, 174, 176],\n",
              "        [229, 231, 232, ..., 227, 220, 214],\n",
              "        [ 68,  68,  68, ...,  68,  68,  68]], dtype=uint8),\n",
              " array([[130, 130, 130, ..., 255, 255, 255],\n",
              "        [255, 255, 255, ..., 255, 255, 255],\n",
              "        [255, 255, 255, ..., 255, 255, 255],\n",
              "        ...,\n",
              "        [255, 255, 255, ..., 255, 237, 229],\n",
              "        [255, 255, 255, ..., 255, 230, 215],\n",
              "        [ 68,  68,  68, ...,  68,  68,  68]], dtype=uint8),\n",
              " array([[130, 130, 130, ..., 255, 255, 255],\n",
              "        [255, 255, 255, ..., 255, 255, 255],\n",
              "        [255, 255, 255, ..., 255, 255, 255],\n",
              "        ...,\n",
              "        [255, 255, 255, ..., 255, 255, 255],\n",
              "        [255, 255, 255, ..., 255, 255, 255],\n",
              "        [ 68,  68,  68, ...,  68,  68,  68]], dtype=uint8),\n",
              " array([[130, 130, 130, ..., 255, 255, 255],\n",
              "        [255, 255, 255, ..., 255, 255, 255],\n",
              "        [255, 255, 255, ..., 255, 255, 255],\n",
              "        ...,\n",
              "        [255, 255, 255, ..., 195, 187, 190],\n",
              "        [255, 255, 255, ..., 211, 204, 210],\n",
              "        [ 68,  68,  68, ...,  68,  68,  68]], dtype=uint8),\n",
              " array([[ 97, 107, 119, ..., 255, 255, 255],\n",
              "        [221, 239, 255, ..., 255, 255, 255],\n",
              "        [221, 255, 255, ..., 255, 255, 255],\n",
              "        ...,\n",
              "        [110, 112, 111, ..., 158, 154, 159],\n",
              "        [111, 110, 111, ..., 163, 158, 165],\n",
              "        [ 68,  68,  68, ...,  68,  68,  68]], dtype=uint8),\n",
              " array([[130, 130, 130, ..., 253, 239, 255],\n",
              "        [255, 255, 255, ..., 255, 239, 255],\n",
              "        [255, 255, 255, ..., 255, 255, 255],\n",
              "        ...,\n",
              "        [255, 255, 255, ..., 115, 111, 116],\n",
              "        [255, 255, 255, ..., 119, 116, 119],\n",
              "        [ 68,  68,  68, ...,  68,  68,  68]], dtype=uint8),\n",
              " array([[130, 130, 130, ..., 255, 255, 255],\n",
              "        [255, 255, 255, ..., 255, 255, 255],\n",
              "        [255, 255, 255, ..., 255, 255, 255],\n",
              "        ...,\n",
              "        [255, 255, 255, ..., 244, 255, 255],\n",
              "        [255, 255, 255, ..., 238, 242, 255],\n",
              "        [ 68,  68,  68, ...,  68,  68,  68]], dtype=uint8),\n",
              " array([[130, 130, 130, ..., 255, 255, 250],\n",
              "        [255, 255, 255, ..., 255, 255, 249],\n",
              "        [255, 255, 255, ..., 255, 243, 235],\n",
              "        ...,\n",
              "        [255, 255, 255, ...,  60,  60,  61],\n",
              "        [255, 255, 255, ...,  59,  57,  60],\n",
              "        [ 68,  68,  68, ...,  68,  68,  68]], dtype=uint8),\n",
              " array([[ 78,  72,  79, ..., 255, 255, 248],\n",
              "        [171, 160, 176, ..., 255, 255, 249],\n",
              "        [165, 170, 180, ..., 250, 251, 255],\n",
              "        ...,\n",
              "        [ 79,  73,  67, ..., 196, 196, 206],\n",
              "        [ 76,  68,  65, ..., 192, 192, 201],\n",
              "        [ 68,  68,  68, ...,  68,  68,  68]], dtype=uint8),\n",
              " array([[130, 130, 130, ..., 255, 255, 255],\n",
              "        [255, 255, 255, ..., 255, 255, 255],\n",
              "        [255, 255, 255, ..., 255, 255, 255],\n",
              "        ...,\n",
              "        [255, 255, 255, ...,  68,  67,  65],\n",
              "        [249, 248, 245, ...,  64,  54,  51],\n",
              "        [ 68,  68,  68, ...,  68,  68,  68]], dtype=uint8),\n",
              " array([[130, 130, 130, ..., 255, 255, 255],\n",
              "        [255, 255, 255, ..., 255, 255, 255],\n",
              "        [255, 255, 255, ..., 255, 255, 255],\n",
              "        ...,\n",
              "        [255, 255, 255, ..., 255, 255, 255],\n",
              "        [255, 255, 255, ..., 255, 255, 255],\n",
              "        [ 68,  68,  68, ...,  68,  68,  68]], dtype=uint8),\n",
              " array([[130, 130, 130, ..., 255, 255, 255],\n",
              "        [255, 255, 255, ..., 255, 255, 255],\n",
              "        [255, 255, 255, ..., 255, 255, 255],\n",
              "        ...,\n",
              "        [255, 255, 255, ..., 222, 211, 224],\n",
              "        [255, 255, 255, ..., 203, 207, 221],\n",
              "        [ 68,  68,  68, ...,  68,  68,  68]], dtype=uint8),\n",
              " array([[130, 130, 130, ..., 255, 255, 255],\n",
              "        [255, 255, 255, ..., 255, 255, 255],\n",
              "        [255, 255, 255, ..., 255, 255, 255],\n",
              "        ...,\n",
              "        [255, 255, 255, ..., 249, 225, 217],\n",
              "        [255, 255, 255, ..., 255, 222, 206],\n",
              "        [ 68,  68,  68, ...,  68,  68,  68]], dtype=uint8),\n",
              " array([[130, 130, 130, ..., 255, 255, 255],\n",
              "        [255, 255, 255, ..., 255, 255, 255],\n",
              "        [255, 255, 255, ..., 255, 255, 255],\n",
              "        ...,\n",
              "        [255, 255, 255, ..., 230, 251, 248],\n",
              "        [255, 255, 255, ..., 221, 225, 243],\n",
              "        [ 68,  68,  68, ...,  68,  68,  68]], dtype=uint8),\n",
              " array([[130, 130, 130, ..., 255, 255, 255],\n",
              "        [255, 255, 255, ..., 255, 255, 255],\n",
              "        [255, 255, 255, ..., 255, 255, 255],\n",
              "        ...,\n",
              "        [255, 255, 255, ..., 255, 248, 238],\n",
              "        [255, 255, 255, ..., 255, 242, 227],\n",
              "        [ 68,  68,  68, ...,  68,  68,  68]], dtype=uint8)]"
            ]
          },
          "metadata": {},
          "execution_count": 48
        }
      ]
    },
    {
      "cell_type": "code",
      "source": [
        "faces[0], faces[0].shape # ver os pixels somente da primeira img"
      ],
      "metadata": {
        "colab": {
          "base_uri": "https://localhost:8080/"
        },
        "id": "gpdLzah7W46U",
        "outputId": "3313fc6d-f41f-4f7c-ccff-be621857670b"
      },
      "execution_count": 49,
      "outputs": [
        {
          "output_type": "execute_result",
          "data": {
            "text/plain": [
              "(array([[130, 130, 130, ..., 255, 255, 255],\n",
              "        [255, 255, 255, ..., 255, 255, 255],\n",
              "        [255, 255, 255, ..., 255, 255, 255],\n",
              "        ...,\n",
              "        [255, 255, 255, ..., 255, 255, 255],\n",
              "        [255, 255, 255, ..., 255, 255, 255],\n",
              "        [ 68,  68,  68, ...,  68,  68,  68]], dtype=uint8),\n",
              " (243, 320))"
            ]
          },
          "metadata": {},
          "execution_count": 49
        }
      ]
    },
    {
      "cell_type": "code",
      "source": [
        "faces[0]"
      ],
      "metadata": {
        "colab": {
          "base_uri": "https://localhost:8080/",
          "height": 283
        },
        "id": "m8CWcF_hXVKa",
        "outputId": "be19bb89-da43-4fee-966a-11a0271dbb2d"
      },
      "execution_count": 50,
      "outputs": [
        {
          "output_type": "execute_result",
          "data": {
            "text/plain": [
              "array([[130, 130, 130, ..., 255, 255, 255],\n",
              "       [255, 255, 255, ..., 255, 255, 255],\n",
              "       [255, 255, 255, ..., 255, 255, 255],\n",
              "       ...,\n",
              "       [255, 255, 255, ..., 255, 255, 255],\n",
              "       [255, 255, 255, ..., 255, 255, 255],\n",
              "       [ 68,  68,  68, ...,  68,  68,  68]], dtype=uint8)"
            ],
            "text/html": [
              "<style>\n",
              "      .ndarray_repr .ndarray_raw_data {\n",
              "        display: none;\n",
              "      }\n",
              "      .ndarray_repr.show_array .ndarray_raw_data {\n",
              "        display: block;\n",
              "      }\n",
              "      .ndarray_repr.show_array .ndarray_image_preview {\n",
              "        display: none;\n",
              "      }\n",
              "      </style>\n",
              "      <div id=\"id-6adb42f8-b7b4-4b57-b86c-31e972fca820\" class=\"ndarray_repr\"><pre>ndarray (243, 320) <button style=\"padding: 0 2px;\">show data</button></pre><img src=\"data:image/png;base64,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\" class=\"ndarray_image_preview\" /><pre class=\"ndarray_raw_data\">array([[130, 130, 130, ..., 255, 255, 255],\n",
              "       [255, 255, 255, ..., 255, 255, 255],\n",
              "       [255, 255, 255, ..., 255, 255, 255],\n",
              "       ...,\n",
              "       [255, 255, 255, ..., 255, 255, 255],\n",
              "       [255, 255, 255, ..., 255, 255, 255],\n",
              "       [ 68,  68,  68, ...,  68,  68,  68]], dtype=uint8)</pre></div><script>\n",
              "      (() => {\n",
              "      const titles = ['show data', 'hide data'];\n",
              "      let index = 0\n",
              "      document.querySelector('#id-6adb42f8-b7b4-4b57-b86c-31e972fca820 button').onclick = (e) => {\n",
              "        document.querySelector('#id-6adb42f8-b7b4-4b57-b86c-31e972fca820').classList.toggle('show_array');\n",
              "        index = (++index) % 2;\n",
              "        document.querySelector('#id-6adb42f8-b7b4-4b57-b86c-31e972fca820 button').textContent = titles[index];\n",
              "        e.preventDefault();\n",
              "        e.stopPropagation();\n",
              "      }\n",
              "      })();\n",
              "    </script>"
            ]
          },
          "metadata": {},
          "execution_count": 50
        }
      ]
    },
    {
      "cell_type": "code",
      "source": [
        "# ver qtdade de pixels, porque a img eh tom de cinza se fosse RGP seria x3\n",
        "243 * 320"
      ],
      "metadata": {
        "colab": {
          "base_uri": "https://localhost:8080/"
        },
        "id": "FlMmMBLuXpzg",
        "outputId": "4a00160d-4749-4ad8-f57d-e5ccc1172761"
      },
      "execution_count": 51,
      "outputs": [
        {
          "output_type": "execute_result",
          "data": {
            "text/plain": [
              "77760"
            ]
          },
          "metadata": {},
          "execution_count": 51
        }
      ]
    },
    {
      "cell_type": "code",
      "source": [
        "ids[0]"
      ],
      "metadata": {
        "colab": {
          "base_uri": "https://localhost:8080/"
        },
        "id": "UfvQtHbG5xcP",
        "outputId": "ce9b2797-f691-4795-bdf7-8bdfde97e66b"
      },
      "execution_count": 52,
      "outputs": [
        {
          "output_type": "execute_result",
          "data": {
            "text/plain": [
              "np.int64(3)"
            ]
          },
          "metadata": {},
          "execution_count": 52
        }
      ]
    },
    {
      "cell_type": "code",
      "source": [
        "#  se a img fosse RGB colorida, respo de valores em cada uma das imgs\n",
        "243 * 320, 243 * 320 * 3"
      ],
      "metadata": {
        "colab": {
          "base_uri": "https://localhost:8080/"
        },
        "id": "q8TNrCxvX9IE",
        "outputId": "2a73b940-4499-458c-8a78-792d64184a54"
      },
      "execution_count": 53,
      "outputs": [
        {
          "output_type": "execute_result",
          "data": {
            "text/plain": [
              "(77760, 233280)"
            ]
          },
          "metadata": {},
          "execution_count": 53
        }
      ]
    },
    {
      "cell_type": "markdown",
      "source": [],
      "metadata": {
        "id": "ICZBp0KT4iIB"
      }
    },
    {
      "cell_type": "markdown",
      "source": [
        "# Treinamento do classificador LBPH"
      ],
      "metadata": {
        "id": "Ya-NAR_a4j19"
      }
    },
    {
      "cell_type": "code",
      "source": [
        "# o open_cv ja tem implementado esse algoritmo\n",
        "\n",
        "# usando as imgs de treinamento para o algoritmo aprender os istogramas, depois usar as imgs de teste para medir o desenpenho\n",
        "lbph_classifer = cv2.face.LBPHFaceRecognizer_create()   # variavel\n",
        "lbph_classifer.train(faces, ids) # treina o classificador . Faces os pixel e ids a pessoa ex 10 umero\n",
        "lbph_classifer.write('lbph_classifier.yml') # gerar o codigo para o treinamento"
      ],
      "metadata": {
        "id": "YE1TqjnD4oeh"
      },
      "execution_count": 54,
      "outputs": []
    },
    {
      "cell_type": "markdown",
      "source": [
        "# Reconhecimento de faces"
      ],
      "metadata": {
        "id": "2fcXjzji7bPx"
      }
    },
    {
      "cell_type": "code",
      "source": [
        "lbph_face_classifer = cv2.face.LBPHFaceRecognizer_create()   # variavel# cria o obj dessa classe para carregar o arquivo (agora que o file yml esta no proj)\n",
        "lbph_face_classifer.read('/content/lbph_classifier.yml') # carregar o arquivo, executa o codigo\n"
      ],
      "metadata": {
        "id": "qmNzQwZW7qFV"
      },
      "execution_count": 55,
      "outputs": []
    },
    {
      "cell_type": "markdown",
      "source": [],
      "metadata": {
        "id": "5aywwSy37jNX"
      }
    },
    {
      "cell_type": "code",
      "source": [
        "imagem_teste = '/content/yalefaces/test/subject10.sad.gif' # variavel que armazena o caminho"
      ],
      "metadata": {
        "id": "7ac_EWNT88sT"
      },
      "execution_count": 56,
      "outputs": []
    },
    {
      "cell_type": "code",
      "source": [
        "imagem = Image.open(imagem_teste).convert('L') # abre a img, converte para escala de cinza, fazer a leitura\n",
        "imagem_np = np.array(imagem, 'uint8') # converte a imagem\n",
        "imagem_np"
      ],
      "metadata": {
        "colab": {
          "base_uri": "https://localhost:8080/",
          "height": 283
        },
        "id": "Dy5U5jRU9F3g",
        "outputId": "a15fa9e0-0c01-43df-df3b-479dafe505ff"
      },
      "execution_count": 57,
      "outputs": [
        {
          "output_type": "execute_result",
          "data": {
            "text/plain": [
              "array([[130, 130, 130, ..., 255, 255, 255],\n",
              "       [255, 255, 255, ..., 255, 255, 255],\n",
              "       [255, 255, 255, ..., 255, 255, 255],\n",
              "       ...,\n",
              "       [255, 255, 255, ..., 241, 255, 255],\n",
              "       [255, 255, 255, ..., 234, 237, 252],\n",
              "       [ 68,  68,  68, ...,  68,  68,  68]], dtype=uint8)"
            ],
            "text/html": [
              "<style>\n",
              "      .ndarray_repr .ndarray_raw_data {\n",
              "        display: none;\n",
              "      }\n",
              "      .ndarray_repr.show_array .ndarray_raw_data {\n",
              "        display: block;\n",
              "      }\n",
              "      .ndarray_repr.show_array .ndarray_image_preview {\n",
              "        display: none;\n",
              "      }\n",
              "      </style>\n",
              "      <div id=\"id-9d2c1607-0c81-4181-847d-75c4be51436a\" class=\"ndarray_repr\"><pre>ndarray (243, 320) <button style=\"padding: 0 2px;\">show data</button></pre><img src=\"data:image/png;base64,iVBORw0KGgoAAAANSUhEUgAAAUAAAADzCAAAAADS0pAZAABQ00lEQVR4nO29aYxtWZYW9n1r7X3OHSLizTlVVmbNRTc0uGn3wNTGgDBg40YMFrYRWMIDsiXA/yxZsiX/tfwDC9n+gy3wANjgNjYyBsRMMzRNd1dXddaYVZlVOb8pXkTc4Zy911r+sc+N9zLzZVZmxot4hVRb+SLfi+meve7ae03f+hb/Kzy+pfGTv+kxvvwjWYzH/QT/gi953A/wL/r6vgDPuL4vwDOu7wvwjOv7Ajzj+r4Az7i+L8Azru8L8Izr+wI84/q+AM+4vi/AM67vC/CMKz3uB3j4qi92e6sXf/HN7spS7eTg6cWzH9t73M/08PU9KsBvf0muvvWVL97OB9eu5Hp4s7uH/hOP+6Eeur4HBWhv1C/+zW+/ti2bsYLdlUu6rumTz+H688u0qun4xGdPL5Y3PqGP+0EBfC8KcHz55e3Xb2+2h9XdwHFNbE2/s9XvfHNPrQzHVvONxfXP3Ll89drjflZ8TyVU77w2rF75zp2jezUdvrrdriuFCKQOY1CyKmDuMEMIdL6cLT/1Ez/y3OzmNw4/9/zBY3vq7x0NXP3yF4+P3jg+Xrnqaj0UjxAB3AzhGiYVCPfwoFv4+jileyd3frh/5RtlM9547nE99veKBn75n/+DF+5txkoEKCijWzBnAAZFRVJFhTgQ1cOrI1ykW8y8pG62/+SP/8Snn30sD/49ooGv/rN//u17K7OIAMPDIwAgCACgGsKBcAAQByABIWFrh9VS6s+X4zufehyezuPXwNULN9/48pdePRk9IgADGBFhFkJNhDAYVRTiAg8C4fAIE8LEhQDJpN2153/q37x84Y//+DXwSz//1ddv3TwZPBBwAAhEWIAIDwKMcDgU7e8gpR1sAC4IFxOt4Xf4wvOfvPC78DFr4NHP/J2fv7kZi5k7CE6PQ7MmR2ZBkmruosmFgAWgMAQ80IQMIKgiuZt98g/869fyhe7gMWugvvLy8aaUal4hYAQBEC6McABhgDkIOEIcAiBgZDAYLgwAgQCcUWP89t9Jv+rTly9yB49VgMd/5q+/eq8UqxGgCgGQCgRd4OIOIlhV4B6BICYFVYSBIuEGDwBE1KCm1Rft3vDrL3IPjzUb88KLt1dmVhERJDnZXAoICBFAeHgzyV5PrXMYQIIRFh4RFhHmCCfGm9/82slF7uEx3oGH/8PPvHY4WPEIB1TQjq8Kwi1CAAaCYQ5l1IgghEJhACQ8wiIQ7bALKbnrhHvXf/KPX2CM9xiP8AvfurOyydJCEIiAAAa6hQeE4gKHuIeCwXA6Ql3Q7kqEGKJ5jEJSCQO3xy++eIECfGwa+KW/+TdeXhUPd8ABhgUAUEkRs3BlJwF3kVprgBT35tYIpVlfQtzpTXUJEYgy9Qef/uM/eWH7eFx34Fd/7ufe2laHB5rmRSA8wqu7OwgEzNzRxEsEXESUANxBOIgIC4ICkEC4u5vVOrz1rYvbyOPRwOEv/o2v3B0qGNWmcK3GdBpJijAcQjICQRKICLiQoNcIkoggdmYZAAIgEKSmxed/72//1AVt5bHcgS/+1Z/55p2xglEdDAJhICLg4lAEAgJXRiAQxHTjgSoGNe7OLAA4BB6ISU8JU5QrH7+ovTwGDfzKX/nH31pvrArNJ62zKcRtsZyQbE9GigNBbbpGJmknnuZAtB9uYg8gQEIc2s0+95uf+MTTP3D+OeuaLl4Dh5/9xdc3o4c0728yHS7wU12jRPOhwRYcm0ZLzXhzdQiRAGo0wWpMPw2BA2HjzW8c3f744vyP8fGVi9bA+sL/9vcPy7qCgdouroAQQEQQaIJyD0cEyICAFJnSCIwgJCiANQV0IMCY3oh2qgV6cONGf/XzP/jEwdPnnOO6YA1cfesffemoFnMxacpFEBS4wCTQrAiEJkEHwXCBiDCCAUQw4AEDIlw8mho7yCAD4QoYJIZVTuvjmz/wzMmzN851RxergV//3//edwbUwQgBJ88P2i7/CjQNbDoFRICBXYwX9CA9wgMRO6PbohCHTO4MgkIG2KtQuvni0vOf/NFPPXt+enKhGrh64RtvDQ4ziIMRMdnSgCkDMQk0orl5YItQ0FJbCMDDHAzEaXY6ABjDFLufcQECBUYBzTpwk84v3X+RGvgPf/qfvVoszJBgACJClIS7QBC13WiEMwQtmxBBbyk/DwSarRbH7rJs119LglGasgYSECSZhInzg6tXP/a7z60f5QI1sHz5m4eDMxykN2cYANonwoBmCyIQDAYpzqDD2uesmdkW+QGx86IZUxYCCISEACa7DHZUHY5R+cW9X3VOedaL08DX/tLf//ptQ1RkRlgoDRChGVWtXYAR4RBISyu0K64lXOCTBWEQk+ym5CBaSpUEoUKKN+GqikKCovOD7sqP/94fPJdtXVws/OY37w1NCgCpOw8QoDAiPMKbhXD3du+5m+0uRsqpcYkInwxJ82NaRhXTt7Z/BMLDLRyEjZvN6tsvn8+2LuwI13/48p21h6pIQsAY7knpVZRuES3hx6k0ArGIAAIyyWMnFuC+WWk3XnOhm15W1SkuifCi4VQiBkvruzd/9kd+e/fo93VhAjy5U6sRoChBj5aEhgfovpPJJJ8WWEz/khboQjAlaabsQ2B3i+7uQMIJUFpw3GonoBMMt+1bX5l/9vOPfl8XJsAvvLHZqjMrFO4OmKtoMTLMI9q59WZ7BTuPGgEHwxFscQlpCFLdW+4AQDAABhGUZmAg4vCAlCQlCEnA+Npb33npR3/L8496XxcmwFvVOamJ4r5OQegI26WlQnelzfZxit/QwhV40z8qIlqZGMHp/BLNRk/3YsCnTGEAYWSUo1cXNxaPOi65KAFaDGt3QexCjQiSXile3aLl/zyDLQtzamEJCEQQYDPNrmSEUbGztmz6JwChIKIZagkPJ12AMBamVL/24hf+tT/yiCV4YVZ4WJWAtNO7K64hALd2X4EtMYhJLB4RcFKEJEV1lwOcAjvsHOmmgEATN9ly2wB4354DHhWI4fDNVx7xvi5KA8fXjsoIhVeROo5QB2kWamaBQCgBgZ1iOwAIRNsbPElFHBDASGEwFAGGtwwYG+QDHhHchcoAwgWIAqbiWVZ/79bv+V2P1KW+KA28W1CtVT0iAq0gCdCnM00VkalILlPqCmwfwJg+r5qaIVeRFrm19Gv7M+kqhdPF2VBIIALhtXiFDt/5+kuPdGMXpYGru5v1kMQdanV0F4QTznALklABwoOijDBpR1N2FSVpQVxLm7bQrWlbC54JgOIQRYQlhAG1VeMBiRB1ADGi6v7Nv/hL/8q/vXh0G7swAW6G4m5uEtXCDSSc8LBoFmBnVRnhu0y0S4AIktIkRDWdImiAoXADhC15IxA2T9G9AWumIJABtXABrBbZvvrVVz/76DZ2QQL8O3/5Z1/bwmsNbQGWiwEiEdLwaoYU1FZnE9Da4QRIKiCS0BIxIgpvgpJEGmgRHh6waLmYUJRSTMzYjIkGggm1SPJ13e9ePfT/4NF51BckwDt31hbwiAmP1opFUz50OmmnGQJGTMl5klQImNiy1swkVMSFlCRwMqpVV1i00gCRwkjSIcZwNisyaW54yen4K7/4L5oAX/zHX7o1AAEoPQBBi+XEYheeuTYHMVwAigCkiiiEZBIlDCpUEpqTAJIkGTNKGWtEscmAO2CzPA7GMHXAEIKARYLXFGWTLp189b/+1h+7/Ii2diECXH/ltRMLEAyhRzjpO3wLTn06TKBUhwRBUilKEaEwiTgoSURA7bIQTIreFYAUC1Ajmv1pUWCqzRDDkos4CY0wQRSTvP7K137sEe3tIgT42p/+Jy8dBcMkUgLCTVu5A03pHKf1S8CdAhWASVWYIFnIpPDQlFNKKecuoVBU6QazMCtmUSuiOiKqY3BxMQdCPYojCQXS11qU6yHP1j8z/Je/4tFs7iIE+I0X39qEh8OFAOBwTBXhyWUOTqEJd44gRUVEVKiSKKIMSJY0y9p3HY2EZBpD6IQH3RNMEXRlUBSYHBzCTaOVpeAS4dUw3nrpXxwB/rM/80v3SiumiSLEwOBpAnQX9oa3gjCkmQ5NmlNOIkmVDFK6LpOLru86LQYTQtXNSi2lM5iX8CgIr14jefHqRRwKRBRJAlJYPBBmff3qn3rj330kEckFCPCFV1Zjy5IEEO6TnY1JaNPZdQACa7XKICmiKSWlJEEIVVJOTF3fdZ1URavZCUOjJoizaiB6N6JqAgsbSEHbW+UlA6C6u8SYU7n5pdcfCaL/3AX4hf/773597XBzB90CCBF3oIWxYdP3BcVbdxdVs0ju+tz3SQkyIuVeu6zazYWpozT8r3RWrNYhohSPalUY1UopUkvtxuRQd6ESMIeoJh9by8TB7Ohvyb/3yfnZ93feAiy//AtvVkzy45SHmRAIU218l6ufhAqhgCkpRVWVoBhTzjl3orNMiOQOza1OEtK02gJiIoHkopUiKsq31e/CMwDxcHitjM2LX33me1+A/9dfeeHWurhbc1rCheqkAYQDxtMSLzFVxoOak3Z91+V50kShiqbc9V1HmWugn6XOqwYY4uNYYhx94FgoAlqoawpB7epoHi5Ae0+iMmVlNTC2Yx71a3/vN551e0N/ztmYVb/XJW0RGYmw6oC23BWEgdBmS04DXATComX1YMEQEcl9FoCQBFGlJO17SUmE/WK+7PsudX2XVKlQSSnlJJJznmdt4KNo9fpSHVSJAH1AXf/zn7b3ffrvukp/zhr4T/7fv/7mdqzhU+4UAsAc7t5KvNbev10OOoBAN1/klFOaz2Z9ArPmvqPmrss5pIPkvpNAgniVlEVsuzku4yAJhMMlCKirqIY7GvAGQgge8N1hLtG5nQ1BmHG++cC73/jG8Vhra5IBIIK2CX8gHz2VxBlkc9uomlTZTLDmlFOidqopi6QGDGygahcRJhWFZs1ZU5daybTVBahKuECEu5Q13IOCpupu9darZ9/kuWngF/7PN7fffHU1jjEl5pQkJTwCHpzQpS733ekIRDB1s67T1M0Wiy4nlZxTlpzB3FUqJHcaATABHqmTnKr0zgqYF6Zag0JFeMSYRzdSNKaiE8NV1A0EDMPh1778/IdSIH/Id5+bAA/0jbt3KygRMeX0ZMKfWoCyK8xN/b+YarzCrKKqfZ81J0maU5eZEiAhBDUlcURoqghOblCqmhJKVTFJrQ4SwpbkBjiBLpsUGe31QBSXD3cAH/bd54eNKX/pp188Wtca918h4DG1e7Stn8YiMZXWwH5vr+/6fr7oOs2dpq7TLNKLK4KKrN1MqzvD3HWeRFCGAbYdxlJLGcfiZajVay3j9t7RqgZENRhCQklJRPWQMEN+8kd+7Ld/8ozbPD8j8trPvrIezWLy9NDk18ptrnCI435DF1qBXPrlvO+73M/6pDlJzqodk0rTVURoonm4O8ikhPu4Bc1CGGG1IszDI8xjHEcPF1HiFAuGYLiTsADMf/Cs8jtHAW7eXG/HGpM/0uq6DBfxAKw1qjKaZebUiZnycm82m3f9fNGL5pT7rsuaVQlRisDQa5dHq3WEgpDwcClWzI0CUmpQQiDu1JRGQXuXwmWCMkSQMGqNevfVe2fe5vkJ0Ku7h9/vQm+YgQkw6a0PrkXFsbtKJGUV0ZSyUpNozl2fUkpiVElKMZO+g5ioUFscbYQbYGbWWD12JTnswDMMwiQYJnAqAsEGFB5ubs4ajJyfAP/2nWoIO4WhARNuigQ9RJpJ5oS8Iqhptpz18+VsOZvP+5Ry7md9VlIJQQJTMKqNfRaU8DDRYJhFRJiHmWkXkSQiuWcvDtEpWSvJ0W4NgYtHiFpVu/mPf+IHzrjNcxPgcG+waN0wkxPtDcvHCPHJgdmZsAYx0C5ryjl3KXdd12XNfe4kCdhy/HAiXMIkGRSRyHBzD6EDEJm66EgiCOh9EOxkgh3uDbcQgMDK4Vs3eLbWznMTYN9tBwfFGrD0QbT4DiMzAWGaTqbUdX0/m80Xe4vlYjmb55Rzp6ok2NHAEklQRLuekeCEgMmKpICb5zxUgtTQSFqcSoqq0+ECMAU0IAhTOCIoNXjyzZ+79omz7fPcBDgKMaVe2JLQ2IFyAQBhU5clCQpEc+66Lufc577v+1nfZc1KVUBVBBFKSJAgIsIgIJPUU6iMBcItkJzSmnB2dwNAqgXF4IIw0oOtq2S0K2dsxDk3Ad61WVj1xqRDmdrZmr/MAEzEAREhkkjS3Oms77vFYrZ/abnc62azTiDiwkjBXN0rsqALAIqqzpmLFulsIJnCq1GrVWWmhai5KEVNTUgBcvVKcZcIIAyd0s02x9fPuM9zE2A3S81FbhZYfAck3TGbIECIiIqqqqbU5a7rkvbzfjbr+1nWRLKBCqMGAkqGNu4dUAQUoYgHSadZw2KCQgoBdwih3nq1QXGE724ShkM8Yrx1dEa427kJ8I11RHjDL7u3jF80lMsp1pmJOp/Ps4CqqZv13Wy5PLh8adb3HTORKCFwr2aMMYBQhQtDmbPmEgnZMTKq1JAabNvJCJUId0kJIQHlxCgQAlSKw6MqEVa+8Jd/39kkeH5GpGw8grEjOCDEKRP+lA3aJ8ya5kuluErqZ33fzxbz2azPfaJGuIYkGZ0SYY1NQW3K3ohQ3ACXrph4EBKiJhEMgs3gi1aKT9mZlqD205QWEYjxlW8Ol89yDZ6bAD91bVVt19A1lRQnxE8DkFNz13X94uCgJwKSc9/PlnsH+/uLjp2A5iSgzMlKoYZDRZkbzigJ2QVH6x0da+eig6uJedDdQGmIfwFqhERzbrw64E4gqlNKLSdv3fn4mXzp83OkC+CthzwgTghaxbLRi0GYur7rU9flXsWhkvt+3s9ns77rNIdBSSBRnQFSPSQx2KCZ2ooAqgJXppQImu2yJWRApGVhJjPcrgwCre2z4VoJB/SZdz35h6l3npsAb72O0F1H+f1MUKBV5CTlxcEyaZ7P58uZkCn3fb+YLefzLvcpe02qNkSnLiYZSKGTR0KmUEdo50jVBGOauRVblGCKqCYIiFCJiAgqEIIqDIhNgH6ECdXcowzvevQPVS8+PyOyrT5Byh3RqNYgDf0TBJi6fqaaZ32SFKppNsu5m/WZpCRQNQlSRA1DgDBTaR10FVUgTiEab4wHIIrkNRzwCXYNCCymWDF2nAAmk3sYrgAdyysfdYcjOpyjAK8emAQnLBbAaLC+gADBlPu9/YO9Tib3WbrZrEt5sZjPqYteiBBKyx0KqNlKlspM0nOBiHooxWtF1GJIPS0RFaJSihmCSogWOFzE0XBgjtb4EB4Bo3j48umPusPW9nRuAnxyBgD3e4DRLsEAxCkimnNW1ZQ1KZBUlFCBuFJaA6tQgxrOENTG6mEKqE0QX7qhGs0bk4yITQ06DZAO6ES/1WLxlqBpiEsXQ7hEoNy7e7Z9npsAVQykQ3ddL0KwteerpLzcX+71XZbc5Zy7btZpSp2yy0k6jJJVaoWHMizClVQNJYbIeQwLaurqyRhjESlex+oezJHDQj251EDqi6rQLUJialqcCBYQzqCAgs2r774DP9Q6v1j4jvt0A7VeVZ/wLAQouUtJhBQVNhAWoYyIiPARCaFe0fYcUZ2wgJPVszUvRKyWUkpF58WqhQNUISW5Swm0rgcivLmEcGn4peaHTogmmp0RYnR+RuTFwb21XwK7tEGAQarOlvuLvT51WVPuu77vO8kJENQKmFdql2MMzQAdMGvN/eKhDnWvEaMO67raqm7FLKBZJDw7UxUFtA4yi0CMcCMpoNiuEweI8FbeJPIZicrOTYCpJY3ul5QaM0m73bQVdCkqgtaF5C4Cj+q5+iheUwQME9ciGBEm1ph6vMAZNmy9GlzD6BNEJAI7Fj2ES2rymhBg2GFhp+91AQQyO+s+z2lt7xkwteczOCURAqRq7ueLedelljvNOcEY0IjYWipkrTAhI+UISSrKYmGwQO1dYhwHF/VxPRpUq1mnHuGMGvTBQiV5hNdWVbA6QXAwwZdCpbEIOOlx+J2PnWmf5ybAt47Epp6r06uvscR4Esmdkkrucs0MU2d1JyoUYV6dYmEU6wGERVgtytEZddiEaB2HWgTBYAVqeFS3arUiRGkSEq05eYcbOeULiB1jDSD0VT2TDM5NgC/egzMipor5Kc9aULvF/sEyZWlVMh89xKp0ypRJKEUFUQaXrCEpzwTigWLhEHcvXsZgWI3qKWvK4dsybC3Mi5mNoUlIiUjee1itFhLhEEa4kE5FuKBZtatn5JQ5NwHOJlJjAvRd6ZJgUERTFm1FC/WRHcQqjNI7JKhKZZRNJBciSyEIqx4hcIxWooyQ6m3agyOslDIMxT28hhd4pAgPUFVUhZgobRWQ+0iCdjT06TNSypybAJc9pjs9ojFwNPQupZsvD+ZZExlktaGEACk5cjIKFGmWCbPIANO8dCBQS/UkQJjDx+K1RvXwUKGNYxlLDStCNxdDN+9VXJJLB6/FJg+68f1gyiqEAGB//XvVjVkHp4T0qQHmhNFS1QkgxfBhGKpSVE1rOEWIzjpp3qOLUpxkWA24WQAeXmodR4TBqtC9DKVWj2oU1Iba9CQTdkRAsV0LgLVcTGvPdqEgpTNiW85NgNcObhKQoFOaPy0RAUndbG+/mxLTW9ucjFaZW49gIamI3PedZFGCkodRlUQwuZcaRm83XbG6HWu1cLcabgEwKSwAF2rXZZWwUO27YUIhkj4hrBoglgJJn+7Pts/zE+AltCunWYrGaAxAtEsCZbg6al1viruC4RHVm7s9bGd90tyqJWWTExFM8DpaANWKmQ1lLJsyVkOYu4czkCPEpsBn9JqyOBzcwVQ5obEn6poWkchZR7mcmwB/1ed+QRrz7q6VlQ5XzbPFcp4oCeM4jGVTPKh0dx/rBPMIptT1XZ+7PqUud6kLSFIv1cO9lFps2GyHYTO0uSLBKfeiSZMoEBiZoN0suVA0me+aUQgYFSCDIq7pM2flMzo3AVafMHkT9AoAjFBJU8tgGbfbMcwmoXmp4e4th1hTraX2AbcIcgTVJcLN3cZSx3Hcbof1UH0aWiB0kUa4moVBAC4NwjXFbogdWl8eqE6Tly6dcZ+PTIDvRG/uYPmtxzAAeA1S5/NZp4gYh+PtUBBmLcFptVZrFDIIqEjuutms72Z9zl2SAIVh5rbdDNuxjsNm8HBv6BqCKhIhLrVLqtUQkDpSKF2fx/vOCxGYUqlgknSwOmNh+JFhpN/5i/JP/UDSicuvwa+iQQrGcXT36kgiAogy3K3WQMB3vIBWrWzXq9VqtVoNw3YYay3VPSLMPNwtICo7yjuhNggSG1qmgl7NvRZnyrNFl+Q+1QcoaF51CPObf+vOR96yA+d4hN/8P75cXXzXskB3D2qaLw/2OoK2HYtBJcaIcFgAkksEVNEy8B5mtfRm3nUlkymqRyn1ZDNsi5fiICkIBVRS12uiIGBEDa8IL43UDDH1CQAAGi81W14muh/+L37NR9lc9Q5ATXKe6KzhlG1jlx8BqZKStBjPIRq7IIVB0tWqw9EQBghG1VRURYik4aLOKFarhceOZ4YU0dz1fVaR8Gpw8RqVzl1PrcrOFW0/EiQknAG58tRH2lyTWnf/r+ewnrsmOrFONpZ3DyAk5Sw0hhUzqhhyAJSkuVcfh9HG0Soi3JrrWxFuVlPuDNLRx2EYKyQkk82Tk9T180WXe5HwUscyVKsbd8LrmERMk0xd8VNCwQihKiHzz52Zx+gcG212QwLavIZWTyRFCHGaezQbAxHRlOc5e+mHUaWIRyMrD28IVvcIgyKiDS8AJipkgajmbjbrkhgNNUhQ6JpqQ4XRwyeADiag4ER4DkDzE2e2AecmQLM47XjGxH8DppwlnBLWwBpMKtKrdH3fMcLqMK7Xw+hmU0lZhIUiWVLqUnIrKdcdORYEqkKgxJhFAbcIi2DoTEeHqG17Ze67MvEbNQ3EJEbIWd3ok71zhLfdbDwI7QSLAVPHHA30qNOgGgICqgJt1tmOwaMZTYLSbn/Rea9Ss07l9aBwat+KAPs+K71uh9EbIJ/iEIZPDcgToDOmXLXGlB06WyA8jC7nVxf+0S+9cZ+Azhukwkst1rGVy1t7NZU+1lG6fr5QkTpeOblzbA0XQ4AQRrDbu3R5f5GGo7t37p5shjpBhMIrdDHfWx7s9Z2yDqt7x8dHW/SznL1GdEKwPzDbGKcCZ5tw5SkcavWXfvT5j77Fk73zbDZ87R/cLIEIYY1W2SSQFotZFkZt5EKEiAo8TLo039vvLLwMtcvbXQsnRUQ1z5f7B1f3+rwe0qRRU3HNa8r9weVLi5xFzQBVTfQGH2mTNdzHTd3dgO0j2exyOvhtZ5DfqMA5CvBogNtpB9duLkjjkrDkkYwOEnUs3u/vHewtlgs7MUh3gK4/3gylEdUyRNN8/+pTT13fnw03vzPv8j1sxyAC1WS+mM/ycAspLKkBRRfanayHRabASkpCdP22TI0Pk+KGMxyar57lDjxnZMJJ4emIFQuwIeMpIkKKT+BowseSun6WUVdlPCruXkuJpNyFLoCopm62d7A/G4dFa3xgOGGOlAW2cgsaJDNLMEKS1CJkwK1mSovJT5lp2vNRHJydsSSHcxTgvSNzY1CstTa0kyMpk0IPgu4BlpO6vLTMYynDyWq9tfDQPqlEkmoQwpH65WK5d/n6s5dZZt56n2JEWDBpKUexPRmrAdQuL2Zdl/KMxyd1xoZMFe1nM2tPMXU7AmBAu70fPzv3yfn5gbYjCNxxIgCAEiIN39hQ82PRLrnVcbs6Xg/FgVB4RgDUACiUrEkJVYVqnuek2oiMAqgwqFktDsKshNXagVA0kDlJUiSJ2ARXJBgCOFypHwKZNb4HhfK5CXDVevoB0uV0tEDqVBPasCl4+HDMg4Wtt8N6s3aUgBBMT+fV8cZFuqwKzfNlL4RXwLC4cnJysh068ahD2US3vH5w66UCwAAvEYWS+1me19JRCEom9t3No7H9ROObd4fGUx98BmKdPO53tQyfnxExngJGscMEYKoFq7UpFmHsUoybzTBaWHO7VRcHmWMdnaGdCChJhRJWxZwpqVCVEeHFmfcu7a8lQGgAkhLDgpKgAKWRC0qrze249ycvmiKLDw6O3snpXZHLuQlwb3+vqk2JLEyExUySExmIIKJ6iVnv9042RWfzKBMWY/7059Kt+a11KW79QVeQU85qq3tdXyMvLl06XPXaxb2jkbPZwbM3et5aRctBzK91bnU9jLNOlCFKpdPSPqM1LrfaujIcIld/7F3o3vdfR3vvjvzOr0/k0tFJ3R3ddvUEyCzcke1aqwzXYXTmGZN4EoDa7+8VTamTZEDX01tVyasFwpyqYO7NqkrOnVJSnyuAQFrMtNLJNjMXk8IHUpfv00s0jAREr3/uQxaUDvzdnzs3Af7Kf+vvrgrCXKDuTWiiWVXVoZ2as0AFttp66vfmadYde4BcfPwpRrcsM4qXvr9UrMtJbVyvTxhYxHa5mBfOtjLLCRQbkZ/DaydB9pevdcNYZEEghKqaNTX9z9iUcQf2zPO94cjR/5of/7CbukjOhCeePeiTRytOAFPoQBG4uLoYqAZ48RAmVekX4zYCabmfRyM7SOc1KVOICIRhHmgJBBUQaV9hqWeRkPmeieflsgeI1EAvAoomQSC5pJQFE7OASJ7LiXv3qScewT7PD5nwmY89cRyjRjTK95bMokSo5DB0tTXhuCyVSZjy7Np28Hxw46p46vcXxhTVJZnMMiV3MxWlUlaL5WI7Gq9qQ/H64PmJvdUY3TyVMTHVITQnYepzrzBRBzg72JYpgJbcpaXd1s/8VFotz7zP8/MDDz5+7ZWt+MTJcZpKn4YDN54YSDAJNSmgmhejy/4iQehhzhrOBIVKkoYRScUdIpJqUEQY1gaMSGc9ZgsfYW4WkKSiIklbf5Sr56yCiZyGXvpZolZ89Bab291++8v5CXDv9y/+m9GqmEmIBUihdJrYuncDVagWPbwySZrPtDvIJ1vRYVOHoQSZ02yvYzD1Xc6ao1gMqMjdfECRLsat1VYE7aApzfvt6JtVEcnzXkUkzxOskdvm2cHJSXE2tv2N7F3bHNt3PvWR06kDd/bnPKmfnpxL69PcYQMhYJsLwhCX7C4IC6IGlDkFbADCxrFClMHUdVFFISpE1CI1rAFoRADX6tVhltwlcezGcTsYICqigmlqTuNWhSQhI+iCoDsU68OPjgzsT+33eQqw+/jLx2EA1BwhJCWparOFCV6lMyCG0ca6PUqaMqsBJkmziqR+eXUfVlxVu07D6zBLwfm867tCJFkkKxFeva6idUCJR1KV3OXG2Jg9R0SEIXXzftugJcoYTlKScutDb/5o/i4s13kK8NITnQYmfnFxkjq1ryEETJCBYVAVNyfMqgKmKklVJGnq++SoANVj4ox3BUEVkExdHmv4VJ5TOEQa02ratRSLk9HCHm214XYRuwPzD9+kmd+NhTtPAT73Hx39w28PfQ5D658UkcaVjSwqyEXM3DVXnbjbU2qFIqRMdns3DmQsCdSo44Z7dZsSg2nea3ZA+ll/5946PDuEAQsqTEVUsoJJk6p4wAOoqrkThQkbYMc5+9W/YfiwyKyHGJ1zpb87eO7aq5K76iJ22ikoESBUJESjxeaKGkoHRQFhgoiQeTHPrjUCXsWrVWslucbfBAikm29HJzXIljiMRKEkIVWzSmqVPUILRJoJUaFCBen6lTMi2wCcswD3/tPf8N/+jIRDEgykUEmBh5KiYK5dqQ4PC4AGMEmL9BUyv3T1Uq5DDfca2FJEcgrVrpstN2vxMM6Xs352XJxpqhG1ya8kwJxUBCIeVAST5T4jAlkzoptJ6T91dicQ504B+snnv7B2C1GbKhSyK84qGxeFilEkIJHa0IFpwEWeLea9NNe3tpqAaMpNoxpNtIj2i+0YAZGGUWgzXoOEaKI0SPaOugtoER4Dkt3nZ+ywmdY5C/DGH93+9bsOZAxTdR2EUkjJEkC1GjAD22AVh8IqQMwPrl3pU4SYmTGz6515tsjDIMsrYeGr8HG+6LvF0b1NDYhGiEZtJkZUukb/joowQVBTzo6a+hkKet3qv/QIJh3WyOfN4ru4Mj+ECyitiSim/9pZDQXdVJqtbqQwVIDaz/o+AVFqrcKKALIyJY+imrou0QiQTPPR3ETVWjemiIokSaKtxzZANNPdJt53uQqENV0+ez0E6fxpkJ/6w/7TtwcghQM0b2lOqmShtrEONs0DodNCqRZ53u/tLxedDzYOxQt76QSVV64BLieCtOh4r2xzt+hni731ejvYlCnxpKlLSagAvUSSSgdEdL5Mg+d+tvBtPoD98O87K2NMW+dOxP3cs/uHNKWE080aT4G0vkkKFZXh4e7qlHAyBJr7ftYlulnxmKhiA9oBEOzNZ+s06wgrtaY27itqFAeFISqaE1QcjdtsqmkBgAvYJdeUxu6zn3k0+zt/Kvjf/fObW1swgY5wAgIkSSrCrJkCwOo0SNRcNDwtDhb9bJ7Gsj7eFCuus56StI7tNz5PMxvLzQ2S5r7z9bJstuttgSSCKaUuAcmsSLKQVMQsKN2805B+sVfyfOa/8U8+GhtyAQK8dKPLQ+u1ZrShZSQRrkJtMNOqVkWtQlxEBfN516XktVQ3qxPQLeB1+pUKsOtotZQgXBNgqSegCtckmkBoq0TXBunYcf60OQfY/+Fr783O8aHIkc9fgN2v/6VhLGD2RhYjACWxJfdy1ymT1fAaZQySKef5LM+FqDZsNsN2MM0gYiy2bqGDBSR0f287rFOXqarw+f6wLQBURJP2Xqyas9HWCCMiZLl35P1y3m1ne/2/+h/ivdk5PhS59AVMc3hiX7VAzKMNW+X9YYRsaAUVCzHSQyR3s75LiV6sWjEr1kyNExFjDwBjAcyRtdQ61gxIaG55FzQjnArcLSw82uhiUCuzslNVaPfkWWkX768LEOCv+T23Ri8KFviuVYiQCGOEQ1LSbnTQaxi7POtUNLvVcSi1DKXkTlGKUjFsFwqgDrWicnn5qGy6LmSWDUmk8/AIISI21ayOFaQFAIM5I19bbWYHe9D51Z/4iTPtaNjUq83ov3njIiYb/tjv+NheR00J5fahwQkr7oiIajbUUjxUgJQJSkqJEBBkkpSy0qqNw2YoZVyfrACgn2vOmTpbdLZdbepoLXgRSuP8tGrW6PNDGBCFSkAW15exLdrbejOeaUN9Ht64CQDHcX74wAfWpUA3mNbB5fIVDQlSFE4VlOrWUxTUhG4B1SQ1ZVjZDsPJ4dHx8Tjvc85AyqKJ5Zi13H7zcH28HgvnqYbVjGIBNxFWN3GMY9RiFsZAuLkXQ4TrYjZPT1wr/uk/ftZRLMspjN7fv5DZmvPPXM1JRQXQcEQEJByw8FqLuzmg4qBqI7xyqzVKtfDRU98npSDKaNXG7Wp9eLKp41iqB3NCLW4lIpiEASQV0Uyr1SoCEdaanRgkupRyVj755Nufb3OWzV2EBsrvvPGnv3biXXU3wigaxbMKvSA3tKQyzySCGU7UKFatbrbDyH65Hx4o5LDZrlc9vKxPVsNmtRlD0myxHdewzEwEkRIcUiPGcQQCviNdCQiN3RUveZbl174jjfWQcvkHXxczmO+TT31ToJlUGPS0EcQRbNxXFE2sQRdSPLxGrVFLRFpkrx4GuG5SjGF1e3IyDtthRGKAUcZOUwTFqXACatponlqDXOvucp8Q2syzt2WirfZnSmtdjACv/Ynhn29yz1GARqfYgLrMSVmTBQSWO5hJmx3MalaKme4ttYzDOLh2/Ww26+E2rLbjMBRoN7esUgcN6ygO1gQBIlnqklmgTmQd4e4mEZLAyLO3gdr0DCNFhvMeyHJ/PfHZXx7Z984IE6MLvGrrnGQiHPRKBbWKwDzCzCyEVFSLOg4FXfVx7MXG7TAM42jMVIbAw0xcjIIwl2CUaU4pyKDDmsU32SFm7j2qXa0/lAA/FC3hO5f+xz/yp17Xj50MJ0t1GhAUKCokoqpXeIZLDmZYDa/DWJ255ljXKNthvdpW5G6Ws3qptQxlLKF93+/NZjnCZyEKFSGQavh2XYO5lnBrnQwSru4lLwcfJb38iQ/cn3R39TBOipPpEriCD9PmcEZyhm8ds3e/tPRIAISKiYqRFBGFATDCUMKsjHUYxjJu0I1lXG83J4OpSQkz91Jq3W4qc3UZtavpVEjipGNcb0swSvVihNdqsGoQ6VDTpYPQH/ng/V2Lh2NYT6Pl2l3UgGb8jq//3CJDqKUyUTXCsR0OlCm5iSs6iQonYqhmxaoF6jB6GYbN0dFqjDTbX3QMr/BxfXxi0G7/8sHeuJyXVKHJIcwaYQ7p3Kx6c5eCah4NwsTZQdk88f7Q/MEemH/98LLTfSvUXdiEayyf6TttQ0EESTyCHhHaJjIkKMKFKOKjh7mHI0Afh2GzOj7elhB0iWLhhjKOVohazUp193FqoBHT4jBRdw9EUALuYR7u8ATN2beW3t/3fbjMHjYNCMDFjQhH/jdeOpwPG5gLAwiDqM5Y0JFM08gtqW1mhY9gN4SjHq/H7cm9dTVhOYkqCHjdjlCjqI+DpKwog/SdZEIsLKxa8QDDgLDwCniEK0S7fGfcW3yUaqYADwJB7kPOLyISaevKde1mnejUdkgiRBrJfgRoXh01aoXC2uRrjwhYNYdK0i6nNi/EA8xdVhWhNWZlMw9FkLW1G56y0oSHedhE5c8uMQnec5rc6v1iknr3gZ/jKW3jhWkgut98c/6xu1Yq2TqQVBCooFe4ZrpXFVi4hFdT8SgFfX+0HkaZzSSlRB9JhCNn9+IQFFkkRUtPhCYA5h5mAjqkuknz1+HiAabFHJu0fIjn14CC7+tRpz0FsEkZeNCiXpwAsddhsd0UwGm7SjgaoYtrmJq7iDnN3VwBIlRzogWpKU1MEQBcmEOs8SDliZQjHBBTMZPWo2ytXzgQEDob2Jdd5aWHdHx8kIM4P/3w4LpAAX76iW/sLwdjjV6mbuBEalIlogJimrxaNfdKBrXbsyFrvrutmpJqHUdaBUNB6TJ9HLlcdIl0CyGDgyoQo6iP5tMUEws4zas63VY2y92PP2TPHx1peYECxLyuZpMBwQPMlghF0MMhWsOtuEUiIpjE0mxZpaZE1dFScbbqhmgmVGXeESAFptYmvZJWcw1Y4/iI1isc4RFig845W7zfM7b1njb33esiBfgD35DraT1QYlRN4W1WlwIOsZZUBZNZJQXhkcWDaXF1XURcZTg52WQ3SuqSdqoigGTRDEo1ZwfPSIJUq7g3yjH3EoB7hTB8C5nNhy9+d+boD2FaH40APxhObL/TnAinG9VIU7YrXpwRTo3qYdYsdJiZV3OI9hp0kZxzcQhTr0k6obKN6WyN5y5e2ea4JgTVI0zgNeA+cXZYhNmod85GWfmO9Uh+l30wz+qJj40RWapJBRsrWACopc+AZqAIhKAQZuFNfl51biYuTB7JAMxmJCIIgwVlBlC0WIwzqVANUFqOP5XRrTK8MmCZHMaks/T63Q8Uyt1eyPtvq53zRyLAD5gRyvMy+uShNZYiuCkqHOE5ucGlAi2XFx4RtYRXChMYpKQwCPukdK+BMMJ3LPkIN0sAwtnwXwi3aBjtne/p1Sre2w9827pys7P3vS7bOb/IO/B1LycbmcOHmuBualQgEhOY6KHwYmYN/xZWbSwVdYyUCHKmi3Fkl5ROqevBIoqh1kLJDctroyZ4CdiOv3dbs7i7NTIU7HVhtX7yg5HtyJPv//UpoXCRAjzculs4qB7OqkaRaLOaTYGgBBEVJKyRkZkpxUCCuc+iHTtVGHQsBkcVN1pJyNPQx6oIhjM84FP6z622+TnwyBWQ9+xPOt7/MLuZQIcXKEB7deMROdcChQWJRGdpToiDhNC9kvBi4LaiBNhpzX2I9v08d2oO1RjLdrHeDoUe6hUurmJhqYIOYQoIXD3ByHBjo5FKm+3BUuzXvmeT8IeQ39EBBDiZpYsU4GrrNRIASjigAQe1XXiNlcTNEVVYzSKiucJMqRMIvY4p91GR1Gy1HYIiikgF4UEFPcJtBNo4dkyd/R6IiBBneKGR6VE0yMEBWN3DRWqgHQfyYnay2QKVFgkJLl2fEJUaphZwrzUKah0KIEwS3YzEeHSyqkh7N64slMP25OjwuHiXu5mW7WAwsZqIKNZz7DQ3uh3SHV4RYIoQTcNNul/7fIO1nZxtHt9l7KopFydAvToXxHaobPO1IpwA4SKnbBA+Rjiq1WKQUEqk7Cirk3urIjrKOOuTbVar1Xpg7ZCYVAMkLKkY4J5V0DDS1jJkgSCcAL1IwROfa7jKM84zvL8u8AjPP/dGObl16AnI1QE41G1gn2DwZCJ1LAaU0YbB2M9dc9fF6s7hvZVViPGNnHqtbuI1akAPru7v9WUEqhcRqe6hmUFowGvDvlYooNB0MLt2/Yd/8Fc/6l1dpBW+LJvNeo15tMmX7gxWVXdJLC7JhxKwqMWqB9URInV79+691QgIYBHeRqq4B8J81ekyVaEjSmaghnjUNJVFo3XvuCYPUvPH/FO/+vOPcj+2krlepACf/ezffPPOZk+phmL0CmyT9pAuURCFdawWpVSy834O07o+vHNvWx0IIxm1UgCDEoioJ8PdK1d7VJK2BdxDzd2U9Gpl3JhDa7iLAZTP/uRHIAt8CNjy9tH1Zq/1ABergfj4jZPx6evDnQhz0IRBj+QQYaYZgGqlWiidAooPm3vH29qGxDbaDWnjTsUjwqViPduNG3UBwr2oBGBR61idMhpMrQ1g+Siw/IfQu4U8mHg9IwHch113hyfk9f/x63U0AISknLrZshdlSojterPdbpDmWTuiDsdHRydDANHy+AIys3ilNNoNCdfZ/t68R9RtrWBwub/oGWZ1s90MIm7uquHMl3/0t35AVOWHQvherAYCVwBcPxChwpriCMI9rIua3d3DduMQbVivT04GA1tuj3BQXbw6jAF4CgtDSjkLIYhQuCMcMZFT72ayhWXplo+ks+td64IFCAD5k18c4XCQ7oFEtZwLMiBwMxevkG1dr47urbYuWaFSAXeHAFYBsyCgBndsx+32YN5J9lKBGMe+KqMMlQjQTFyqJdn/tb/uuQ+YKP3ACrhe4LEIEHNaBbw9qVuqUIdlN49G9+YxYtys15vBKZJyF2bu1eDwRv4BMFrpN+rQrVWkTTvwdgI5MYCD3kaKRX7mKTzSGqQLFsBjEeDNe/NjNP5FjcAIz7XPGLoQCS+liyh1e3KyWrssZ8u9y09dwbbWWqsNZVwN2mGM4r4ey1hHG4ZhvV3O1CkIlTYLzRzuRViDTAHys7/9LDNcjYcH75DU7r14DALkYgbF6EQbJBAgw6oE3L2YGx11u9mOkPnBYu/gytUrHlasBoZaj1Zdz7FuhzLbDqtthFUZx05bLwgJwiQArwZLgaCDyFfONAPXmR4mqJIfiwCv/476V1aN0S0iidLX2dWZ1cZhvfGRVsf11vYvzWeL5fLg+hPLyii5qKwz1kgaXo83fnzraL1aHx9ti9u4mGVBhSaqRBmGYRyrm2vATbPc+M0f8OG8PozmLuOheJqMx3MH4on5quVaGn9+ZRGdyHlqhLuN41i75f6s8RxQYSGB2G6Lby8nB9Is4CejG2oxc69FkBGEERE1qrvX5j0GAVm8o7HrPRl35D1oAt9zPRYB/tiL/w8aC7LAxUy1hGPdle2mjlasOpaX9vd6XxfJeXlp0SeOkbHa6Ha8shg49/WYYMW0v7QsJ0ebcexzUsnRBzy8eC3FyKLKCIT80DtaMz+ISzP5g+9bMBsvpM3h3eu3fOOLYmEQL6EOd4qVpOzm29EIMs8yioSVCjk6ms+XuQ4pD4NxfGWZTXIZPIXVwZh7VW6GCAAjxzG1qQ7ahru3Cn6+++Knv+tDvbNYp+sFAPTvV8S7fe3xCPDmbXcLkZZTDcVo1ZW1MiWDQmfLzuo4lmEsDk2p68SjNlJ3kEkjopTqgTRbdHv9euM0oXK2kOp1GMc6Tl3chb3+qj96+bs/1LtEsXjI5/2t2YO/6unHc4Rx7dJrEeGCQHN4I5DqRBMaYNKoHu7mRHgd05ATLAAgIgRChBU3IVBNEnItAZcIkF6L2wQoIiLC+cTl7/JAD673uh/9kJdExq297T59PAJ8+o/9918oDlMLeoVkCWw3KQlUa68iSg8rY7VKsWpEQKcBQ7sZBk5Qs8KOmaVDMnNXes0+DNVGszC6Jbh2z/yGD/hcVeS9cTLS3emWeG54e1X08QgQTz/zRbZolWISVV0KqmR40JW7ydReLdrcB48gAWn/DwecAkR4VamJ0trdKVFKqdaqKmHuoHTPfdDm6gS8V7hiir1Y4h0I1pOLw0i/ba37f+cTf+tLQxgR1VRTtUhtMIEoGj1oeES10Ypbq5y3GfQgRAQkIeKVKlkTVDtjIOyksAzFPeBi8BipKf269+ZKfbO//MEeWfGwsl3E4xDg8Wuf1oO3XqztMAZJlGAFEJKAJBFgeNkOQym1RAQcMdWUg0zhEtrKKUJ1ZYSZtUCu1GpWESGAmVD65U/9lvd8lM3e2XI0+4/lCKd/+nNPXe4Xx4xGMG4iBpQARFIn1FxGG4uVUmsxr1FjN9AC4WhDINjmOzNFRpAIMhNltBr0lvQHAoLud/7Bhz3EkS7xkXCB67fjPR6HAPPHv/XS4hg0RLg4gqkh+ODCpm+wMppZm5IGqdM0ELZ+z2miAMJJd2+3HxTBMTx2JOoAwoX7n3pocDH7qC3DC+DBvNgFZ6R3682XXzl8/edvWg03tWBCI6mD5CxdtlrHOpp7mFff4SQJaXmqQJunJgRVVVRVJbN9P2gWZEBJSL72h/7QI3vqVffObqMTPiYr/GR34y35+t3KVqBj3B/hZzFUmEcbCtTY3hAAlFAgWiKwseQTiHAJgIKJHoFuu/MOQJ/5aPQIDw0/lu/Cde09Lg0EgJNv/q//ZI1qjGgT2APSWMYFgDVHJNo5BklqG05itcQ0y0pcSMmqIhDAq1m0i6Bdkpqf+xM/+ZCXfv3kU98173x3XHwQsMzF9Ym8a+39wCeX01AGnwYsTVrl7fLziGhfp0pKSXYrtYFKDAel9WVGuJtVC6s1am1tTqA+eRoD37l1+sq12/vueftNPLSKV8vb/33uGjimoXuvpz3+G3/1l0dHGNCUT1RUovpU+AiERYQAqUkWABDhxaqj8QIKE6cRaV5rTMP42ryC3P+mP/7Js2/hITia4ajVmDfnn43pMH/PlvrFD33jxTLN74ZMI6gAAAz3ifkX0i4/bTO8BI1YvoLiaJUQeHCa29TQCNKuTaanHoH8WlfN5u0ez7Snm8sL4Ux4ry/o537bF77cHBJAhEIYo0YIqkrAHQIVhIjQgpAaDFFESdWDNJWwCNIh1qY8WztVdEK6y/rK1O/7sG7nsS4eTBzUty4tAb+zeCewtwfue4w14WS82k/w1Y9dKLTjIUt7NZMp1gBcJNzbQGtYUIlQtZBEoIYivE0P1lAEoNxN4aQ5pDmTIdMId3Z92p37h3U7d+PbEqvlZAEgDt7fLCRgft+x1ItzpB9Skq0JH//YzVurCiC8KCq1BpRgJ27JQ0QAVCOoLiiNw0QATQlwg4TXaMTKjR2uoXqVwUh7B/1TH3u/Z3r73Tb/HHDKobApR4urAFA25F6N43sHlxVYxxKb+YN3+oUJ8B3ym/ga8mKxKNGiYqdIBUQnxgNFAxGRhGiLPqxRfUAcCvGJFUEgFmg0IIGJioGS9EOYyHdEaJ1OjBV5+1oeryJvx30FFt4O8311eFxHeEoKHfzWq9+6e+/VO9tG4qsIZErOWbREkqjemNei5lTMSwl3TYoCJSChgKJWAcOU0+ChMCqDs5nE8I6Xrem9sKnvuPhUr6KVRfY/DwD7PwB46Xd6sBPgZv6Y70B8Fvtv+RdWQ4SDMDg1QDo9IOHurEFxiEm0ZmBvFPkIhOxmT0I8ZNeDFxCAzPoQlEYCbg/X3iPQOF2+XQDAKjp/4O4c7f4p2v34uQnQ4wMiTK7++I/Xo59ZvbiqYWIUyOjJLamKFfPRxD2ELimqV6sGJUYozIEkbcSUwIOwcMBdSQjYzTLBV97duvC8jd+N6UCaOi6BB7Fa903HffFf/ciRSH3/L7viA2c70tUrewtFG2wGRLiZh5VqcIpHeC3mZay1da+ruRua5RZRgEKEiDQAIdoEyiRU5eE33/16+p6l36PjB/6xAgA7OnzH91S8/d77qBr4XX4uPfiGfdf1Kz/1Zr23lRpBowDuMHNkhJfi1UJEgbBaIVon1nwIJRulIlgdHm4VhBIAkwpFwr7zJ3/Xn8wAMJQ+v9MReOAc+91rAGTLPXgo/PCSjl10GA/e8a2rDLwNQvgYY+H7AQovM2edakbhFmHVglbH6uZeI6KWWs1IAay6e63Vww1RG4lyhHmAIiQpJIUC0G7/4gsAgKHEu/a6HsvRBgbg8GtvvVKAvet7gCiw3qxwJW/HU/f5NA2z7N726DcfmxXG6Xt3m1cvX0vdzMLROlQbZ1gQbl4c5qba0qSgoOEnAZho40JwhsM8HNIcIEkUqIggyt968T//3cBDsS0HJ1HuLi4pyhuXliMf+MreHt7+M/3N8mBd5dS03HrckQiAMgPWSqRUQLggqrLNdq3REjLw1rtPaKuOtM50sLFxTBQ0EW00oky5GoBwq4df/d3v9dKd7nezDOSn9r6bHOYPJ/R44uDcsjF3Di990GLiq3/+58a7J6MN65aGEnYydbCGAQiLqUM4YRpTTwDUBFGj1giHe5vaRKomStf188VM1198Y77/B/6zqw++nJ98sKnC7aKrd/uHf/uJ3LXnzvEOvHd8etG+LRvj734rf/Zv3zIHHGzVcwtzrzXM4S0t3UocDcsVAW8YDw+07LNXa6faI1pDCSiqjTjQNr/4C+sHX65+wEJcM8kye3gyyfYWa8Fjq4k8sOp/92dvPvHUerW1Om69+cJtgDw1aiPtbl1baJBdIByC0wwhw4IQhggoAlWmrutn81mS7Rde1bT49B/59wXAm+l9zoRtOQzLWPXcLg/GnQ9h4/0s1oPB3punzcSP/w584Z8ejts2ZU5TEYO39l4PtQh4m4TU7sGpOd0BBzQIsNEhxNR2B0YjDmx/GmKw3vr6d57H+6HHj/dxHIsud/dyujXy4NQF0xL9LhpZAMCdIaS/gt07MT4CZMLYfQiSkHetzf/8Z1/alrXnpBVUp3sb7+M+8Z8K2GK3iSlApishrCklBM2XJpQMEUKl+TPhmgHH8P/d/k9+BLgOwAWbHEez5U6jfFMuYx+4DPTADeBgvRm7Xd0YB3j9O88+A+DNyz0ApOFE/cqp3qVHcAd2Z/odL/zcW2ZRq7TqhlKJkDa7JcwdcI/w05QVhBRMMW9runOnyDTmphniloxRIQOt1vfmt6fXE2zEc5+AzZ1XCwDxBxRzBQCtltTv7urrz/YAcK3VQg6efuqpKwW7OEvO6Qi/Y562KVCPmB6IS+/euXoFsP/lz78OJlbrRYVUT2T1aFwmbZS3tHL7LvM/AYymumUbNtpm0LuSpAAqKaUsMDVkADbO3vpzR39gusLmaInA+Y0NgQZ42aFQl0OP9aLD6921XhwCvPlkfgawTZ/3BskAcIDxlb3lt1+78sOTCM9/vTEAODl+W9/ZYJcAfO3nTwjJ4lUTKaAAkKZhEXB4K5JYxE5+jRqmwfEx3XTcja+eaOFAVZkwXgpGmB+/dPOdj9VfPtWe8Y277c3pURKAdAJkEewy+WuPB4bKdc8t1/31JYD6UYxIke+eaHm7AvYLAJcvv+1zTz0F4K/9hVdL9WQCM+0iUElISCAETig0EB7eLMjOhoAB7u4/hkzFJyBChKKSc0qkB8kEDxsy7e/e+cM/crqFempbhxrYw/5ShtvyFABkoOQbLeP32hPpADDoPt5GSaGLxXVgvcDdGx9BA/MHTFTdXw/jIXUA6CxRRFTt9kpzziptml6icJrORUxQGHfHrksp7ndRkoLTrjjC3X2K7MzDIy7fYHXbDuPJSz/zj063MIePLbztl93RESDo90/dwwy0o5nfAk6T/Is37r59CwvgxsW6MQ84UiUDv/g/feNovR48hlFm8wJRiqtUIFJ462Jtc84MOFW9dt8Bu/kq00gNgq4ARXPKXZdU4aKI9R1TghLjm3+tfPKUNWvz0pNTdDJ8ZftZ1DF1+8C4Ou6vnHR7OEx9Xp3cmPqL14dVnszj4cz6iv2EIe/U7vDepfO5A+/nAh904xf3P5eB9RfeGEYLohp9DAZE2/hfUjjdgohgGxs3WVcQMpXO75faiSn/ADbr2wZiW4BKhJtFuG2/8vM3VwBQ75zUAwOACvRPHRiSrwBAbr6+vnuyAJbIyHWX81wMb1nG/PrmeMZVAfpToW029ZwjkfXRU+8qyTa38at/7ksnm3E72jCIbG88JzVsrKWYm7vB3RqnEznRLjbDy0ADz1BOHz2mycsqSSV1qUuqQnSZwdu/fEjtul7zbG9+5Sd/3ycA4OX0MQCrPmEYxqsySpoiX797eOMAwMm9pxQ4TH58vd8cbvHc266tW299RtXv5XoZ68U5W+HZtXcnr9tLvvDKWEq1CIQwagCAaprwMRGnKhe+g8ygmdk2oA5ocyGi4RFiSveJiJJgOOET9UxEHYZhu7WTl1qR6cplAL55y9DPLxnseLSTO4cA5MqTNADj8Ga14fB4idc3w63XS0sr7DbQXx4UPozbE6zOLxZ+f2KWl//8zxyuh7EYY/DFsL30id4N5rWUYuYebm67tGDsSN13p3jyj+N06GM79pI1a06aSVHJAlJXX3oT2sNTYlrszz/5O37tE+m0a2l3Ka9euabsJ8t8VE72r776C/HZZ3rJw2pfIXBn7V+6e+mp2e10oMDdyaUttT83I/Letnqd88kLLx2t14MVE1hC0GpuN5t6TIHHFL/tKnCIU/lNYN84LS6yTZYUIYWUaCM1p8mxjfgpQNigN1/4Fcv7PtbiuOsBoL/0QCdY2nixxUHpFgnoTUKx2XQLwf63hyuLGyfr1Muet1+e8/lZ4TmAGhl4rb8GjB1uXs4Ajl994Rv0W1/+9qoUrwWBtKhMYQyGAlkQkRjqle7NiNwPQ8QhMAga+0kb99yS0EJRSVmTeChzoyOD6YIBT0oofCjrY1/+UHvA1/bm3Acw3J5dfWoVR3X/CgC8olevUq/8y2PLsS4AIDa9yHjwkzh8/ek94G49pf8oRx9dgLu3/yHNeLvjm04yMBwA6Ioel2fu7I3/7Jdffmvstm9tdoBnJxuglJAAIckdcMME6L1/ctGE6ICLTP9vRMAQsg1Wb2mYpIJwCBHg5HXTUgTq5ptf+Hwrayymcd9+eAPgiFU/doDnUpcAFprub22xmopkfgIAixYm1wScxJnvwOOFvl2gXk/TM7ev3f98we2vfeWrJ2/cLl2WzfFQa/Uwd8udesGVGwuEF4abeR0rzMIj3BCtMRsByA48fv+phQIomSipjUTTrKJUeBt/evTNt0JTCqgm6ZLa3nN/8HfdrM9cBjAcXweAYWg5Z8PL8/lluyU3AGA198N6MN2SRy/9SgVWPkUjNU49izMf4X532Q1T2Lg4Tc/cfe2KnEbb/sbrX/onr22qaZ+OjwpBwgKQGZ3RXZoREeKnwVpAHKAGiPApWmOc8rKhpV4oEJIiGUIVSV3S1AAzzck+OnSlIERIQqD9Ptb7IqslMN4ervdAPyma2n5/gOG6uoluonbzowUmEoanb13pcPwEAIyS0v1xaGcW4OmVPBmx9paZZ9y+/StOnaT1N37uF759tNq6zPdlvSootdZKAEoniAhvOyYQnuhwTy1+YyAAvX9UAi3Oa6kYEkxMqeGJ+k6pk/ceAUXXDYQn8fDwqsp7L/6Foz/QjMb+519Zc5pNcFsvY4MDILG+fOUq5quX957mS9dWcak/Or48W986Xj5jX++f6Mb65nbWXwZw8tb62XMyIqru5WCn55v8xZ/96rfWQ3HXhFrHQESDUhltx3IakKgIiAkF4VMOq9EATullNC3cfXpXXZrcxHb7tTkliXCjtHQ1GY5kZI1kdf2N7+ys7rOw6eTE7QM5br1ycmkJoDsEFv1qVXBwOC7G3PVZBCWnvbruL+8BKCse7D1yP9B/+dt3v7bCa1v92Gee+6FPod5bHX3ni7/4+nFx8bq4xDocFVpt7YCIFCph6cmrCkZERKVX92rV6iRntGQWA9bo7KZMDAmVVglXERHNfRISAWm1KXQoRy/eVdUkJRJFVZLg6uWrP/V7H0Ds3r63fwOb124c3EHiMrZL3J51THhtnM/rIPYMcDKfEvsT0new/k6dX8bRI8dI337hl7/yyuurwUzvFO9X/TjcffOb31yXsViC9qxeqotXNwfgBBzuu6IRQAmot76GAMLFg/R2JWpLTYdOrDOU9qeN6Ez51O4C4eHauosxGXFqGx4x2MlXvvZr7j/z2BMeOEzb4254XoaQcbysJ3uL483yWqM7We0pgJO9dlEd+SbpEnk1DN0j0cBhfevOndc2V1//+lu3jjejFZFRDp68nkEv21LHMYbj0bl3o6++ves08+oOuvcpUD36p/dn2oocHl6tOsxHM6e3vtcpA924dlquSxCZBDMcornLKsoQAkqDo+gCdTx59S1JoslLoqinLGGXr3bP/v7f2azf3W6Xxrp5VYH1zedxa8aX01OL9LX8SYzosE4ndw/mx7e6AxvyvfFpjJ8AMIatu80jiUQ2L7/47dV48/bd9fHo1b0iKiXZ1ml13IxW3dyLC8XNRgMmhZqE0lq5QlAbTSAlBAGoNxvMQKPWnsI4sqW5oK1FhAQlqYq0HgcyEGyJnGADubYMrCOcxDDoW1/4/GeBoz0J32TvABR3U13g8PJ10yeOmbB488be8Zg15vN1HW7f+9TVzdGtQbPWFXtNvuGB2QfUwPU7kev31/Dq3/nZL9+xcKGqmLuNkNyJsp/5ZrCxQCCoG9+/lkoM90LNwmsgPDgDoviw/+wyd2qGoEb16m4ws2p1oo0IEyJowvCGY6Pe96JVZZZIkXYbogYopsmsrN58Ax1UWFSQXBIVZX6t0+d/6DM/2A2/AsAbS965+8xiWN759see9cOruF1vbPoEvPbmjRtQe6O7eny077Xrlwp/szyH4zt714DhcD5e/4Aa+N7yK9/+xS9+7c4oEFFNotUig5KlooSN5hAnwFys1xrwyVY0h08azBQAd4ynwSlTRXF1SCPKg4IMpKnQToLUFmyQIi1ADpf7P8wsEXCqTOWTaBMVCUQtXdz+dlz7lauagOV+2fbo53L19oDogeGoxzHw1DOHRT2lWD9xHcvYrFZ2BXLtCCgzB9B3my3PeAe+8dIvfeNwffdw7V2mIHzclqBoyuL1ZOjn6l6t0c7mPTVsj6qERVilByKnYPFarjy97EGVqC7i4V7dPGqEtbmQjb8khNN8ewBQhCkBdgKmqQcMCrVgw3VY2LC9+5onZOltS1CgSqLOL8+R5/NPff5gv7985cm9XSNJ3ZS37jz7HDC+dmJPHCTdvNFlie4U0nC01vkeSr559PEOwKGf6Q4sr772ta+tDF0/VgDmcHMHgagKqzWHCdWbWmUNcTOKiWFy7GQCvbQiZgT11GBIhHhLyoQ0LQ4KQxoAYfIPNSgkYDJ51m22C4kpoT2VPrO6C4IwIYSlGq1uvmLX5Kkx93tY1wwAaf9ujtvPAd1+P3SJnMXdG0/h5PX9fmuXgXHczO9JKqXc9acq9i9/5MkQr37rXr/5zqv3VoNZcN+OhioAW0N5BInxeMTG5gpzSyTz3EKHVWiEhQsrw5MEPXwURoRyRKewCDKE7hpOSSaoIrQUIFUMFMdEYysANQuhSmn1pQpqyoLqcPfiLmnMOWcoCpMBziRRjqUfPMUvhOvlTz2/LzXtnfhzz3Zg/nh6bTi8kjK5Po7FHpfDOD/+hf046Z+5PL868ztvPN8dyRNvxVN87eXnPpoA3/j6q69W226GzTBGOKFSrRnWkFa3tRJ0L13rGhIgEXA30uqOKVsEaFSMSiKYLUJhCEAN4pIcAhMhoRC00rGCCHcEFSSVQSVV2GrFkjUJDeJECAmyhXspEkFHm+xpgaIwUMdXh2sIzmA3b81mH9vX6Moxn7g8DutNYV1vu7EuZ3XWbw/TXPbG+dGw0P1YpwPEyepD3oGH33np5Tq88ua6FlnMpAzFqsDHul1bSvASHoacNQbXcQh08xQBCmbLqNzcG8Xd0SCSwRk9rI6Wnrw277OKh5OsNRjwajUiotBLO5uYWtTDwmqghSEQULV1cyoZ2vcpDOYWXt3LsHpzu6fSBwbrQQkXs7C6dzkxpaFg1is1I9Spth0vfW65/wOfQb1yUGfK4/Jk0TqcdNcGTev1dWA1lzfuzfZGicP9vjv4cMmE+uqXv/nqzXEcqtfRrWjd1qjCWt1qqcowGAxA9aKAWJQUEchAgnmMU7NtEO7iCkgjpWx3ljC8hQ6BYDoNgNtARKOQ0bKpHiHUXY2TjJ2llZw1bAckbGFxcx6bBU+oUEZgLBJUr8kGAVNSN4Dj3TdvP31wvHq+v4fhyTlOcHTgN0dygx4LrJbro5Mnl/e44LBcD91w5xJ/24fSwO+vd67/H2NE4UtlTSiZAAAAAElFTkSuQmCC\" class=\"ndarray_image_preview\" /><pre class=\"ndarray_raw_data\">array([[130, 130, 130, ..., 255, 255, 255],\n",
              "       [255, 255, 255, ..., 255, 255, 255],\n",
              "       [255, 255, 255, ..., 255, 255, 255],\n",
              "       ...,\n",
              "       [255, 255, 255, ..., 241, 255, 255],\n",
              "       [255, 255, 255, ..., 234, 237, 252],\n",
              "       [ 68,  68,  68, ...,  68,  68,  68]], dtype=uint8)</pre></div><script>\n",
              "      (() => {\n",
              "      const titles = ['show data', 'hide data'];\n",
              "      let index = 0\n",
              "      document.querySelector('#id-9d2c1607-0c81-4181-847d-75c4be51436a button').onclick = (e) => {\n",
              "        document.querySelector('#id-9d2c1607-0c81-4181-847d-75c4be51436a').classList.toggle('show_array');\n",
              "        index = (++index) % 2;\n",
              "        document.querySelector('#id-9d2c1607-0c81-4181-847d-75c4be51436a button').textContent = titles[index];\n",
              "        e.preventDefault();\n",
              "        e.stopPropagation();\n",
              "      }\n",
              "      })();\n",
              "    </script>"
            ]
          },
          "metadata": {},
          "execution_count": 57
        }
      ]
    },
    {
      "cell_type": "code",
      "source": [
        "imagem_np.shape # img possui (243, 320) pixels"
      ],
      "metadata": {
        "colab": {
          "base_uri": "https://localhost:8080/"
        },
        "id": "-UuraT4P9a1a",
        "outputId": "5ba56ed1-6c74-4f7d-8bf7-a19506f9d60d"
      },
      "execution_count": 58,
      "outputs": [
        {
          "output_type": "execute_result",
          "data": {
            "text/plain": [
              "(243, 320)"
            ]
          },
          "metadata": {},
          "execution_count": 58
        }
      ]
    },
    {
      "cell_type": "code",
      "source": [
        "# previsao\n",
        "previsao = lbph_face_classifer.predict(imagem_np)\n",
        "previsao # 1 valor eh a classe a img foi classificada como num 10, e o 2 a confianca da deteccao 6.38"
      ],
      "metadata": {
        "colab": {
          "base_uri": "https://localhost:8080/"
        },
        "id": "nspMismO9mdz",
        "outputId": "7ddfce35-9de2-42f9-ea37-b617922e7dd6"
      },
      "execution_count": 59,
      "outputs": [
        {
          "output_type": "execute_result",
          "data": {
            "text/plain": [
              "(10, 6.384336446373091)"
            ]
          },
          "metadata": {},
          "execution_count": 59
        }
      ]
    },
    {
      "cell_type": "code",
      "source": [
        "# para estrair somente a classe\n",
        "previsao[0]"
      ],
      "metadata": {
        "colab": {
          "base_uri": "https://localhost:8080/"
        },
        "id": "kSlJ0-ws98ul",
        "outputId": "9c3e2e25-9626-4fa2-928e-bf6e2e51f186"
      },
      "execution_count": 60,
      "outputs": [
        {
          "output_type": "execute_result",
          "data": {
            "text/plain": [
              "10"
            ]
          },
          "metadata": {},
          "execution_count": 60
        }
      ]
    },
    {
      "cell_type": "code",
      "source": [
        "# fazer um comparativo com a img 10, extrair o resuldado para comparar os resultados\n",
        "saida_esperada = int(os.path.split(imagem_teste)[1].split('.')[0].replace('subject',''))\n",
        "saida_esperada # codigo interessante qdo trab todas as imgs da base de dados"
      ],
      "metadata": {
        "colab": {
          "base_uri": "https://localhost:8080/"
        },
        "id": "ZNBzAdkI-TTp",
        "outputId": "52afdfc4-77a8-4109-db69-cc69fa82a1aa"
      },
      "execution_count": 61,
      "outputs": [
        {
          "output_type": "execute_result",
          "data": {
            "text/plain": [
              "10"
            ]
          },
          "metadata": {},
          "execution_count": 61
        }
      ]
    },
    {
      "cell_type": "code",
      "source": [
        "# escrever o resultado na imagem,  #  (10, 20) eh o posicionamento, tamanho da font e a cor 0.5, (255, 255, 0)\n",
        "cv2.putText(imagem_np, 'Pred: ' + str(previsao[0]), (10, 30), cv2.FONT_HERSHEY_SIMPLEX, 0.5, (0, 255, 0))\n",
        "cv2.putText(imagem_np, 'Exp: ' + str(saida_esperada), (10, 50), cv2.FONT_HERSHEY_SIMPLEX, 0.5, (0, 255, 0))\n",
        "cv2_imshow(imagem_np)"
      ],
      "metadata": {
        "colab": {
          "base_uri": "https://localhost:8080/",
          "height": 260
        },
        "id": "i8sMEXmQTiFO",
        "outputId": "9c398f2c-87d3-44d2-cd5e-d86eece7437f"
      },
      "execution_count": 62,
      "outputs": [
        {
          "output_type": "display_data",
          "data": {
            "text/plain": [
              "<PIL.Image.Image image mode=L size=320x243>"
            ],
            "image/png": "[encoded data removed]",
            "image/jpeg": "[encoded data removed]"
          },
          "metadata": {}
        }
      ]
    }
  ]
}