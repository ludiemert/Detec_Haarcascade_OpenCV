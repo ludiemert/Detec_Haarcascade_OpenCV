{
  "nbformat": 4,
  "nbformat_minor": 0,
  "metadata": {
    "colab": {
      "provenance": []
    },
    "kernelspec": {
      "name": "python3",
      "display_name": "Python 3"
    },
    "language_info": {
      "name": "python"
    }
  },
  "cells": [
    {
      "cell_type": "code",
      "execution_count": 1,
      "metadata": {
        "id": "d3gjFiYBzgJD"
      },
      "outputs": [],
      "source": [
        "# Reconhecimento facial eh mandar a foto e o algoritmo reconhecer quem eh a pessoa\n",
        "\n",
        "# Carregamento da base de dados OU CARREGAR GOOGLE DRIVE\n",
        "# Yale faces database: http://vision.ucsd.edu/content/yale-face-database\n",
        "\n",
        "# http://cvc.cs.yale.edu/cvc/projects/yalefacesB/yalefacesB.html\n",
        "# https://drive.google.com/drive/folders/1UBHOwVEyR5OXyWVHO-r2lviJy2Oz_Sqk\n",
        "# https://www.kaggle.com/datasets/olgabelitskaya/yale-face-database"
      ]
    },
    {
      "cell_type": "code",
      "source": [
        "# Montar google Drive\n",
        "from google.colab import drive\n",
        "drive.mount('/content/drive')"
      ],
      "metadata": {
        "colab": {
          "base_uri": "https://localhost:8080/"
        },
        "id": "7WVyGfFw38UE",
        "outputId": "52270ce8-a99f-4042-9326-fe900cfa440a"
      },
      "execution_count": 2,
      "outputs": [
        {
          "output_type": "stream",
          "name": "stdout",
          "text": [
            "Drive already mounted at /content/drive; to attempt to forcibly remount, call drive.mount(\"/content/drive\", force_remount=True).\n"
          ]
        }
      ]
    },
    {
      "cell_type": "code",
      "source": [
        " # Importar bibliotecas\n",
        " import os # pacote para interagir com o sistema operacional\n",
        " from PIL import Image # pacote de processamento de img no PY, para ler a base de dados\n",
        " import cv2\n",
        " import numpy as np # lib para ler vetores e matrizes do PY e alguns calculos matematicos\n",
        " from google.colab.patches import cv2_imshow # para visualizar as imgs\n",
        "\n",
        "# OU montar o drive apartir daqui...\n",
        "# from google.colab import drive\n",
        "# drive.mount('/content/drive')\n"
      ],
      "metadata": {
        "id": "QzpjEtDN4Zry"
      },
      "execution_count": 3,
      "outputs": []
    },
    {
      "cell_type": "code",
      "source": [
        "# descompactar arquivo\n",
        "import zipfile\n",
        "# Atualize o caminho para apontar para o arquivo zip, não para o diretório\n",
        "path = '/content/drive/MyDrive/Visao Computacional Guia Completo/Datasets/yalefaces.zip' # Assumindo que o nome do arquivo zip é yalefaces.zip\n",
        "zip_object = zipfile.ZipFile(file=path, mode= 'r') # r que vai fazer a leitura do arquivo\n",
        "zip_object.extractall('./') # extrair na raiz do google colab\n",
        "zip_object.close() # liberar memoria\n",
        "# file  /content/yalefaces/train/subject01.glasses.gif eh o subject de cada img person, all img person, BASE DE DADOS de treinamento\n",
        "# varias imgs da mesma pessoa com varias formatos no rosto, mais facil para o algoritmo se adaptar as faces"
      ],
      "metadata": {
        "id": "9nKH4gMQ_gbB"
      },
      "execution_count": 4,
      "outputs": []
    },
    {
      "cell_type": "code",
      "source": [
        "# Pre processamento das imagens\n",
        "\n",
        "import os # para ter recursos do sistema operacional\n",
        "print(os.listdir('/content/yalefaces/train')) # liste tudo que tiver nesse diretorio, passar por todas as imgs do treinamento\n",
        "# ele lista todas as imgs da pasta\n"
      ],
      "metadata": {
        "colab": {
          "base_uri": "https://localhost:8080/"
        },
        "id": "81yALr2tGfv_",
        "outputId": "e3893560-8078-487b-9cd7-47c9d5a72457"
      },
      "execution_count": 5,
      "outputs": [
        {
          "output_type": "stream",
          "name": "stdout",
          "text": [
            "['subject13.leftlight.gif', 'subject14.sleepy.gif', 'subject04.rightlight.gif', 'subject14.happy.gif', 'subject15.sleepy.gif', 'subject08.sleepy.gif', 'subject05.sad.gif', 'subject09.centerlight.gif', 'subject12.centerlight.gif', 'subject09.happy.gif', 'subject03.happy.gif', 'subject12.surprised.gif', 'subject11.normal.gif', 'subject05.leftlight.gif', 'subject12.noglasses.gif', 'subject09.surprised.gif', 'subject07.wink.gif', 'subject14.rightlight.gif', 'subject10.leftlight.gif', 'subject12.leftlight.gif', 'subject04.happy.gif', 'subject14.surprised.gif', 'subject13.wink.gif', 'subject01.rightlight.gif', 'subject06.normal.gif', 'subject02.sad.gif', 'subject15.glasses.gif', 'subject10.noglasses.gif', 'subject08.glasses.gif', 'subject10.happy.gif', 'subject12.happy.gif', 'subject09.sleepy.gif', 'subject11.surprised.gif', 'subject10.surprised.gif', 'subject05.wink.gif', 'subject13.surprised.gif', 'subject15.noglasses.gif', 'subject09.glasses.gif', 'subject10.sleepy.gif', 'subject03.sleepy.gif', 'subject01.glasses.gif', 'subject03.wink.gif', 'subject02.normal.gif', 'subject06.rightlight.gif', 'subject12.glasses.gif', 'subject02.wink.gif', 'subject10.glasses.gif', 'subject11.sad.gif', 'subject09.noglasses.gif', 'subject04.wink.gif', 'subject08.happy.gif', 'subject04.sad.gif', 'subject03.sad.gif', 'subject01.sad.gif', 'subject08.centerlight.gif', 'subject06.wink.gif', 'subject05.glasses.gif', 'subject05.noglasses.gif', 'subject12.sad.gif', 'subject06.sad.gif', 'subject03.normal.gif', 'subject08.noglasses.gif', 'subject03.noglasses.gif', 'subject02.glasses.gif', 'subject12.sleepy.gif', 'subject01.surprised.gif', 'subject14.wink.gif', 'subject01.leftlight.gif', 'subject04.centerlight.gif', 'subject11.leftlight.gif', 'subject15.leftlight.gif', 'subject08.surprised.gif', 'subject04.glasses.gif', 'subject11.rightlight.gif', 'subject14.glasses.gif', 'subject06.centerlight.gif', 'subject07.surprised.gif', 'subject06.noglasses.gif', 'subject11.wink.gif', 'subject08.sad.gif', 'subject02.happy.gif', 'subject11.sleepy.gif', 'subject07.normal.gif', 'subject02.noglasses.gif', 'subject13.normal.gif', 'subject05.rightlight.gif', 'subject09.normal.gif', 'subject03.rightlight.gif', 'subject14.noglasses.gif', 'subject15.normal.gif', 'subject02.sleepy.gif', 'subject08.leftlight.gif', 'subject07.glasses.gif', 'subject04.noglasses.gif', 'subject04.sleepy.gif', 'subject05.centerlight.gif', 'subject07.noglasses.gif', 'subject11.noglasses.gif', 'subject01.normal.gif', 'subject14.leftlight.gif', 'subject01.sleepy.gif', 'subject07.rightlight.gif', 'subject10.rightlight.gif', 'subject13.glasses.gif', 'subject01.noglasses.gif', 'subject06.sleepy.gif', 'subject12.wink.gif', 'subject09.leftlight.gif', 'subject14.centerlight.gif', 'subject15.wink.gif', 'subject03.surprised.gif', 'subject07.sleepy.gif', 'subject06.surprised.gif', 'subject03.centerlight.gif', 'subject01.wink.gif', 'subject10.wink.gif', 'subject02.surprised.gif', 'subject10.normal.gif', 'subject07.centerlight.gif', 'subject04.normal.gif', 'subject15.surprised.gif', 'subject11.centerlight.gif', 'subject13.noglasses.gif', 'subject05.happy.gif', 'subject13.happy.gif', 'subject05.normal.gif', 'subject13.centerlight.gif', 'subject13.rightlight.gif', 'subject02.rightlight.gif', 'subject15.happy.gif', 'subject07.sad.gif', 'subject08.wink.gif', 'subject15.centerlight.gif', 'subject09.wink.gif', 'subject06.glasses.gif']\n"
          ]
        }
      ]
    },
    {
      "cell_type": "code",
      "source": [
        "# percorrer todas as imgs e extrair os pixels\n",
        "def get_image_data(): # get data img\n",
        "  paths = [os.path.join('/content/yalefaces/train', f) for f in os.listdir('/content/yalefaces/train')] # lista de caminhos,  # variavel de lista []\n",
        "  # print(paths) # cria a funcao\n",
        "  # join tras uma string com o caminho completo\n",
        "  # for percorre cada uma das imgs\n",
        "\n",
        "  # criar listas para perorrer (nome id numero na img, ids => numero da pessoa, faces eh o numero dos pixels)\n",
        "  # vamos associar ids e pixels\n",
        "  faces = [] # lista vazia\n",
        "  ids = [] # lista vazia\n",
        "  for path in paths: # for para percorrer cada img\n",
        "    # print(path) # mostra o caminho completo da img\n",
        "    imagem = Image.open(path).convert('L') # abre a img, converte para escala de cinza, fazer a leitura\n",
        "    # print(type(imagem)) # mostra o tipo da imagem\n",
        "    imagem_np = np.array(imagem, 'uint8') # converte a imagem,     # converter do PIL para numpy, uint8_matriz com numeros inteiros\n",
        "    # print(type(imagem_np)) # cada img representada por uma img numpy\n",
        "\n",
        "    # buscar o id da img\n",
        "    # quebrar a string em 3 partes apos o (.) ponto\n",
        "    # print(os.path.split(path) [1]) # deixa somente o caminho da img\n",
        "\n",
        "    # combinar os dois codigos\n",
        "    # id = os.path.split(path)[1].split('.')[0]\n",
        "    # id = path.split('.')[0] # agora temos parte 0,1,2 da string, e o id esta na posicao 0 [0], com o comando isso some e fica somente o caminho 0\n",
        "\n",
        "    # agora somente os ids\n",
        "    id = int(os.path.split(path)[1].split('.')[0].replace('subject','')) # int para fcar inteiro\n",
        "    # print(id)\n",
        "\n",
        "    # ver array\n",
        "    ids.append(id)\n",
        "    faces.append(imagem_np)\n",
        "\n",
        "  return np.array(ids), faces # retornar os arrays\n",
        "\n"
      ],
      "metadata": {
        "id": "JAKYArx3Hqav"
      },
      "execution_count": 6,
      "outputs": []
    },
    {
      "cell_type": "code",
      "source": [
        "# chama a funcao, join junta nome da img com o nome do dir  caminho completo\n",
        "# resposta => ['/content/yalefaces/train/subject07.surprised.gif', '/content/yalefaces/train/subject07.rightlight.gif', '/content/yalefaces/train/subject06.sad.gif',....................\n",
        "ids, faces = get_image_data() # coloca todas as variaves para ver os pixels"
      ],
      "metadata": {
        "id": "nEnss6vqIie_"
      },
      "execution_count": 7,
      "outputs": []
    },
    {
      "cell_type": "code",
      "source": [
        "ids"
      ],
      "metadata": {
        "colab": {
          "base_uri": "https://localhost:8080/"
        },
        "id": "v_vy_THZVzz1",
        "outputId": "0e8f6adf-2650-453e-f3fa-401b9997ce08"
      },
      "execution_count": 8,
      "outputs": [
        {
          "output_type": "execute_result",
          "data": {
            "text/plain": [
              "array([13, 14,  4, 14, 15,  8,  5,  9, 12,  9,  3, 12, 11,  5, 12,  9,  7,\n",
              "       14, 10, 12,  4, 14, 13,  1,  6,  2, 15, 10,  8, 10, 12,  9, 11, 10,\n",
              "        5, 13, 15,  9, 10,  3,  1,  3,  2,  6, 12,  2, 10, 11,  9,  4,  8,\n",
              "        4,  3,  1,  8,  6,  5,  5, 12,  6,  3,  8,  3,  2, 12,  1, 14,  1,\n",
              "        4, 11, 15,  8,  4, 11, 14,  6,  7,  6, 11,  8,  2, 11,  7,  2, 13,\n",
              "        5,  9,  3, 14, 15,  2,  8,  7,  4,  4,  5,  7, 11,  1, 14,  1,  7,\n",
              "       10, 13,  1,  6, 12,  9, 14, 15,  3,  7,  6,  3,  1, 10,  2, 10,  7,\n",
              "        4, 15, 11, 13,  5, 13,  5, 13, 13,  2, 15,  7,  8, 15,  9,  6])"
            ]
          },
          "metadata": {},
          "execution_count": 8
        }
      ]
    },
    {
      "cell_type": "code",
      "source": [
        "len(ids) # ver qtas imgs 135"
      ],
      "metadata": {
        "colab": {
          "base_uri": "https://localhost:8080/"
        },
        "id": "naSa_CERWKi7",
        "outputId": "013b9580-036c-4d05-9eca-13c3e83b7b2a"
      },
      "execution_count": 11,
      "outputs": [
        {
          "output_type": "execute_result",
          "data": {
            "text/plain": [
              "135"
            ]
          },
          "metadata": {},
          "execution_count": 11
        }
      ]
    },
    {
      "cell_type": "code",
      "source": [
        "len(faces) # ver tb as matrizes com os pixels"
      ],
      "metadata": {
        "colab": {
          "base_uri": "https://localhost:8080/"
        },
        "id": "GeHRyEn_WSOA",
        "outputId": "3c0724eb-6b72-489e-81bc-6ddf67d895c8"
      },
      "execution_count": 9,
      "outputs": [
        {
          "output_type": "execute_result",
          "data": {
            "text/plain": [
              "135"
            ]
          },
          "metadata": {},
          "execution_count": 9
        }
      ]
    },
    {
      "cell_type": "code",
      "source": [
        "faces # um array para cada uma das faces, de 0 a 255 que representa os pixels"
      ],
      "metadata": {
        "colab": {
          "base_uri": "https://localhost:8080/"
        },
        "id": "4Urrp15VWatS",
        "outputId": "4b7649d7-4432-4718-c496-340348703c3d"
      },
      "execution_count": 10,
      "outputs": [
        {
          "output_type": "execute_result",
          "data": {
            "text/plain": [
              "[array([[130, 130, 130, ..., 253, 239, 255],\n",
              "        [255, 255, 255, ..., 255, 239, 255],\n",
              "        [255, 255, 255, ..., 255, 255, 255],\n",
              "        ...,\n",
              "        [255, 255, 255, ..., 115, 111, 116],\n",
              "        [255, 255, 255, ..., 119, 116, 119],\n",
              "        [ 68,  68,  68, ...,  68,  68,  68]], dtype=uint8),\n",
              " array([[130, 130, 130, ..., 255, 255, 255],\n",
              "        [255, 255, 255, ..., 255, 255, 255],\n",
              "        [255, 255, 255, ..., 255, 241, 242],\n",
              "        ...,\n",
              "        [255, 255, 255, ..., 255, 255, 255],\n",
              "        [255, 255, 255, ..., 255, 255, 255],\n",
              "        [ 68,  68,  68, ...,  68,  68,  68]], dtype=uint8),\n",
              " array([[ 85,  76,  72, ..., 232, 220, 218],\n",
              "        [186, 174, 164, ..., 232, 216, 217],\n",
              "        [151, 152, 154, ..., 223, 208, 224],\n",
              "        ...,\n",
              "        [ 68,  68,  66, ..., 174, 200, 236],\n",
              "        [ 72,  69,  66, ..., 172, 192, 230],\n",
              "        [ 68,  68,  68, ...,  68,  68,  68]], dtype=uint8),\n",
              " array([[130, 130, 130, ..., 255, 255, 255],\n",
              "        [255, 255, 255, ..., 255, 255, 255],\n",
              "        [255, 255, 255, ..., 255, 255, 255],\n",
              "        ...,\n",
              "        [255, 255, 255, ..., 255, 255, 255],\n",
              "        [255, 255, 255, ..., 255, 255, 255],\n",
              "        [ 68,  68,  68, ...,  68,  68,  68]], dtype=uint8),\n",
              " array([[130, 130, 130, ..., 255, 255, 255],\n",
              "        [255, 255, 255, ..., 255, 255, 255],\n",
              "        [255, 255, 255, ..., 255, 255, 255],\n",
              "        ...,\n",
              "        [255, 255, 255, ..., 251, 252, 255],\n",
              "        [255, 255, 255, ..., 248, 255, 255],\n",
              "        [ 68,  68,  68, ...,  68,  68,  68]], dtype=uint8),\n",
              " array([[130, 130, 130, ..., 255, 255, 255],\n",
              "        [255, 255, 255, ..., 255, 255, 255],\n",
              "        [255, 255, 255, ..., 255, 255, 255],\n",
              "        ...,\n",
              "        [255, 255, 255, ..., 255, 248, 238],\n",
              "        [255, 255, 255, ..., 255, 242, 227],\n",
              "        [ 68,  68,  68, ...,  68,  68,  68]], dtype=uint8),\n",
              " array([[119, 129, 130, ..., 255, 255, 255],\n",
              "        [251, 255, 255, ..., 255, 255, 255],\n",
              "        [255, 255, 255, ..., 255, 255, 255],\n",
              "        ...,\n",
              "        [255, 255, 255, ...,  93,  89,  93],\n",
              "        [255, 255, 255, ..., 102,  98, 102],\n",
              "        [ 68,  68,  68, ...,  68,  68,  68]], dtype=uint8),\n",
              " array([[130, 130, 130, ..., 255, 255, 255],\n",
              "        [255, 255, 255, ..., 255, 255, 255],\n",
              "        [255, 255, 255, ..., 255, 255, 255],\n",
              "        ...,\n",
              "        [255, 255, 255, ..., 255, 255, 255],\n",
              "        [255, 255, 255, ..., 255, 255, 255],\n",
              "        [ 68,  68,  68, ...,  68,  68,  68]], dtype=uint8),\n",
              " array([[130, 130, 130, ..., 255, 255, 255],\n",
              "        [255, 255, 255, ..., 255, 255, 255],\n",
              "        [255, 255, 255, ..., 255, 255, 255],\n",
              "        ...,\n",
              "        [255, 255, 255, ..., 255, 255, 255],\n",
              "        [255, 255, 255, ..., 255, 255, 255],\n",
              "        [ 68,  68,  68, ...,  68,  68,  68]], dtype=uint8),\n",
              " array([[130, 130, 130, ..., 255, 255, 255],\n",
              "        [255, 255, 255, ..., 255, 255, 255],\n",
              "        [255, 255, 255, ..., 255, 255, 255],\n",
              "        ...,\n",
              "        [255, 255, 255, ..., 255, 242, 239],\n",
              "        [255, 255, 255, ..., 255, 237, 239],\n",
              "        [ 68,  68,  68, ...,  68,  68,  68]], dtype=uint8),\n",
              " array([[130, 130, 130, ..., 255, 255, 255],\n",
              "        [255, 255, 255, ..., 255, 255, 255],\n",
              "        [255, 255, 255, ..., 255, 255, 255],\n",
              "        ...,\n",
              "        [255, 255, 255, ..., 255, 255, 255],\n",
              "        [255, 255, 255, ..., 255, 255, 255],\n",
              "        [ 68,  68,  68, ...,  68,  68,  68]], dtype=uint8),\n",
              " array([[110, 117, 121, ..., 251, 231, 241],\n",
              "        [250, 255, 255, ..., 249, 243, 252],\n",
              "        [255, 255, 255, ..., 255, 255, 255],\n",
              "        ...,\n",
              "        [243, 255, 255, ..., 167, 156, 160],\n",
              "        [246, 255, 255, ..., 171, 153, 154],\n",
              "        [ 68,  68,  68, ...,  68,  68,  68]], dtype=uint8),\n",
              " array([[130, 130, 130, ..., 255, 255, 255],\n",
              "        [255, 255, 255, ..., 255, 255, 255],\n",
              "        [255, 255, 255, ..., 255, 255, 255],\n",
              "        ...,\n",
              "        [255, 255, 255, ..., 174, 152, 132],\n",
              "        [245, 244, 243, ..., 171, 164, 145],\n",
              "        [ 68,  68,  68, ...,  68,  68,  68]], dtype=uint8),\n",
              " array([[130, 130, 130, ..., 255, 255, 255],\n",
              "        [255, 255, 255, ..., 255, 255, 255],\n",
              "        [255, 255, 255, ..., 255, 255, 255],\n",
              "        ...,\n",
              "        [255, 255, 255, ...,  25,  24,  25],\n",
              "        [253, 255, 255, ...,  26,  25,  26],\n",
              "        [ 68,  68,  68, ...,  68,  68,  68]], dtype=uint8),\n",
              " array([[130, 128, 108, ..., 253, 244, 255],\n",
              "        [255, 255, 220, ..., 249, 243, 255],\n",
              "        [246, 223, 232, ..., 252, 241, 255],\n",
              "        ...,\n",
              "        [249, 246, 255, ..., 160, 161, 163],\n",
              "        [255, 252, 255, ..., 154, 159, 163],\n",
              "        [ 68,  68,  68, ...,  68,  68,  68]], dtype=uint8),\n",
              " array([[130, 130, 130, ..., 255, 255, 255],\n",
              "        [255, 255, 255, ..., 255, 255, 255],\n",
              "        [255, 255, 255, ..., 255, 255, 255],\n",
              "        ...,\n",
              "        [255, 255, 255, ..., 255, 246, 243],\n",
              "        [255, 255, 255, ..., 255, 239, 241],\n",
              "        [ 68,  68,  68, ...,  68,  68,  68]], dtype=uint8),\n",
              " array([[130, 130, 130, ..., 255, 255, 255],\n",
              "        [255, 255, 255, ..., 255, 255, 255],\n",
              "        [255, 255, 255, ..., 255, 255, 255],\n",
              "        ...,\n",
              "        [255, 255, 255, ..., 255, 255, 255],\n",
              "        [255, 255, 255, ..., 255, 255, 255],\n",
              "        [ 68,  68,  68, ...,  68,  68,  68]], dtype=uint8),\n",
              " array([[105, 103, 103, ..., 255, 255, 255],\n",
              "        [228, 221, 223, ..., 255, 255, 255],\n",
              "        [218, 203, 222, ..., 255, 255, 255],\n",
              "        ...,\n",
              "        [ 80,  81,  83, ..., 255, 255, 255],\n",
              "        [ 80,  82,  83, ..., 255, 255, 255],\n",
              "        [ 68,  68,  68, ...,  68,  68,  68]], dtype=uint8),\n",
              " array([[130, 130, 130, ..., 255, 255, 250],\n",
              "        [255, 255, 255, ..., 255, 255, 249],\n",
              "        [255, 255, 255, ..., 255, 243, 235],\n",
              "        ...,\n",
              "        [255, 255, 255, ...,  60,  60,  61],\n",
              "        [255, 255, 255, ...,  59,  57,  60],\n",
              "        [ 68,  68,  68, ...,  68,  68,  68]], dtype=uint8),\n",
              " array([[130, 130, 130, ..., 255, 251, 255],\n",
              "        [255, 255, 255, ..., 255, 242, 255],\n",
              "        [255, 255, 255, ..., 255, 253, 255],\n",
              "        ...,\n",
              "        [255, 255, 255, ...,  51,  47,  48],\n",
              "        [255, 255, 255, ...,  51,  47,  48],\n",
              "        [ 68,  68,  68, ...,  68,  68,  68]], dtype=uint8),\n",
              " array([[130, 130, 130, ..., 255, 255, 255],\n",
              "        [255, 255, 255, ..., 255, 255, 255],\n",
              "        [255, 255, 255, ..., 255, 255, 255],\n",
              "        ...,\n",
              "        [255, 255, 255, ..., 252, 255, 255],\n",
              "        [255, 255, 255, ..., 225, 236, 244],\n",
              "        [ 68,  68,  68, ...,  68,  68,  68]], dtype=uint8),\n",
              " array([[130, 130, 130, ..., 255, 255, 255],\n",
              "        [255, 255, 255, ..., 255, 255, 255],\n",
              "        [255, 255, 255, ..., 255, 243, 244],\n",
              "        ...,\n",
              "        [255, 255, 255, ..., 255, 255, 255],\n",
              "        [255, 255, 255, ..., 255, 255, 255],\n",
              "        [ 68,  68,  68, ...,  68,  68,  68]], dtype=uint8),\n",
              " array([[130, 130, 130, ..., 255, 255, 255],\n",
              "        [255, 255, 255, ..., 255, 255, 255],\n",
              "        [255, 255, 255, ..., 255, 255, 255],\n",
              "        ...,\n",
              "        [255, 255, 255, ..., 195, 187, 190],\n",
              "        [255, 255, 255, ..., 211, 204, 210],\n",
              "        [ 68,  68,  68, ...,  68,  68,  68]], dtype=uint8),\n",
              " array([[ 37,  38,  36, ..., 222, 196, 185],\n",
              "        [ 91,  94,  91, ..., 215, 194, 178],\n",
              "        [ 86,  87,  87, ..., 214, 203, 204],\n",
              "        ...,\n",
              "        [ 57,  62,  59, ..., 186, 163, 164],\n",
              "        [ 59,  64,  59, ..., 187, 152, 151],\n",
              "        [ 68,  68,  68, ...,  68,  68,  68]], dtype=uint8),\n",
              " array([[110,  96,  91, ..., 224, 224, 236],\n",
              "        [239, 218, 211, ..., 244, 236, 239],\n",
              "        [255, 255, 255, ..., 255, 255, 255],\n",
              "        ...,\n",
              "        [199, 192, 195, ..., 227, 210, 221],\n",
              "        [204, 199, 202, ..., 228, 203, 202],\n",
              "        [ 68,  68,  68, ...,  68,  68,  68]], dtype=uint8),\n",
              " array([[109, 111, 124, ..., 255, 255, 241],\n",
              "        [235, 238, 255, ..., 255, 255, 245],\n",
              "        [252, 255, 255, ..., 255, 252, 244],\n",
              "        ...,\n",
              "        [255, 255, 255, ..., 186, 180, 180],\n",
              "        [255, 255, 255, ..., 181, 179, 175],\n",
              "        [ 68,  68,  68, ...,  68,  68,  68]], dtype=uint8),\n",
              " array([[130, 130, 130, ..., 255, 255, 255],\n",
              "        [255, 255, 255, ..., 255, 255, 255],\n",
              "        [255, 255, 255, ..., 255, 255, 255],\n",
              "        ...,\n",
              "        [255, 255, 255, ..., 248, 250, 255],\n",
              "        [255, 255, 255, ..., 245, 252, 255],\n",
              "        [ 68,  68,  68, ...,  68,  68,  68]], dtype=uint8),\n",
              " array([[130, 130, 130, ..., 255, 255, 255],\n",
              "        [255, 255, 255, ..., 255, 255, 255],\n",
              "        [255, 255, 255, ..., 255, 255, 255],\n",
              "        ...,\n",
              "        [255, 255, 255, ..., 235, 253, 255],\n",
              "        [255, 255, 255, ..., 229, 231, 249],\n",
              "        [ 68,  68,  68, ...,  68,  68,  68]], dtype=uint8),\n",
              " array([[130, 130, 130, ..., 255, 255, 255],\n",
              "        [255, 255, 255, ..., 255, 255, 255],\n",
              "        [255, 255, 255, ..., 255, 255, 255],\n",
              "        ...,\n",
              "        [255, 255, 255, ..., 255, 245, 237],\n",
              "        [255, 255, 255, ..., 255, 238, 235],\n",
              "        [ 68,  68,  68, ...,  68,  68,  68]], dtype=uint8),\n",
              " array([[130, 130, 130, ..., 255, 255, 255],\n",
              "        [255, 255, 255, ..., 255, 255, 255],\n",
              "        [255, 255, 255, ..., 255, 255, 255],\n",
              "        ...,\n",
              "        [255, 255, 255, ..., 243, 255, 255],\n",
              "        [255, 255, 255, ..., 238, 241, 255],\n",
              "        [ 68,  68,  68, ...,  68,  68,  68]], dtype=uint8),\n",
              " array([[114, 121, 124, ..., 255, 238, 245],\n",
              "        [255, 255, 255, ..., 255, 250, 255],\n",
              "        [255, 255, 255, ..., 255, 255, 255],\n",
              "        ...,\n",
              "        [250, 255, 255, ..., 176, 163, 171],\n",
              "        [250, 255, 255, ..., 185, 164, 165],\n",
              "        [ 68,  68,  68, ...,  68,  68,  68]], dtype=uint8),\n",
              " array([[130, 130, 130, ..., 255, 255, 255],\n",
              "        [255, 255, 255, ..., 255, 255, 255],\n",
              "        [255, 255, 255, ..., 255, 255, 255],\n",
              "        ...,\n",
              "        [255, 255, 255, ..., 255, 244, 242],\n",
              "        [255, 255, 255, ..., 255, 241, 243],\n",
              "        [ 68,  68,  68, ...,  68,  68,  68]], dtype=uint8),\n",
              " array([[130, 130, 130, ..., 255, 255, 255],\n",
              "        [255, 255, 255, ..., 255, 255, 255],\n",
              "        [255, 255, 255, ..., 255, 255, 255],\n",
              "        ...,\n",
              "        [255, 255, 255, ...,  58,  55,  57],\n",
              "        [250, 249, 246, ...,  71,  51,  47],\n",
              "        [ 68,  68,  68, ...,  68,  68,  68]], dtype=uint8),\n",
              " array([[130, 130, 130, ..., 255, 255, 255],\n",
              "        [255, 255, 255, ..., 255, 255, 255],\n",
              "        [255, 255, 255, ..., 255, 255, 255],\n",
              "        ...,\n",
              "        [255, 255, 255, ..., 231, 252, 251],\n",
              "        [255, 255, 255, ..., 223, 224, 245],\n",
              "        [ 68,  68,  68, ...,  68,  68,  68]], dtype=uint8),\n",
              " array([[117, 129, 130, ..., 255, 255, 255],\n",
              "        [249, 255, 255, ..., 255, 255, 255],\n",
              "        [255, 255, 255, ..., 255, 255, 255],\n",
              "        ...,\n",
              "        [255, 255, 255, ...,  93,  89,  90],\n",
              "        [255, 255, 255, ..., 100,  96, 101],\n",
              "        [ 68,  68,  68, ...,  68,  68,  68]], dtype=uint8),\n",
              " array([[130, 130, 130, ..., 255, 255, 255],\n",
              "        [255, 255, 255, ..., 255, 255, 255],\n",
              "        [255, 255, 255, ..., 255, 255, 255],\n",
              "        ...,\n",
              "        [255, 255, 255, ..., 201, 193, 196],\n",
              "        [255, 255, 255, ..., 217, 209, 218],\n",
              "        [ 68,  68,  68, ...,  68,  68,  68]], dtype=uint8),\n",
              " array([[130, 130, 130, ..., 255, 255, 255],\n",
              "        [255, 255, 255, ..., 255, 255, 255],\n",
              "        [255, 255, 255, ..., 255, 255, 255],\n",
              "        ...,\n",
              "        [255, 255, 255, ..., 248, 250, 255],\n",
              "        [255, 255, 255, ..., 246, 253, 255],\n",
              "        [ 68,  68,  68, ...,  68,  68,  68]], dtype=uint8),\n",
              " array([[130, 130, 130, ..., 255, 255, 255],\n",
              "        [255, 255, 255, ..., 255, 255, 255],\n",
              "        [255, 255, 255, ..., 255, 255, 255],\n",
              "        ...,\n",
              "        [255, 255, 255, ..., 229, 196, 199],\n",
              "        [255, 255, 255, ..., 227, 194, 197],\n",
              "        [ 68,  68,  68, ...,  68,  68,  68]], dtype=uint8),\n",
              " array([[130, 130, 130, ..., 255, 255, 255],\n",
              "        [255, 255, 255, ..., 255, 255, 255],\n",
              "        [255, 255, 255, ..., 255, 255, 255],\n",
              "        ...,\n",
              "        [255, 255, 255, ..., 245, 255, 255],\n",
              "        [255, 255, 255, ..., 239, 242, 255],\n",
              "        [ 68,  68,  68, ...,  68,  68,  68]], dtype=uint8),\n",
              " array([[130, 130, 130, ..., 255, 255, 255],\n",
              "        [255, 255, 255, ..., 255, 255, 255],\n",
              "        [255, 255, 255, ..., 255, 255, 255],\n",
              "        ...,\n",
              "        [255, 255, 255, ..., 255, 255, 255],\n",
              "        [255, 255, 255, ..., 255, 255, 255],\n",
              "        [ 68,  68,  68, ...,  68,  68,  68]], dtype=uint8),\n",
              " array([[130, 130, 130, ..., 255, 255, 255],\n",
              "        [255, 255, 255, ..., 255, 255, 255],\n",
              "        [255, 255, 255, ..., 255, 255, 255],\n",
              "        ...,\n",
              "        [255, 255, 255, ..., 252, 255, 255],\n",
              "        [255, 255, 255, ..., 255, 255, 255],\n",
              "        [ 68,  68,  68, ...,  68,  68,  68]], dtype=uint8),\n",
              " array([[130, 130, 130, ..., 255, 255, 255],\n",
              "        [255, 255, 255, ..., 255, 255, 255],\n",
              "        [255, 255, 255, ..., 255, 255, 255],\n",
              "        ...,\n",
              "        [255, 255, 255, ..., 255, 255, 255],\n",
              "        [255, 255, 255, ..., 255, 255, 255],\n",
              "        [ 68,  68,  68, ...,  68,  68,  68]], dtype=uint8),\n",
              " array([[109, 111, 124, ..., 255, 253, 239],\n",
              "        [234, 237, 255, ..., 255, 255, 245],\n",
              "        [251, 255, 255, ..., 255, 251, 241],\n",
              "        ...,\n",
              "        [255, 255, 255, ..., 179, 173, 174],\n",
              "        [255, 255, 255, ..., 176, 173, 171],\n",
              "        [ 68,  68,  68, ...,  68,  68,  68]], dtype=uint8),\n",
              " array([[122, 112, 109, ..., 255, 255, 255],\n",
              "        [255, 246, 241, ..., 255, 255, 255],\n",
              "        [252, 244, 252, ..., 255, 255, 255],\n",
              "        ...,\n",
              "        [ 78,  79,  76, ..., 255, 255, 255],\n",
              "        [ 79,  79,  76, ..., 255, 255, 255],\n",
              "        [ 68,  68,  68, ...,  68,  68,  68]], dtype=uint8),\n",
              " array([[115, 122, 126, ..., 255, 236, 245],\n",
              "        [255, 255, 255, ..., 255, 251, 255],\n",
              "        [255, 255, 255, ..., 255, 255, 255],\n",
              "        ...,\n",
              "        [255, 255, 255, ..., 163, 151, 157],\n",
              "        [255, 255, 255, ..., 168, 151, 151],\n",
              "        [ 68,  68,  68, ...,  68,  68,  68]], dtype=uint8),\n",
              " array([[110, 114, 125, ..., 255, 255, 242],\n",
              "        [238, 241, 255, ..., 255, 255, 249],\n",
              "        [253, 255, 255, ..., 255, 252, 244],\n",
              "        ...,\n",
              "        [255, 255, 255, ..., 186, 182, 182],\n",
              "        [255, 255, 255, ..., 182, 178, 175],\n",
              "        [ 68,  68,  68, ...,  68,  68,  68]], dtype=uint8),\n",
              " array([[130, 130, 130, ..., 255, 255, 255],\n",
              "        [255, 255, 255, ..., 255, 255, 255],\n",
              "        [255, 255, 255, ..., 255, 255, 255],\n",
              "        ...,\n",
              "        [255, 255, 255, ..., 230, 251, 248],\n",
              "        [255, 255, 255, ..., 221, 225, 243],\n",
              "        [ 68,  68,  68, ...,  68,  68,  68]], dtype=uint8),\n",
              " array([[130, 130, 130, ..., 255, 255, 255],\n",
              "        [255, 255, 255, ..., 255, 255, 255],\n",
              "        [255, 255, 255, ..., 255, 255, 255],\n",
              "        ...,\n",
              "        [255, 255, 255, ..., 146, 132, 147],\n",
              "        [248, 245, 244, ..., 142, 129, 140],\n",
              "        [ 68,  68,  68, ...,  68,  68,  68]], dtype=uint8),\n",
              " array([[130, 130, 130, ..., 255, 255, 255],\n",
              "        [255, 255, 255, ..., 255, 255, 255],\n",
              "        [255, 255, 255, ..., 255, 255, 255],\n",
              "        ...,\n",
              "        [255, 255, 255, ..., 255, 239, 238],\n",
              "        [255, 255, 255, ..., 255, 234, 238],\n",
              "        [ 68,  68,  68, ...,  68,  68,  68]], dtype=uint8),\n",
              " array([[130, 130, 130, ..., 255, 255, 255],\n",
              "        [255, 255, 255, ..., 255, 255, 255],\n",
              "        [255, 255, 255, ..., 255, 255, 255],\n",
              "        ...,\n",
              "        [255, 255, 255, ..., 238, 250, 251],\n",
              "        [255, 255, 255, ..., 211, 222, 230],\n",
              "        [ 68,  68,  68, ...,  68,  68,  68]], dtype=uint8),\n",
              " array([[130, 130, 130, ..., 255, 255, 255],\n",
              "        [255, 255, 255, ..., 255, 255, 255],\n",
              "        [255, 255, 255, ..., 255, 255, 255],\n",
              "        ...,\n",
              "        [255, 255, 255, ..., 255, 237, 229],\n",
              "        [255, 255, 255, ..., 255, 230, 215],\n",
              "        [ 68,  68,  68, ...,  68,  68,  68]], dtype=uint8),\n",
              " array([[130, 130, 130, ..., 255, 255, 255],\n",
              "        [255, 255, 255, ..., 255, 255, 255],\n",
              "        [255, 255, 255, ..., 255, 255, 255],\n",
              "        ...,\n",
              "        [255, 255, 255, ..., 251, 255, 255],\n",
              "        [255, 255, 255, ..., 225, 236, 244],\n",
              "        [ 68,  68,  68, ...,  68,  68,  68]], dtype=uint8),\n",
              " array([[130, 130, 130, ..., 255, 255, 255],\n",
              "        [255, 255, 255, ..., 255, 255, 255],\n",
              "        [255, 255, 255, ..., 255, 255, 255],\n",
              "        ...,\n",
              "        [255, 255, 255, ..., 255, 255, 255],\n",
              "        [255, 255, 255, ..., 255, 255, 255],\n",
              "        [ 68,  68,  68, ...,  68,  68,  68]], dtype=uint8),\n",
              " array([[130, 130, 130, ..., 255, 255, 255],\n",
              "        [255, 255, 255, ..., 255, 255, 255],\n",
              "        [255, 255, 255, ..., 255, 255, 255],\n",
              "        ...,\n",
              "        [255, 255, 255, ..., 255, 255, 255],\n",
              "        [255, 255, 255, ..., 255, 255, 255],\n",
              "        [ 68,  68,  68, ...,  68,  68,  68]], dtype=uint8),\n",
              " array([[130, 130, 130, ..., 255, 255, 255],\n",
              "        [255, 255, 255, ..., 255, 255, 255],\n",
              "        [255, 255, 255, ..., 255, 255, 255],\n",
              "        ...,\n",
              "        [255, 255, 255, ..., 255, 255, 255],\n",
              "        [255, 255, 255, ..., 255, 255, 255],\n",
              "        [ 68,  68,  68, ...,  68,  68,  68]], dtype=uint8),\n",
              " array([[109,  95,  89, ..., 224, 224, 232],\n",
              "        [237, 213, 207, ..., 242, 235, 236],\n",
              "        [255, 255, 255, ..., 255, 255, 255],\n",
              "        ...,\n",
              "        [188, 179, 183, ..., 229, 213, 223],\n",
              "        [192, 182, 188, ..., 214, 194, 204],\n",
              "        [ 68,  68,  68, ...,  68,  68,  68]], dtype=uint8),\n",
              " array([[119, 129, 130, ..., 255, 255, 255],\n",
              "        [253, 255, 255, ..., 255, 255, 255],\n",
              "        [255, 255, 255, ..., 255, 255, 255],\n",
              "        ...,\n",
              "        [255, 255, 255, ...,  91,  88,  91],\n",
              "        [255, 255, 255, ..., 101,  98, 102],\n",
              "        [ 68,  68,  68, ...,  68,  68,  68]], dtype=uint8),\n",
              " array([[118, 129, 130, ..., 255, 255, 255],\n",
              "        [253, 255, 255, ..., 255, 255, 255],\n",
              "        [255, 255, 255, ..., 255, 255, 255],\n",
              "        ...,\n",
              "        [255, 255, 255, ...,  91,  88,  91],\n",
              "        [255, 255, 255, ..., 101,  97, 102],\n",
              "        [ 68,  68,  68, ...,  68,  68,  68]], dtype=uint8),\n",
              " array([[114, 119, 124, ..., 255, 238, 244],\n",
              "        [251, 255, 255, ..., 255, 246, 255],\n",
              "        [255, 255, 255, ..., 255, 255, 255],\n",
              "        ...,\n",
              "        [241, 255, 255, ..., 178, 165, 171],\n",
              "        [245, 255, 255, ..., 183, 164, 165],\n",
              "        [ 68,  68,  68, ...,  68,  68,  68]], dtype=uint8),\n",
              " array([[112,  97,  93, ..., 227, 225, 235],\n",
              "        [241, 218, 211, ..., 246, 237, 242],\n",
              "        [255, 255, 255, ..., 255, 255, 255],\n",
              "        ...,\n",
              "        [196, 188, 192, ..., 232, 213, 223],\n",
              "        [200, 193, 199, ..., 216, 197, 207],\n",
              "        [ 68,  68,  68, ...,  68,  68,  68]], dtype=uint8),\n",
              " array([[130, 130, 130, ..., 255, 255, 255],\n",
              "        [255, 255, 255, ..., 255, 255, 255],\n",
              "        [255, 255, 255, ..., 255, 255, 255],\n",
              "        ...,\n",
              "        [255, 255, 255, ..., 255, 255, 255],\n",
              "        [255, 255, 255, ..., 255, 255, 255],\n",
              "        [ 68,  68,  68, ...,  68,  68,  68]], dtype=uint8),\n",
              " array([[130, 130, 130, ..., 255, 255, 255],\n",
              "        [255, 255, 255, ..., 255, 255, 255],\n",
              "        [255, 255, 255, ..., 255, 255, 255],\n",
              "        ...,\n",
              "        [255, 255, 255, ..., 249, 225, 217],\n",
              "        [255, 255, 255, ..., 255, 222, 206],\n",
              "        [ 68,  68,  68, ...,  68,  68,  68]], dtype=uint8),\n",
              " array([[130, 130, 130, ..., 255, 255, 255],\n",
              "        [255, 255, 255, ..., 255, 255, 255],\n",
              "        [255, 255, 255, ..., 255, 255, 255],\n",
              "        ...,\n",
              "        [255, 255, 255, ..., 255, 255, 255],\n",
              "        [255, 255, 255, ..., 255, 255, 255],\n",
              "        [ 68,  68,  68, ...,  68,  68,  68]], dtype=uint8),\n",
              " array([[109, 111, 123, ..., 255, 255, 241],\n",
              "        [231, 237, 255, ..., 255, 255, 245],\n",
              "        [252, 255, 255, ..., 255, 252, 244],\n",
              "        ...,\n",
              "        [255, 255, 255, ..., 188, 183, 185],\n",
              "        [255, 255, 255, ..., 185, 181, 178],\n",
              "        [ 68,  68,  68, ...,  68,  68,  68]], dtype=uint8),\n",
              " array([[111, 116, 121, ..., 244, 227, 236],\n",
              "        [248, 255, 255, ..., 250, 242, 255],\n",
              "        [255, 255, 255, ..., 255, 255, 255],\n",
              "        ...,\n",
              "        [231, 251, 255, ..., 173, 160, 166],\n",
              "        [238, 253, 250, ..., 179, 160, 161],\n",
              "        [ 68,  68,  68, ...,  68,  68,  68]], dtype=uint8),\n",
              " array([[130, 130, 130, ..., 255, 255, 255],\n",
              "        [255, 255, 255, ..., 255, 255, 255],\n",
              "        [255, 255, 255, ..., 255, 255, 255],\n",
              "        ...,\n",
              "        [255, 255, 255, ..., 253, 255, 255],\n",
              "        [255, 255, 255, ..., 255, 255, 255],\n",
              "        [ 68,  68,  68, ...,  68,  68,  68]], dtype=uint8),\n",
              " array([[130, 130, 130, ..., 255, 255, 255],\n",
              "        [255, 255, 255, ..., 255, 255, 255],\n",
              "        [255, 255, 255, ..., 255, 241, 241],\n",
              "        ...,\n",
              "        [255, 255, 255, ..., 255, 255, 255],\n",
              "        [255, 255, 255, ..., 255, 255, 255],\n",
              "        [ 68,  68,  68, ...,  68,  68,  68]], dtype=uint8),\n",
              " array([[130, 130, 130, ..., 216, 224, 244],\n",
              "        [255, 255, 255, ..., 215, 220, 245],\n",
              "        [255, 255, 255, ..., 231, 211, 231],\n",
              "        ...,\n",
              "        [255, 255, 255, ..., 192, 197, 203],\n",
              "        [255, 255, 255, ..., 189, 207, 215],\n",
              "        [ 68,  68,  68, ...,  68,  68,  68]], dtype=uint8),\n",
              " array([[130, 130, 130, ..., 255, 255, 255],\n",
              "        [255, 255, 255, ..., 255, 255, 255],\n",
              "        [255, 255, 255, ..., 255, 255, 255],\n",
              "        ...,\n",
              "        [255, 255, 255, ..., 255, 255, 255],\n",
              "        [255, 255, 255, ..., 255, 253, 255],\n",
              "        [ 68,  68,  68, ...,  68,  68,  68]], dtype=uint8),\n",
              " array([[130, 129, 121, ..., 190, 182, 185],\n",
              "        [255, 255, 255, ..., 183, 183, 192],\n",
              "        [255, 255, 255, ..., 175, 185, 209],\n",
              "        ...,\n",
              "        [161, 164, 161, ...,  47,  48,  50],\n",
              "        [163, 164, 161, ...,  50,  44,  43],\n",
              "        [ 68,  68,  68, ...,  68,  68,  68]], dtype=uint8),\n",
              " array([[108, 116, 117, ..., 156, 147, 167],\n",
              "        [237, 248, 244, ..., 163, 152, 171],\n",
              "        [236, 243, 228, ..., 158, 157, 175],\n",
              "        ...,\n",
              "        [231, 223, 222, ..., 130, 123, 123],\n",
              "        [241, 227, 230, ..., 124, 114, 122],\n",
              "        [ 68,  68,  68, ...,  68,  68,  68]], dtype=uint8),\n",
              " array([[130, 130, 130, ..., 255, 255, 255],\n",
              "        [255, 255, 255, ..., 255, 255, 255],\n",
              "        [255, 255, 255, ..., 255, 255, 255],\n",
              "        ...,\n",
              "        [255, 255, 255, ..., 222, 211, 224],\n",
              "        [255, 255, 255, ..., 203, 207, 221],\n",
              "        [ 68,  68,  68, ...,  68,  68,  68]], dtype=uint8),\n",
              " array([[130, 130, 130, ..., 255, 255, 255],\n",
              "        [255, 255, 255, ..., 255, 255, 255],\n",
              "        [255, 255, 255, ..., 255, 255, 255],\n",
              "        ...,\n",
              "        [255, 255, 255, ..., 249, 255, 255],\n",
              "        [255, 255, 255, ..., 222, 231, 243],\n",
              "        [ 68,  68,  68, ...,  68,  68,  68]], dtype=uint8),\n",
              " array([[105, 103, 109, ..., 255, 255, 255],\n",
              "        [230, 228, 237, ..., 255, 255, 255],\n",
              "        [224, 227, 238, ..., 255, 255, 255],\n",
              "        ...,\n",
              "        [ 68,  69,  69, ..., 126, 114, 103],\n",
              "        [ 65,  66,  66, ..., 126, 114, 103],\n",
              "        [ 68,  68,  68, ...,  68,  68,  68]], dtype=uint8),\n",
              " array([[130, 130, 130, ..., 255, 255, 255],\n",
              "        [255, 255, 255, ..., 255, 255, 255],\n",
              "        [255, 255, 255, ..., 255, 242, 243],\n",
              "        ...,\n",
              "        [255, 255, 255, ..., 255, 255, 255],\n",
              "        [255, 255, 255, ..., 255, 255, 255],\n",
              "        [ 68,  68,  68, ...,  68,  68,  68]], dtype=uint8),\n",
              " array([[130, 130, 130, ..., 255, 255, 255],\n",
              "        [255, 255, 255, ..., 255, 255, 255],\n",
              "        [255, 255, 255, ..., 255, 255, 255],\n",
              "        ...,\n",
              "        [255, 255, 255, ..., 255, 255, 255],\n",
              "        [255, 255, 255, ..., 255, 255, 255],\n",
              "        [ 68,  68,  68, ...,  68,  68,  68]], dtype=uint8),\n",
              " array([[130, 130, 130, ..., 255, 255, 255],\n",
              "        [255, 255, 255, ..., 255, 255, 255],\n",
              "        [255, 255, 255, ..., 255, 255, 255],\n",
              "        ...,\n",
              "        [255, 255, 255, ..., 255, 255, 255],\n",
              "        [255, 255, 255, ..., 255, 255, 255],\n",
              "        [ 68,  68,  68, ...,  68,  68,  68]], dtype=uint8),\n",
              " array([[110,  96,  91, ..., 224, 224, 236],\n",
              "        [239, 218, 211, ..., 244, 236, 239],\n",
              "        [255, 255, 255, ..., 255, 255, 255],\n",
              "        ...,\n",
              "        [199, 192, 195, ..., 227, 210, 221],\n",
              "        [204, 199, 202, ..., 228, 203, 202],\n",
              "        [ 68,  68,  68, ...,  68,  68,  68]], dtype=uint8),\n",
              " array([[130, 130, 130, ..., 255, 255, 255],\n",
              "        [255, 255, 255, ..., 255, 255, 255],\n",
              "        [255, 255, 255, ..., 255, 255, 255],\n",
              "        ...,\n",
              "        [255, 255, 255, ...,  65,  64,  65],\n",
              "        [248, 246, 245, ...,  55,  48,  48],\n",
              "        [ 68,  68,  68, ...,  68,  68,  68]], dtype=uint8),\n",
              " array([[130, 130, 130, ..., 255, 255, 255],\n",
              "        [255, 255, 255, ..., 255, 255, 255],\n",
              "        [255, 255, 255, ..., 255, 255, 255],\n",
              "        ...,\n",
              "        [255, 255, 255, ..., 249, 224, 217],\n",
              "        [255, 255, 255, ..., 253, 221, 206],\n",
              "        [ 68,  68,  68, ...,  68,  68,  68]], dtype=uint8),\n",
              " array([[109, 111, 124, ..., 255, 255, 243],\n",
              "        [235, 239, 255, ..., 255, 253, 244],\n",
              "        [253, 255, 255, ..., 253, 251, 243],\n",
              "        ...,\n",
              "        [255, 255, 255, ..., 187, 183, 183],\n",
              "        [255, 255, 255, ..., 183, 180, 179],\n",
              "        [ 68,  68,  68, ...,  68,  68,  68]], dtype=uint8),\n",
              " array([[130, 130, 130, ..., 255, 255, 255],\n",
              "        [255, 255, 255, ..., 255, 255, 255],\n",
              "        [255, 255, 255, ..., 255, 255, 255],\n",
              "        ...,\n",
              "        [255, 255, 255, ...,  68,  67,  65],\n",
              "        [249, 248, 245, ...,  64,  54,  51],\n",
              "        [ 68,  68,  68, ...,  68,  68,  68]], dtype=uint8),\n",
              " array([[130, 130, 130, ..., 255, 255, 255],\n",
              "        [255, 255, 255, ..., 255, 255, 255],\n",
              "        [255, 255, 255, ..., 255, 255, 255],\n",
              "        ...,\n",
              "        [255, 255, 255, ..., 255, 255, 255],\n",
              "        [255, 255, 255, ..., 255, 255, 255],\n",
              "        [ 68,  68,  68, ...,  68,  68,  68]], dtype=uint8),\n",
              " array([[109, 111, 124, ..., 255, 253, 239],\n",
              "        [234, 237, 255, ..., 255, 255, 245],\n",
              "        [251, 255, 255, ..., 255, 251, 241],\n",
              "        ...,\n",
              "        [255, 255, 255, ..., 179, 173, 174],\n",
              "        [255, 255, 255, ..., 176, 173, 171],\n",
              "        [ 68,  68,  68, ...,  68,  68,  68]], dtype=uint8),\n",
              " array([[130, 130, 130, ..., 255, 255, 255],\n",
              "        [255, 255, 255, ..., 255, 255, 255],\n",
              "        [255, 255, 255, ..., 255, 255, 255],\n",
              "        ...,\n",
              "        [255, 255, 255, ..., 190, 182, 187],\n",
              "        [255, 255, 255, ..., 207, 200, 207],\n",
              "        [ 68,  68,  68, ...,  68,  68,  68]], dtype=uint8),\n",
              " array([[ 55,  68,  75, ..., 196, 181, 210],\n",
              "        [130, 156, 170, ..., 183, 188, 210],\n",
              "        [130, 131, 146, ..., 203, 195, 200],\n",
              "        ...,\n",
              "        [ 33,  33,  33, ..., 112, 109, 111],\n",
              "        [ 34,  34,  34, ..., 118, 115, 118],\n",
              "        [ 68,  68,  68, ...,  68,  68,  68]], dtype=uint8),\n",
              " array([[130, 130, 130, ..., 255, 255, 255],\n",
              "        [255, 255, 255, ..., 255, 255, 255],\n",
              "        [255, 255, 255, ..., 255, 255, 255],\n",
              "        ...,\n",
              "        [255, 255, 255, ..., 255, 239, 238],\n",
              "        [255, 255, 255, ..., 255, 234, 238],\n",
              "        [ 68,  68,  68, ...,  68,  68,  68]], dtype=uint8),\n",
              " array([[ 78,  72,  79, ..., 255, 255, 248],\n",
              "        [171, 160, 176, ..., 255, 255, 249],\n",
              "        [165, 170, 180, ..., 250, 251, 255],\n",
              "        ...,\n",
              "        [ 79,  73,  67, ..., 196, 196, 206],\n",
              "        [ 76,  68,  65, ..., 192, 192, 201],\n",
              "        [ 68,  68,  68, ...,  68,  68,  68]], dtype=uint8),\n",
              " array([[130, 130, 130, ..., 255, 255, 255],\n",
              "        [255, 255, 255, ..., 255, 255, 255],\n",
              "        [255, 255, 255, ..., 255, 243, 245],\n",
              "        ...,\n",
              "        [255, 255, 255, ..., 255, 255, 255],\n",
              "        [255, 255, 255, ..., 255, 255, 255],\n",
              "        [ 68,  68,  68, ...,  68,  68,  68]], dtype=uint8),\n",
              " array([[130, 130, 130, ..., 255, 255, 255],\n",
              "        [255, 255, 255, ..., 255, 255, 255],\n",
              "        [255, 255, 255, ..., 255, 255, 255],\n",
              "        ...,\n",
              "        [255, 255, 255, ..., 255, 255, 255],\n",
              "        [255, 255, 255, ..., 255, 255, 255],\n",
              "        [ 68,  68,  68, ...,  68,  68,  68]], dtype=uint8),\n",
              " array([[108, 110, 123, ..., 255, 253, 239],\n",
              "        [234, 238, 255, ..., 255, 253, 245],\n",
              "        [251, 253, 255, ..., 255, 252, 242],\n",
              "        ...,\n",
              "        [255, 255, 255, ..., 178, 175, 176],\n",
              "        [255, 255, 255, ..., 176, 174, 171],\n",
              "        [ 68,  68,  68, ...,  68,  68,  68]], dtype=uint8),\n",
              " array([[130, 130, 130, ..., 252, 245, 255],\n",
              "        [255, 255, 255, ..., 255, 246, 255],\n",
              "        [255, 255, 255, ..., 231, 249, 255],\n",
              "        ...,\n",
              "        [255, 255, 255, ...,  37,  36,  38],\n",
              "        [255, 255, 255, ...,  37,  34,  37],\n",
              "        [ 68,  68,  68, ...,  68,  68,  68]], dtype=uint8),\n",
              " array([[130, 130, 130, ..., 255, 255, 255],\n",
              "        [255, 255, 255, ..., 255, 255, 255],\n",
              "        [255, 255, 255, ..., 255, 255, 255],\n",
              "        ...,\n",
              "        [255, 255, 255, ..., 255, 255, 255],\n",
              "        [255, 255, 255, ..., 255, 255, 255],\n",
              "        [ 68,  68,  68, ...,  68,  68,  68]], dtype=uint8),\n",
              " array([[130, 130, 130, ..., 255, 255, 255],\n",
              "        [255, 255, 255, ..., 255, 255, 255],\n",
              "        [255, 255, 255, ..., 255, 255, 255],\n",
              "        ...,\n",
              "        [255, 255, 255, ..., 235, 246, 250],\n",
              "        [255, 255, 255, ..., 209, 216, 228],\n",
              "        [ 68,  68,  68, ...,  68,  68,  68]], dtype=uint8),\n",
              " array([[130, 130, 130, ..., 255, 255, 255],\n",
              "        [255, 255, 255, ..., 255, 255, 255],\n",
              "        [255, 255, 255, ..., 255, 255, 255],\n",
              "        ...,\n",
              "        [255, 255, 255, ..., 239, 249, 253],\n",
              "        [255, 255, 255, ..., 214, 221, 235],\n",
              "        [ 68,  68,  68, ...,  68,  68,  68]], dtype=uint8),\n",
              " array([[130, 130, 130, ..., 255, 255, 255],\n",
              "        [255, 255, 255, ..., 255, 255, 255],\n",
              "        [255, 255, 255, ..., 255, 255, 255],\n",
              "        ...,\n",
              "        [251, 252, 253, ..., 182, 174, 176],\n",
              "        [229, 231, 232, ..., 227, 220, 214],\n",
              "        [ 68,  68,  68, ...,  68,  68,  68]], dtype=uint8),\n",
              " array([[130, 130, 130, ..., 255, 255, 255],\n",
              "        [255, 255, 255, ..., 255, 255, 255],\n",
              "        [255, 255, 255, ..., 255, 255, 255],\n",
              "        ...,\n",
              "        [255, 255, 255, ..., 255, 255, 255],\n",
              "        [255, 255, 255, ..., 255, 255, 255],\n",
              "        [ 68,  68,  68, ...,  68,  68,  68]], dtype=uint8),\n",
              " array([[130, 130, 130, ..., 255, 255, 255],\n",
              "        [255, 255, 255, ..., 255, 255, 255],\n",
              "        [255, 255, 255, ..., 255, 255, 255],\n",
              "        ...,\n",
              "        [255, 255, 255, ..., 129, 100,  79],\n",
              "        [248, 246, 245, ..., 128, 101,  73],\n",
              "        [ 68,  68,  68, ...,  68,  68,  68]], dtype=uint8),\n",
              " array([[130, 130, 130, ..., 255, 255, 255],\n",
              "        [255, 255, 255, ..., 255, 255, 255],\n",
              "        [255, 255, 255, ..., 255, 255, 255],\n",
              "        ...,\n",
              "        [255, 255, 255, ..., 255, 255, 255],\n",
              "        [255, 255, 255, ..., 255, 255, 255],\n",
              "        [ 68,  68,  68, ...,  68,  68,  68]], dtype=uint8),\n",
              " array([[130, 130, 130, ..., 228, 225, 255],\n",
              "        [255, 255, 255, ..., 227, 229, 255],\n",
              "        [255, 255, 255, ..., 245, 235, 255],\n",
              "        ...,\n",
              "        [255, 255, 255, ..., 248, 229, 230],\n",
              "        [255, 255, 255, ..., 244, 228, 236],\n",
              "        [ 68,  68,  68, ...,  68,  68,  68]], dtype=uint8),\n",
              " array([[130, 130, 130, ..., 255, 255, 255],\n",
              "        [255, 255, 255, ..., 255, 255, 255],\n",
              "        [255, 255, 255, ..., 255, 255, 255],\n",
              "        ...,\n",
              "        [255, 255, 255, ..., 251, 255, 255],\n",
              "        [255, 255, 255, ..., 255, 255, 255],\n",
              "        [ 68,  68,  68, ...,  68,  68,  68]], dtype=uint8),\n",
              " array([[114, 109, 111, ..., 255, 255, 255],\n",
              "        [249, 241, 244, ..., 255, 255, 255],\n",
              "        [255, 255, 246, ..., 255, 255, 255],\n",
              "        ...,\n",
              "        [204, 204, 204, ..., 250, 255, 255],\n",
              "        [202, 200, 199, ..., 252, 255, 255],\n",
              "        [ 68,  68,  68, ...,  68,  68,  68]], dtype=uint8),\n",
              " array([[122, 118, 118, ..., 255, 255, 255],\n",
              "        [255, 255, 255, ..., 255, 255, 255],\n",
              "        [255, 255, 251, ..., 255, 255, 255],\n",
              "        ...,\n",
              "        [100, 108, 114, ..., 255, 255, 255],\n",
              "        [104, 112, 114, ..., 255, 255, 255],\n",
              "        [ 68,  68,  68, ...,  68,  68,  68]], dtype=uint8),\n",
              " array([[130, 130, 130, ..., 255, 255, 255],\n",
              "        [255, 255, 255, ..., 255, 255, 255],\n",
              "        [255, 255, 255, ..., 255, 255, 255],\n",
              "        ...,\n",
              "        [255, 255, 255, ..., 201, 195, 199],\n",
              "        [255, 255, 255, ..., 218, 211, 217],\n",
              "        [ 68,  68,  68, ...,  68,  68,  68]], dtype=uint8),\n",
              " array([[130, 130, 130, ..., 255, 255, 255],\n",
              "        [255, 255, 255, ..., 255, 255, 255],\n",
              "        [255, 255, 255, ..., 255, 255, 255],\n",
              "        ...,\n",
              "        [255, 255, 255, ..., 255, 255, 255],\n",
              "        [255, 255, 255, ..., 255, 255, 255],\n",
              "        [ 68,  68,  68, ...,  68,  68,  68]], dtype=uint8),\n",
              " array([[110,  96,  91, ..., 227, 225, 236],\n",
              "        [239, 217, 213, ..., 244, 237, 239],\n",
              "        [255, 255, 255, ..., 255, 255, 255],\n",
              "        ...,\n",
              "        [189, 181, 185, ..., 232, 215, 224],\n",
              "        [192, 186, 190, ..., 217, 199, 207],\n",
              "        [ 68,  68,  68, ...,  68,  68,  68]], dtype=uint8),\n",
              " array([[112, 118, 123, ..., 251, 232, 242],\n",
              "        [252, 255, 255, ..., 253, 244, 255],\n",
              "        [255, 255, 255, ..., 255, 255, 255],\n",
              "        ...,\n",
              "        [242, 255, 255, ..., 167, 156, 160],\n",
              "        [245, 255, 255, ..., 186, 168, 159],\n",
              "        [ 68,  68,  68, ...,  68,  68,  68]], dtype=uint8),\n",
              " array([[130, 130, 130, ..., 255, 255, 255],\n",
              "        [255, 255, 255, ..., 255, 255, 255],\n",
              "        [255, 255, 255, ..., 255, 255, 255],\n",
              "        ...,\n",
              "        [255, 255, 255, ...,  41,  41,  46],\n",
              "        [255, 255, 255, ...,  41,  40,  44],\n",
              "        [ 68,  68,  68, ...,  68,  68,  68]], dtype=uint8),\n",
              " array([[130, 130, 130, ..., 255, 255, 255],\n",
              "        [255, 255, 255, ..., 255, 255, 255],\n",
              "        [255, 255, 255, ..., 255, 255, 255],\n",
              "        ...,\n",
              "        [255, 255, 255, ..., 255, 255, 255],\n",
              "        [255, 255, 255, ..., 255, 255, 255],\n",
              "        [ 68,  68,  68, ...,  68,  68,  68]], dtype=uint8),\n",
              " array([[130, 130, 130, ..., 255, 255, 255],\n",
              "        [255, 255, 255, ..., 255, 255, 255],\n",
              "        [255, 255, 255, ..., 255, 255, 255],\n",
              "        ...,\n",
              "        [255, 255, 255, ..., 255, 255, 255],\n",
              "        [255, 255, 255, ..., 255, 255, 255],\n",
              "        [ 68,  68,  68, ...,  68,  68,  68]], dtype=uint8),\n",
              " array([[130, 130, 130, ..., 255, 255, 255],\n",
              "        [255, 255, 255, ..., 255, 255, 255],\n",
              "        [255, 255, 255, ..., 255, 255, 255],\n",
              "        ...,\n",
              "        [255, 255, 255, ..., 255, 255, 255],\n",
              "        [255, 255, 255, ..., 255, 255, 255],\n",
              "        [ 68,  68,  68, ...,  68,  68,  68]], dtype=uint8),\n",
              " array([[130, 130, 130, ..., 255, 255, 255],\n",
              "        [255, 255, 255, ..., 255, 255, 255],\n",
              "        [255, 255, 255, ..., 255, 255, 255],\n",
              "        ...,\n",
              "        [255, 255, 255, ..., 255, 255, 255],\n",
              "        [255, 255, 255, ..., 255, 255, 255],\n",
              "        [ 68,  68,  68, ...,  68,  68,  68]], dtype=uint8),\n",
              " array([[111,  95,  90, ..., 225, 224, 234],\n",
              "        [237, 214, 208, ..., 244, 236, 239],\n",
              "        [255, 255, 255, ..., 255, 255, 255],\n",
              "        ...,\n",
              "        [187, 180, 183, ..., 234, 216, 224],\n",
              "        [190, 183, 188, ..., 220, 201, 209],\n",
              "        [ 68,  68,  68, ...,  68,  68,  68]], dtype=uint8),\n",
              " array([[130, 130, 130, ..., 255, 255, 255],\n",
              "        [255, 255, 255, ..., 255, 255, 255],\n",
              "        [255, 255, 255, ..., 255, 255, 255],\n",
              "        ...,\n",
              "        [255, 255, 255, ..., 255, 255, 255],\n",
              "        [255, 255, 255, ..., 255, 255, 255],\n",
              "        [ 68,  68,  68, ...,  68,  68,  68]], dtype=uint8),\n",
              " array([[130, 130, 130, ..., 255, 255, 255],\n",
              "        [255, 255, 255, ..., 255, 255, 255],\n",
              "        [255, 255, 255, ..., 255, 255, 255],\n",
              "        ...,\n",
              "        [255, 255, 255, ..., 244, 255, 255],\n",
              "        [255, 255, 255, ..., 255, 253, 255],\n",
              "        [ 68,  68,  68, ...,  68,  68,  68]], dtype=uint8),\n",
              " array([[130, 130, 130, ..., 255, 255, 255],\n",
              "        [255, 255, 255, ..., 255, 255, 255],\n",
              "        [255, 255, 255, ..., 255, 255, 255],\n",
              "        ...,\n",
              "        [255, 255, 255, ..., 243, 255, 255],\n",
              "        [255, 255, 255, ..., 237, 241, 255],\n",
              "        [ 68,  68,  68, ...,  68,  68,  68]], dtype=uint8),\n",
              " array([[109, 112, 124, ..., 255, 255, 241],\n",
              "        [236, 239, 255, ..., 255, 255, 244],\n",
              "        [252, 255, 255, ..., 255, 251, 243],\n",
              "        ...,\n",
              "        [255, 255, 255, ..., 183, 181, 182],\n",
              "        [255, 255, 255, ..., 182, 178, 175],\n",
              "        [ 68,  68,  68, ...,  68,  68,  68]], dtype=uint8),\n",
              " array([[130, 130, 130, ..., 255, 255, 255],\n",
              "        [255, 255, 255, ..., 255, 255, 255],\n",
              "        [255, 255, 255, ..., 255, 255, 255],\n",
              "        ...,\n",
              "        [255, 255, 255, ..., 244, 255, 255],\n",
              "        [255, 255, 255, ..., 238, 242, 255],\n",
              "        [ 68,  68,  68, ...,  68,  68,  68]], dtype=uint8),\n",
              " array([[130, 130, 130, ..., 255, 255, 255],\n",
              "        [255, 255, 255, ..., 255, 255, 255],\n",
              "        [255, 255, 255, ..., 255, 255, 255],\n",
              "        ...,\n",
              "        [255, 255, 255, ..., 255, 255, 255],\n",
              "        [255, 255, 255, ..., 255, 255, 255],\n",
              "        [ 68,  68,  68, ...,  68,  68,  68]], dtype=uint8),\n",
              " array([[130, 130, 130, ..., 255, 255, 255],\n",
              "        [255, 255, 255, ..., 255, 255, 255],\n",
              "        [255, 255, 255, ..., 255, 255, 255],\n",
              "        ...,\n",
              "        [255, 255, 255, ..., 251, 255, 255],\n",
              "        [255, 255, 255, ..., 225, 236, 244],\n",
              "        [ 68,  68,  68, ...,  68,  68,  68]], dtype=uint8),\n",
              " array([[130, 130, 130, ..., 255, 255, 255],\n",
              "        [255, 255, 255, ..., 255, 255, 255],\n",
              "        [255, 255, 255, ..., 255, 255, 255],\n",
              "        ...,\n",
              "        [255, 255, 255, ..., 235, 238, 255],\n",
              "        [255, 255, 255, ..., 234, 243, 255],\n",
              "        [ 68,  68,  68, ...,  68,  68,  68]], dtype=uint8),\n",
              " array([[130, 130, 130, ..., 255, 255, 255],\n",
              "        [255, 255, 255, ..., 255, 255, 255],\n",
              "        [255, 255, 255, ..., 255, 255, 255],\n",
              "        ...,\n",
              "        [179, 180, 181, ..., 114, 100,  96],\n",
              "        [165, 165, 166, ..., 102,  89,  78],\n",
              "        [ 68,  68,  68, ...,  68,  68,  68]], dtype=uint8),\n",
              " array([[130, 130, 130, ..., 255, 255, 255],\n",
              "        [255, 255, 255, ..., 255, 255, 255],\n",
              "        [255, 255, 255, ..., 255, 255, 255],\n",
              "        ...,\n",
              "        [255, 255, 255, ..., 203, 195, 199],\n",
              "        [255, 255, 255, ..., 218, 210, 218],\n",
              "        [ 68,  68,  68, ...,  68,  68,  68]], dtype=uint8),\n",
              " array([[117, 129, 130, ..., 255, 255, 255],\n",
              "        [252, 255, 255, ..., 255, 255, 255],\n",
              "        [255, 255, 255, ..., 255, 255, 255],\n",
              "        ...,\n",
              "        [255, 255, 255, ...,  93,  89,  93],\n",
              "        [255, 255, 255, ..., 102,  97, 101],\n",
              "        [ 68,  68,  68, ...,  68,  68,  68]], dtype=uint8),\n",
              " array([[130, 130, 130, ..., 255, 255, 255],\n",
              "        [255, 255, 255, ..., 255, 255, 255],\n",
              "        [255, 255, 255, ..., 255, 255, 255],\n",
              "        ...,\n",
              "        [255, 255, 255, ..., 200, 192, 195],\n",
              "        [255, 255, 255, ..., 217, 208, 217],\n",
              "        [ 68,  68,  68, ...,  68,  68,  68]], dtype=uint8),\n",
              " array([[119, 129, 130, ..., 255, 255, 255],\n",
              "        [253, 255, 255, ..., 255, 255, 255],\n",
              "        [255, 255, 255, ..., 255, 255, 255],\n",
              "        ...,\n",
              "        [255, 255, 255, ...,  93,  89,  94],\n",
              "        [255, 255, 255, ..., 102,  98, 103],\n",
              "        [ 68,  68,  68, ...,  68,  68,  68]], dtype=uint8),\n",
              " array([[130, 130, 130, ..., 255, 255, 255],\n",
              "        [255, 255, 255, ..., 255, 255, 255],\n",
              "        [255, 255, 255, ..., 255, 255, 255],\n",
              "        ...,\n",
              "        [255, 255, 255, ..., 237, 231, 237],\n",
              "        [255, 255, 255, ..., 241, 236, 244],\n",
              "        [ 68,  68,  68, ...,  68,  68,  68]], dtype=uint8),\n",
              " array([[ 97, 107, 119, ..., 255, 255, 255],\n",
              "        [221, 239, 255, ..., 255, 255, 255],\n",
              "        [221, 255, 255, ..., 255, 255, 255],\n",
              "        ...,\n",
              "        [110, 112, 111, ..., 158, 154, 159],\n",
              "        [111, 110, 111, ..., 163, 158, 165],\n",
              "        [ 68,  68,  68, ...,  68,  68,  68]], dtype=uint8),\n",
              " array([[ 75,  72,  72, ..., 255, 255, 255],\n",
              "        [170, 161, 164, ..., 255, 255, 255],\n",
              "        [163, 158, 159, ..., 255, 255, 255],\n",
              "        ...,\n",
              "        [145, 151, 153, ..., 255, 255, 253],\n",
              "        [146, 153, 159, ..., 255, 255, 255],\n",
              "        [ 68,  68,  68, ...,  68,  68,  68]], dtype=uint8),\n",
              " array([[130, 130, 130, ..., 255, 255, 255],\n",
              "        [255, 255, 255, ..., 255, 255, 255],\n",
              "        [255, 255, 255, ..., 255, 255, 255],\n",
              "        ...,\n",
              "        [255, 255, 255, ..., 218, 214, 237],\n",
              "        [255, 255, 255, ..., 214, 215, 253],\n",
              "        [ 68,  68,  68, ...,  68,  68,  68]], dtype=uint8),\n",
              " array([[130, 130, 130, ..., 255, 255, 255],\n",
              "        [255, 255, 255, ..., 255, 255, 255],\n",
              "        [255, 255, 255, ..., 255, 255, 255],\n",
              "        ...,\n",
              "        [255, 255, 255, ..., 255, 255, 255],\n",
              "        [255, 255, 255, ..., 255, 255, 255],\n",
              "        [ 68,  68,  68, ...,  68,  68,  68]], dtype=uint8),\n",
              " array([[130, 130, 130, ..., 255, 255, 255],\n",
              "        [255, 255, 255, ..., 255, 255, 255],\n",
              "        [255, 255, 255, ..., 255, 255, 255],\n",
              "        ...,\n",
              "        [255, 255, 255, ..., 246, 221, 213],\n",
              "        [255, 255, 255, ..., 248, 215, 201],\n",
              "        [ 68,  68,  68, ...,  68,  68,  68]], dtype=uint8),\n",
              " array([[124, 116, 102, ..., 255, 242, 246],\n",
              "        [255, 251, 230, ..., 255, 246, 248],\n",
              "        [246, 227, 231, ..., 255, 255, 255],\n",
              "        ...,\n",
              "        [243, 245, 255, ..., 231, 220, 216],\n",
              "        [255, 255, 255, ..., 213, 206, 218],\n",
              "        [ 68,  68,  68, ...,  68,  68,  68]], dtype=uint8),\n",
              " array([[130, 130, 130, ..., 255, 255, 255],\n",
              "        [255, 255, 255, ..., 255, 255, 255],\n",
              "        [255, 255, 255, ..., 255, 255, 255],\n",
              "        ...,\n",
              "        [255, 255, 255, ..., 255, 253, 250],\n",
              "        [255, 255, 255, ..., 255, 248, 248],\n",
              "        [ 68,  68,  68, ...,  68,  68,  68]], dtype=uint8),\n",
              " array([[109,  95,  90, ..., 220, 230, 235],\n",
              "        [237, 215, 210, ..., 244, 236, 239],\n",
              "        [255, 255, 255, ..., 255, 255, 255],\n",
              "        ...,\n",
              "        [187, 179, 183, ..., 235, 216, 225],\n",
              "        [190, 183, 189, ..., 220, 200, 209],\n",
              "        [ 68,  68,  68, ...,  68,  68,  68]], dtype=uint8)]"
            ]
          },
          "metadata": {},
          "execution_count": 10
        }
      ]
    },
    {
      "cell_type": "code",
      "source": [
        "faces[0], faces[0].shape # ver os pixels somente da primeira img"
      ],
      "metadata": {
        "colab": {
          "base_uri": "https://localhost:8080/"
        },
        "id": "gpdLzah7W46U",
        "outputId": "1245a723-1000-434d-fbc0-3547ef810971"
      },
      "execution_count": 11,
      "outputs": [
        {
          "output_type": "execute_result",
          "data": {
            "text/plain": [
              "(array([[130, 130, 130, ..., 253, 239, 255],\n",
              "        [255, 255, 255, ..., 255, 239, 255],\n",
              "        [255, 255, 255, ..., 255, 255, 255],\n",
              "        ...,\n",
              "        [255, 255, 255, ..., 115, 111, 116],\n",
              "        [255, 255, 255, ..., 119, 116, 119],\n",
              "        [ 68,  68,  68, ...,  68,  68,  68]], dtype=uint8),\n",
              " (243, 320))"
            ]
          },
          "metadata": {},
          "execution_count": 11
        }
      ]
    },
    {
      "cell_type": "code",
      "source": [
        "faces[0]"
      ],
      "metadata": {
        "colab": {
          "base_uri": "https://localhost:8080/",
          "height": 283
        },
        "id": "m8CWcF_hXVKa",
        "outputId": "127184a3-58e9-490f-80e3-f23276f098b2"
      },
      "execution_count": 12,
      "outputs": [
        {
          "output_type": "execute_result",
          "data": {
            "text/plain": [
              "array([[130, 130, 130, ..., 253, 239, 255],\n",
              "       [255, 255, 255, ..., 255, 239, 255],\n",
              "       [255, 255, 255, ..., 255, 255, 255],\n",
              "       ...,\n",
              "       [255, 255, 255, ..., 115, 111, 116],\n",
              "       [255, 255, 255, ..., 119, 116, 119],\n",
              "       [ 68,  68,  68, ...,  68,  68,  68]], dtype=uint8)"
            ],
            "text/html": [
              "<style>\n",
              "      .ndarray_repr .ndarray_raw_data {\n",
              "        display: none;\n",
              "      }\n",
              "      .ndarray_repr.show_array .ndarray_raw_data {\n",
              "        display: block;\n",
              "      }\n",
              "      .ndarray_repr.show_array .ndarray_image_preview {\n",
              "        display: none;\n",
              "      }\n",
              "      </style>\n",
              "      <div id=\"id-fafb46dd-b0ea-426c-8ce9-f3af7a165d0c\" class=\"ndarray_repr\"><pre>ndarray (243, 320) <button style=\"padding: 0 2px;\">show data</button></pre><img src=\"data:image/png;base64,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\" class=\"ndarray_image_preview\" /><pre class=\"ndarray_raw_data\">array([[130, 130, 130, ..., 253, 239, 255],\n",
              "       [255, 255, 255, ..., 255, 239, 255],\n",
              "       [255, 255, 255, ..., 255, 255, 255],\n",
              "       ...,\n",
              "       [255, 255, 255, ..., 115, 111, 116],\n",
              "       [255, 255, 255, ..., 119, 116, 119],\n",
              "       [ 68,  68,  68, ...,  68,  68,  68]], dtype=uint8)</pre></div><script>\n",
              "      (() => {\n",
              "      const titles = ['show data', 'hide data'];\n",
              "      let index = 0\n",
              "      document.querySelector('#id-fafb46dd-b0ea-426c-8ce9-f3af7a165d0c button').onclick = (e) => {\n",
              "        document.querySelector('#id-fafb46dd-b0ea-426c-8ce9-f3af7a165d0c').classList.toggle('show_array');\n",
              "        index = (++index) % 2;\n",
              "        document.querySelector('#id-fafb46dd-b0ea-426c-8ce9-f3af7a165d0c button').textContent = titles[index];\n",
              "        e.preventDefault();\n",
              "        e.stopPropagation();\n",
              "      }\n",
              "      })();\n",
              "    </script>"
            ]
          },
          "metadata": {},
          "execution_count": 12
        }
      ]
    },
    {
      "cell_type": "code",
      "source": [
        "# ver qtdade de pixels, porque a img eh tom de cinza se fosse RGP seria x3\n",
        "243 * 320"
      ],
      "metadata": {
        "colab": {
          "base_uri": "https://localhost:8080/"
        },
        "id": "FlMmMBLuXpzg",
        "outputId": "a1d54206-e66c-4ac7-c939-534c5b6c73eb"
      },
      "execution_count": 13,
      "outputs": [
        {
          "output_type": "execute_result",
          "data": {
            "text/plain": [
              "77760"
            ]
          },
          "metadata": {},
          "execution_count": 13
        }
      ]
    },
    {
      "cell_type": "code",
      "source": [
        "ids[0]"
      ],
      "metadata": {
        "colab": {
          "base_uri": "https://localhost:8080/"
        },
        "id": "UfvQtHbG5xcP",
        "outputId": "d3fb973c-0bc1-4b2a-c80a-7840082d52db"
      },
      "execution_count": 14,
      "outputs": [
        {
          "output_type": "execute_result",
          "data": {
            "text/plain": [
              "np.int64(13)"
            ]
          },
          "metadata": {},
          "execution_count": 14
        }
      ]
    },
    {
      "cell_type": "code",
      "source": [
        "#  se a img fosse RGB colorida, respo de valores em cada uma das imgs\n",
        "243 * 320, 243 * 320 * 3"
      ],
      "metadata": {
        "colab": {
          "base_uri": "https://localhost:8080/"
        },
        "id": "q8TNrCxvX9IE",
        "outputId": "05fc1110-6825-471d-f189-b4c6083a3ad5"
      },
      "execution_count": 15,
      "outputs": [
        {
          "output_type": "execute_result",
          "data": {
            "text/plain": [
              "(77760, 233280)"
            ]
          },
          "metadata": {},
          "execution_count": 15
        }
      ]
    },
    {
      "cell_type": "markdown",
      "source": [],
      "metadata": {
        "id": "ICZBp0KT4iIB"
      }
    },
    {
      "cell_type": "markdown",
      "source": [
        "# Treinamento do classificador LBPH"
      ],
      "metadata": {
        "id": "Ya-NAR_a4j19"
      }
    },
    {
      "cell_type": "code",
      "source": [
        "# o open_cv ja tem implementado esse algoritmo\n",
        "\n",
        "# usando as imgs de treinamento para o algoritmo aprender os istogramas, depois usar as imgs de teste para medir o desenpenho\n",
        "lbph_classifer = cv2.face.LBPHFaceRecognizer_create()   # variavel\n",
        "lbph_classifer.train(faces, ids) # treina o classificador . Faces os pixel e ids a pessoa ex 10 umero\n",
        "lbph_classifer.write('lbph_classifier.yml') # gerar o codigo para o treinamento"
      ],
      "metadata": {
        "id": "YE1TqjnD4oeh"
      },
      "execution_count": 16,
      "outputs": []
    },
    {
      "cell_type": "markdown",
      "source": [
        "# Reconhecimento de faces"
      ],
      "metadata": {
        "id": "2fcXjzji7bPx"
      }
    },
    {
      "cell_type": "code",
      "source": [
        "lbph_face_classifer = cv2.face.LBPHFaceRecognizer_create()   # variavel# cria o obj dessa classe para carregar o arquivo (agora que o file yml esta no proj)\n",
        "lbph_face_classifer.read('/content/lbph_classifier.yml') # carregar o arquivo, executa o codigo\n"
      ],
      "metadata": {
        "id": "qmNzQwZW7qFV"
      },
      "execution_count": 19,
      "outputs": []
    },
    {
      "cell_type": "markdown",
      "source": [],
      "metadata": {
        "id": "5aywwSy37jNX"
      }
    },
    {
      "cell_type": "code",
      "source": [
        "imagem_teste = '/content/yalefaces/test/subject10.sad.gif' # variavel que armazena o caminho"
      ],
      "metadata": {
        "id": "7ac_EWNT88sT"
      },
      "execution_count": 20,
      "outputs": []
    },
    {
      "cell_type": "code",
      "source": [
        "imagem = Image.open(imagem_teste).convert('L') # abre a img, converte para escala de cinza, fazer a leitura\n",
        "imagem_np = np.array(imagem, 'uint8') # converte a imagem\n",
        "imagem_np"
      ],
      "metadata": {
        "colab": {
          "base_uri": "https://localhost:8080/",
          "height": 283
        },
        "id": "Dy5U5jRU9F3g",
        "outputId": "10a733ce-2eb7-4a67-d920-62350d182f04"
      },
      "execution_count": 21,
      "outputs": [
        {
          "output_type": "execute_result",
          "data": {
            "text/plain": [
              "array([[130, 130, 130, ..., 255, 255, 255],\n",
              "       [255, 255, 255, ..., 255, 255, 255],\n",
              "       [255, 255, 255, ..., 255, 255, 255],\n",
              "       ...,\n",
              "       [255, 255, 255, ..., 241, 255, 255],\n",
              "       [255, 255, 255, ..., 234, 237, 252],\n",
              "       [ 68,  68,  68, ...,  68,  68,  68]], dtype=uint8)"
            ],
            "text/html": [
              "<style>\n",
              "      .ndarray_repr .ndarray_raw_data {\n",
              "        display: none;\n",
              "      }\n",
              "      .ndarray_repr.show_array .ndarray_raw_data {\n",
              "        display: block;\n",
              "      }\n",
              "      .ndarray_repr.show_array .ndarray_image_preview {\n",
              "        display: none;\n",
              "      }\n",
              "      </style>\n",
              "      <div id=\"id-0753b3a0-3118-4b89-bcfb-32a0fd87ec88\" class=\"ndarray_repr\"><pre>ndarray (243, 320) <button style=\"padding: 0 2px;\">show data</button></pre><img src=\"data:image/png;base64,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\" class=\"ndarray_image_preview\" /><pre class=\"ndarray_raw_data\">array([[130, 130, 130, ..., 255, 255, 255],\n",
              "       [255, 255, 255, ..., 255, 255, 255],\n",
              "       [255, 255, 255, ..., 255, 255, 255],\n",
              "       ...,\n",
              "       [255, 255, 255, ..., 241, 255, 255],\n",
              "       [255, 255, 255, ..., 234, 237, 252],\n",
              "       [ 68,  68,  68, ...,  68,  68,  68]], dtype=uint8)</pre></div><script>\n",
              "      (() => {\n",
              "      const titles = ['show data', 'hide data'];\n",
              "      let index = 0\n",
              "      document.querySelector('#id-0753b3a0-3118-4b89-bcfb-32a0fd87ec88 button').onclick = (e) => {\n",
              "        document.querySelector('#id-0753b3a0-3118-4b89-bcfb-32a0fd87ec88').classList.toggle('show_array');\n",
              "        index = (++index) % 2;\n",
              "        document.querySelector('#id-0753b3a0-3118-4b89-bcfb-32a0fd87ec88 button').textContent = titles[index];\n",
              "        e.preventDefault();\n",
              "        e.stopPropagation();\n",
              "      }\n",
              "      })();\n",
              "    </script>"
            ]
          },
          "metadata": {},
          "execution_count": 21
        }
      ]
    },
    {
      "cell_type": "code",
      "source": [
        "imagem_np.shape # img possui (243, 320) pixels"
      ],
      "metadata": {
        "colab": {
          "base_uri": "https://localhost:8080/"
        },
        "id": "-UuraT4P9a1a",
        "outputId": "ac34b6e6-3991-45f9-c950-fdceda9056d4"
      },
      "execution_count": 22,
      "outputs": [
        {
          "output_type": "execute_result",
          "data": {
            "text/plain": [
              "(243, 320)"
            ]
          },
          "metadata": {},
          "execution_count": 22
        }
      ]
    },
    {
      "cell_type": "code",
      "source": [
        "# previsao\n",
        "previsao = lbph_face_classifer.predict(imagem_np)\n",
        "previsao # 1 valor eh a classe a img foi classificada como num 10, e o 2 a confianca da deteccao 6.38"
      ],
      "metadata": {
        "colab": {
          "base_uri": "https://localhost:8080/"
        },
        "id": "nspMismO9mdz",
        "outputId": "9fc2e695-a674-4dea-8805-dd10c11c19c8"
      },
      "execution_count": 23,
      "outputs": [
        {
          "output_type": "execute_result",
          "data": {
            "text/plain": [
              "(10, 6.384336446373091)"
            ]
          },
          "metadata": {},
          "execution_count": 23
        }
      ]
    },
    {
      "cell_type": "code",
      "source": [
        "# para estrair somente a classe\n",
        "previsao[0]"
      ],
      "metadata": {
        "colab": {
          "base_uri": "https://localhost:8080/"
        },
        "id": "kSlJ0-ws98ul",
        "outputId": "214c2bb6-7766-4bdf-c334-e4d39ac97807"
      },
      "execution_count": 24,
      "outputs": [
        {
          "output_type": "execute_result",
          "data": {
            "text/plain": [
              "10"
            ]
          },
          "metadata": {},
          "execution_count": 24
        }
      ]
    },
    {
      "cell_type": "code",
      "source": [
        "# fazer um comparativo com a img 10, extrair o resuldado para comparar os resultados\n",
        "saida_esperada = int(os.path.split(imagem_teste)[1].split('.')[0].replace('subject',''))\n",
        "saida_esperada # codigo interessante qdo trab todas as imgs da base de dados"
      ],
      "metadata": {
        "colab": {
          "base_uri": "https://localhost:8080/"
        },
        "id": "ZNBzAdkI-TTp",
        "outputId": "7946bbe8-e866-4743-ae8a-253beb0b4595"
      },
      "execution_count": 25,
      "outputs": [
        {
          "output_type": "execute_result",
          "data": {
            "text/plain": [
              "10"
            ]
          },
          "metadata": {},
          "execution_count": 25
        }
      ]
    },
    {
      "cell_type": "code",
      "source": [
        "# escrever o resultado na imagem,  #  (10, 20) eh o posicionamento, tamanho da font e a cor 0.5, (255, 255, 0)\n",
        "cv2.putText(imagem_np, 'Pred: ' + str(previsao[0]), (10, 30), cv2.FONT_HERSHEY_SIMPLEX, 0.5, (0, 255, 0))\n",
        "cv2.putText(imagem_np, 'Exp: ' + str(saida_esperada), (10, 50), cv2.FONT_HERSHEY_SIMPLEX, 0.5, (0, 255, 0))\n",
        "cv2_imshow(imagem_np)"
      ],
      "metadata": {
        "colab": {
          "base_uri": "https://localhost:8080/",
          "height": 260
        },
        "id": "i8sMEXmQTiFO",
        "outputId": "767328a6-529f-450d-bfe4-a7f9280e2ecf"
      },
      "execution_count": 26,
      "outputs": [
        {
          "output_type": "display_data",
          "data": {
            "text/plain": [
              "<PIL.Image.Image image mode=L size=320x243>"
            ],
            "image/png": "[encoded data removed]",
            "image/jpeg": "[encoded data removed]"
          },
          "metadata": {}
        }
      ]
    },
    {
      "cell_type": "code",
      "source": [
        "# estrutura de repeticao para percorrer cada img da base de dados e fazer a classificacao\n",
        "# vamos comparar a classe com a previsao\n",
        "# no final avaliar o percentual de acerto\n",
        "\n",
        "# variavel paths formato de lista\n",
        "paths = [os.path.join('/content/yalefaces/test', f) for f in os.listdir('/content/yalefaces/test')]\n",
        "\n",
        "# novas variaveis\n",
        "previsoes = [] # lista vazia # todas as previsoes\n",
        "saidas_esperadas = [] # lista vazia # saidas esperadas, busca o nome do arquivo\n",
        "for path in paths: # percorrer cada img de test\n",
        "  # print(path)\n",
        "  imagem = Image.open(path).convert('L') # leitura da img, abre a img, converte para escala de cinza, fazer a leitura\n",
        "  imagem_np = np.array(imagem, 'uint8') # converte a imagem, muda a img para inteiro\n",
        "  previsao, _ = lbph_face_classifer.predict(imagem_np) # previsao da img, _ nao retorna o segundo parametro, formato imagem_np\n",
        "  #print(previsao) # acompanhar  o resultado parcial, percorre todas as imgs e tem as previsoes que o algoritmo fez para cada img\n",
        "  # previsoes.append(previsao) # adiciona a previsao\n",
        "\n",
        "  # busca a saida esperada\n",
        "  saida_esperada = int(os.path.split(path)[1].split('.')[0].replace('subject',''))\n",
        "  # saidas_esperadas.append(saida_esperada)\n",
        "  # previsoes.append(previsao)\n",
        "  # print(saida_esperada)\n",
        "\n",
        "  # adicionar os resultados na lista\n",
        "  previsoes.append(previsao)\n",
        "  saidas_esperadas.append(saida_esperada)"
      ],
      "metadata": {
        "id": "4eCHqLrqS2jR"
      },
      "execution_count": 27,
      "outputs": []
    },
    {
      "cell_type": "code",
      "source": [
        "# visualizar o tipo\n",
        "type(previsoes), type(saidas_esperadas) # ambas sao lista"
      ],
      "metadata": {
        "colab": {
          "base_uri": "https://localhost:8080/"
        },
        "id": "yf30M443ZntE",
        "outputId": "352d7f4f-f81f-4a4c-a2e5-82012f947dae"
      },
      "execution_count": 28,
      "outputs": [
        {
          "output_type": "execute_result",
          "data": {
            "text/plain": [
              "(list, list)"
            ]
          },
          "metadata": {},
          "execution_count": 28
        }
      ]
    },
    {
      "cell_type": "code",
      "source": [
        "# converter para o formato num_py, recriar as variaveis\n",
        "previsoes = np.array(previsoes)\n",
        "saidas_esperadas = np.array(saidas_esperadas)\n"
      ],
      "metadata": {
        "id": "jWSKnPHpbAmw"
      },
      "execution_count": 29,
      "outputs": []
    },
    {
      "cell_type": "code",
      "source": [
        "# verificar elas no formato num_py\n",
        "type(previsoes), type(saidas_esperadas)"
      ],
      "metadata": {
        "colab": {
          "base_uri": "https://localhost:8080/"
        },
        "id": "7SLzJD5PbPr-",
        "outputId": "7768d35c-9a64-493d-8e86-305a57eebde9"
      },
      "execution_count": 30,
      "outputs": [
        {
          "output_type": "execute_result",
          "data": {
            "text/plain": [
              "(numpy.ndarray, numpy.ndarray)"
            ]
          },
          "metadata": {},
          "execution_count": 30
        }
      ]
    },
    {
      "cell_type": "code",
      "source": [
        "# visualizar o conteudo de cada uma delas\n",
        "# nessa variavel ver a lista de previsoes\n",
        "previsoes"
      ],
      "metadata": {
        "colab": {
          "base_uri": "https://localhost:8080/"
        },
        "id": "mzGe5yUXbVfR",
        "outputId": "b59fca92-bf09-4a6b-8408-73bb2360c9d9"
      },
      "execution_count": 31,
      "outputs": [
        {
          "output_type": "execute_result",
          "data": {
            "text/plain": [
              "array([ 6,  5, 11, 12,  8, 12,  4,  1,  7,  5, 15,  4,  3,  4,  4, 13,  1,\n",
              "       13,  7,  9, 14,  9,  5, 10,  9,  7, 11,  9, 14, 14])"
            ]
          },
          "metadata": {},
          "execution_count": 31
        }
      ]
    },
    {
      "cell_type": "code",
      "source": [
        "# nessa variavel temos a saidas esperadas\n",
        "saidas_esperadas"
      ],
      "metadata": {
        "colab": {
          "base_uri": "https://localhost:8080/"
        },
        "id": "pJJ_R-OHbf8d",
        "outputId": "26243543-609f-4712-cbe4-0819e7b2847a"
      },
      "execution_count": 32,
      "outputs": [
        {
          "output_type": "execute_result",
          "data": {
            "text/plain": [
              "array([ 6,  5, 11, 12,  8, 12, 10,  1,  7,  2, 15,  8,  3,  2,  4, 13,  1,\n",
              "       13,  9,  7,  6,  3,  5, 10,  4, 15, 11,  9, 14, 14])"
            ]
          },
          "metadata": {},
          "execution_count": 32
        }
      ]
    },
    {
      "cell_type": "code",
      "source": [
        "# fazer o comparativo de todas essas classes\n",
        "# uso da lib sklearn => uma lib do PY de aprendizado\n",
        "# usamos essa lib para fazer o calculo\n",
        "from sklearn.metrics import accuracy_score\n",
        "accuracy_score(saidas_esperadas, previsoes) # comparar as saidas esperadas com as previsoes\n"
      ],
      "metadata": {
        "colab": {
          "base_uri": "https://localhost:8080/"
        },
        "id": "97Ku9z_rb0-x",
        "outputId": "d96809e0-7dd9-48ff-c972-cde356e19581"
      },
      "execution_count": 33,
      "outputs": [
        {
          "output_type": "execute_result",
          "data": {
            "text/plain": [
              "0.6666666666666666"
            ]
          },
          "metadata": {},
          "execution_count": 33
        }
      ]
    },
    {
      "cell_type": "code",
      "source": [
        "# ver qtas imgs tem, temos 30 imgs, e das 30 imgs acertamos 66% delas\n",
        "len(previsoes)"
      ],
      "metadata": {
        "colab": {
          "base_uri": "https://localhost:8080/"
        },
        "id": "V-lgoLm0ctp7",
        "outputId": "0068a196-8bc0-4b58-ac16-00c8ba420159"
      },
      "execution_count": 34,
      "outputs": [
        {
          "output_type": "execute_result",
          "data": {
            "text/plain": [
              "30"
            ]
          },
          "metadata": {},
          "execution_count": 34
        }
      ]
    },
    {
      "cell_type": "code",
      "source": [
        "# calculo para ver qtas imgs acertamos , de 30 imgs foram 18 acertos\n",
        "(30 * 60) / 100"
      ],
      "metadata": {
        "colab": {
          "base_uri": "https://localhost:8080/"
        },
        "id": "X_JBq5GLc7Oo",
        "outputId": "be5fa4ff-207f-4a45-f3b0-c8d78e00481a"
      },
      "execution_count": 35,
      "outputs": [
        {
          "output_type": "execute_result",
          "data": {
            "text/plain": [
              "18.0"
            ]
          },
          "metadata": {},
          "execution_count": 35
        }
      ]
    },
    {
      "cell_type": "code",
      "source": [
        "# gerar uma matriz de confusao para ver resultados\n",
        "from sklearn.metrics import confusion_matrix\n",
        "cm = confusion_matrix(saidas_esperadas, previsoes)\n",
        "cm\n",
        "# vai indicar os acertos, considerando cada uma das classes"
      ],
      "metadata": {
        "colab": {
          "base_uri": "https://localhost:8080/"
        },
        "id": "nU6wbpIEg3h3",
        "outputId": "83205834-af37-43e0-e1f1-1f60c9e37a1c"
      },
      "execution_count": 36,
      "outputs": [
        {
          "output_type": "execute_result",
          "data": {
            "text/plain": [
              "array([[2, 0, 0, 0, 0, 0, 0, 0, 0, 0, 0, 0, 0, 0, 0],\n",
              "       [0, 0, 0, 1, 1, 0, 0, 0, 0, 0, 0, 0, 0, 0, 0],\n",
              "       [0, 0, 1, 0, 0, 0, 0, 0, 1, 0, 0, 0, 0, 0, 0],\n",
              "       [0, 0, 0, 1, 0, 0, 0, 0, 1, 0, 0, 0, 0, 0, 0],\n",
              "       [0, 0, 0, 0, 2, 0, 0, 0, 0, 0, 0, 0, 0, 0, 0],\n",
              "       [0, 0, 0, 0, 0, 1, 0, 0, 0, 0, 0, 0, 0, 1, 0],\n",
              "       [0, 0, 0, 0, 0, 0, 1, 0, 1, 0, 0, 0, 0, 0, 0],\n",
              "       [0, 0, 0, 1, 0, 0, 0, 1, 0, 0, 0, 0, 0, 0, 0],\n",
              "       [0, 0, 0, 0, 0, 0, 1, 0, 1, 0, 0, 0, 0, 0, 0],\n",
              "       [0, 0, 0, 1, 0, 0, 0, 0, 0, 1, 0, 0, 0, 0, 0],\n",
              "       [0, 0, 0, 0, 0, 0, 0, 0, 0, 0, 2, 0, 0, 0, 0],\n",
              "       [0, 0, 0, 0, 0, 0, 0, 0, 0, 0, 0, 2, 0, 0, 0],\n",
              "       [0, 0, 0, 0, 0, 0, 0, 0, 0, 0, 0, 0, 2, 0, 0],\n",
              "       [0, 0, 0, 0, 0, 0, 0, 0, 0, 0, 0, 0, 0, 2, 0],\n",
              "       [0, 0, 0, 0, 0, 0, 1, 0, 0, 0, 0, 0, 0, 0, 1]])"
            ]
          },
          "metadata": {},
          "execution_count": 36
        }
      ]
    },
    {
      "cell_type": "code",
      "source": [
        "# visualizacao de graficos\n",
        "import seaborn as sns\n",
        "sns.heatmap(cm, annot=True); # mapa de calor, annot=Tru mostra os valores\n",
        "# se colocar ; no final ele tirar as escritas por fora do grafico"
      ],
      "metadata": {
        "colab": {
          "base_uri": "https://localhost:8080/",
          "height": 435
        },
        "id": "mKi0nYI5hhxY",
        "outputId": "659dad19-d05e-4e78-d675-460259dcbd88"
      },
      "execution_count": 37,
      "outputs": [
        {
          "output_type": "display_data",
          "data": {
            "text/plain": [
              "<Figure size 640x480 with 2 Axes>"
            ],
            "image/png": "[encoded data removed]"
          },
          "metadata": {}
        }
      ]
    },
    {
      "cell_type": "code",
      "source": [
        "# somando a diagonal da matriza da o valor 18, numero de imgs que foram classificadas corretamente"
      ],
      "metadata": {
        "id": "Alk5dinEiU6X"
      },
      "execution_count": null,
      "outputs": []
    },
    {
      "cell_type": "code",
      "source": [
        "8 * 8 # valor do histograma , #   grid_x: 8 #   grid_y: 8"
      ],
      "metadata": {
        "colab": {
          "base_uri": "https://localhost:8080/"
        },
        "id": "kczkh13F1SUP",
        "outputId": "465eb83f-c645-4cef-e88b-ff854904907a"
      },
      "execution_count": 38,
      "outputs": [
        {
          "output_type": "execute_result",
          "data": {
            "text/plain": [
              "64"
            ]
          },
          "metadata": {},
          "execution_count": 38
        }
      ]
    },
    {
      "cell_type": "code",
      "source": [
        "8 * 8, 9 * 9 # valor de histograma, 81 histogramas sao gerados"
      ],
      "metadata": {
        "colab": {
          "base_uri": "https://localhost:8080/"
        },
        "id": "ks-IdVnu6SZx",
        "outputId": "241651c4-8c94-4240-8d33-c734dc615a5a"
      },
      "execution_count": 78,
      "outputs": [
        {
          "output_type": "execute_result",
          "data": {
            "text/plain": [
              "(64, 81)"
            ]
          },
          "metadata": {},
          "execution_count": 78
        }
      ]
    },
    {
      "cell_type": "code",
      "source": [
        "8 * 8, 10 * 10 # valor de histograma, 100 histogramas sao gerados"
      ],
      "metadata": {
        "id": "Qz7WD2CD7td7"
      },
      "execution_count": null,
      "outputs": []
    },
    {
      "cell_type": "markdown",
      "source": [
        "# LBPH - Local Binary Patterns Histograms"
      ],
      "metadata": {
        "id": "TCwBAGuWxL29"
      }
    },
    {
      "cell_type": "code",
      "source": [
        "# VAI GERAR UM NOVO ARQUIVO DE TREINAMENTO\n",
        "# parametros que o codigo vai usar do arquivo\n",
        "# lbph_classifier\n",
        "#  threshold: 1.7976931348623157e+308\n",
        "#   radius: 1 # raio de acesso aos pixels\n",
        "#   neighbors: 8\n",
        "#   grid_x: 8\n",
        "#   grid_y: 8\n",
        "\n",
        "# Testes para melhorar os resultados\n",
        "lbph_classifer = cv2.face.LBPHFaceRecognizer_create(radius=4, neighbors=14, grid_x=9, grid_y=9)\n",
        "# lbph_classifer = cv2.face.LBPHFaceRecognizer_create(radius=2, neighbors=5, grid_x=5, grid_y=5) # com esses valores o valor da analise nao mudou, piorou 60%\n",
        "# lbph_classifer = cv2.face.LBPHFaceRecognizer_create(radius=3, neighbors=12, grid_x=8, grid_y=8) # VALOR TAMBEM DE TREINAMENTO para reconhecimento bx 66%\n",
        "# lbph_classifer = cv2.face.LBPHFaceRecognizer_create(radius=4, neighbors=14, grid_x=9, grid_y=9) # VALOR TAMBEM DE TREINAMENTO para reconhecimento bx 70% recohecendo 21 imgs de 30\n",
        "# lbph_classifer = cv2.face.LBPHFaceRecognizer_create(threshold=1.7976931348623157e+308, radius=1, neighbors=8, grid_x=8, grid_y=8)\n",
        "lbph_classifer.train(faces, ids)\n",
        "lbph_classifer.write('lbph_classifier.yml') #  qto mais aumenta os valores de treinamento mais o arquivo aumenta o tamanho esta mais de 1G com esses valores de treinamento\n",
        "# e levou mais de 5 minut para gerar"
      ],
      "metadata": {
        "id": "X59xylgTzkoC"
      },
      "execution_count": 84,
      "outputs": []
    },
    {
      "cell_type": "code",
      "source": [
        "# gerar novamente a codigficacao pois com novo arquivo\n",
        "lbph_face_classifer = cv2.face.LBPHFaceRecognizer_create(radius=5, neighbors=16, grid_x=9, grid_y=9)\n",
        "lbph_face_classifer.read('/content/lbph_classifier.yml')\n"
      ],
      "metadata": {
        "id": "jtX0A7Pi20bU"
      },
      "execution_count": 85,
      "outputs": []
    },
    {
      "cell_type": "code",
      "source": [
        "imagem_teste = '/content/yalefaces/test/subject10.sad.gif' # variavel que armazena o caminho"
      ],
      "metadata": {
        "id": "kEmir0_63DDz"
      },
      "execution_count": 86,
      "outputs": []
    },
    {
      "cell_type": "code",
      "source": [
        "imgaem = Image.open(imagem_teste).convert('L') # abre a img, converte para escala de cinza, fazer a leitura\n",
        "imagem_np = np.array(imagem, 'uint8') # converte a imagem\n",
        "imagem_np"
      ],
      "metadata": {
        "colab": {
          "base_uri": "https://localhost:8080/",
          "height": 283
        },
        "id": "5ZRKPXoy3IUn",
        "outputId": "4af1f633-88ac-4073-ea7a-b502034f10ae"
      },
      "execution_count": 87,
      "outputs": [
        {
          "output_type": "execute_result",
          "data": {
            "text/plain": [
              "array([[130, 130, 130, ..., 255, 255, 255],\n",
              "       [255, 255, 255, ..., 255, 255, 255],\n",
              "       [255, 255, 255, ..., 255, 246, 223],\n",
              "       ...,\n",
              "       [255, 255, 255, ..., 255, 255, 255],\n",
              "       [255, 255, 255, ..., 255, 255, 255],\n",
              "       [ 68,  68,  68, ...,  68,  68,  68]], dtype=uint8)"
            ],
            "text/html": [
              "<style>\n",
              "      .ndarray_repr .ndarray_raw_data {\n",
              "        display: none;\n",
              "      }\n",
              "      .ndarray_repr.show_array .ndarray_raw_data {\n",
              "        display: block;\n",
              "      }\n",
              "      .ndarray_repr.show_array .ndarray_image_preview {\n",
              "        display: none;\n",
              "      }\n",
              "      </style>\n",
              "      <div id=\"id-b3f4a3b8-c1b1-49d4-b1da-f7ae79aba7a5\" class=\"ndarray_repr\"><pre>ndarray (243, 320) <button style=\"padding: 0 2px;\">show data</button></pre><img src=\"data:image/png;base64,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\" class=\"ndarray_image_preview\" /><pre class=\"ndarray_raw_data\">array([[130, 130, 130, ..., 255, 255, 255],\n",
              "       [255, 255, 255, ..., 255, 255, 255],\n",
              "       [255, 255, 255, ..., 255, 246, 223],\n",
              "       ...,\n",
              "       [255, 255, 255, ..., 255, 255, 255],\n",
              "       [255, 255, 255, ..., 255, 255, 255],\n",
              "       [ 68,  68,  68, ...,  68,  68,  68]], dtype=uint8)</pre></div><script>\n",
              "      (() => {\n",
              "      const titles = ['show data', 'hide data'];\n",
              "      let index = 0\n",
              "      document.querySelector('#id-b3f4a3b8-c1b1-49d4-b1da-f7ae79aba7a5 button').onclick = (e) => {\n",
              "        document.querySelector('#id-b3f4a3b8-c1b1-49d4-b1da-f7ae79aba7a5').classList.toggle('show_array');\n",
              "        index = (++index) % 2;\n",
              "        document.querySelector('#id-b3f4a3b8-c1b1-49d4-b1da-f7ae79aba7a5 button').textContent = titles[index];\n",
              "        e.preventDefault();\n",
              "        e.stopPropagation();\n",
              "      }\n",
              "      })();\n",
              "    </script>"
            ]
          },
          "metadata": {},
          "execution_count": 87
        }
      ]
    },
    {
      "cell_type": "code",
      "source": [
        "imagem_np.shape"
      ],
      "metadata": {
        "colab": {
          "base_uri": "https://localhost:8080/"
        },
        "id": "LEz6IT3O3WjU",
        "outputId": "8baa411a-9693-4487-85c0-2a318876d4bf"
      },
      "execution_count": 88,
      "outputs": [
        {
          "output_type": "execute_result",
          "data": {
            "text/plain": [
              "(243, 320)"
            ]
          },
          "metadata": {},
          "execution_count": 88
        }
      ]
    },
    {
      "cell_type": "code",
      "source": [
        "previsao = lbph_face_classifer.predict(imagem_np)\n",
        "previsao"
      ],
      "metadata": {
        "colab": {
          "base_uri": "https://localhost:8080/"
        },
        "id": "x8Xoyxux3cOY",
        "outputId": "de6ed8e8-2641-4bd2-c85b-9d2cbc0112a9"
      },
      "execution_count": 89,
      "outputs": [
        {
          "output_type": "execute_result",
          "data": {
            "text/plain": [
              "(14, 71.81882943262825)"
            ]
          },
          "metadata": {},
          "execution_count": 89
        }
      ]
    },
    {
      "cell_type": "code",
      "source": [
        "previsao[0]"
      ],
      "metadata": {
        "colab": {
          "base_uri": "https://localhost:8080/"
        },
        "id": "I6Lq9ZxI3mBl",
        "outputId": "f4771f39-ff1d-441b-a054-73cd9a81fc96"
      },
      "execution_count": 90,
      "outputs": [
        {
          "output_type": "execute_result",
          "data": {
            "text/plain": [
              "14"
            ]
          },
          "metadata": {},
          "execution_count": 90
        }
      ]
    },
    {
      "cell_type": "code",
      "source": [
        "cv2.putText(imagem_np, 'Pred: ' + str(previsao[0]), (10, 30), cv2.FONT_HERSHEY_SIMPLEX, 0.5, (0, 255, 0))\n",
        "cv2.putText(imagem_np, 'Exp: ' + str(saida_esperada), (10, 50), cv2.FONT_HERSHEY_SIMPLEX, 0.5, (0, 255, 0))\n",
        "cv2_imshow(imagem_np)"
      ],
      "metadata": {
        "colab": {
          "base_uri": "https://localhost:8080/",
          "height": 260
        },
        "id": "3DxxW0qo3oX4",
        "outputId": "07ed69d5-41e2-4972-b5e8-b04b3670e6de"
      },
      "execution_count": 91,
      "outputs": [
        {
          "output_type": "display_data",
          "data": {
            "text/plain": [
              "<PIL.Image.Image image mode=L size=320x243>"
            ],
            "image/png": "[encoded data removed]",
            "image/jpeg": "[encoded data removed]"
          },
          "metadata": {}
        }
      ]
    },
    {
      "cell_type": "code",
      "source": [
        "# percorrer as imgs de teste\n",
        "paths = [os.path.join('/content/yalefaces/test', f) for f in os.listdir('/content/yalefaces/test')]\n",
        "saidas_esperadas = []\n",
        "previsoes = []\n",
        "for path in paths:\n",
        "  # print(path)\n",
        "  imagem = Image.open(path).convert('L')\n",
        "  imagem_np = np.array(imagem, 'uint8')\n",
        "  previsao, _ = lbph_face_classifer.predict(imagem_np)\n",
        "  # print(previsao)\n",
        "  saida_esperada = int(os.path.split(path)[1].split('.')[0].replace('subject',''))\n",
        "  # print(saida_esperada)\n",
        "  previsoes.append(previsao)\n",
        "  saidas_esperadas.append(saida_esperada)\n",
        "\n"
      ],
      "metadata": {
        "id": "oQq_nxRk34Z8"
      },
      "execution_count": 92,
      "outputs": []
    },
    {
      "cell_type": "code",
      "source": [
        "type(previsoes), type(saidas_esperadas)"
      ],
      "metadata": {
        "colab": {
          "base_uri": "https://localhost:8080/"
        },
        "id": "XTOCBkmj4Wc6",
        "outputId": "68e9e9fa-7d9d-434a-e16f-92fad17bebff"
      },
      "execution_count": 93,
      "outputs": [
        {
          "output_type": "execute_result",
          "data": {
            "text/plain": [
              "(list, list)"
            ]
          },
          "metadata": {},
          "execution_count": 93
        }
      ]
    },
    {
      "cell_type": "code",
      "source": [
        "previsoes = np.array(previsoes)\n",
        "saidas_esperadas = np.array(saidas_esperadas)"
      ],
      "metadata": {
        "id": "Q8PNTRMz4bRN"
      },
      "execution_count": 94,
      "outputs": []
    },
    {
      "cell_type": "code",
      "source": [
        "# converter o typo do arquivo\n",
        "type(previsoes), type(saidas_esperadas)"
      ],
      "metadata": {
        "colab": {
          "base_uri": "https://localhost:8080/"
        },
        "id": "nIPYjyF64eyZ",
        "outputId": "14018518-ac2d-4edf-ffd5-67a59a8aa894"
      },
      "execution_count": 95,
      "outputs": [
        {
          "output_type": "execute_result",
          "data": {
            "text/plain": [
              "(numpy.ndarray, numpy.ndarray)"
            ]
          },
          "metadata": {},
          "execution_count": 95
        }
      ]
    },
    {
      "cell_type": "code",
      "source": [
        "previsoes"
      ],
      "metadata": {
        "colab": {
          "base_uri": "https://localhost:8080/"
        },
        "id": "TDiyHhdi4oKW",
        "outputId": "684eb352-236c-4b11-e163-4d11e843189d"
      },
      "execution_count": 96,
      "outputs": [
        {
          "output_type": "execute_result",
          "data": {
            "text/plain": [
              "array([ 6,  5, 11, 12,  8, 12,  4,  4,  7, 12, 15,  4,  3,  4,  4, 13,  1,\n",
              "       13,  7,  9, 14,  3,  5, 10,  4,  7, 11,  9, 14, 14])"
            ]
          },
          "metadata": {},
          "execution_count": 96
        }
      ]
    },
    {
      "cell_type": "code",
      "source": [
        "saidas_esperadas"
      ],
      "metadata": {
        "colab": {
          "base_uri": "https://localhost:8080/"
        },
        "id": "QcKxA-HV40Yj",
        "outputId": "fe8a2c1f-bb66-47c7-f421-13c8f0661219"
      },
      "execution_count": 97,
      "outputs": [
        {
          "output_type": "execute_result",
          "data": {
            "text/plain": [
              "array([ 6,  5, 11, 12,  8, 12, 10,  1,  7,  2, 15,  8,  3,  2,  4, 13,  1,\n",
              "       13,  9,  7,  6,  3,  5, 10,  4, 15, 11,  9, 14, 14])"
            ]
          },
          "metadata": {},
          "execution_count": 97
        }
      ]
    },
    {
      "cell_type": "code",
      "source": [
        "from sklearn.metrics import accuracy_score\n",
        "accuracy_score(saidas_esperadas, previsoes)"
      ],
      "metadata": {
        "colab": {
          "base_uri": "https://localhost:8080/"
        },
        "id": "9IlKYpoR4q9P",
        "outputId": "b0b865b1-4983-4913-d1c0-c5cc9658a008"
      },
      "execution_count": 98,
      "outputs": [
        {
          "output_type": "execute_result",
          "data": {
            "text/plain": [
              "0.7"
            ]
          },
          "metadata": {},
          "execution_count": 98
        }
      ]
    },
    {
      "cell_type": "code",
      "source": [
        "len(previsoes)"
      ],
      "metadata": {
        "colab": {
          "base_uri": "https://localhost:8080/"
        },
        "id": "RxD5vdv847US",
        "outputId": "0a0ded87-b583-4a19-d02c-db7b1ab99989"
      },
      "execution_count": 99,
      "outputs": [
        {
          "output_type": "execute_result",
          "data": {
            "text/plain": [
              "30"
            ]
          },
          "metadata": {},
          "execution_count": 99
        }
      ]
    }
  ]
}