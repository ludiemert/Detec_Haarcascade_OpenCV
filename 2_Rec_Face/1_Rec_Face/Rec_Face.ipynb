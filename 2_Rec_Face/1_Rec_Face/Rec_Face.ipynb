{
  "nbformat": 4,
  "nbformat_minor": 0,
  "metadata": {
    "colab": {
      "provenance": []
    },
    "kernelspec": {
      "name": "python3",
      "display_name": "Python 3"
    },
    "language_info": {
      "name": "python"
    }
  },
  "cells": [
    {
      "cell_type": "code",
      "execution_count": null,
      "metadata": {
        "id": "d3gjFiYBzgJD"
      },
      "outputs": [],
      "source": [
        "# Carregamento da base de dados OU CARREGAR GOOGLE DRIVE\n",
        "# Yale faces database: http://vision.ucsd.edu/content/yale-face-database\n",
        "\n",
        "# http://cvc.cs.yale.edu/cvc/projects/yalefacesB/yalefacesB.html\n",
        "# https://drive.google.com/drive/folders/1UBHOwVEyR5OXyWVHO-r2lviJy2Oz_Sqk\n",
        "# https://www.kaggle.com/datasets/olgabelitskaya/yale-face-database"
      ]
    },
    {
      "cell_type": "code",
      "source": [
        "# Montar google Drive\n",
        "from google.colab import drive\n",
        "drive.mount('/content/drive')"
      ],
      "metadata": {
        "colab": {
          "base_uri": "https://localhost:8080/"
        },
        "id": "7WVyGfFw38UE",
        "outputId": "9401dc75-bf22-4325-a8a2-fce91e581b8d"
      },
      "execution_count": 1,
      "outputs": [
        {
          "output_type": "stream",
          "name": "stdout",
          "text": [
            "Mounted at /content/drive\n"
          ]
        }
      ]
    },
    {
      "cell_type": "code",
      "source": [
        " # Importar bibliotecas\n",
        " import os # pacote para interagir com o sistema operacional\n",
        " from PIL import Image # pacote de processamento de img no PY, para ler a base de dados\n",
        " import cv2\n",
        " import numpy as np # lib para ler vetores e matrizes do PY e alguns calculos matematicos\n",
        " from google.colab.patches import cv2_imshow # para visualizar as imgs\n",
        "\n",
        "# OU montar o drive apartir daqui...\n",
        "# from google.colab import drive\n",
        "# drive.mount('/content/drive')\n"
      ],
      "metadata": {
        "id": "QzpjEtDN4Zry"
      },
      "execution_count": 2,
      "outputs": []
    },
    {
      "cell_type": "code",
      "source": [
        "# descompactar arquivo\n",
        "import zipfile\n",
        "# Atualize o caminho para apontar para o arquivo zip, não para o diretório\n",
        "path = '/content/drive/MyDrive/Visao Computacional Guia Completo/Datasets/yalefaces.zip' # Assumindo que o nome do arquivo zip é yalefaces.zip\n",
        "zip_object = zipfile.ZipFile(file=path, mode= 'r') # r que vai fazer a leitura do arquivo\n",
        "zip_object.extractall('./') # extrair na raiz do google colab\n",
        "zip_object.close() # liberar memoria"
      ],
      "metadata": {
        "id": "9nKH4gMQ_gbB"
      },
      "execution_count": 6,
      "outputs": []
    }
  ]
}