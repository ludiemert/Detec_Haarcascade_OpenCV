{
  "nbformat": 4,
  "nbformat_minor": 0,
  "metadata": {
    "colab": {
      "provenance": []
    },
    "kernelspec": {
      "name": "python3",
      "display_name": "Python 3"
    },
    "language_info": {
      "name": "python"
    }
  },
  "cells": [
    {
      "cell_type": "code",
      "execution_count": null,
      "metadata": {
        "id": "d3gjFiYBzgJD"
      },
      "outputs": [],
      "source": [
        "# Reconhecimento facial eh mandar a foto e o algoritmo reconhecer quem eh a pessoa\n",
        "\n",
        "# Carregamento da base de dados OU CARREGAR GOOGLE DRIVE\n",
        "# Yale faces database: http://vision.ucsd.edu/content/yale-face-database\n",
        "\n",
        "# http://cvc.cs.yale.edu/cvc/projects/yalefacesB/yalefacesB.html\n",
        "# https://drive.google.com/drive/folders/1UBHOwVEyR5OXyWVHO-r2lviJy2Oz_Sqk\n",
        "# https://www.kaggle.com/datasets/olgabelitskaya/yale-face-database"
      ]
    },
    {
      "cell_type": "code",
      "source": [
        "# Montar google Drive\n",
        "from google.colab import drive\n",
        "drive.mount('/content/drive')"
      ],
      "metadata": {
        "colab": {
          "base_uri": "https://localhost:8080/"
        },
        "id": "7WVyGfFw38UE",
        "outputId": "9401dc75-bf22-4325-a8a2-fce91e581b8d"
      },
      "execution_count": 1,
      "outputs": [
        {
          "output_type": "stream",
          "name": "stdout",
          "text": [
            "Mounted at /content/drive\n"
          ]
        }
      ]
    },
    {
      "cell_type": "code",
      "source": [
        " # Importar bibliotecas\n",
        " import os # pacote para interagir com o sistema operacional\n",
        " from PIL import Image # pacote de processamento de img no PY, para ler a base de dados\n",
        " import cv2\n",
        " import numpy as np # lib para ler vetores e matrizes do PY e alguns calculos matematicos\n",
        " from google.colab.patches import cv2_imshow # para visualizar as imgs\n",
        "\n",
        "# OU montar o drive apartir daqui...\n",
        "# from google.colab import drive\n",
        "# drive.mount('/content/drive')\n"
      ],
      "metadata": {
        "id": "QzpjEtDN4Zry"
      },
      "execution_count": 2,
      "outputs": []
    },
    {
      "cell_type": "code",
      "source": [
        "# descompactar arquivo\n",
        "import zipfile\n",
        "# Atualize o caminho para apontar para o arquivo zip, não para o diretório\n",
        "path = '/content/drive/MyDrive/Visao Computacional Guia Completo/Datasets/yalefaces.zip' # Assumindo que o nome do arquivo zip é yalefaces.zip\n",
        "zip_object = zipfile.ZipFile(file=path, mode= 'r') # r que vai fazer a leitura do arquivo\n",
        "zip_object.extractall('./') # extrair na raiz do google colab\n",
        "zip_object.close() # liberar memoria\n",
        "# file  /content/yalefaces/train/subject01.glasses.gif eh o subject de cada img person, all img person, BASE DE DADOS de treinamento\n",
        "# varias imgs da mesma pessoa com varias formatos no rosto, mais facil para o algoritmo se adaptar as faces"
      ],
      "metadata": {
        "id": "9nKH4gMQ_gbB"
      },
      "execution_count": 6,
      "outputs": []
    },
    {
      "cell_type": "code",
      "source": [
        "# Pre processamento das imagens\n",
        "\n",
        "import os # para ter recursos do sistema operacional\n",
        "print(os.listdir('/content/yalefaces/train')) # liste tudo que tiver nesse diretorio, passar por todas as imgs do treinamento\n",
        "# ele lista todas as imgs da pasta\n"
      ],
      "metadata": {
        "colab": {
          "base_uri": "https://localhost:8080/"
        },
        "id": "81yALr2tGfv_",
        "outputId": "4550126f-f64a-4ec2-9b94-301480fd0337"
      },
      "execution_count": 7,
      "outputs": [
        {
          "output_type": "stream",
          "name": "stdout",
          "text": [
            "['subject07.surprised.gif', 'subject07.rightlight.gif', 'subject06.sad.gif', 'subject15.leftlight.gif', 'subject15.happy.gif', 'subject13.wink.gif', 'subject13.happy.gif', 'subject10.sleepy.gif', 'subject01.noglasses.gif', 'subject03.sad.gif', 'subject02.happy.gif', 'subject05.centerlight.gif', 'subject13.centerlight.gif', 'subject08.happy.gif', 'subject11.sad.gif', 'subject05.normal.gif', 'subject13.glasses.gif', 'subject05.glasses.gif', 'subject09.surprised.gif', 'subject07.noglasses.gif', 'subject07.glasses.gif', 'subject09.glasses.gif', 'subject09.happy.gif', 'subject12.sleepy.gif', 'subject09.wink.gif', 'subject11.sleepy.gif', 'subject01.surprised.gif', 'subject01.glasses.gif', 'subject10.surprised.gif', 'subject03.wink.gif', 'subject01.sad.gif', 'subject14.happy.gif', 'subject02.rightlight.gif', 'subject06.sleepy.gif', 'subject01.sleepy.gif', 'subject11.normal.gif', 'subject09.normal.gif', 'subject08.centerlight.gif', 'subject11.wink.gif', 'subject12.sad.gif', 'subject14.glasses.gif', 'subject05.sad.gif', 'subject02.sleepy.gif', 'subject04.normal.gif', 'subject01.rightlight.gif', 'subject15.glasses.gif', 'subject02.wink.gif', 'subject11.noglasses.gif', 'subject06.wink.gif', 'subject10.happy.gif', 'subject04.centerlight.gif', 'subject08.leftlight.gif', 'subject03.sleepy.gif', 'subject15.normal.gif', 'subject04.sleepy.gif', 'subject05.happy.gif', 'subject14.wink.gif', 'subject08.noglasses.gif', 'subject15.wink.gif', 'subject02.surprised.gif', 'subject09.sleepy.gif', 'subject02.noglasses.gif', 'subject04.rightlight.gif', 'subject03.happy.gif', 'subject14.leftlight.gif', 'subject08.surprised.gif', 'subject13.surprised.gif', 'subject08.sleepy.gif', 'subject14.surprised.gif', 'subject08.sad.gif', 'subject12.happy.gif', 'subject07.centerlight.gif', 'subject07.normal.gif', 'subject06.glasses.gif', 'subject04.happy.gif', 'subject10.leftlight.gif', 'subject13.leftlight.gif', 'subject10.noglasses.gif', 'subject12.wink.gif', 'subject08.wink.gif', 'subject04.wink.gif', 'subject05.noglasses.gif', 'subject13.noglasses.gif', 'subject14.centerlight.gif', 'subject09.noglasses.gif', 'subject04.sad.gif', 'subject12.noglasses.gif', 'subject05.rightlight.gif', 'subject10.wink.gif', 'subject15.centerlight.gif', 'subject06.centerlight.gif', 'subject07.sad.gif', 'subject11.leftlight.gif', 'subject01.wink.gif', 'subject06.surprised.gif', 'subject08.glasses.gif', 'subject03.centerlight.gif', 'subject06.normal.gif', 'subject10.glasses.gif', 'subject03.normal.gif', 'subject05.wink.gif', 'subject14.rightlight.gif', 'subject02.sad.gif', 'subject03.noglasses.gif', 'subject11.centerlight.gif', 'subject06.noglasses.gif', 'subject07.wink.gif', 'subject02.glasses.gif', 'subject04.noglasses.gif', 'subject09.centerlight.gif', 'subject01.leftlight.gif', 'subject11.rightlight.gif', 'subject12.leftlight.gif', 'subject13.rightlight.gif', 'subject09.leftlight.gif', 'subject02.normal.gif', 'subject14.sleepy.gif', 'subject05.leftlight.gif', 'subject03.rightlight.gif', 'subject12.glasses.gif', 'subject15.sleepy.gif', 'subject01.normal.gif', 'subject10.normal.gif', 'subject12.centerlight.gif', 'subject04.glasses.gif', 'subject11.surprised.gif', 'subject03.surprised.gif', 'subject14.noglasses.gif', 'subject10.rightlight.gif', 'subject15.surprised.gif', 'subject15.noglasses.gif', 'subject13.normal.gif', 'subject12.surprised.gif', 'subject06.rightlight.gif', 'subject07.sleepy.gif']\n"
          ]
        }
      ]
    },
    {
      "cell_type": "code",
      "source": [
        "# percorrer todas as imgs e extrair os pixels\n",
        "def get_image_data(): # get data img\n",
        "  paths = [os.path.join('/content/yalefaces/train', f) for f in os.listdir('/content/yalefaces/train')] # lista de caminhos,  # variavel de lista []\n",
        "  # print(paths) # cria a funcao\n",
        "  # join tras uma string com o caminho completo\n",
        "  # for percorre cada uma das imgs\n",
        "\n",
        "  # criar listas para perorrer (nome id numero na img, ids => numero da pessoa, faces eh o numero dos pixels)\n",
        "  # vamos associar ids e pixels\n",
        "  faces = [] # lista vazia\n",
        "  ids = [] # lista vazia\n",
        "  for path in paths: # for para percorrer cada img\n",
        "    # print(path) # mostra o caminho completo da img\n",
        "    imagem = Image.open(path).convert('L') # abre a img, converte para escala de cinza, fazer a leitura\n",
        "    print(type(imagem)) # mostra o tipo da imagem\n",
        "\n"
      ],
      "metadata": {
        "id": "JAKYArx3Hqav"
      },
      "execution_count": 12,
      "outputs": []
    },
    {
      "cell_type": "code",
      "source": [
        "# chama a funcao, join junta nome da img com o nome do dir  caminho completo\n",
        "# resposta => ['/content/yalefaces/train/subject07.surprised.gif', '/content/yalefaces/train/subject07.rightlight.gif', '/content/yalefaces/train/subject06.sad.gif',....................\n",
        "get_image_data()"
      ],
      "metadata": {
        "colab": {
          "base_uri": "https://localhost:8080/"
        },
        "id": "nEnss6vqIie_",
        "outputId": "ec199d13-d31b-4791-8134-8fec5b8183be"
      },
      "execution_count": 13,
      "outputs": [
        {
          "output_type": "stream",
          "name": "stdout",
          "text": [
            "<class 'PIL.Image.Image'>\n",
            "<class 'PIL.Image.Image'>\n",
            "<class 'PIL.Image.Image'>\n",
            "<class 'PIL.Image.Image'>\n",
            "<class 'PIL.Image.Image'>\n",
            "<class 'PIL.Image.Image'>\n",
            "<class 'PIL.Image.Image'>\n",
            "<class 'PIL.Image.Image'>\n",
            "<class 'PIL.Image.Image'>\n",
            "<class 'PIL.Image.Image'>\n",
            "<class 'PIL.Image.Image'>\n",
            "<class 'PIL.Image.Image'>\n",
            "<class 'PIL.Image.Image'>\n",
            "<class 'PIL.Image.Image'>\n",
            "<class 'PIL.Image.Image'>\n",
            "<class 'PIL.Image.Image'>\n",
            "<class 'PIL.Image.Image'>\n",
            "<class 'PIL.Image.Image'>\n",
            "<class 'PIL.Image.Image'>\n",
            "<class 'PIL.Image.Image'>\n",
            "<class 'PIL.Image.Image'>\n",
            "<class 'PIL.Image.Image'>\n",
            "<class 'PIL.Image.Image'>\n",
            "<class 'PIL.Image.Image'>\n",
            "<class 'PIL.Image.Image'>\n",
            "<class 'PIL.Image.Image'>\n",
            "<class 'PIL.Image.Image'>\n",
            "<class 'PIL.Image.Image'>\n",
            "<class 'PIL.Image.Image'>\n",
            "<class 'PIL.Image.Image'>\n",
            "<class 'PIL.Image.Image'>\n",
            "<class 'PIL.Image.Image'>\n",
            "<class 'PIL.Image.Image'>\n",
            "<class 'PIL.Image.Image'>\n",
            "<class 'PIL.Image.Image'>\n",
            "<class 'PIL.Image.Image'>\n",
            "<class 'PIL.Image.Image'>\n",
            "<class 'PIL.Image.Image'>\n",
            "<class 'PIL.Image.Image'>\n",
            "<class 'PIL.Image.Image'>\n",
            "<class 'PIL.Image.Image'>\n",
            "<class 'PIL.Image.Image'>\n",
            "<class 'PIL.Image.Image'>\n",
            "<class 'PIL.Image.Image'>\n",
            "<class 'PIL.Image.Image'>\n",
            "<class 'PIL.Image.Image'>\n",
            "<class 'PIL.Image.Image'>\n",
            "<class 'PIL.Image.Image'>\n",
            "<class 'PIL.Image.Image'>\n",
            "<class 'PIL.Image.Image'>\n",
            "<class 'PIL.Image.Image'>\n",
            "<class 'PIL.Image.Image'>\n",
            "<class 'PIL.Image.Image'>\n",
            "<class 'PIL.Image.Image'>\n",
            "<class 'PIL.Image.Image'>\n",
            "<class 'PIL.Image.Image'>\n",
            "<class 'PIL.Image.Image'>\n",
            "<class 'PIL.Image.Image'>\n",
            "<class 'PIL.Image.Image'>\n",
            "<class 'PIL.Image.Image'>\n",
            "<class 'PIL.Image.Image'>\n",
            "<class 'PIL.Image.Image'>\n",
            "<class 'PIL.Image.Image'>\n",
            "<class 'PIL.Image.Image'>\n",
            "<class 'PIL.Image.Image'>\n",
            "<class 'PIL.Image.Image'>\n",
            "<class 'PIL.Image.Image'>\n",
            "<class 'PIL.Image.Image'>\n",
            "<class 'PIL.Image.Image'>\n",
            "<class 'PIL.Image.Image'>\n",
            "<class 'PIL.Image.Image'>\n",
            "<class 'PIL.Image.Image'>\n",
            "<class 'PIL.Image.Image'>\n",
            "<class 'PIL.Image.Image'>\n",
            "<class 'PIL.Image.Image'>\n",
            "<class 'PIL.Image.Image'>\n",
            "<class 'PIL.Image.Image'>\n",
            "<class 'PIL.Image.Image'>\n",
            "<class 'PIL.Image.Image'>\n",
            "<class 'PIL.Image.Image'>\n",
            "<class 'PIL.Image.Image'>\n",
            "<class 'PIL.Image.Image'>\n",
            "<class 'PIL.Image.Image'>\n",
            "<class 'PIL.Image.Image'>\n",
            "<class 'PIL.Image.Image'>\n",
            "<class 'PIL.Image.Image'>\n",
            "<class 'PIL.Image.Image'>\n",
            "<class 'PIL.Image.Image'>\n",
            "<class 'PIL.Image.Image'>\n",
            "<class 'PIL.Image.Image'>\n",
            "<class 'PIL.Image.Image'>\n",
            "<class 'PIL.Image.Image'>\n",
            "<class 'PIL.Image.Image'>\n",
            "<class 'PIL.Image.Image'>\n",
            "<class 'PIL.Image.Image'>\n",
            "<class 'PIL.Image.Image'>\n",
            "<class 'PIL.Image.Image'>\n",
            "<class 'PIL.Image.Image'>\n",
            "<class 'PIL.Image.Image'>\n",
            "<class 'PIL.Image.Image'>\n",
            "<class 'PIL.Image.Image'>\n",
            "<class 'PIL.Image.Image'>\n",
            "<class 'PIL.Image.Image'>\n",
            "<class 'PIL.Image.Image'>\n",
            "<class 'PIL.Image.Image'>\n",
            "<class 'PIL.Image.Image'>\n",
            "<class 'PIL.Image.Image'>\n",
            "<class 'PIL.Image.Image'>\n",
            "<class 'PIL.Image.Image'>\n",
            "<class 'PIL.Image.Image'>\n",
            "<class 'PIL.Image.Image'>\n",
            "<class 'PIL.Image.Image'>\n",
            "<class 'PIL.Image.Image'>\n",
            "<class 'PIL.Image.Image'>\n",
            "<class 'PIL.Image.Image'>\n",
            "<class 'PIL.Image.Image'>\n",
            "<class 'PIL.Image.Image'>\n",
            "<class 'PIL.Image.Image'>\n",
            "<class 'PIL.Image.Image'>\n",
            "<class 'PIL.Image.Image'>\n",
            "<class 'PIL.Image.Image'>\n",
            "<class 'PIL.Image.Image'>\n",
            "<class 'PIL.Image.Image'>\n",
            "<class 'PIL.Image.Image'>\n",
            "<class 'PIL.Image.Image'>\n",
            "<class 'PIL.Image.Image'>\n",
            "<class 'PIL.Image.Image'>\n",
            "<class 'PIL.Image.Image'>\n",
            "<class 'PIL.Image.Image'>\n",
            "<class 'PIL.Image.Image'>\n",
            "<class 'PIL.Image.Image'>\n",
            "<class 'PIL.Image.Image'>\n",
            "<class 'PIL.Image.Image'>\n",
            "<class 'PIL.Image.Image'>\n",
            "<class 'PIL.Image.Image'>\n"
          ]
        }
      ]
    }
  ]
}